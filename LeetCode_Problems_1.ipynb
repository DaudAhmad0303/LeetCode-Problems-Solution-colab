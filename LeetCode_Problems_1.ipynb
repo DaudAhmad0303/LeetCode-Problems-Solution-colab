{
  "nbformat": 4,
  "nbformat_minor": 0,
  "metadata": {
    "colab": {
      "name": "LeetCode Problems-1.ipynb",
      "provenance": [],
      "collapsed_sections": [
        "7BwRRpCdxyrC",
        "9zWvDp7H12j2"
      ],
      "authorship_tag": "ABX9TyNTK/WHW1ocZOiPfd2qqoxs",
      "include_colab_link": true
    },
    "kernelspec": {
      "name": "python3",
      "display_name": "Python 3"
    },
    "language_info": {
      "name": "python"
    }
  },
  "cells": [
    {
      "cell_type": "markdown",
      "metadata": {
        "id": "view-in-github",
        "colab_type": "text"
      },
      "source": [
        "<a href=\"https://colab.research.google.com/github/DaudAhmad0303/LeetCode-Problems-Solution-colab/blob/master/LeetCode_Problems_1.ipynb\" target=\"_parent\"><img src=\"https://colab.research.google.com/assets/colab-badge.svg\" alt=\"Open In Colab\"/></a>"
      ]
    },
    {
      "cell_type": "markdown",
      "source": [
        "# **Random Practise Codes**"
      ],
      "metadata": {
        "id": "t6NchOFC-O-7"
      }
    },
    {
      "cell_type": "code",
      "execution_count": null,
      "metadata": {
        "colab": {
          "base_uri": "https://localhost:8080/"
        },
        "id": "uuvafrr0-EyH",
        "outputId": "c6604354-50c1-4023-defa-924b8c3cfef2"
      },
      "outputs": [
        {
          "output_type": "stream",
          "name": "stdout",
          "text": [
            "['Orange', 'Apple', 'Grapes', 'Mango']\n",
            "['Orange', 'Apple', 'Grapes', 'Mango']\n"
          ]
        }
      ],
      "source": [
        "myList = [\"Orange\", \"Apple\",\"Grapes\"]\n",
        "def addItem(myTempList):\n",
        "    myTempList.append(\"Mango\")\n",
        "    print(myTempList)\n",
        "# Print the original list\n",
        "addItem(myList)\n",
        "print(myList)"
      ]
    },
    {
      "cell_type": "code",
      "source": [
        "temp = 5\n",
        "def change(my_temp):\n",
        "  my_temp = 10\n",
        "  print(my_temp)\n",
        "\n",
        "change(temp)\n",
        "print(temp)\n"
      ],
      "metadata": {
        "colab": {
          "base_uri": "https://localhost:8080/"
        },
        "id": "nGfulzWSzE8f",
        "outputId": "75542a41-803e-426b-d983-bfd89b2247b9"
      },
      "execution_count": null,
      "outputs": [
        {
          "output_type": "stream",
          "name": "stdout",
          "text": [
            "10\n",
            "5\n"
          ]
        }
      ]
    },
    {
      "cell_type": "markdown",
      "source": [
        "# **Random Questions Solved**"
      ],
      "metadata": {
        "id": "iO3ulso7f8AV"
      }
    },
    {
      "cell_type": "markdown",
      "source": [
        "## **1556. Thousand Separator**"
      ],
      "metadata": {
        "id": "2MAqI9Mng6E2"
      }
    },
    {
      "cell_type": "code",
      "source": [
        "n = 123487979897\n",
        "val = f'{n:,}'.replace(',','.')\n",
        "print(val)"
      ],
      "metadata": {
        "colab": {
          "base_uri": "https://localhost:8080/"
        },
        "id": "kK-tFGBkgCiW",
        "outputId": "d0aefe2f-e7ec-4801-d692-ef977b4832bc"
      },
      "execution_count": null,
      "outputs": [
        {
          "output_type": "stream",
          "name": "stdout",
          "text": [
            "123.487.979.897\n"
          ]
        }
      ]
    },
    {
      "cell_type": "markdown",
      "source": [
        "## **66. Plus One**"
      ],
      "metadata": {
        "id": "1pwI9SDLRBqW"
      }
    },
    {
      "cell_type": "code",
      "source": [
        "digits = [9]\n",
        "def int_val(lst = []):\n",
        "  val = 0\n",
        "  mul = 1\n",
        "  for i in range(len(lst)-1,-1,-1):\n",
        "    val += lst[i] * mul\n",
        "    mul *= 10\n",
        "  return val + 1\n",
        "ret = int_val(digits)\n",
        "ret = list(str(ret))\n",
        "print(ret)\n",
        "\n",
        "# join doesn't working, because it only works for string values in list;\n",
        "# So we've implemented our own function for it\n",
        "# val = \"\".join(digits)\n",
        "# val = int(val) + 1\n",
        "# print(val, type(val))"
      ],
      "metadata": {
        "colab": {
          "base_uri": "https://localhost:8080/"
        },
        "id": "j9Aw9PE0RHJ2",
        "outputId": "667c0520-6e6e-4d05-bb01-ce4c9ece3a2a"
      },
      "execution_count": null,
      "outputs": [
        {
          "output_type": "stream",
          "name": "stdout",
          "text": [
            "['1', '0']\n"
          ]
        }
      ]
    },
    {
      "cell_type": "markdown",
      "source": [
        "## **70. Climbing Stairs**"
      ],
      "metadata": {
        "id": "kdg3517iOJZn"
      }
    },
    {
      "cell_type": "code",
      "source": [
        "class Solution:\n",
        "    def climbStairs(self, n: int) -> int:\n",
        "        if n <= 2:\n",
        "            return n\n",
        "        x = 1\n",
        "        y = 2\n",
        "        for i in range(2, n):\n",
        "            temp = x + y\n",
        "            x = y\n",
        "            y = temp\n",
        "        return y"
      ],
      "metadata": {
        "id": "TUU4tMdKPoWH"
      },
      "execution_count": null,
      "outputs": []
    },
    {
      "cell_type": "code",
      "source": [
        "obj = Solution()\n",
        "print(obj.climbStairs(3))"
      ],
      "metadata": {
        "colab": {
          "base_uri": "https://localhost:8080/"
        },
        "id": "fJ7OYOfaPtWn",
        "outputId": "19a10a45-d0e7-4ae2-ce67-a6bdad4cd3ea"
      },
      "execution_count": null,
      "outputs": [
        {
          "output_type": "stream",
          "name": "stdout",
          "text": [
            "3\n"
          ]
        }
      ]
    },
    {
      "cell_type": "markdown",
      "source": [
        "## **946. Validate Stack Sequences**"
      ],
      "metadata": {
        "id": "3QTK-SBzYul_"
      }
    },
    {
      "cell_type": "code",
      "source": [
        "class Solution:\n",
        "    def validateStackSequences(self, pushed, popped) -> bool:        \n",
        "        stack = []\n",
        "        popped.reverse()\n",
        "        for i in pushed:\n",
        "            stack.append(i)\n",
        "            while len(stack)!=0 and len(popped)!=0 and stack[-1] == popped[-1]:\n",
        "                stack.pop()\n",
        "                popped.pop()\n",
        "        return len(stack)==0\n"
      ],
      "metadata": {
        "id": "ZmvRrV1EYxkV"
      },
      "execution_count": null,
      "outputs": []
    },
    {
      "cell_type": "code",
      "source": [
        "pushed = [1,2,3,4,5]; popped = [4,5,3,2,1]\n",
        "obj = Solution()\n",
        "print(obj.validateStackSequences(pushed, popped))"
      ],
      "metadata": {
        "colab": {
          "base_uri": "https://localhost:8080/"
        },
        "id": "jA1X_0aOY8Mt",
        "outputId": "6840f442-e0d1-4e2d-f972-fcdec7c7c830"
      },
      "execution_count": null,
      "outputs": [
        {
          "output_type": "stream",
          "name": "stdout",
          "text": [
            "True\n"
          ]
        }
      ]
    },
    {
      "cell_type": "markdown",
      "source": [
        "## **7. Reverse Integer**"
      ],
      "metadata": {
        "id": "d5jK0e-8QzAo"
      }
    },
    {
      "cell_type": "code",
      "source": [
        "class Solution:\n",
        "    def reverse(self, x: int) -> int:\n",
        "        def clamp(no):\n",
        "            if no >= (2**31 - 1) or no <= (-2**31):\n",
        "                return 0\n",
        "            else: return no\n",
        "        sign = 1\n",
        "        if x < 0:   \n",
        "            sign = -1\n",
        "            \n",
        "        s = str(abs(x))[::-1]\n",
        "        x = int(s)\n",
        "        x = clamp(sign * x)\n",
        "        return x"
      ],
      "metadata": {
        "id": "YqPo2boAP0eY"
      },
      "execution_count": null,
      "outputs": []
    },
    {
      "cell_type": "code",
      "source": [
        "obj = Solution()\n",
        "print(obj.reverse(120))"
      ],
      "metadata": {
        "colab": {
          "base_uri": "https://localhost:8080/"
        },
        "id": "jC-6Qme7P1gk",
        "outputId": "62015622-b186-4710-c1a9-e96177ce903b"
      },
      "execution_count": null,
      "outputs": [
        {
          "output_type": "stream",
          "name": "stdout",
          "text": [
            "21\n",
            "21\n"
          ]
        }
      ]
    },
    {
      "cell_type": "markdown",
      "source": [
        "## **50. Pow(x, n)**"
      ],
      "metadata": {
        "id": "6W-eFCM6HmU-"
      }
    },
    {
      "cell_type": "code",
      "source": [
        "class Solution:\n",
        "    def myPow(self, x: float, n: int) -> float:\n",
        "        ans = 1\n",
        "        for i in range(abs(n)):\n",
        "            ans = ans * x\n",
        "        if n < 0:   return 1 / ans\n",
        "        return ans"
      ],
      "metadata": {
        "id": "VaOnidxOHqTe"
      },
      "execution_count": null,
      "outputs": []
    },
    {
      "cell_type": "code",
      "source": [
        "obj = Solution()\n",
        "%time print(obj.myPow(0.00001,2147483647))"
      ],
      "metadata": {
        "colab": {
          "base_uri": "https://localhost:8080/"
        },
        "id": "-x0u6BJoJGRp",
        "outputId": "8688d5e0-8099-49ed-e394-56398b9b8e0e"
      },
      "execution_count": null,
      "outputs": [
        {
          "output_type": "stream",
          "name": "stdout",
          "text": [
            "0.0\n",
            "CPU times: user 1min 56s, sys: 234 ms, total: 1min 57s\n",
            "Wall time: 1min 57s\n"
          ]
        }
      ]
    },
    {
      "cell_type": "code",
      "source": [
        "%%time\n",
        "print('helllo')"
      ],
      "metadata": {
        "colab": {
          "base_uri": "https://localhost:8080/"
        },
        "id": "d3i4pRi7KG4k",
        "outputId": "802cba1a-bd44-4113-9ab7-475ba83f5837"
      },
      "execution_count": null,
      "outputs": [
        {
          "output_type": "stream",
          "name": "stdout",
          "text": [
            "helllo\n",
            "CPU times: user 124 µs, sys: 0 ns, total: 124 µs\n",
            "Wall time: 107 µs\n"
          ]
        }
      ]
    },
    {
      "cell_type": "markdown",
      "source": [
        "## **150. Evaluate Reverse Polish Notation**"
      ],
      "metadata": {
        "id": "3-aN6P8MRpW0"
      }
    },
    {
      "cell_type": "code",
      "source": [
        "class Solution:\n",
        "    def evalRPN(self, tokens) -> int:\n",
        "        def isOperator(s):\n",
        "            if s == '+' or s == '-' or s == '*' or s == '/':\n",
        "                return True\n",
        "            else:\n",
        "                return False\n",
        "        \n",
        "        def calculate(op1, op2, opr):\n",
        "            if opr == '+':\n",
        "                return op1 + op2\n",
        "            if opr == '-':\n",
        "                return op1 - op2\n",
        "            if opr == '*':\n",
        "                return op1 * op2\n",
        "            elif opr == '/':\n",
        "                return int(op1 / op2)\n",
        "            else: \n",
        "                return 0\n",
        "        stack = []\n",
        "        i = 0\n",
        "        for i in tokens:\n",
        "            if isOperator(i):\n",
        "                op2 = stack.pop()\n",
        "                op1 = stack.pop()\n",
        "                result = calculate(op1, op2, i)\n",
        "                stack.append(result)               \n",
        "            else:\n",
        "                stack.append(int(i))\n",
        "        return stack.pop()"
      ],
      "metadata": {
        "id": "ckxgGpTYRp9U"
      },
      "execution_count": null,
      "outputs": []
    },
    {
      "cell_type": "code",
      "source": [
        "obj = Solution()\n",
        "print(obj.evalRPN(tokens = [\"2\",\"1\",\"+\",\"3\",\"*\"]))\n",
        "tokens = [3,5,6,2,9,1]"
      ],
      "metadata": {
        "colab": {
          "base_uri": "https://localhost:8080/"
        },
        "id": "wD5rPU9QRq4h",
        "outputId": "ef06f3a2-f29a-4a3c-a89f-4cd5bb9459d1"
      },
      "execution_count": null,
      "outputs": [
        {
          "output_type": "stream",
          "name": "stdout",
          "text": [
            "9\n",
            "None [1, 2, 3, 5, 6, 9]\n"
          ]
        }
      ]
    },
    {
      "cell_type": "markdown",
      "source": [
        "## **148. Sort List**"
      ],
      "metadata": {
        "id": "KvWWSQqYZ6_r"
      }
    },
    {
      "cell_type": "code",
      "source": [
        "# Definition for singly-linked list.\n",
        "class ListNode:\n",
        "    def __init__(self, val=0, next=None):\n",
        "        self.val = val\n",
        "        self.next = next\n",
        "class Solution:\n",
        "    def sortList(self, head: ListNode) -> ListNode:\n",
        "        lst = []\n",
        "        temp = head\n",
        "        while temp:\n",
        "            val = temp.val\n",
        "            temp = temp.next\n",
        "            lst.append(val)\n",
        "        lst.sort()\n",
        "        i = 0\n",
        "        temp2 = head\n",
        "        while temp2:\n",
        "            temp2.val = lst[i]\n",
        "            temp2 = temp2.next\n",
        "            i += 1\n",
        "        return head"
      ],
      "metadata": {
        "id": "J37jVLEwZ_7L"
      },
      "execution_count": null,
      "outputs": []
    },
    {
      "cell_type": "code",
      "source": [
        "obj = Solution()\n",
        "obj1 = ListNode()\n",
        "print(type(obj1))\n",
        "head = obj1\n",
        "obj1.val = 4      #head = [4,2,1,3]\n",
        "obj1 = obj1.next\n",
        "# obj1.val = 2\n",
        "# obj1 = obj1.next\n",
        "# obj1.val = 1 \n",
        "# obj1 = obj1.next\n",
        "# obj1.val = 3\n",
        "# print(obj.sortList(head))"
      ],
      "metadata": {
        "colab": {
          "base_uri": "https://localhost:8080/"
        },
        "id": "folz_5lMaL50",
        "outputId": "8855da3f-9fac-41c6-f34d-08ee25f65951"
      },
      "execution_count": null,
      "outputs": [
        {
          "output_type": "stream",
          "name": "stdout",
          "text": [
            "<class '__main__.ListNode'>\n"
          ]
        }
      ]
    },
    {
      "cell_type": "markdown",
      "source": [
        "# **Daily Coding Challenge**\n",
        "\n",
        "\n"
      ],
      "metadata": {
        "id": "32tbW0w-8_-i"
      }
    },
    {
      "cell_type": "markdown",
      "source": [
        "## ***Jan 2:*1010. Pairs of Songs With Total Durations Divisible by 60**"
      ],
      "metadata": {
        "id": "-tVYnypZ9S00"
      }
    },
    {
      "cell_type": "code",
      "source": [
        "class Solution:\n",
        "    def numPairsDivisibleBy60(self, time) -> int:\n",
        "        c = [0] * 60\n",
        "        res = 0\n",
        "        for t in time:\n",
        "            res += c[-t % 60]     # here getting result from the below ones stored in 'c' list\n",
        "            c[t % 60] += 1        # here updating record for next moves\n",
        "        return res"
      ],
      "metadata": {
        "id": "42NQ-QktWcHo"
      },
      "execution_count": null,
      "outputs": []
    },
    {
      "cell_type": "code",
      "source": [
        "obj1 = Solution()\n",
        "lst = [30,20,150,100,40]\n",
        "print(obj1.numPairsDivisibleBy60(time = lst))"
      ],
      "metadata": {
        "colab": {
          "base_uri": "https://localhost:8080/"
        },
        "id": "lNhqFfNhWetU",
        "outputId": "55821c45-91f2-48c0-f99d-7872c78e76e4"
      },
      "execution_count": null,
      "outputs": [
        {
          "output_type": "stream",
          "name": "stdout",
          "text": [
            "3\n"
          ]
        }
      ]
    },
    {
      "cell_type": "markdown",
      "source": [
        "## ***Jan 3:* 997. Find the Town Judge**"
      ],
      "metadata": {
        "id": "fzoL61LoD68i"
      }
    },
    {
      "cell_type": "code",
      "source": [
        "class Solution:\n",
        "    def findJudge(self, n: int, trust) -> int:\n",
        "        val = trust[0][1]\n",
        "        trusting = 0\n",
        "        for i in range(len(trust)):\n",
        "            if trust[i][1] != val:\n",
        "                return -1\n",
        "            elif trust[0][1] == val:\n",
        "                trusting += 1\n",
        "        return trusting"
      ],
      "metadata": {
        "id": "bbc0dSp-EBO7"
      },
      "execution_count": null,
      "outputs": []
    },
    {
      "cell_type": "code",
      "source": [
        "n = 2; trust = [[1,2]]\n",
        "trust = [[1,3],[1,4],[2,3],[2,4],[4,3]]\n",
        "obj1 = Solution()\n",
        "print(obj1.findJudge(n, trust))"
      ],
      "metadata": {
        "colab": {
          "base_uri": "https://localhost:8080/"
        },
        "id": "NLBS-GNHEFZK",
        "outputId": "7241af71-ffee-4e7d-b0a5-6352dac767d6"
      },
      "execution_count": null,
      "outputs": [
        {
          "output_type": "stream",
          "name": "stdout",
          "text": [
            "-1\n"
          ]
        }
      ]
    },
    {
      "cell_type": "code",
      "source": [
        "for i in range(len(trust)):\n",
        "  print(trust[i][0])\n",
        "print(trust[0:][1])"
      ],
      "metadata": {
        "colab": {
          "base_uri": "https://localhost:8080/"
        },
        "id": "503rPrTJKJ5E",
        "outputId": "2651d8a8-d9b9-4c46-9904-729eba9e349e"
      },
      "execution_count": null,
      "outputs": [
        {
          "output_type": "stream",
          "name": "stdout",
          "text": [
            "1\n",
            "1\n",
            "2\n",
            "2\n",
            "4\n",
            "[1, 4]\n"
          ]
        }
      ]
    },
    {
      "cell_type": "markdown",
      "source": [
        "## ***Jan 4:* 1009. Complement of Base 10 Integer**"
      ],
      "metadata": {
        "id": "Lq4w0hrGJPHD"
      }
    },
    {
      "cell_type": "code",
      "source": [
        "class Solution:\n",
        "    def bitwiseComplement(self, n: int) -> int:\n",
        "        binary_no = bin(n)\n",
        "        binary = []\n",
        "        for i in range(2, len(binary_no)):\n",
        "          if binary_no[i] == '0':\n",
        "            binary.append('1')\n",
        "          elif binary_no[i] == '1':\n",
        "            binary.append('0')\n",
        "        val = '0b'+''.join(map(str, binary))\n",
        "        return int(val, 2)"
      ],
      "metadata": {
        "id": "dxXiuz-DJ0VU"
      },
      "execution_count": null,
      "outputs": []
    },
    {
      "cell_type": "code",
      "source": [
        "obj1 = Solution()\n",
        "print(obj1.bitwiseComplement(5))"
      ],
      "metadata": {
        "colab": {
          "base_uri": "https://localhost:8080/"
        },
        "id": "YdRvGSCKKOos",
        "outputId": "8936a569-c377-4c23-e01d-f92d66faf494"
      },
      "execution_count": null,
      "outputs": [
        {
          "output_type": "stream",
          "name": "stdout",
          "text": [
            "2\n"
          ]
        }
      ]
    },
    {
      "cell_type": "code",
      "source": [
        "lst = [1,0,0,1,1,0]\n",
        "val = '0b'+''.join(map(str, lst))\n",
        "print(val)\n",
        "print(int(val, 2))"
      ],
      "metadata": {
        "colab": {
          "base_uri": "https://localhost:8080/"
        },
        "id": "JuJ3pcuNLQUd",
        "outputId": "db86c35f-6baa-475c-945b-c74d6d73a390"
      },
      "execution_count": null,
      "outputs": [
        {
          "output_type": "stream",
          "name": "stdout",
          "text": [
            "0b100110\n",
            "38\n"
          ]
        }
      ]
    },
    {
      "cell_type": "markdown",
      "source": [
        "## ***Jan 5:* 131. Palindrome Partitioning**"
      ],
      "metadata": {
        "id": "SWPIPmApUrxj"
      }
    },
    {
      "cell_type": "code",
      "source": [
        "# test_str = \"aab\"\n",
        "# res = [test_str[i: j] for i in range(len(test_str)) for j in range(i + 1, len(test_str) + 1)]\n",
        "# print(res)\n",
        "s = \"aab\"\n",
        "res = []\n",
        "for i in range(len(s)):\n",
        "  for j in range(i + 1, len(s) + 1):\n",
        "    res.append(s[i: j])\n",
        "    # print(f'{i}-{j}')\n",
        "print(res)\n",
        "str_to_return = []\n",
        "str_to_return.append(list(s))\n",
        "print(str_to_return)\n",
        "# while True:\n",
        "\n",
        "for i in range(len(s)+1):  \n",
        "  new_partition = []\n",
        "  new_partition.append(str_to_return[0][i])\n",
        "  for j in range(len(res)):\n",
        "    is_palin = s[i+1:]\n",
        "    if is_palin == is_palin[::-1]:\n",
        "      pass\n",
        "\n",
        "print(new_partition)\n",
        "print(str_to_return)"
      ],
      "metadata": {
        "colab": {
          "base_uri": "https://localhost:8080/"
        },
        "id": "-1qn7Z7dVF1j",
        "outputId": "35e8e864-50dc-4e80-898c-66eb6abd4f5f"
      },
      "execution_count": null,
      "outputs": [
        {
          "output_type": "stream",
          "name": "stdout",
          "text": [
            "['a', 'aa', 'aab', 'a', 'ab', 'b']\n",
            "[['a', 'a', 'b']]\n",
            "[['a', 'a', 'b']]\n",
            "[['a', 'a', 'b']]\n"
          ]
        }
      ]
    },
    {
      "cell_type": "code",
      "source": [
        "s = \"geeeksforgeeeks\"\n",
        "# s = \"aba\"\n",
        "res = []\n",
        "for i in range(len(s)):\n",
        "  for j in range(i + 1, len(s) + 1):\n",
        "    val = s[i:j]\n",
        "    if val == val[::-1]:\n",
        "      res.append(val)\n",
        "    # print(f'{i}-{j}')\n",
        "print(res)\n",
        "result = []\n",
        "temp_s = s\n",
        "for i in range(len(res)):\n",
        "  temp_lst = []\n",
        "  # if res[i]\n",
        "\n",
        "\n",
        "# [a,a,b,b],[a, a, bb], [aa, b, b],[aa,bb]   -----> s = \"aabb\"         ['a', 'aa', 'a', 'b', 'bb', 'b']\n",
        "# [a,b,b],[a, bb]                            -----> s = \"abb\"          ['a', 'b', 'bb', 'b']\n",
        "# [a,b,b],[a, bb]                            -----> s = \"aab\"          ['a', 'aa', 'a', 'b']\n",
        "# [a,b,a],[aba]                            -----> s = \"aba\"          ['a', 'aba', 'b', 'a']\n",
        "# [g,e,e,k,s,f,o,r,g,e,e,k,s],[g,ee,k,s,f,o,r,g,e,e,k,s], [g,e,e,k,s,f,o,r,g,ee,k,s],[g,ee,k,s,f,o,r,g,ee,k,s]\n",
        "#                                          -----> s = \"geeksforgeeks\"         ['g', 'e', 'ee', 'e', 'k', 's', 'f', 'o', 'r', 'g', 'e', 'ee', 'e', 'k', 's']\n",
        "print(s.find(res[1]))"
      ],
      "metadata": {
        "colab": {
          "base_uri": "https://localhost:8080/"
        },
        "id": "UCgbZdzK0TMc",
        "outputId": "cc164112-b19a-48ed-d9d5-82a2e19195a5"
      },
      "execution_count": null,
      "outputs": [
        {
          "output_type": "stream",
          "name": "stdout",
          "text": [
            "['g', 'e', 'ee', 'eee', 'e', 'ee', 'e', 'k', 's', 'f', 'o', 'r', 'g', 'e', 'ee', 'eee', 'e', 'ee', 'e', 'k', 's']\n",
            "1\n"
          ]
        }
      ]
    },
    {
      "cell_type": "code",
      "source": [
        "# Correct and final solution ***jo k uthaya he ;)'\n",
        "class Solution:\n",
        "    # cache  # the memory trick can save some time\n",
        "    def partition(self, s):\n",
        "        if not s: return [[]]\n",
        "        ans = []\n",
        "        for i in range(1, len(s) + 1):\n",
        "            if s[:i] == s[:i][::-1]:  # prefix is a palindrome\n",
        "                for suf in self.partition(s[i:]):  # process suffix recursively\n",
        "                    ans.append([s[:i]] + suf)\n",
        "        return ans"
      ],
      "metadata": {
        "id": "haJsQ1t6KtIe"
      },
      "execution_count": null,
      "outputs": []
    },
    {
      "cell_type": "code",
      "source": [
        "obj1 = Solution()\n",
        "val = \"geeksforgeeks\"\n",
        "print(obj1.partition(val))"
      ],
      "metadata": {
        "colab": {
          "base_uri": "https://localhost:8080/"
        },
        "id": "5CVDZc-BKuHY",
        "outputId": "dcae6d4a-bdf4-4aba-d6e8-8b2da5441bc1"
      },
      "execution_count": null,
      "outputs": [
        {
          "output_type": "stream",
          "name": "stdout",
          "text": [
            "[['g', 'e', 'e', 'k', 's', 'f', 'o', 'r', 'g', 'e', 'e', 'k', 's'], ['g', 'e', 'e', 'k', 's', 'f', 'o', 'r', 'g', 'ee', 'k', 's'], ['g', 'ee', 'k', 's', 'f', 'o', 'r', 'g', 'e', 'e', 'k', 's'], ['g', 'ee', 'k', 's', 'f', 'o', 'r', 'g', 'ee', 'k', 's']]\n"
          ]
        }
      ]
    },
    {
      "cell_type": "markdown",
      "source": [
        "## ***Jan 6:* 1094. Car Pooling**"
      ],
      "metadata": {
        "id": "7BwRRpCdxyrC"
      }
    },
    {
      "cell_type": "code",
      "source": [
        "class Solution:\n",
        "    def carPooling(self, l, cap: int) -> bool:\n",
        "        \n",
        "        Passenger_record=[0]*1001\n",
        "        \n",
        "        for i in l:\n",
        "            passenger, start, end = i[0], i[1], i[2]\n",
        "            Passenger_record[start] += passenger\n",
        "            Passenger_record[end] -= passenger\n",
        "        \n",
        "        total = 0\n",
        "        for i in Passenger_record:\n",
        "            total += i\n",
        "            if total > cap:\n",
        "                return False\n",
        "        return True"
      ],
      "metadata": {
        "id": "JuVCiC84OB7i"
      },
      "execution_count": null,
      "outputs": []
    },
    {
      "cell_type": "code",
      "source": [
        "trips = [[2,1,5],[3,3,7]]; capacity = 4\n",
        "obj1 = Solution()\n",
        "print(obj1.carPooling(trips, capacity))"
      ],
      "metadata": {
        "colab": {
          "base_uri": "https://localhost:8080/"
        },
        "id": "RRYpBtTkH077",
        "outputId": "05a7aa95-1ae0-423c-939e-4e1846f79a00"
      },
      "execution_count": null,
      "outputs": [
        {
          "output_type": "stream",
          "name": "stdout",
          "text": [
            "False\n"
          ]
        }
      ]
    },
    {
      "cell_type": "markdown",
      "source": [
        "## ***Jan 7:* 382. Linked List Random Node**"
      ],
      "metadata": {
        "id": "9zWvDp7H12j2"
      }
    },
    {
      "cell_type": "code",
      "source": [
        "class Solution:\n",
        "\n",
        "    def __init__(self, head):\n",
        "        # store nodes' value in an array \n",
        "        self.array = []\n",
        "        curr = head\n",
        "        while curr:\n",
        "            self.array.append(curr.val)\n",
        "            curr = curr.next\n",
        "            \n",
        "    def getRandom(self) -> int:\n",
        "        num = int(random.random() * len(self.array))\n",
        "        return self.array[num]"
      ],
      "metadata": {
        "id": "X0--j2GI2PkH"
      },
      "execution_count": null,
      "outputs": []
    },
    {
      "cell_type": "code",
      "source": [
        "obj = Solution ()"
      ],
      "metadata": {
        "id": "HfFvPXol3H5G"
      },
      "execution_count": null,
      "outputs": []
    },
    {
      "cell_type": "markdown",
      "source": [
        "## ***Jan 8:* 1463. Cherry Pickup II**"
      ],
      "metadata": {
        "id": "hZzxW9bEGvbG"
      }
    },
    {
      "cell_type": "code",
      "source": [
        "# Very Hard to Understand *Copy Paste Work*\n",
        "class Solution:\n",
        "\tdef cherryPickup(self, grid) -> int:\n",
        "\t\tm, n = len(grid), len(grid[0])\n",
        "\n",
        "\t\t# @lru_cache(None)\n",
        "\t\tdef dfs(r,c1,c2):\n",
        "\t\t\tif r==m:\n",
        "\t\t\t\treturn 0\n",
        "\n",
        "\t\t\tch = grid[r][c1] if c1==c2 else grid[r][c1]+grid[r][c2]            \n",
        "\t\t\tres = 0\n",
        "\t\t\tfor p in range(c1-1,c1+2):\n",
        "\t\t\t\tfor q in range(c2-1,c2+2):\n",
        "\t\t\t\t\tif 0<=p<n and 0<=q<n:\n",
        "\t\t\t\t\t\tres = max(res,dfs(r+1,p,q))\n",
        "\t\t\treturn ch+res\n",
        "\n",
        "\t\treturn dfs(0,0,n-1)"
      ],
      "metadata": {
        "id": "zASa8JVzG6Ac"
      },
      "execution_count": null,
      "outputs": []
    },
    {
      "cell_type": "code",
      "source": [
        "obj1 = Solution()\n",
        "print(obj1.cherryPickup([[3,1,1],[2,5,1],[1,5,5],[2,1,1]]))"
      ],
      "metadata": {
        "colab": {
          "base_uri": "https://localhost:8080/"
        },
        "id": "VYIHhPAt6efH",
        "outputId": "c4b2e380-ad17-4be8-984c-0cfcae6cc2aa"
      },
      "execution_count": null,
      "outputs": [
        {
          "output_type": "stream",
          "name": "stdout",
          "text": [
            "24\n"
          ]
        }
      ]
    },
    {
      "cell_type": "markdown",
      "source": [
        "## ***Jan 9:* 1041. Robot Bounded In Circle**"
      ],
      "metadata": {
        "id": "wjRoOsLxWNBc"
      }
    },
    {
      "cell_type": "code",
      "source": [
        "# Copied and understanded\n",
        "class Solution(object):\n",
        "    def isRobotBounded(self, instructions):\n",
        "        d = [[1, 0], [0, 1], [-1, 0], [0, -1]]\n",
        "        di = x = y = 0\n",
        "        for i in instructions:\n",
        "            if i == 'L': di = (di + 1) % 4\n",
        "            elif i == 'R': di = (di - 1) % 4\n",
        "            else: x, y = x + d[di][0], y + d[di][1]     \n",
        "        if x == 0 and y == 0 or di > 0: return True\n",
        "        return False"
      ],
      "metadata": {
        "id": "DYZAEszoWqwU"
      },
      "execution_count": null,
      "outputs": []
    },
    {
      "cell_type": "code",
      "source": [
        "obj1 = Solution()\n",
        "obj1.isRobotBounded(instructions = \"GGLLGG\")"
      ],
      "metadata": {
        "colab": {
          "base_uri": "https://localhost:8080/"
        },
        "id": "gvUWZONOcJt9",
        "outputId": "6499e3ac-dd55-48b2-a7f2-073baf693e64"
      },
      "execution_count": null,
      "outputs": [
        {
          "output_type": "execute_result",
          "data": {
            "text/plain": [
              "True"
            ]
          },
          "metadata": {},
          "execution_count": 63
        }
      ]
    },
    {
      "cell_type": "markdown",
      "source": [
        "## ***Jan 10:* 67. Add Binary**"
      ],
      "metadata": {
        "id": "Wn3yumVBOlGQ"
      }
    },
    {
      "cell_type": "code",
      "source": [
        "a = '1010';b = '1011'\n",
        "a = int(a, 2)\n",
        "b = int(b, 2)\n",
        "print(bin(int(a+b))[2:])"
      ],
      "metadata": {
        "colab": {
          "base_uri": "https://localhost:8080/"
        },
        "id": "PlqDRDJfO3Ok",
        "outputId": "d10ce730-8cd3-49b0-bc40-2b252a5fb6e5"
      },
      "execution_count": null,
      "outputs": [
        {
          "output_type": "stream",
          "name": "stdout",
          "text": [
            "10101\n"
          ]
        }
      ]
    },
    {
      "cell_type": "markdown",
      "source": [
        "## ***Jan 11:* 1022. Sum of Root To Leaf Binary Numbers**"
      ],
      "metadata": {
        "id": "kJtftQ7oPFZd"
      }
    },
    {
      "cell_type": "code",
      "source": [
        "class TreeNode:\n",
        "    def __init__(self, val=0, left=None, right=None):\n",
        "        self.val = val\n",
        "        self.left = left\n",
        "        self.right = right\n",
        "class Solution:\n",
        "    def sumRootToLeaf(self, root) -> int:\n",
        "        if not root: return 0\n",
        "        nos=[]\n",
        "        def dp(node,s):\n",
        "            s+=str(node.val)\n",
        "            if not node.left and not node.right:\n",
        "                nos.append(s)\n",
        "            elif not node.right:\n",
        "                dp(node.left,s)\n",
        "            elif not node.left:\n",
        "                dp(node.right,s)\n",
        "            else:\n",
        "                dp(node.left,s)\n",
        "                dp(node.right,s)\n",
        "        def bin_to_dec(s):\n",
        "            ans=0\n",
        "            n=len(s)\n",
        "            print(s)\n",
        "            for i in range(n):\n",
        "                ans+=int(s[i]) * 2 ** (n-i-1)\n",
        "            return ans\n",
        "        dp(root,\"\")\n",
        "        res=0\n",
        "        print(nos)\n",
        "        for b in nos:\n",
        "            res+=bin_to_dec(b)\n",
        "        return res\n",
        "\n",
        "obj1 = Solution()\n",
        "obj2 = TreeNode([1,0,1,0,1,0,1])\n",
        "print(obj1.sumRootToLeaf(root = obj2))"
      ],
      "metadata": {
        "colab": {
          "base_uri": "https://localhost:8080/",
          "height": 380
        },
        "id": "9QtGEoWxPd46",
        "outputId": "332822ed-5fe1-48c8-fef5-74cb5592b4f4"
      },
      "execution_count": null,
      "outputs": [
        {
          "output_type": "stream",
          "name": "stdout",
          "text": [
            "['[1, 0, 1, 0, 1, 0, 1]']\n",
            "[1, 0, 1, 0, 1, 0, 1]\n"
          ]
        },
        {
          "output_type": "error",
          "ename": "ValueError",
          "evalue": "ignored",
          "traceback": [
            "\u001b[0;31m---------------------------------------------------------------------------\u001b[0m",
            "\u001b[0;31mValueError\u001b[0m                                Traceback (most recent call last)",
            "\u001b[0;32m<ipython-input-9-671bb7af50ed>\u001b[0m in \u001b[0;36m<module>\u001b[0;34m()\u001b[0m\n\u001b[1;32m     35\u001b[0m \u001b[0mobj1\u001b[0m \u001b[0;34m=\u001b[0m \u001b[0mSolution\u001b[0m\u001b[0;34m(\u001b[0m\u001b[0;34m)\u001b[0m\u001b[0;34m\u001b[0m\u001b[0;34m\u001b[0m\u001b[0m\n\u001b[1;32m     36\u001b[0m \u001b[0mobj2\u001b[0m \u001b[0;34m=\u001b[0m \u001b[0mTreeNode\u001b[0m\u001b[0;34m(\u001b[0m\u001b[0;34m[\u001b[0m\u001b[0;36m1\u001b[0m\u001b[0;34m,\u001b[0m\u001b[0;36m0\u001b[0m\u001b[0;34m,\u001b[0m\u001b[0;36m1\u001b[0m\u001b[0;34m,\u001b[0m\u001b[0;36m0\u001b[0m\u001b[0;34m,\u001b[0m\u001b[0;36m1\u001b[0m\u001b[0;34m,\u001b[0m\u001b[0;36m0\u001b[0m\u001b[0;34m,\u001b[0m\u001b[0;36m1\u001b[0m\u001b[0;34m]\u001b[0m\u001b[0;34m)\u001b[0m\u001b[0;34m\u001b[0m\u001b[0;34m\u001b[0m\u001b[0m\n\u001b[0;32m---> 37\u001b[0;31m \u001b[0mprint\u001b[0m\u001b[0;34m(\u001b[0m\u001b[0mobj1\u001b[0m\u001b[0;34m.\u001b[0m\u001b[0msumRootToLeaf\u001b[0m\u001b[0;34m(\u001b[0m\u001b[0mroot\u001b[0m \u001b[0;34m=\u001b[0m \u001b[0mobj2\u001b[0m\u001b[0;34m)\u001b[0m\u001b[0;34m)\u001b[0m\u001b[0;34m\u001b[0m\u001b[0;34m\u001b[0m\u001b[0m\n\u001b[0m",
            "\u001b[0;32m<ipython-input-9-671bb7af50ed>\u001b[0m in \u001b[0;36msumRootToLeaf\u001b[0;34m(self, root)\u001b[0m\n\u001b[1;32m     30\u001b[0m         \u001b[0mprint\u001b[0m\u001b[0;34m(\u001b[0m\u001b[0mnos\u001b[0m\u001b[0;34m)\u001b[0m\u001b[0;34m\u001b[0m\u001b[0;34m\u001b[0m\u001b[0m\n\u001b[1;32m     31\u001b[0m         \u001b[0;32mfor\u001b[0m \u001b[0mb\u001b[0m \u001b[0;32min\u001b[0m \u001b[0mnos\u001b[0m\u001b[0;34m:\u001b[0m\u001b[0;34m\u001b[0m\u001b[0;34m\u001b[0m\u001b[0m\n\u001b[0;32m---> 32\u001b[0;31m             \u001b[0mres\u001b[0m\u001b[0;34m+=\u001b[0m\u001b[0mbin_to_dec\u001b[0m\u001b[0;34m(\u001b[0m\u001b[0mb\u001b[0m\u001b[0;34m)\u001b[0m\u001b[0;34m\u001b[0m\u001b[0;34m\u001b[0m\u001b[0m\n\u001b[0m\u001b[1;32m     33\u001b[0m         \u001b[0;32mreturn\u001b[0m \u001b[0mres\u001b[0m\u001b[0;34m\u001b[0m\u001b[0;34m\u001b[0m\u001b[0m\n\u001b[1;32m     34\u001b[0m \u001b[0;34m\u001b[0m\u001b[0m\n",
            "\u001b[0;32m<ipython-input-9-671bb7af50ed>\u001b[0m in \u001b[0;36mbin_to_dec\u001b[0;34m(s)\u001b[0m\n\u001b[1;32m     24\u001b[0m             \u001b[0mprint\u001b[0m\u001b[0;34m(\u001b[0m\u001b[0ms\u001b[0m\u001b[0;34m)\u001b[0m\u001b[0;34m\u001b[0m\u001b[0;34m\u001b[0m\u001b[0m\n\u001b[1;32m     25\u001b[0m             \u001b[0;32mfor\u001b[0m \u001b[0mi\u001b[0m \u001b[0;32min\u001b[0m \u001b[0mrange\u001b[0m\u001b[0;34m(\u001b[0m\u001b[0mn\u001b[0m\u001b[0;34m)\u001b[0m\u001b[0;34m:\u001b[0m\u001b[0;34m\u001b[0m\u001b[0;34m\u001b[0m\u001b[0m\n\u001b[0;32m---> 26\u001b[0;31m                 \u001b[0mans\u001b[0m\u001b[0;34m+=\u001b[0m\u001b[0mint\u001b[0m\u001b[0;34m(\u001b[0m\u001b[0ms\u001b[0m\u001b[0;34m[\u001b[0m\u001b[0mi\u001b[0m\u001b[0;34m]\u001b[0m\u001b[0;34m)\u001b[0m \u001b[0;34m*\u001b[0m \u001b[0;36m2\u001b[0m \u001b[0;34m**\u001b[0m \u001b[0;34m(\u001b[0m\u001b[0mn\u001b[0m\u001b[0;34m-\u001b[0m\u001b[0mi\u001b[0m\u001b[0;34m-\u001b[0m\u001b[0;36m1\u001b[0m\u001b[0;34m)\u001b[0m\u001b[0;34m\u001b[0m\u001b[0;34m\u001b[0m\u001b[0m\n\u001b[0m\u001b[1;32m     27\u001b[0m             \u001b[0;32mreturn\u001b[0m \u001b[0mans\u001b[0m\u001b[0;34m\u001b[0m\u001b[0;34m\u001b[0m\u001b[0m\n\u001b[1;32m     28\u001b[0m         \u001b[0mdp\u001b[0m\u001b[0;34m(\u001b[0m\u001b[0mroot\u001b[0m\u001b[0;34m,\u001b[0m\u001b[0;34m\"\"\u001b[0m\u001b[0;34m)\u001b[0m\u001b[0;34m\u001b[0m\u001b[0;34m\u001b[0m\u001b[0m\n",
            "\u001b[0;31mValueError\u001b[0m: invalid literal for int() with base 10: '['"
          ]
        }
      ]
    },
    {
      "cell_type": "markdown",
      "source": [
        "## ***Jan 12:* 701. Insert into a Binary Search Tree**"
      ],
      "metadata": {
        "id": "b8wpCu_Tj_2y"
      }
    },
    {
      "cell_type": "code",
      "source": [
        "# Definition for a binary tree node.\n",
        "class TreeNode:\n",
        "    def __init__(self, val=0, left=None, right=None):\n",
        "        self.val = val\n",
        "        self.left = left\n",
        "        self.right = right\n",
        "class Solution:\n",
        "    def insertIntoBST(self, root, val: int):\n",
        "        node = TreeNode(val=val)\n",
        "        if not root:\n",
        "            return node\n",
        "        temp = root\n",
        "        prev = None\n",
        "        while temp:\n",
        "            prev = temp\n",
        "            if val > temp.val:\n",
        "                temp = temp.right\n",
        "            else:\n",
        "                temp = temp.left\n",
        "        if val > prev.val:\n",
        "            prev.right = node\n",
        "        else:\n",
        "            prev.left = node\n",
        "        return root"
      ],
      "metadata": {
        "id": "-GdqKQdLkIKS"
      },
      "execution_count": null,
      "outputs": []
    },
    {
      "cell_type": "code",
      "source": [
        "root = [4,2,7,1,3]; val = 5\n",
        "obj = Solution()\n",
        "obj1 = TreeNode()\n",
        "obj1.val = 4\n",
        "obj1 = obj1.left\n",
        "# obj1.val = 2\n",
        "\n",
        "print(obj.insertIntoBST(root,val))"
      ],
      "metadata": {
        "colab": {
          "base_uri": "https://localhost:8080/",
          "height": 321
        },
        "id": "iCxZesjMkYSk",
        "outputId": "35f86a4e-a6e6-45f4-a482-af5f31aa7913"
      },
      "execution_count": null,
      "outputs": [
        {
          "output_type": "error",
          "ename": "AttributeError",
          "evalue": "ignored",
          "traceback": [
            "\u001b[0;31m---------------------------------------------------------------------------\u001b[0m",
            "\u001b[0;31mAttributeError\u001b[0m                            Traceback (most recent call last)",
            "\u001b[0;32m<ipython-input-8-da5f123fdae7>\u001b[0m in \u001b[0;36m<module>\u001b[0;34m()\u001b[0m\n\u001b[1;32m      6\u001b[0m \u001b[0;31m# obj1.val = 2\u001b[0m\u001b[0;34m\u001b[0m\u001b[0;34m\u001b[0m\u001b[0;34m\u001b[0m\u001b[0m\n\u001b[1;32m      7\u001b[0m \u001b[0;34m\u001b[0m\u001b[0m\n\u001b[0;32m----> 8\u001b[0;31m \u001b[0mprint\u001b[0m\u001b[0;34m(\u001b[0m\u001b[0mobj\u001b[0m\u001b[0;34m.\u001b[0m\u001b[0minsertIntoBST\u001b[0m\u001b[0;34m(\u001b[0m\u001b[0mroot\u001b[0m\u001b[0;34m,\u001b[0m\u001b[0mval\u001b[0m\u001b[0;34m)\u001b[0m\u001b[0;34m)\u001b[0m\u001b[0;34m\u001b[0m\u001b[0;34m\u001b[0m\u001b[0m\n\u001b[0m",
            "\u001b[0;32m<ipython-input-2-5ecf2f0031fa>\u001b[0m in \u001b[0;36minsertIntoBST\u001b[0;34m(self, root, val)\u001b[0m\n\u001b[1;32m     14\u001b[0m         \u001b[0;32mwhile\u001b[0m \u001b[0mtemp\u001b[0m\u001b[0;34m:\u001b[0m\u001b[0;34m\u001b[0m\u001b[0;34m\u001b[0m\u001b[0m\n\u001b[1;32m     15\u001b[0m             \u001b[0mprev\u001b[0m \u001b[0;34m=\u001b[0m \u001b[0mtemp\u001b[0m\u001b[0;34m\u001b[0m\u001b[0;34m\u001b[0m\u001b[0m\n\u001b[0;32m---> 16\u001b[0;31m             \u001b[0;32mif\u001b[0m \u001b[0mval\u001b[0m \u001b[0;34m>\u001b[0m \u001b[0mtemp\u001b[0m\u001b[0;34m.\u001b[0m\u001b[0mval\u001b[0m\u001b[0;34m:\u001b[0m\u001b[0;34m\u001b[0m\u001b[0;34m\u001b[0m\u001b[0m\n\u001b[0m\u001b[1;32m     17\u001b[0m                 \u001b[0mtemp\u001b[0m \u001b[0;34m=\u001b[0m \u001b[0mtemp\u001b[0m\u001b[0;34m.\u001b[0m\u001b[0mright\u001b[0m\u001b[0;34m\u001b[0m\u001b[0;34m\u001b[0m\u001b[0m\n\u001b[1;32m     18\u001b[0m             \u001b[0;32melse\u001b[0m\u001b[0;34m:\u001b[0m\u001b[0;34m\u001b[0m\u001b[0;34m\u001b[0m\u001b[0m\n",
            "\u001b[0;31mAttributeError\u001b[0m: 'list' object has no attribute 'val'"
          ]
        }
      ]
    },
    {
      "cell_type": "markdown",
      "source": [
        "## ***Jan 13:* 452. Minimum Number of Arrows to Burst Balloons**"
      ],
      "metadata": {
        "id": "12qM35msAVyO"
      }
    },
    {
      "cell_type": "code",
      "source": [
        "points = [[10,16],[2,8],[1,6],[7,12]]\n",
        "# points = [[1,2],[3,4],[5,6],[7,8]]\n",
        "points = [[1,2],[2,3],[3,4],[4,5]]\n",
        "maxi_val = 0\n",
        "for i in points:\n",
        "  for j in i:\n",
        "    maxi_val = max(maxi_val, j)\n",
        "# print(maxi_val)\n",
        "record = [0] * maxi_val\n",
        "for i in points:\n",
        "  for j in range(i[0]-1, i[1]):\n",
        "    record[j] += 1\n",
        "print(record)\n",
        "l = len(points)\n",
        "decrement = 0\n",
        "for i in range(len(record)-1):\n",
        "  if record[i] < record[i+1]:\n",
        "    decrement += 1\n",
        "print(l-decrement)\n",
        "\n",
        "# Stuck \n",
        "# Don't know what should do next"
      ],
      "metadata": {
        "colab": {
          "base_uri": "https://localhost:8080/"
        },
        "id": "H0gj7BUUDViW",
        "outputId": "7436a8e9-a074-4865-eb11-cd9a1cde751c"
      },
      "execution_count": null,
      "outputs": [
        {
          "output_type": "stream",
          "name": "stdout",
          "text": [
            "[1, 2, 2, 2, 1]\n",
            "3\n"
          ]
        }
      ]
    },
    {
      "cell_type": "code",
      "source": [
        "points = [[10,16],[2,8],[1,6],[7,12]]\n",
        "# points = [[1,2],[3,4],[5,6],[7,8]]\n",
        "points = [[1,2],[2,3],[3,4],[4,5]]\n",
        "points.sort(key= lambda x : x[1])\n",
        "print(points)\n",
        "ans = 0; arrow = 0\n",
        "for start, end in points:\n",
        "  if ans == 0 or start > arrow:\n",
        "    ans = ans + 1\n",
        "    arrow = end\n",
        "print(ans)"
      ],
      "metadata": {
        "colab": {
          "base_uri": "https://localhost:8080/"
        },
        "id": "GlJlq09nNqZB",
        "outputId": "88cb6219-bdcd-42b6-f67d-f13720070de0"
      },
      "execution_count": null,
      "outputs": [
        {
          "output_type": "stream",
          "name": "stdout",
          "text": [
            "[[1, 2], [2, 3], [3, 4], [4, 5]]\n",
            "2\n"
          ]
        }
      ]
    },
    {
      "cell_type": "code",
      "source": [
        "help(points.sort)"
      ],
      "metadata": {
        "colab": {
          "base_uri": "https://localhost:8080/"
        },
        "id": "GvESRij4QD0P",
        "outputId": "5a858636-9dd1-4705-bb09-787fe7ebf512"
      },
      "execution_count": null,
      "outputs": [
        {
          "output_type": "stream",
          "name": "stdout",
          "text": [
            "Help on built-in function sort:\n",
            "\n",
            "sort(*, key=None, reverse=False) method of builtins.list instance\n",
            "    Stable sort *IN PLACE*.\n",
            "\n"
          ]
        }
      ]
    },
    {
      "cell_type": "markdown",
      "source": [
        "## ***Jan 14:* 8. String to Integer (atoi)**"
      ],
      "metadata": {
        "id": "ONFpJAyUfvTA"
      }
    },
    {
      "cell_type": "code",
      "source": [
        "s = \"   -42\"\n",
        "s = \"4193 with words\"\n",
        "s = \"words and 987\"\n",
        "s = \"-91283472332\"      # output = -91283472332     # expected = -2147483648\n",
        "alpha = \"ABCDEFGHIJKLMNOPQRSTUVWXYZabcdefghijklmnopqrstuvwxyz .\"\n",
        "new = \"\"\n",
        "print(s.split(' '))\n",
        "for i in s:\n",
        "  if i not in alpha:\n",
        "    new += i \n",
        "flag = True\n",
        "# s = s.strip()\n",
        "print(new)\n",
        "print(int(\"-45\"))\n",
        "\"42\"\n",
        "\"   -42\"\n",
        "\"4193 with words\"\n",
        "\"words and 987\""
      ],
      "metadata": {
        "colab": {
          "base_uri": "https://localhost:8080/"
        },
        "id": "ppsUBI4snPxg",
        "outputId": "e2a6b474-7ad1-4180-88b9-864359aafeb1"
      },
      "execution_count": null,
      "outputs": [
        {
          "output_type": "stream",
          "name": "stdout",
          "text": [
            "['words', 'and', '987']\n",
            "987\n",
            "-45\n"
          ]
        }
      ]
    },
    {
      "cell_type": "code",
      "source": [
        "class Solution:\n",
        "    def myAtoi(self, s: str) -> int:\n",
        "        s = s.strip()\n",
        "        alpha = \"ABCDEFGHIJKLMNOPQRSTUVWXYZabcdefghijklmnopqrstuvwxyz .\"\n",
        "        lst = s.split(' ')\n",
        "        s = lst[0].split('.')\n",
        "        s = s[0]\n",
        "        new = \"\"\n",
        "        for i in s:\n",
        "            if i not in alpha:\n",
        "                new += i\n",
        "        new = new.strip()\n",
        "        if new == '':   return 0\n",
        "        if not new[1].isdigit():   return 0\n",
        "        def clip(val, min_ = -2147483648, max_=2147483647):\n",
        "            return min_ if val < min_ else max_ if val > max_ else val\n",
        "        return clip(int(new))"
      ],
      "metadata": {
        "id": "6XT832mELerH"
      },
      "execution_count": null,
      "outputs": []
    },
    {
      "cell_type": "code",
      "source": [
        "class Solution:\n",
        "    def myAtoi(self, s: str) -> int:\n",
        "        s = s.strip()\n",
        "        alpha = \"ABCDEFGHIJKLMNOPQRSTUVWXYZabcdefghijklmnopqrstuvwxyz .\"\n",
        "        lst = s.split(' ')\n",
        "        s = lst[0]\n",
        "        new = \"\"\n",
        "        for i in s:\n",
        "            if i not in alpha:\n",
        "                new += i\n",
        "        new = new.strip()\n",
        "        if new == '':   return 0\n",
        "        def clip(val, min_ = -2147483648, max_=2147483647):\n",
        "          return min_ if val < min_ else max_ if val > max_ else val\n",
        "        return clip(int(new))"
      ],
      "metadata": {
        "id": "hDCGJWX_CnHl"
      },
      "execution_count": null,
      "outputs": []
    },
    {
      "cell_type": "code",
      "source": [
        "obj = Solution()\n",
        "print(obj.myAtoi(\"-91283472332\"))\n",
        "lst = \"3.14159 jfjkl fj\"\n",
        "print(lst.split()[0].split('.'))"
      ],
      "metadata": {
        "colab": {
          "base_uri": "https://localhost:8080/"
        },
        "id": "maq17fLQDRjW",
        "outputId": "9eb3e6fb-2e89-450b-b5b0-edb786f068ec"
      },
      "execution_count": null,
      "outputs": [
        {
          "output_type": "stream",
          "name": "stdout",
          "text": [
            "-2147483648\n",
            "['3', '14159']\n"
          ]
        }
      ]
    },
    {
      "cell_type": "markdown",
      "source": [
        "## ***Jan 15:* 1345. Jump Game IV**"
      ],
      "metadata": {
        "id": "z88f6pgND4TN"
      }
    },
    {
      "cell_type": "code",
      "source": [
        "from collections import defaultdict, deque\n",
        "class Solution:\n",
        "    def minJumps(self, arr) -> int:\n",
        "        if len(arr) == 1:\n",
        "            return 0\n",
        "        adj = defaultdict(list)\n",
        "        for i, n in enumerate(arr):\n",
        "            adj[n].append(i)\n",
        "        \n",
        "        ans = [0] * len(arr)  # the return value is ans[0], once we find it, we can return immediately.\n",
        "        dq = deque([len(arr) - 1])  # obviously, ans[-1] == 0, so we fulfill ans from ans[-1] to ans[0] iteratively\n",
        "        while dq:\n",
        "            i = dq.popleft()\n",
        "\n",
        "            # move forward if the next one has not seen before that is ans[i + 1] == 0\n",
        "            # note that the ans[len(arr) - 1] is always 0, we should NOT update it, so i < len(arr) - 1\n",
        "            if i < len(arr) - 1 and ans[i + 1] == 0 and i + 1 < len(arr) - 1:\n",
        "                ans[i + 1] = ans[i] + 1\n",
        "                dq.append(i + 1)\n",
        "\n",
        "            # move backward if the previous one has not seen before that is ans[i - 1] == 0\n",
        "            if i > 0 and ans[i - 1] == 0:\n",
        "                ans[i - 1] = ans[i] + 1\n",
        "                if i - 1 == 0: return ans[0]\n",
        "                dq.append(i - 1)\n",
        "\n",
        "            # move to j where arr[i] == arr[j]\n",
        "            for j in adj[arr[i]]:\n",
        "                if ans[j] == 0 and j < len(arr) - 1:\n",
        "                    ans[j] = ans[i] + 1\n",
        "                    if j == 0: return ans[0]\n",
        "                    dq.append(j)\n",
        "            adj.pop(arr[i])  # pop arr[i] from the adj, very very important to avoid double calculating"
      ],
      "metadata": {
        "id": "KXdr3WrrEFJl"
      },
      "execution_count": null,
      "outputs": []
    },
    {
      "cell_type": "code",
      "source": [
        "obj = Solution()\n",
        "arr = [100,-23,-23,404,100,23,23,23,3,404]\n",
        "obj.minJumps(arr)"
      ],
      "metadata": {
        "colab": {
          "base_uri": "https://localhost:8080/"
        },
        "id": "54pDR-wxKKKS",
        "outputId": "31eab6d6-474b-4588-92a8-193c213ea84f"
      },
      "execution_count": null,
      "outputs": [
        {
          "output_type": "execute_result",
          "data": {
            "text/plain": [
              "3"
            ]
          },
          "metadata": {},
          "execution_count": 6
        }
      ]
    },
    {
      "cell_type": "markdown",
      "source": [
        "## ***Jan 16:* 849. Maximize Distance to Closest Person**"
      ],
      "metadata": {
        "id": "ISbLUljyymR8"
      }
    },
    {
      "cell_type": "code",
      "source": [
        "class Solution:\n",
        "    def maxDistToClosest(self, seats) -> int:\n",
        "        \"\"\"\n",
        "        Scan the seats array (seats) to create a list of occupied\n",
        "        seats (occupied).\n",
        "        \"\"\"\n",
        "        len_seats = len(seats)\n",
        "        occupied = [k for k in range(len_seats) if seats[k] == 1]\n",
        "\n",
        "        \"\"\"\n",
        "        Use occupied to compute the maximum distance to an\n",
        "        occupied seat:\n",
        "        - Handle edge cases for the seats at the beginning and\n",
        "          end of seats that have an occupied seat on only one\n",
        "          side.\n",
        "        - Loop through occupied to handle interior seats that\n",
        "          have occupied seats on both sides\n",
        "        \"\"\"\n",
        "        max_distance = max(occupied[0], len_seats - 1 - occupied[-1])\n",
        "        len_occupied = len(occupied)\n",
        "        for k in range(1, len_occupied):\n",
        "            distance = (occupied[k] - occupied[k - 1]) // 2\n",
        "            if distance > max_distance:\n",
        "                max_distance = distance\n",
        "        return max_distance"
      ],
      "metadata": {
        "id": "xdW7MZ5nyxyO"
      },
      "execution_count": 11,
      "outputs": []
    },
    {
      "cell_type": "code",
      "source": [
        "obj = Solution()\n",
        "seats = [1,0,0,0,1,0,1]\n",
        "print(obj.maxDistToClosest(seats))"
      ],
      "metadata": {
        "colab": {
          "base_uri": "https://localhost:8080/"
        },
        "id": "E73PPeJmzFMs",
        "outputId": "f0cddcca-50cc-4028-ada1-74810eddcb84"
      },
      "execution_count": 14,
      "outputs": [
        {
          "output_type": "stream",
          "name": "stdout",
          "text": [
            "2\n"
          ]
        }
      ]
    },
    {
      "cell_type": "markdown",
      "source": [
        "# **Weekly Contest 274**"
      ],
      "metadata": {
        "id": "LB74Ic6RFX3k"
      }
    },
    {
      "cell_type": "markdown",
      "source": [
        "## **2124. Check if All A's Appears Before All B's**"
      ],
      "metadata": {
        "id": "mQGsrMmGFb4N"
      }
    },
    {
      "cell_type": "code",
      "source": [
        "class Solution:\n",
        "    def checkString(self, s: str) -> bool:\n",
        "        if 'ba' in s:\n",
        "            return False\n",
        "        else:\n",
        "            return True"
      ],
      "metadata": {
        "id": "l2Ky_luKvxP8"
      },
      "execution_count": null,
      "outputs": []
    },
    {
      "cell_type": "code",
      "source": [
        "obj1 = Solution()\n",
        "print(obj1.checkString(\"aaababb\"))"
      ],
      "metadata": {
        "colab": {
          "base_uri": "https://localhost:8080/"
        },
        "id": "QcCJavZmv0is",
        "outputId": "1e4c25e7-29e5-4f4b-e7dc-7bc071526b11"
      },
      "execution_count": null,
      "outputs": [
        {
          "output_type": "stream",
          "name": "stdout",
          "text": [
            "False\n"
          ]
        }
      ]
    },
    {
      "cell_type": "markdown",
      "source": [
        "## **2125. Number of Laser Beams in a Bank**"
      ],
      "metadata": {
        "id": "obXWXz5tFeWE"
      }
    },
    {
      "cell_type": "code",
      "source": [
        "bank = [\"011001\",\"000000\",\"010100\",\"001000\"]\n",
        "beams = []\n",
        "for i in range(len(bank)):\n",
        "  if '1' not in bank[i]:\n",
        "    continue\n",
        "  else:\n",
        "    beam = 0\n",
        "    for j in range(i):\n",
        "      if bank[i][j] == '1':\n",
        "        beam += 1\n",
        "    beams.append(beam)\n"
      ],
      "metadata": {
        "id": "27NvkgJZwKUD"
      },
      "execution_count": null,
      "outputs": []
    },
    {
      "cell_type": "code",
      "source": [
        "beam = []\n",
        "bank = [\"011001\",\"000000\",\"010100\",\"001000\"]\n",
        "# bank = [\"000\",\"111\",\"000\"]\n",
        "for i in bank:\n",
        "  beam.append(i.count('1'))\n",
        "print(beam)\n",
        "no_of_beams = 0\n",
        "first = beam[0]\n",
        "second = 0\n",
        "for i in range(1, len(beam)):\n",
        "  if beam[i] == 0:\n",
        "    continue\n",
        "  else:\n",
        "    second = beam[i]\n",
        "    no_of_beams += first * second\n",
        "  first = second\n",
        "print(no_of_beams)"
      ],
      "metadata": {
        "colab": {
          "base_uri": "https://localhost:8080/"
        },
        "id": "QJFfbL9n1kq0",
        "outputId": "275f974d-dcea-4ca4-b5f8-715d80710e15"
      },
      "execution_count": null,
      "outputs": [
        {
          "output_type": "stream",
          "name": "stdout",
          "text": [
            "[3, 0, 2, 1]\n",
            "8\n"
          ]
        }
      ]
    },
    {
      "cell_type": "markdown",
      "source": [
        "# **Biweekly Contest 69**"
      ],
      "metadata": {
        "id": "1Opd7D4jHMmQ"
      }
    },
    {
      "cell_type": "markdown",
      "source": [
        "## **5960. Capitalize the Title**"
      ],
      "metadata": {
        "id": "EkYGok8jNxmA"
      }
    },
    {
      "cell_type": "code",
      "source": [
        "title = \"capiTalIze He titLe\"\n",
        "print()\n",
        "new_str = ''\n",
        "val = title.title().split()\n",
        "print(val)\n",
        "for i in range(len(val)):\n",
        "  if len(val[i]) <= 2:\n",
        "    new_str += val[i].lower() + ' '\n",
        "  else:\n",
        "    new_str += val[i] + ' '\n",
        "print(new_str[:-1])  \n",
        "\n",
        "print(len(val[1]))"
      ],
      "metadata": {
        "colab": {
          "base_uri": "https://localhost:8080/"
        },
        "id": "V1YeZ-83HRBe",
        "outputId": "708fca1f-682c-4d5b-e648-33f6bd361573"
      },
      "execution_count": null,
      "outputs": [
        {
          "output_type": "stream",
          "name": "stdout",
          "text": [
            "\n",
            "['Capitalize', 'He', 'Title']\n",
            "Capitalize he Title\n",
            "2\n"
          ]
        }
      ]
    },
    {
      "cell_type": "markdown",
      "source": [
        "## **5961. Maximum Twin Sum of a Linked List**"
      ],
      "metadata": {
        "id": "Jw3OeV0ZOE6G"
      }
    },
    {
      "cell_type": "code",
      "source": [
        "class ListNode:\n",
        "    def __init__(self, val=0, next=None):\n",
        "        self.val = val\n",
        "        self.next = next\n",
        "class Solution:\n",
        "    def pairSum(self, head) -> int:\n",
        "        array = []\n",
        "        curr = head\n",
        "        while curr:\n",
        "            array.append(curr.val)\n",
        "            curr = curr.next\n",
        "        print(array)\n",
        "        "
      ],
      "metadata": {
        "id": "461zNQ3sJkt8"
      },
      "execution_count": null,
      "outputs": []
    },
    {
      "cell_type": "code",
      "source": [
        "head = [0, 1,-2,-1]\n",
        "# head = [5, 4, 2, 1]\n",
        "head = [4, 2, 2, 3]\n",
        "max_sum = 0\n",
        "curr_sum = 0\n",
        "n = len(head)\n",
        "for i in range(int(n/2)):\n",
        "  curr_sum = head[i] + head[-(i+1)]\n",
        "  max_sum = max(max_sum, curr_sum)\n",
        "  print(curr_sum)\n",
        "print(max_sum)"
      ],
      "metadata": {
        "colab": {
          "base_uri": "https://localhost:8080/"
        },
        "id": "_AGQzJlHSxK_",
        "outputId": "b78cd2b9-27f3-452b-d100-696a227f9a76"
      },
      "execution_count": null,
      "outputs": [
        {
          "output_type": "stream",
          "name": "stdout",
          "text": [
            "7\n",
            "4\n",
            "7\n"
          ]
        }
      ]
    },
    {
      "cell_type": "markdown",
      "source": [
        "## **5962. Longest Palindrome by Concatenating Two Letter Words**"
      ],
      "metadata": {
        "id": "x0So8MlBXNkQ"
      }
    },
    {
      "cell_type": "code",
      "source": [
        "from itertools import permutations\n",
        "total = []\n",
        "largest = 0\n",
        "curr = 0\n",
        "# words = [\"lc\",\"cl\",\"gg\"]\n",
        "words = [\"ab\",\"ty\",\"yt\",\"lc\",\"cl\",\"ab\"]\n",
        "words = [\"cc\",\"ll\",\"xx\"]\n",
        "words = [\"dd\",\"aa\",\"bb\",\"dd\",\"aa\",\"dd\",\"bb\",\"dd\",\"aa\",\"cc\",\"bb\",\"cc\",\"dd\",\"cc\"]\n",
        "lst_count = []\n",
        "for i in range(len(words)+1):\n",
        "  perm = permutations(words, i)\n",
        "  for j in list(perm):\n",
        "    total.append(list(j))\n",
        "total = total[1:]\n",
        "print(total)\n",
        "for sub in total:\n",
        "  is_pal = ''.join(sub)\n",
        "  if is_pal == is_pal[::-1]:\n",
        "    print(is_pal)\n",
        "    curr = len(is_pal)\n",
        "    lst_count.append(curr)\n",
        "    # largest = max(curr, largest)\n",
        "print(max(lst_count))\n",
        "\n",
        "# Not Working this Idea"
      ],
      "metadata": {
        "id": "ieqmAxHMX5Re"
      },
      "execution_count": null,
      "outputs": []
    },
    {
      "cell_type": "code",
      "source": [
        "from collections import Counter\n",
        "# Counter is basically here creating a dictionary of \n",
        "# all the occurences against their count in words list\n",
        "class Solution:\n",
        "    def longestPalindrome(self, words) -> int:\n",
        "        c = Counter(words)\n",
        "        ans = 0\n",
        "        ans2 = 0\n",
        "        t = 0\n",
        "        for i in c:\n",
        "            if i == i[::-1]:\n",
        "                ans2 += c[i]//2*2\n",
        "                t += c[i]%2\n",
        "            elif i < i[::-1]:\n",
        "                ans += min(c[i], c[i[::-1]])*2\n",
        "        print(ans, ans2, t)\n",
        "        return (ans+ans2+min(t, 1))*2"
      ],
      "metadata": {
        "id": "hALuDeplhJqn"
      },
      "execution_count": null,
      "outputs": []
    },
    {
      "cell_type": "code",
      "source": [
        "obj = Solution()\n",
        "# words = [\"lc\",\"cl\",\"gg\"]\n",
        "words = [\"ab\",\"ty\",\"yt\",\"lc\",\"cl\",\"ab\"]\n",
        "words = [\"cc\",\"ll\",\"xx\"]\n",
        "words = [\"dd\",\"aa\",\"bb\",\"dd\",\"aa\",\"dd\",\"bb\",\"dd\",\"aa\",\"cc\",\"bb\",\"cc\",\"dd\",\"cc\"]\n",
        "print(obj.longestPalindrome([\"dd\",\"aa\",\"bb\",\"dd\",\"aa\",\"dd\",\"bb\",\"dd\",\"aa\",\"cc\",\"bb\",\"cc\",\"dd\",\"cc\"]))"
      ],
      "metadata": {
        "colab": {
          "base_uri": "https://localhost:8080/"
        },
        "id": "NCTHwFk6hgMg",
        "outputId": "29dea859-4448-4259-ae9d-df5827770ff5"
      },
      "execution_count": null,
      "outputs": [
        {
          "output_type": "stream",
          "name": "stdout",
          "text": [
            "0 10 4\n",
            "22\n"
          ]
        }
      ]
    },
    {
      "cell_type": "markdown",
      "source": [
        "# **Weekly Contest 275**"
      ],
      "metadata": {
        "id": "pPmUQr67xEFk"
      }
    },
    {
      "cell_type": "markdown",
      "source": [
        "## **5976. Check if Every Row and Column Contains All Numbers**"
      ],
      "metadata": {
        "id": "j_e_a9l06Bbz"
      }
    },
    {
      "cell_type": "code",
      "source": [
        "class Solution:\n",
        "    def checkValid(self, matrix) -> bool:\n",
        "        if len(matrix) == 1:\n",
        "            return True\n",
        "        n = len(matrix)\n",
        "        c = {}\n",
        "        for i in range(1, n+1):\n",
        "            if i not in c:\n",
        "                c[i] = 1\n",
        "            else:\n",
        "                c[i] += 1\n",
        "        \n",
        "        for i in range(0, len(matrix)):\n",
        "            nc = Counter(matrix[i])\n",
        "            if c != nc:\n",
        "                return False\n",
        "        \n",
        "        def column(matrix, i):\n",
        "            return [row[i] for row in matrix]\n",
        "        \n",
        "        for i, j in enumerate(matrix):\n",
        "            col = column(matrix, i)\n",
        "            nc = Counter(col)\n",
        "            if c != nc:\n",
        "                return False  \n",
        "            \n",
        "        return True"
      ],
      "metadata": {
        "id": "SObZqvUP5HPV"
      },
      "execution_count": null,
      "outputs": []
    },
    {
      "cell_type": "code",
      "source": [
        "matrix = [[1,1,1],[1,2,3],[1,2,3]]\n",
        "# matrix = [[1,2,3],[3,1,2],[2,3,1]]\n",
        "# matrix = [[1]]\n",
        "obj = Solution()\n",
        "print(obj.checkValid(matrix))"
      ],
      "metadata": {
        "colab": {
          "base_uri": "https://localhost:8080/"
        },
        "id": "xGcChOZ2xTY1",
        "outputId": "791d9ffb-45ef-441e-9c74-033b9d3b4d26"
      },
      "execution_count": null,
      "outputs": [
        {
          "output_type": "stream",
          "name": "stdout",
          "text": [
            "False\n"
          ]
        }
      ]
    },
    {
      "cell_type": "markdown",
      "source": [
        "## **5977. Minimum Swaps to Group All 1's Together II**"
      ],
      "metadata": {
        "id": "aZptK1T7593T"
      }
    },
    {
      "cell_type": "code",
      "source": [
        "# Copied and Understanded\n",
        "class Solution:\n",
        "    def minSwaps(self, nums) -> int:\n",
        "        n1 = sum(nums)\n",
        "        cur = sum(nums[:n1])\n",
        "        ans = n1\n",
        "        for i in range(len(nums)):\n",
        "            ans = min(ans, n1 - cur)                # Minimum no of swaps\n",
        "            cur += nums[(i + n1) % len(nums)]       # For Circular array\n",
        "            cur -= nums[i]\n",
        "        return ans"
      ],
      "metadata": {
        "id": "SEJy6pG56aHb"
      },
      "execution_count": null,
      "outputs": []
    },
    {
      "cell_type": "code",
      "source": [
        "obj = Solution()\n",
        "obj.minSwaps(nums = [0,1,1,1,0,0,1,1,0])"
      ],
      "metadata": {
        "colab": {
          "base_uri": "https://localhost:8080/"
        },
        "id": "h91xQC9QH6l6",
        "outputId": "b021db43-c8a9-4443-a38d-41981dbd8c58"
      },
      "execution_count": null,
      "outputs": [
        {
          "output_type": "execute_result",
          "data": {
            "text/plain": [
              "2"
            ]
          },
          "metadata": {},
          "execution_count": 52
        }
      ]
    },
    {
      "cell_type": "markdown",
      "source": [
        "# **Weekly Contest 276**"
      ],
      "metadata": {
        "id": "2bKMMq1p0h8I"
      }
    },
    {
      "cell_type": "markdown",
      "source": [
        "## **5980. Divide a String Into Groups of Size k**"
      ],
      "metadata": {
        "id": "DuWe8kNbu9bX"
      }
    },
    {
      "cell_type": "code",
      "source": [
        "class Solution:\n",
        "    def divideString(self, s: str, k: int, fill: str):\n",
        "        l = len(s)\n",
        "        # e = 0\n",
        "        if l % k != 0:\n",
        "            extra = fill * (k - (l % k))\n",
        "            s += extra\n",
        "            # e = 1\n",
        "        lst = []\n",
        "        st = 0\n",
        "        ls = k\n",
        "        # e += k\n",
        "        print(s)\n",
        "        e = len(s) // k\n",
        "        print(e)\n",
        "        for i in range(e):\n",
        "            grp = s[st:ls]\n",
        "            lst.append(grp)\n",
        "            st = ls\n",
        "            ls += k\n",
        "        return lst\n",
        "        "
      ],
      "metadata": {
        "id": "zgZMHOpGu-C5"
      },
      "execution_count": null,
      "outputs": []
    },
    {
      "cell_type": "code",
      "source": [
        "obj = Solution()\n",
        "# s = \"abcdefghij\"; k = 3; fill = \"x\"\n",
        "s = \"ctoyjrwtngqwt\"\n",
        "k = 8\n",
        "fill = \"n\"                        # [\"ctoyjrwt\",\"ngqwtnnn\",\"\",\"\",\"\",\"\",\"\",\"\",\"\"]\n",
        "print(obj.divideString(s,k,fill))\n"
      ],
      "metadata": {
        "colab": {
          "base_uri": "https://localhost:8080/"
        },
        "id": "sixbxdimxNeE",
        "outputId": "046bc83f-3b39-4f9f-faa8-31de9f69b427"
      },
      "execution_count": null,
      "outputs": [
        {
          "output_type": "stream",
          "name": "stdout",
          "text": [
            "ctoyjrwtngqwtnnn\n",
            "2\n",
            "['ctoyjrwt', 'ngqwtnnn']\n"
          ]
        }
      ]
    },
    {
      "cell_type": "markdown",
      "source": [
        "## **5194. Minimum Moves to Reach Target Score**"
      ],
      "metadata": {
        "id": "0Hcc-JwH0mm4"
      }
    },
    {
      "cell_type": "code",
      "source": [
        "class Solution:\n",
        "    def minMoves(self, target: int, maxDoubles: int) -> int:\n",
        "        to_ret = 0\n",
        "        while target > 1 :\n",
        "            if maxDoubles == 0 :\n",
        "                to_ret += target - 1\n",
        "                break\n",
        "            if target % 2 == 1 :\n",
        "                to_ret += 1\n",
        "                target -= 1\n",
        "            else :\n",
        "                to_ret += 1\n",
        "                target = target // 2\n",
        "                maxDoubles -= 1\n",
        "        return to_ret"
      ],
      "metadata": {
        "id": "ZLKqg06s0B2z"
      },
      "execution_count": null,
      "outputs": []
    },
    {
      "cell_type": "code",
      "source": [
        "obj = Solution()\n",
        "print(obj.minMoves(target = 19, maxDoubles = 2))"
      ],
      "metadata": {
        "colab": {
          "base_uri": "https://localhost:8080/"
        },
        "id": "bbnsxvVHaAca",
        "outputId": "c548fd1a-9106-4824-a824-48a507d4643b"
      },
      "execution_count": null,
      "outputs": [
        {
          "output_type": "stream",
          "name": "stdout",
          "text": [
            "7\n"
          ]
        }
      ]
    },
    {
      "cell_type": "markdown",
      "source": [
        "## **2140. Solving Questions With Brainpower**"
      ],
      "metadata": {
        "id": "hzx_0H-mefti"
      }
    },
    {
      "cell_type": "code",
      "source": [
        "class Solution:\n",
        "    def mostPoints(self, questions) -> int:\n",
        "      lst = [0]*200;\n",
        "      for i in range(len(questions)-1, -1, -1):\n",
        "          lst[i] = max(lst[i+1],questions[i][0] + lst[i + questions[i][1] + 1])\n",
        "\n",
        "      return lst[0]"
      ],
      "metadata": {
        "id": "OU6cXEa_eka6"
      },
      "execution_count": 7,
      "outputs": []
    },
    {
      "cell_type": "code",
      "source": [
        "obj = Solution()\n",
        "questions = [[3,2],[4,3],[4,4],[2,5]]\n",
        "questions = [[1,1],[2,2],[3,3],[4,4],[5,5]]\n",
        "print(obj.mostPoints(questions))"
      ],
      "metadata": {
        "colab": {
          "base_uri": "https://localhost:8080/"
        },
        "id": "ocdNet3EpAK1",
        "outputId": "9f7e2bd4-35a0-42b4-91f4-998356b7831f"
      },
      "execution_count": 10,
      "outputs": [
        {
          "output_type": "stream",
          "name": "stdout",
          "text": [
            "7\n"
          ]
        }
      ]
    }
  ]
}