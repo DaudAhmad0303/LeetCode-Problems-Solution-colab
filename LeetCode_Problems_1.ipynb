{
  "nbformat": 4,
  "nbformat_minor": 0,
  "metadata": {
    "colab": {
      "name": "LeetCode Problems-1.ipynb",
      "provenance": [],
      "collapsed_sections": [
        "t6NchOFC-O-7",
        "-tVYnypZ9S00",
        "fzoL61LoD68i",
        "Lq4w0hrGJPHD",
        "SWPIPmApUrxj"
      ],
      "authorship_tag": "ABX9TyMvmQ4OYQ/7DZkPky63h3Hv",
      "include_colab_link": true
    },
    "kernelspec": {
      "name": "python3",
      "display_name": "Python 3"
    },
    "language_info": {
      "name": "python"
    }
  },
  "cells": [
    {
      "cell_type": "markdown",
      "metadata": {
        "id": "view-in-github",
        "colab_type": "text"
      },
      "source": [
        "<a href=\"https://colab.research.google.com/github/DaudAhmad0303/LeetCode-Problems-Solution-colab/blob/master/LeetCode_Problems_1.ipynb\" target=\"_parent\"><img src=\"https://colab.research.google.com/assets/colab-badge.svg\" alt=\"Open In Colab\"/></a>"
      ]
    },
    {
      "cell_type": "markdown",
      "source": [
        "# **Random Practise Codes**"
      ],
      "metadata": {
        "id": "t6NchOFC-O-7"
      }
    },
    {
      "cell_type": "code",
      "execution_count": null,
      "metadata": {
        "colab": {
          "base_uri": "https://localhost:8080/"
        },
        "id": "uuvafrr0-EyH",
        "outputId": "b0b028a9-81e0-4125-98cf-f1b8e24e9714"
      },
      "outputs": [
        {
          "output_type": "stream",
          "name": "stdout",
          "text": [
            "Hello World\n"
          ]
        }
      ],
      "source": [
        "print('Hello World')"
      ]
    },
    {
      "cell_type": "markdown",
      "source": [
        "# **Daily Coding Challenge**\n",
        "\n",
        "\n"
      ],
      "metadata": {
        "id": "32tbW0w-8_-i"
      }
    },
    {
      "cell_type": "markdown",
      "source": [
        "## ***Jan 2:*1010. Pairs of Songs With Total Durations Divisible by 60**"
      ],
      "metadata": {
        "id": "-tVYnypZ9S00"
      }
    },
    {
      "cell_type": "code",
      "source": [
        "class Solution:\n",
        "    def numPairsDivisibleBy60(self, time) -> int:\n",
        "        c = [0] * 60\n",
        "        res = 0\n",
        "        for t in time:\n",
        "            res += c[-t % 60]     # here getting result from the below ones stored in 'c' list\n",
        "            c[t % 60] += 1        # here updating record for next moves\n",
        "        return res"
      ],
      "metadata": {
        "id": "42NQ-QktWcHo"
      },
      "execution_count": null,
      "outputs": []
    },
    {
      "cell_type": "code",
      "source": [
        "obj1 = Solution()\n",
        "lst = [30,20,150,100,40]\n",
        "print(obj1.numPairsDivisibleBy60(time = lst))"
      ],
      "metadata": {
        "colab": {
          "base_uri": "https://localhost:8080/"
        },
        "id": "lNhqFfNhWetU",
        "outputId": "55821c45-91f2-48c0-f99d-7872c78e76e4"
      },
      "execution_count": null,
      "outputs": [
        {
          "output_type": "stream",
          "name": "stdout",
          "text": [
            "3\n"
          ]
        }
      ]
    },
    {
      "cell_type": "markdown",
      "source": [
        "## ***Jan 3:* 997. Find the Town Judge**"
      ],
      "metadata": {
        "id": "fzoL61LoD68i"
      }
    },
    {
      "cell_type": "code",
      "source": [
        "class Solution:\n",
        "    def findJudge(self, n: int, trust) -> int:\n",
        "        val = trust[0][1]\n",
        "        trusting = 0\n",
        "        for i in range(len(trust)):\n",
        "            if trust[i][1] != val:\n",
        "                return -1\n",
        "            elif trust[0][1] == val:\n",
        "                trusting += 1\n",
        "        return trusting"
      ],
      "metadata": {
        "id": "bbc0dSp-EBO7"
      },
      "execution_count": null,
      "outputs": []
    },
    {
      "cell_type": "code",
      "source": [
        "n = 2; trust = [[1,2]]\n",
        "trust = [[1,3],[1,4],[2,3],[2,4],[4,3]]\n",
        "obj1 = Solution()\n",
        "print(obj1.findJudge(n, trust))"
      ],
      "metadata": {
        "colab": {
          "base_uri": "https://localhost:8080/"
        },
        "id": "NLBS-GNHEFZK",
        "outputId": "7241af71-ffee-4e7d-b0a5-6352dac767d6"
      },
      "execution_count": null,
      "outputs": [
        {
          "output_type": "stream",
          "name": "stdout",
          "text": [
            "-1\n"
          ]
        }
      ]
    },
    {
      "cell_type": "code",
      "source": [
        "for i in range(len(trust)):\n",
        "  print(trust[i][0])\n",
        "print(trust[0:][1])"
      ],
      "metadata": {
        "colab": {
          "base_uri": "https://localhost:8080/"
        },
        "id": "503rPrTJKJ5E",
        "outputId": "2651d8a8-d9b9-4c46-9904-729eba9e349e"
      },
      "execution_count": null,
      "outputs": [
        {
          "output_type": "stream",
          "name": "stdout",
          "text": [
            "1\n",
            "1\n",
            "2\n",
            "2\n",
            "4\n",
            "[1, 4]\n"
          ]
        }
      ]
    },
    {
      "cell_type": "markdown",
      "source": [
        "## ***Jan 4:* 1009. Complement of Base 10 Integer**"
      ],
      "metadata": {
        "id": "Lq4w0hrGJPHD"
      }
    },
    {
      "cell_type": "code",
      "source": [
        "class Solution:\n",
        "    def bitwiseComplement(self, n: int) -> int:\n",
        "        binary_no = bin(n)\n",
        "        binary = []\n",
        "        for i in range(2, len(binary_no)):\n",
        "          if binary_no[i] == '0':\n",
        "            binary.append('1')\n",
        "          elif binary_no[i] == '1':\n",
        "            binary.append('0')\n",
        "        val = '0b'+''.join(map(str, binary))\n",
        "        return int(val, 2)"
      ],
      "metadata": {
        "id": "dxXiuz-DJ0VU"
      },
      "execution_count": null,
      "outputs": []
    },
    {
      "cell_type": "code",
      "source": [
        "obj1 = Solution()\n",
        "print(obj1.bitwiseComplement(5))"
      ],
      "metadata": {
        "colab": {
          "base_uri": "https://localhost:8080/"
        },
        "id": "YdRvGSCKKOos",
        "outputId": "8936a569-c377-4c23-e01d-f92d66faf494"
      },
      "execution_count": null,
      "outputs": [
        {
          "output_type": "stream",
          "name": "stdout",
          "text": [
            "2\n"
          ]
        }
      ]
    },
    {
      "cell_type": "code",
      "source": [
        "lst = [1,0,0,1,1,0]\n",
        "val = '0b'+''.join(map(str, lst))\n",
        "print(val)\n",
        "print(int(val, 2))"
      ],
      "metadata": {
        "colab": {
          "base_uri": "https://localhost:8080/"
        },
        "id": "JuJ3pcuNLQUd",
        "outputId": "db86c35f-6baa-475c-945b-c74d6d73a390"
      },
      "execution_count": null,
      "outputs": [
        {
          "output_type": "stream",
          "name": "stdout",
          "text": [
            "0b100110\n",
            "38\n"
          ]
        }
      ]
    },
    {
      "cell_type": "markdown",
      "source": [
        "## ***Jan 5:* 131. Palindrome Partitioning**"
      ],
      "metadata": {
        "id": "SWPIPmApUrxj"
      }
    },
    {
      "cell_type": "code",
      "source": [
        "# test_str = \"aab\"\n",
        "# res = [test_str[i: j] for i in range(len(test_str)) for j in range(i + 1, len(test_str) + 1)]\n",
        "# print(res)\n",
        "s = \"aab\"\n",
        "res = []\n",
        "for i in range(len(s)):\n",
        "  for j in range(i + 1, len(s) + 1):\n",
        "    res.append(s[i: j])\n",
        "    # print(f'{i}-{j}')\n",
        "print(res)\n",
        "str_to_return = []\n",
        "str_to_return.append(list(s))\n",
        "print(str_to_return)\n",
        "# while True:\n",
        "\n",
        "for i in range(len(s)+1):  \n",
        "  new_partition = []\n",
        "  new_partition.append(str_to_return[0][i])\n",
        "  for j in range(len(res)):\n",
        "    is_palin = s[i+1:]\n",
        "    if is_palin == is_palin[::-1]:\n",
        "      pass\n",
        "\n",
        "print(new_partition)\n",
        "print(str_to_return)"
      ],
      "metadata": {
        "colab": {
          "base_uri": "https://localhost:8080/"
        },
        "id": "-1qn7Z7dVF1j",
        "outputId": "35e8e864-50dc-4e80-898c-66eb6abd4f5f"
      },
      "execution_count": null,
      "outputs": [
        {
          "output_type": "stream",
          "name": "stdout",
          "text": [
            "['a', 'aa', 'aab', 'a', 'ab', 'b']\n",
            "[['a', 'a', 'b']]\n",
            "[['a', 'a', 'b']]\n",
            "[['a', 'a', 'b']]\n"
          ]
        }
      ]
    },
    {
      "cell_type": "code",
      "source": [
        "s = \"geeeksforgeeeks\"\n",
        "# s = \"aba\"\n",
        "res = []\n",
        "for i in range(len(s)):\n",
        "  for j in range(i + 1, len(s) + 1):\n",
        "    val = s[i:j]\n",
        "    if val == val[::-1]:\n",
        "      res.append(val)\n",
        "    # print(f'{i}-{j}')\n",
        "print(res)\n",
        "result = []\n",
        "temp_s = s\n",
        "for i in range(len(res)):\n",
        "  temp_lst = []\n",
        "  # if res[i]\n",
        "\n",
        "\n",
        "# [a,a,b,b],[a, a, bb], [aa, b, b],[aa,bb]   -----> s = \"aabb\"         ['a', 'aa', 'a', 'b', 'bb', 'b']\n",
        "# [a,b,b],[a, bb]                            -----> s = \"abb\"          ['a', 'b', 'bb', 'b']\n",
        "# [a,b,b],[a, bb]                            -----> s = \"aab\"          ['a', 'aa', 'a', 'b']\n",
        "# [a,b,a],[aba]                            -----> s = \"aba\"          ['a', 'aba', 'b', 'a']\n",
        "# [g,e,e,k,s,f,o,r,g,e,e,k,s],[g,ee,k,s,f,o,r,g,e,e,k,s], [g,e,e,k,s,f,o,r,g,ee,k,s],[g,ee,k,s,f,o,r,g,ee,k,s]\n",
        "#                                          -----> s = \"geeksforgeeks\"         ['g', 'e', 'ee', 'e', 'k', 's', 'f', 'o', 'r', 'g', 'e', 'ee', 'e', 'k', 's']\n",
        "print(s.find(res[1]))"
      ],
      "metadata": {
        "colab": {
          "base_uri": "https://localhost:8080/"
        },
        "id": "UCgbZdzK0TMc",
        "outputId": "cc164112-b19a-48ed-d9d5-82a2e19195a5"
      },
      "execution_count": null,
      "outputs": [
        {
          "output_type": "stream",
          "name": "stdout",
          "text": [
            "['g', 'e', 'ee', 'eee', 'e', 'ee', 'e', 'k', 's', 'f', 'o', 'r', 'g', 'e', 'ee', 'eee', 'e', 'ee', 'e', 'k', 's']\n",
            "1\n"
          ]
        }
      ]
    },
    {
      "cell_type": "code",
      "source": [
        "# Correct and final solution ***jo k uthaya he ;)'\n",
        "class Solution:\n",
        "    # cache  # the memory trick can save some time\n",
        "    def partition(self, s):\n",
        "        if not s: return [[]]\n",
        "        ans = []\n",
        "        for i in range(1, len(s) + 1):\n",
        "            if s[:i] == s[:i][::-1]:  # prefix is a palindrome\n",
        "                for suf in self.partition(s[i:]):  # process suffix recursively\n",
        "                    ans.append([s[:i]] + suf)\n",
        "        return ans"
      ],
      "metadata": {
        "id": "haJsQ1t6KtIe"
      },
      "execution_count": null,
      "outputs": []
    },
    {
      "cell_type": "code",
      "source": [
        "obj1 = Solution()\n",
        "val = \"geeksforgeeks\"\n",
        "print(obj1.partition(val))"
      ],
      "metadata": {
        "colab": {
          "base_uri": "https://localhost:8080/"
        },
        "id": "5CVDZc-BKuHY",
        "outputId": "dcae6d4a-bdf4-4aba-d6e8-8b2da5441bc1"
      },
      "execution_count": null,
      "outputs": [
        {
          "output_type": "stream",
          "name": "stdout",
          "text": [
            "[['g', 'e', 'e', 'k', 's', 'f', 'o', 'r', 'g', 'e', 'e', 'k', 's'], ['g', 'e', 'e', 'k', 's', 'f', 'o', 'r', 'g', 'ee', 'k', 's'], ['g', 'ee', 'k', 's', 'f', 'o', 'r', 'g', 'e', 'e', 'k', 's'], ['g', 'ee', 'k', 's', 'f', 'o', 'r', 'g', 'ee', 'k', 's']]\n"
          ]
        }
      ]
    },
    {
      "cell_type": "markdown",
      "source": [
        "## ***Jan 6:* 1094. Car Pooling**"
      ],
      "metadata": {
        "id": "7BwRRpCdxyrC"
      }
    },
    {
      "cell_type": "code",
      "source": [
        "class Solution:\n",
        "    def carPooling(self, l, cap: int) -> bool:\n",
        "        \n",
        "        Passenger_record=[0]*1001\n",
        "        \n",
        "        for i in l:\n",
        "            passenger, start, end = i[0], i[1], i[2]\n",
        "            Passenger_record[start] += passenger\n",
        "            Passenger_record[end] -= passenger\n",
        "        \n",
        "        total = 0\n",
        "        for i in Passenger_record:\n",
        "            total += i\n",
        "            if total > cap:\n",
        "                return False\n",
        "        return True"
      ],
      "metadata": {
        "id": "JuVCiC84OB7i"
      },
      "execution_count": 10,
      "outputs": []
    },
    {
      "cell_type": "code",
      "source": [
        "trips = [[2,1,5],[3,3,7]]; capacity = 4\n",
        "obj1 = Solution()\n",
        "print(obj1.carPooling(trips, capacity))"
      ],
      "metadata": {
        "colab": {
          "base_uri": "https://localhost:8080/"
        },
        "id": "RRYpBtTkH077",
        "outputId": "05a7aa95-1ae0-423c-939e-4e1846f79a00"
      },
      "execution_count": 11,
      "outputs": [
        {
          "output_type": "stream",
          "name": "stdout",
          "text": [
            "False\n"
          ]
        }
      ]
    },
    {
      "cell_type": "markdown",
      "source": [
        "# **Weekly Contest 274**"
      ],
      "metadata": {
        "id": "LB74Ic6RFX3k"
      }
    },
    {
      "cell_type": "markdown",
      "source": [
        "## **2124. Check if All A's Appears Before All B's**"
      ],
      "metadata": {
        "id": "mQGsrMmGFb4N"
      }
    },
    {
      "cell_type": "code",
      "source": [
        "class Solution:\n",
        "    def checkString(self, s: str) -> bool:\n",
        "        if 'ba' in s:\n",
        "            return False\n",
        "        else:\n",
        "            return True"
      ],
      "metadata": {
        "id": "l2Ky_luKvxP8"
      },
      "execution_count": null,
      "outputs": []
    },
    {
      "cell_type": "code",
      "source": [
        "obj1 = Solution()\n",
        "print(obj1.checkString(\"aaababb\"))"
      ],
      "metadata": {
        "colab": {
          "base_uri": "https://localhost:8080/"
        },
        "id": "QcCJavZmv0is",
        "outputId": "1e4c25e7-29e5-4f4b-e7dc-7bc071526b11"
      },
      "execution_count": null,
      "outputs": [
        {
          "output_type": "stream",
          "name": "stdout",
          "text": [
            "False\n"
          ]
        }
      ]
    },
    {
      "cell_type": "markdown",
      "source": [
        "## **2125. Number of Laser Beams in a Bank**"
      ],
      "metadata": {
        "id": "obXWXz5tFeWE"
      }
    },
    {
      "cell_type": "code",
      "source": [
        "bank = [\"011001\",\"000000\",\"010100\",\"001000\"]\n",
        "beams = []\n",
        "for i in range(len(bank)):\n",
        "  if '1' not in bank[i]:\n",
        "    continue\n",
        "  else:\n",
        "    beam = 0\n",
        "    for j in range(i):\n",
        "      if bank[i][j] == '1':\n",
        "        beam += 1\n",
        "    beams.append(beam)\n"
      ],
      "metadata": {
        "id": "27NvkgJZwKUD"
      },
      "execution_count": null,
      "outputs": []
    },
    {
      "cell_type": "code",
      "source": [
        "beam = []\n",
        "bank = [\"011001\",\"000000\",\"010100\",\"001000\"]\n",
        "# bank = [\"000\",\"111\",\"000\"]\n",
        "for i in bank:\n",
        "  beam.append(i.count('1'))\n",
        "print(beam)\n",
        "no_of_beams = 0\n",
        "first = beam[0]\n",
        "second = 0\n",
        "for i in range(1, len(beam)):\n",
        "  if beam[i] == 0:\n",
        "    continue\n",
        "  else:\n",
        "    second = beam[i]\n",
        "    no_of_beams += first * second\n",
        "  first = second\n",
        "print(no_of_beams)"
      ],
      "metadata": {
        "colab": {
          "base_uri": "https://localhost:8080/"
        },
        "id": "QJFfbL9n1kq0",
        "outputId": "275f974d-dcea-4ca4-b5f8-715d80710e15"
      },
      "execution_count": null,
      "outputs": [
        {
          "output_type": "stream",
          "name": "stdout",
          "text": [
            "[3, 0, 2, 1]\n",
            "8\n"
          ]
        }
      ]
    }
  ]
}