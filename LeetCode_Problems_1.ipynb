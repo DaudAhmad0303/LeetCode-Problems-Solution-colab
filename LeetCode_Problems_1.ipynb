{
  "nbformat": 4,
  "nbformat_minor": 0,
  "metadata": {
    "colab": {
      "name": "LeetCode Problems-1.ipynb",
      "provenance": [],
      "collapsed_sections": [
        "7BwRRpCdxyrC",
        "9zWvDp7H12j2"
      ],
      "authorship_tag": "ABX9TyMHtR9v9asFzG8ntN18ybky",
      "include_colab_link": true
    },
    "kernelspec": {
      "name": "python3",
      "display_name": "Python 3"
    },
    "language_info": {
      "name": "python"
    }
  },
  "cells": [
    {
      "cell_type": "markdown",
      "metadata": {
        "id": "view-in-github",
        "colab_type": "text"
      },
      "source": [
        "<a href=\"https://colab.research.google.com/github/DaudAhmad0303/LeetCode-Problems-Solution-colab/blob/master/LeetCode_Problems_1.ipynb\" target=\"_parent\"><img src=\"https://colab.research.google.com/assets/colab-badge.svg\" alt=\"Open In Colab\"/></a>"
      ]
    },
    {
      "cell_type": "markdown",
      "source": [
        "# **Random Practise Codes**"
      ],
      "metadata": {
        "id": "t6NchOFC-O-7"
      }
    },
    {
      "cell_type": "code",
      "execution_count": null,
      "metadata": {
        "colab": {
          "base_uri": "https://localhost:8080/"
        },
        "id": "uuvafrr0-EyH",
        "outputId": "c6604354-50c1-4023-defa-924b8c3cfef2"
      },
      "outputs": [
        {
          "output_type": "stream",
          "name": "stdout",
          "text": [
            "['Orange', 'Apple', 'Grapes', 'Mango']\n",
            "['Orange', 'Apple', 'Grapes', 'Mango']\n"
          ]
        }
      ],
      "source": [
        "myList = [\"Orange\", \"Apple\",\"Grapes\"]\n",
        "def addItem(myTempList):\n",
        "    myTempList.append(\"Mango\")\n",
        "    print(myTempList)\n",
        "# Print the original list\n",
        "addItem(myList)\n",
        "print(myList)"
      ]
    },
    {
      "cell_type": "code",
      "source": [
        "temp = 5\n",
        "def change(my_temp):\n",
        "  my_temp = 10\n",
        "  print(my_temp)\n",
        "\n",
        "change(temp)\n",
        "print(temp)\n"
      ],
      "metadata": {
        "colab": {
          "base_uri": "https://localhost:8080/"
        },
        "id": "nGfulzWSzE8f",
        "outputId": "75542a41-803e-426b-d983-bfd89b2247b9"
      },
      "execution_count": null,
      "outputs": [
        {
          "output_type": "stream",
          "name": "stdout",
          "text": [
            "10\n",
            "5\n"
          ]
        }
      ]
    },
    {
      "cell_type": "markdown",
      "source": [
        "# **Random Questions Solved**"
      ],
      "metadata": {
        "id": "iO3ulso7f8AV"
      }
    },
    {
      "cell_type": "markdown",
      "source": [
        "## **1556. Thousand Separator**"
      ],
      "metadata": {
        "id": "2MAqI9Mng6E2"
      }
    },
    {
      "cell_type": "code",
      "source": [
        "n = 123487979897\n",
        "val = f'{n:,}'.replace(',','.')\n",
        "print(val)"
      ],
      "metadata": {
        "colab": {
          "base_uri": "https://localhost:8080/"
        },
        "id": "kK-tFGBkgCiW",
        "outputId": "d0aefe2f-e7ec-4801-d692-ef977b4832bc"
      },
      "execution_count": null,
      "outputs": [
        {
          "output_type": "stream",
          "name": "stdout",
          "text": [
            "123.487.979.897\n"
          ]
        }
      ]
    },
    {
      "cell_type": "markdown",
      "source": [
        "## **66. Plus One**"
      ],
      "metadata": {
        "id": "1pwI9SDLRBqW"
      }
    },
    {
      "cell_type": "code",
      "source": [
        "digits = [9]\n",
        "def int_val(lst = []):\n",
        "  val = 0\n",
        "  mul = 1\n",
        "  for i in range(len(lst)-1,-1,-1):\n",
        "    val += lst[i] * mul\n",
        "    mul *= 10\n",
        "  return val + 1\n",
        "ret = int_val(digits)\n",
        "ret = list(str(ret))\n",
        "print(ret)\n",
        "\n",
        "# join doesn't working, because it only works for string values in list;\n",
        "# So we've implemented our own function for it\n",
        "# val = \"\".join(digits)\n",
        "# val = int(val) + 1\n",
        "# print(val, type(val))"
      ],
      "metadata": {
        "colab": {
          "base_uri": "https://localhost:8080/"
        },
        "id": "j9Aw9PE0RHJ2",
        "outputId": "667c0520-6e6e-4d05-bb01-ce4c9ece3a2a"
      },
      "execution_count": null,
      "outputs": [
        {
          "output_type": "stream",
          "name": "stdout",
          "text": [
            "['1', '0']\n"
          ]
        }
      ]
    },
    {
      "cell_type": "markdown",
      "source": [
        "## **70. Climbing Stairs**"
      ],
      "metadata": {
        "id": "kdg3517iOJZn"
      }
    },
    {
      "cell_type": "code",
      "source": [
        "class Solution:\n",
        "    def climbStairs(self, n: int) -> int:\n",
        "        if n <= 2:\n",
        "            return n\n",
        "        x = 1\n",
        "        y = 2\n",
        "        for i in range(2, n):\n",
        "            temp = x + y\n",
        "            x = y\n",
        "            y = temp\n",
        "        return y"
      ],
      "metadata": {
        "id": "TUU4tMdKPoWH"
      },
      "execution_count": null,
      "outputs": []
    },
    {
      "cell_type": "code",
      "source": [
        "obj = Solution()\n",
        "print(obj.climbStairs(3))"
      ],
      "metadata": {
        "colab": {
          "base_uri": "https://localhost:8080/"
        },
        "id": "fJ7OYOfaPtWn",
        "outputId": "19a10a45-d0e7-4ae2-ce67-a6bdad4cd3ea"
      },
      "execution_count": null,
      "outputs": [
        {
          "output_type": "stream",
          "name": "stdout",
          "text": [
            "3\n"
          ]
        }
      ]
    },
    {
      "cell_type": "markdown",
      "source": [
        "## **946. Validate Stack Sequences**"
      ],
      "metadata": {
        "id": "3QTK-SBzYul_"
      }
    },
    {
      "cell_type": "code",
      "source": [
        "class Solution:\n",
        "    def validateStackSequences(self, pushed, popped) -> bool:        \n",
        "        stack = []\n",
        "        popped.reverse()\n",
        "        for i in pushed:\n",
        "            stack.append(i)\n",
        "            while len(stack)!=0 and len(popped)!=0 and stack[-1] == popped[-1]:\n",
        "                stack.pop()\n",
        "                popped.pop()\n",
        "        return len(stack)==0\n"
      ],
      "metadata": {
        "id": "ZmvRrV1EYxkV"
      },
      "execution_count": null,
      "outputs": []
    },
    {
      "cell_type": "code",
      "source": [
        "pushed = [1,2,3,4,5]; popped = [4,5,3,2,1]\n",
        "obj = Solution()\n",
        "print(obj.validateStackSequences(pushed, popped))"
      ],
      "metadata": {
        "colab": {
          "base_uri": "https://localhost:8080/"
        },
        "id": "jA1X_0aOY8Mt",
        "outputId": "6840f442-e0d1-4e2d-f972-fcdec7c7c830"
      },
      "execution_count": null,
      "outputs": [
        {
          "output_type": "stream",
          "name": "stdout",
          "text": [
            "True\n"
          ]
        }
      ]
    },
    {
      "cell_type": "markdown",
      "source": [
        "## **7. Reverse Integer**"
      ],
      "metadata": {
        "id": "d5jK0e-8QzAo"
      }
    },
    {
      "cell_type": "code",
      "source": [
        "class Solution:\n",
        "    def reverse(self, x: int) -> int:\n",
        "        def clamp(no):\n",
        "            if no >= (2**31 - 1) or no <= (-2**31):\n",
        "                return 0\n",
        "            else: return no\n",
        "        sign = 1\n",
        "        if x < 0:   \n",
        "            sign = -1\n",
        "            \n",
        "        s = str(abs(x))[::-1]\n",
        "        x = int(s)\n",
        "        x = clamp(sign * x)\n",
        "        return x"
      ],
      "metadata": {
        "id": "YqPo2boAP0eY"
      },
      "execution_count": null,
      "outputs": []
    },
    {
      "cell_type": "code",
      "source": [
        "obj = Solution()\n",
        "print(obj.reverse(120))"
      ],
      "metadata": {
        "colab": {
          "base_uri": "https://localhost:8080/"
        },
        "id": "jC-6Qme7P1gk",
        "outputId": "62015622-b186-4710-c1a9-e96177ce903b"
      },
      "execution_count": null,
      "outputs": [
        {
          "output_type": "stream",
          "name": "stdout",
          "text": [
            "21\n",
            "21\n"
          ]
        }
      ]
    },
    {
      "cell_type": "markdown",
      "source": [
        "## **50. Pow(x, n)**"
      ],
      "metadata": {
        "id": "6W-eFCM6HmU-"
      }
    },
    {
      "cell_type": "code",
      "source": [
        "class Solution:\n",
        "    def myPow(self, x: float, n: int) -> float:\n",
        "        ans = 1\n",
        "        for i in range(abs(n)):\n",
        "            ans = ans * x\n",
        "        if n < 0:   return 1 / ans\n",
        "        return ans"
      ],
      "metadata": {
        "id": "VaOnidxOHqTe"
      },
      "execution_count": null,
      "outputs": []
    },
    {
      "cell_type": "code",
      "source": [
        "class Solution:\n",
        "    def myPow(self, x: float, n: int) -> float:\n",
        "        ans = 1\n",
        "        p = n\n",
        "        n = abs(n)\n",
        "        while n > 0:\n",
        "            if n % 2 == 0:\n",
        "                n = n / 2\n",
        "                x *= x\n",
        "            else:\n",
        "                ans = ans * x\n",
        "                n -= 1\n",
        "        if p < 0:\n",
        "            return 1/ans\n",
        "        return ans"
      ],
      "metadata": {
        "id": "0czn_8DxLBMw"
      },
      "execution_count": null,
      "outputs": []
    },
    {
      "cell_type": "code",
      "source": [
        "obj = Solution()\n",
        "%time print(obj.myPow(0.00001,2147483647))"
      ],
      "metadata": {
        "colab": {
          "base_uri": "https://localhost:8080/"
        },
        "id": "-x0u6BJoJGRp",
        "outputId": "239b6feb-f24f-477c-dd9c-f34e62729e8d"
      },
      "execution_count": null,
      "outputs": [
        {
          "output_type": "stream",
          "name": "stdout",
          "text": [
            "0.0\n",
            "CPU times: user 1.21 ms, sys: 42 µs, total: 1.25 ms\n",
            "Wall time: 5.21 ms\n"
          ]
        }
      ]
    },
    {
      "cell_type": "code",
      "source": [
        "%%time\n",
        "print('helllo')"
      ],
      "metadata": {
        "colab": {
          "base_uri": "https://localhost:8080/"
        },
        "id": "d3i4pRi7KG4k",
        "outputId": "802cba1a-bd44-4113-9ab7-475ba83f5837"
      },
      "execution_count": null,
      "outputs": [
        {
          "output_type": "stream",
          "name": "stdout",
          "text": [
            "helllo\n",
            "CPU times: user 124 µs, sys: 0 ns, total: 124 µs\n",
            "Wall time: 107 µs\n"
          ]
        }
      ]
    },
    {
      "cell_type": "markdown",
      "source": [
        "## **150. Evaluate Reverse Polish Notation**"
      ],
      "metadata": {
        "id": "3-aN6P8MRpW0"
      }
    },
    {
      "cell_type": "code",
      "source": [
        "class Solution:\n",
        "    def evalRPN(self, tokens) -> int:\n",
        "        def isOperator(s):\n",
        "            if s == '+' or s == '-' or s == '*' or s == '/':\n",
        "                return True\n",
        "            else:\n",
        "                return False\n",
        "        \n",
        "        def calculate(op1, op2, opr):\n",
        "            if opr == '+':\n",
        "                return op1 + op2\n",
        "            if opr == '-':\n",
        "                return op1 - op2\n",
        "            if opr == '*':\n",
        "                return op1 * op2\n",
        "            elif opr == '/':\n",
        "                return int(op1 / op2)\n",
        "            else: \n",
        "                return 0\n",
        "        stack = []\n",
        "        i = 0\n",
        "        for i in tokens:\n",
        "            if isOperator(i):\n",
        "                op2 = stack.pop()\n",
        "                op1 = stack.pop()\n",
        "                result = calculate(op1, op2, i)\n",
        "                stack.append(result)               \n",
        "            else:\n",
        "                stack.append(int(i))\n",
        "        return stack.pop()"
      ],
      "metadata": {
        "id": "ckxgGpTYRp9U"
      },
      "execution_count": null,
      "outputs": []
    },
    {
      "cell_type": "code",
      "source": [
        "obj = Solution()\n",
        "print(obj.evalRPN(tokens = [\"2\",\"1\",\"+\",\"3\",\"*\"]))\n",
        "tokens = [3,5,6,2,9,1]"
      ],
      "metadata": {
        "colab": {
          "base_uri": "https://localhost:8080/"
        },
        "id": "wD5rPU9QRq4h",
        "outputId": "ef06f3a2-f29a-4a3c-a89f-4cd5bb9459d1"
      },
      "execution_count": null,
      "outputs": [
        {
          "output_type": "stream",
          "name": "stdout",
          "text": [
            "9\n",
            "None [1, 2, 3, 5, 6, 9]\n"
          ]
        }
      ]
    },
    {
      "cell_type": "markdown",
      "source": [
        "## **148. Sort List**"
      ],
      "metadata": {
        "id": "KvWWSQqYZ6_r"
      }
    },
    {
      "cell_type": "code",
      "source": [
        "# Definition for singly-linked list.\n",
        "class ListNode:\n",
        "    def __init__(self, val=0, next=None):\n",
        "        self.val = val\n",
        "        self.next = next\n",
        "class Solution:\n",
        "    def sortList(self, head: ListNode) -> ListNode:\n",
        "        lst = []\n",
        "        temp = head\n",
        "        while temp:\n",
        "            val = temp.val\n",
        "            temp = temp.next\n",
        "            lst.append(val)\n",
        "        lst.sort()\n",
        "        i = 0\n",
        "        temp2 = head\n",
        "        while temp2:\n",
        "            temp2.val = lst[i]\n",
        "            temp2 = temp2.next\n",
        "            i += 1\n",
        "        return head"
      ],
      "metadata": {
        "id": "J37jVLEwZ_7L"
      },
      "execution_count": null,
      "outputs": []
    },
    {
      "cell_type": "code",
      "source": [
        "obj = Solution()\n",
        "obj1 = ListNode()\n",
        "print(type(obj1))\n",
        "head = obj1\n",
        "obj1.val = 4      #head = [4,2,1,3]\n",
        "obj1 = obj1.next\n",
        "# obj1.val = 2\n",
        "# obj1 = obj1.next\n",
        "# obj1.val = 1 \n",
        "# obj1 = obj1.next\n",
        "# obj1.val = 3\n",
        "# print(obj.sortList(head))"
      ],
      "metadata": {
        "colab": {
          "base_uri": "https://localhost:8080/"
        },
        "id": "folz_5lMaL50",
        "outputId": "8855da3f-9fac-41c6-f34d-08ee25f65951"
      },
      "execution_count": null,
      "outputs": [
        {
          "output_type": "stream",
          "name": "stdout",
          "text": [
            "<class '__main__.ListNode'>\n"
          ]
        }
      ]
    },
    {
      "cell_type": "code",
      "source": [
        "val = str(9999)\n",
        "print(len(val))"
      ],
      "metadata": {
        "colab": {
          "base_uri": "https://localhost:8080/"
        },
        "id": "Ng_8p2sV-4pN",
        "outputId": "ae36e031-5f11-45e5-ff91-9e19a6bfa9fb"
      },
      "execution_count": null,
      "outputs": [
        {
          "output_type": "stream",
          "name": "stdout",
          "text": [
            "4\n"
          ]
        }
      ]
    },
    {
      "cell_type": "markdown",
      "source": [
        "## **415. Add Strings**"
      ],
      "metadata": {
        "id": "uoKy6Y0lA1Cm"
      }
    },
    {
      "cell_type": "code",
      "source": [
        "class Solution:\n",
        "    def addStrings(self, num1: str, num2: str) -> str:\n",
        "        def convert_to_int(s):\n",
        "            num = {\n",
        "            '0':0, '1':1, '2':2, '3':3, '4':4, '5':5, '6':6, '7':7, '8':8, '9':9\n",
        "            }\n",
        "            val = num[s[0]]\n",
        "            for i in range(1, len(s)):\n",
        "                val = val * 10 + num[s[i]]\n",
        "            return val\n",
        "        \n",
        "        return str(convert_to_int(num1) + convert_to_int(num2))"
      ],
      "metadata": {
        "id": "Qej6ebBfA3Du"
      },
      "execution_count": null,
      "outputs": []
    },
    {
      "cell_type": "code",
      "source": [
        "obj = Solution()\n",
        "print('Result is',obj.addStrings(num1 = \"11\", num2 = \"123\"))"
      ],
      "metadata": {
        "colab": {
          "base_uri": "https://localhost:8080/"
        },
        "id": "gSns7K4EA5JI",
        "outputId": "cbfaaf5a-7694-497f-f4ce-745990ccab7f"
      },
      "execution_count": null,
      "outputs": [
        {
          "output_type": "stream",
          "name": "stdout",
          "text": [
            "Result is 134\n"
          ]
        }
      ]
    },
    {
      "cell_type": "markdown",
      "source": [
        "## **989. Add to Array-Form of Integer**"
      ],
      "metadata": {
        "id": "0sOrfkLmARo1"
      }
    },
    {
      "cell_type": "code",
      "source": [
        "class Solution:\n",
        "    def addToArrayForm(self, num, k: int):\n",
        "        val = 0\n",
        "        for i in range(len(num)):\n",
        "            val = val * 10 + num[i]\n",
        "        val += k\n",
        "        num = []\n",
        "        str_val = str(val)\n",
        "        l = len(str_val)\n",
        "        for i in range(l):\n",
        "            num.append(int(str_val[i]))\n",
        "        return num"
      ],
      "metadata": {
        "id": "-Aha-BdRAQHH"
      },
      "execution_count": null,
      "outputs": []
    },
    {
      "cell_type": "code",
      "source": [
        "obj = Solution()\n",
        "print(obj.addToArrayForm(num = [1,2,0,0], k = 34))"
      ],
      "metadata": {
        "colab": {
          "base_uri": "https://localhost:8080/"
        },
        "id": "3NG8V0iRAW2j",
        "outputId": "f4511a60-aa58-4206-b761-e3c4bfa39b16"
      },
      "execution_count": null,
      "outputs": [
        {
          "output_type": "stream",
          "name": "stdout",
          "text": [
            "[1, 2, 3, 4]\n"
          ]
        }
      ]
    },
    {
      "cell_type": "markdown",
      "source": [
        "## **338. Counting Bits**"
      ],
      "metadata": {
        "id": "GgMMxxoaYSUU"
      }
    },
    {
      "cell_type": "code",
      "source": [
        "i = bin(5)\n",
        "# s = str(i)\n",
        "print(type(i))\n",
        "# print(count('1',s))\n",
        "print('1001'.count('1'))"
      ],
      "metadata": {
        "colab": {
          "base_uri": "https://localhost:8080/"
        },
        "id": "g7c7kDbVYXI7",
        "outputId": "12743326-9e65-4d17-e81a-75c196c9e690"
      },
      "execution_count": null,
      "outputs": [
        {
          "output_type": "stream",
          "name": "stdout",
          "text": [
            "<class 'str'>\n",
            "2\n"
          ]
        }
      ]
    },
    {
      "cell_type": "code",
      "source": [
        "class Solution:\n",
        "    def countBits(self, n: int):\n",
        "        extra = n\n",
        "        lst = []\n",
        "        for i in range(n+1):\n",
        "            s = bin(i)[2:]\n",
        "            lst.append(s.count('1'))\n",
        "        return lst"
      ],
      "metadata": {
        "id": "OJOzWVIlaHZb"
      },
      "execution_count": null,
      "outputs": []
    },
    {
      "cell_type": "code",
      "source": [
        "obj = Solution()\n",
        "print(obj.countBits(98))"
      ],
      "metadata": {
        "colab": {
          "base_uri": "https://localhost:8080/"
        },
        "id": "e_7hM5t1aIec",
        "outputId": "956b3a7b-3a8d-4f5e-9f7a-5770796ff561"
      },
      "execution_count": null,
      "outputs": [
        {
          "output_type": "stream",
          "name": "stdout",
          "text": [
            "[0, 1, 1, 2, 1, 2, 2, 3, 1, 2, 2, 3, 2, 3, 3, 4, 1, 2, 2, 3, 2, 3, 3, 4, 2, 3, 3, 4, 3, 4, 4, 5, 1, 2, 2, 3, 2, 3, 3, 4, 2, 3, 3, 4, 3, 4, 4, 5, 2, 3, 3, 4, 3, 4, 4, 5, 3, 4, 4, 5, 4, 5, 5, 6, 1, 2, 2, 3, 2, 3, 3, 4, 2, 3, 3, 4, 3, 4, 4, 5, 2, 3, 3, 4, 3, 4, 4, 5, 3, 4, 4, 5, 4, 5, 5, 6, 2, 3, 3]\n"
          ]
        }
      ]
    },
    {
      "cell_type": "markdown",
      "source": [
        "## **191. Number of 1 Bits**"
      ],
      "metadata": {
        "id": "DPDRh0wRchFy"
      }
    },
    {
      "cell_type": "code",
      "source": [
        "n = 0b00000000000000000000000000001011\n",
        "n = int(n)\n",
        "n = bin(n)[2:]\n",
        "n = str(n)\n",
        "# val = str(n)\n",
        "print(n.count('1'))\n",
        "print(type(n))"
      ],
      "metadata": {
        "colab": {
          "base_uri": "https://localhost:8080/"
        },
        "id": "xszS1kXmckNq",
        "outputId": "c75d0843-43b9-42d3-b845-09c61b0f44ed"
      },
      "execution_count": null,
      "outputs": [
        {
          "output_type": "stream",
          "name": "stdout",
          "text": [
            "3\n",
            "<class 'str'>\n"
          ]
        }
      ]
    },
    {
      "cell_type": "code",
      "source": [
        "class Solution:\n",
        "    def hammingWeight(self, n: int) -> int:\n",
        "        n = int(n)\n",
        "        n = bin(n)[2:]\n",
        "        return n.count('1')\n",
        "obj = Solution()\n",
        "print(obj.hammingWeight(0b00000000000000000000000000001011))"
      ],
      "metadata": {
        "colab": {
          "base_uri": "https://localhost:8080/"
        },
        "id": "x2lsl2aAePpa",
        "outputId": "5308ac9a-ef57-494c-b051-855327dbf6d7"
      },
      "execution_count": null,
      "outputs": [
        {
          "output_type": "stream",
          "name": "stdout",
          "text": [
            "3\n"
          ]
        }
      ]
    },
    {
      "cell_type": "markdown",
      "source": [
        "# **Daily Coding Challenge**\n",
        "\n",
        "\n"
      ],
      "metadata": {
        "id": "32tbW0w-8_-i"
      }
    },
    {
      "cell_type": "markdown",
      "source": [
        "## ***Jan 2:*1010. Pairs of Songs With Total Durations Divisible by 60**"
      ],
      "metadata": {
        "id": "-tVYnypZ9S00"
      }
    },
    {
      "cell_type": "code",
      "source": [
        "class Solution:\n",
        "    def numPairsDivisibleBy60(self, time) -> int:\n",
        "        c = [0] * 60\n",
        "        res = 0\n",
        "        for t in time:\n",
        "            res += c[-t % 60]     # here getting result from the below ones stored in 'c' list\n",
        "            c[t % 60] += 1        # here updating record for next moves\n",
        "        return res"
      ],
      "metadata": {
        "id": "42NQ-QktWcHo"
      },
      "execution_count": null,
      "outputs": []
    },
    {
      "cell_type": "code",
      "source": [
        "obj1 = Solution()\n",
        "lst = [30,20,150,100,40]\n",
        "print(obj1.numPairsDivisibleBy60(time = lst))"
      ],
      "metadata": {
        "colab": {
          "base_uri": "https://localhost:8080/"
        },
        "id": "lNhqFfNhWetU",
        "outputId": "55821c45-91f2-48c0-f99d-7872c78e76e4"
      },
      "execution_count": null,
      "outputs": [
        {
          "output_type": "stream",
          "name": "stdout",
          "text": [
            "3\n"
          ]
        }
      ]
    },
    {
      "cell_type": "markdown",
      "source": [
        "## ***Jan 3:* 997. Find the Town Judge**"
      ],
      "metadata": {
        "id": "fzoL61LoD68i"
      }
    },
    {
      "cell_type": "code",
      "source": [
        "class Solution:\n",
        "    def findJudge(self, n: int, trust) -> int:\n",
        "        val = trust[0][1]\n",
        "        trusting = 0\n",
        "        for i in range(len(trust)):\n",
        "            if trust[i][1] != val:\n",
        "                return -1\n",
        "            elif trust[0][1] == val:\n",
        "                trusting += 1\n",
        "        return trusting"
      ],
      "metadata": {
        "id": "bbc0dSp-EBO7"
      },
      "execution_count": null,
      "outputs": []
    },
    {
      "cell_type": "code",
      "source": [
        "n = 2; trust = [[1,2]]\n",
        "trust = [[1,3],[1,4],[2,3],[2,4],[4,3]]\n",
        "obj1 = Solution()\n",
        "print(obj1.findJudge(n, trust))"
      ],
      "metadata": {
        "colab": {
          "base_uri": "https://localhost:8080/"
        },
        "id": "NLBS-GNHEFZK",
        "outputId": "7241af71-ffee-4e7d-b0a5-6352dac767d6"
      },
      "execution_count": null,
      "outputs": [
        {
          "output_type": "stream",
          "name": "stdout",
          "text": [
            "-1\n"
          ]
        }
      ]
    },
    {
      "cell_type": "code",
      "source": [
        "for i in range(len(trust)):\n",
        "  print(trust[i][0])\n",
        "print(trust[0:][1])"
      ],
      "metadata": {
        "colab": {
          "base_uri": "https://localhost:8080/"
        },
        "id": "503rPrTJKJ5E",
        "outputId": "2651d8a8-d9b9-4c46-9904-729eba9e349e"
      },
      "execution_count": null,
      "outputs": [
        {
          "output_type": "stream",
          "name": "stdout",
          "text": [
            "1\n",
            "1\n",
            "2\n",
            "2\n",
            "4\n",
            "[1, 4]\n"
          ]
        }
      ]
    },
    {
      "cell_type": "markdown",
      "source": [
        "## ***Jan 4:* 1009. Complement of Base 10 Integer**"
      ],
      "metadata": {
        "id": "Lq4w0hrGJPHD"
      }
    },
    {
      "cell_type": "code",
      "source": [
        "class Solution:\n",
        "    def bitwiseComplement(self, n: int) -> int:\n",
        "        binary_no = bin(n)\n",
        "        binary = []\n",
        "        for i in range(2, len(binary_no)):\n",
        "          if binary_no[i] == '0':\n",
        "            binary.append('1')\n",
        "          elif binary_no[i] == '1':\n",
        "            binary.append('0')\n",
        "        val = '0b'+''.join(map(str, binary))\n",
        "        return int(val, 2)"
      ],
      "metadata": {
        "id": "dxXiuz-DJ0VU"
      },
      "execution_count": null,
      "outputs": []
    },
    {
      "cell_type": "code",
      "source": [
        "obj1 = Solution()\n",
        "print(obj1.bitwiseComplement(5))"
      ],
      "metadata": {
        "colab": {
          "base_uri": "https://localhost:8080/"
        },
        "id": "YdRvGSCKKOos",
        "outputId": "8936a569-c377-4c23-e01d-f92d66faf494"
      },
      "execution_count": null,
      "outputs": [
        {
          "output_type": "stream",
          "name": "stdout",
          "text": [
            "2\n"
          ]
        }
      ]
    },
    {
      "cell_type": "code",
      "source": [
        "lst = [1,0,0,1,1,0]\n",
        "val = '0b'+''.join(map(str, lst))\n",
        "print(val)\n",
        "print(int(val, 2))"
      ],
      "metadata": {
        "colab": {
          "base_uri": "https://localhost:8080/"
        },
        "id": "JuJ3pcuNLQUd",
        "outputId": "db86c35f-6baa-475c-945b-c74d6d73a390"
      },
      "execution_count": null,
      "outputs": [
        {
          "output_type": "stream",
          "name": "stdout",
          "text": [
            "0b100110\n",
            "38\n"
          ]
        }
      ]
    },
    {
      "cell_type": "markdown",
      "source": [
        "## ***Jan 5:* 131. Palindrome Partitioning**"
      ],
      "metadata": {
        "id": "SWPIPmApUrxj"
      }
    },
    {
      "cell_type": "code",
      "source": [
        "# test_str = \"aab\"\n",
        "# res = [test_str[i: j] for i in range(len(test_str)) for j in range(i + 1, len(test_str) + 1)]\n",
        "# print(res)\n",
        "s = \"aab\"\n",
        "res = []\n",
        "for i in range(len(s)):\n",
        "  for j in range(i + 1, len(s) + 1):\n",
        "    res.append(s[i: j])\n",
        "    # print(f'{i}-{j}')\n",
        "print(res)\n",
        "str_to_return = []\n",
        "str_to_return.append(list(s))\n",
        "print(str_to_return)\n",
        "# while True:\n",
        "\n",
        "for i in range(len(s)+1):  \n",
        "  new_partition = []\n",
        "  new_partition.append(str_to_return[0][i])\n",
        "  for j in range(len(res)):\n",
        "    is_palin = s[i+1:]\n",
        "    if is_palin == is_palin[::-1]:\n",
        "      pass\n",
        "\n",
        "print(new_partition)\n",
        "print(str_to_return)"
      ],
      "metadata": {
        "colab": {
          "base_uri": "https://localhost:8080/"
        },
        "id": "-1qn7Z7dVF1j",
        "outputId": "35e8e864-50dc-4e80-898c-66eb6abd4f5f"
      },
      "execution_count": null,
      "outputs": [
        {
          "output_type": "stream",
          "name": "stdout",
          "text": [
            "['a', 'aa', 'aab', 'a', 'ab', 'b']\n",
            "[['a', 'a', 'b']]\n",
            "[['a', 'a', 'b']]\n",
            "[['a', 'a', 'b']]\n"
          ]
        }
      ]
    },
    {
      "cell_type": "code",
      "source": [
        "s = \"geeeksforgeeeks\"\n",
        "# s = \"aba\"\n",
        "res = []\n",
        "for i in range(len(s)):\n",
        "  for j in range(i + 1, len(s) + 1):\n",
        "    val = s[i:j]\n",
        "    if val == val[::-1]:\n",
        "      res.append(val)\n",
        "    # print(f'{i}-{j}')\n",
        "print(res)\n",
        "result = []\n",
        "temp_s = s\n",
        "for i in range(len(res)):\n",
        "  temp_lst = []\n",
        "  # if res[i]\n",
        "\n",
        "\n",
        "# [a,a,b,b],[a, a, bb], [aa, b, b],[aa,bb]   -----> s = \"aabb\"         ['a', 'aa', 'a', 'b', 'bb', 'b']\n",
        "# [a,b,b],[a, bb]                            -----> s = \"abb\"          ['a', 'b', 'bb', 'b']\n",
        "# [a,b,b],[a, bb]                            -----> s = \"aab\"          ['a', 'aa', 'a', 'b']\n",
        "# [a,b,a],[aba]                            -----> s = \"aba\"          ['a', 'aba', 'b', 'a']\n",
        "# [g,e,e,k,s,f,o,r,g,e,e,k,s],[g,ee,k,s,f,o,r,g,e,e,k,s], [g,e,e,k,s,f,o,r,g,ee,k,s],[g,ee,k,s,f,o,r,g,ee,k,s]\n",
        "#                                          -----> s = \"geeksforgeeks\"         ['g', 'e', 'ee', 'e', 'k', 's', 'f', 'o', 'r', 'g', 'e', 'ee', 'e', 'k', 's']\n",
        "print(s.find(res[1]))"
      ],
      "metadata": {
        "colab": {
          "base_uri": "https://localhost:8080/"
        },
        "id": "UCgbZdzK0TMc",
        "outputId": "cc164112-b19a-48ed-d9d5-82a2e19195a5"
      },
      "execution_count": null,
      "outputs": [
        {
          "output_type": "stream",
          "name": "stdout",
          "text": [
            "['g', 'e', 'ee', 'eee', 'e', 'ee', 'e', 'k', 's', 'f', 'o', 'r', 'g', 'e', 'ee', 'eee', 'e', 'ee', 'e', 'k', 's']\n",
            "1\n"
          ]
        }
      ]
    },
    {
      "cell_type": "code",
      "source": [
        "# Correct and final solution ***jo k uthaya he ;)'\n",
        "class Solution:\n",
        "    # cache  # the memory trick can save some time\n",
        "    def partition(self, s):\n",
        "        if not s: return [[]]\n",
        "        ans = []\n",
        "        for i in range(1, len(s) + 1):\n",
        "            if s[:i] == s[:i][::-1]:  # prefix is a palindrome\n",
        "                for suf in self.partition(s[i:]):  # process suffix recursively\n",
        "                    ans.append([s[:i]] + suf)\n",
        "        return ans"
      ],
      "metadata": {
        "id": "haJsQ1t6KtIe"
      },
      "execution_count": null,
      "outputs": []
    },
    {
      "cell_type": "code",
      "source": [
        "obj1 = Solution()\n",
        "val = \"geeksforgeeks\"\n",
        "print(obj1.partition(val))"
      ],
      "metadata": {
        "colab": {
          "base_uri": "https://localhost:8080/"
        },
        "id": "5CVDZc-BKuHY",
        "outputId": "dcae6d4a-bdf4-4aba-d6e8-8b2da5441bc1"
      },
      "execution_count": null,
      "outputs": [
        {
          "output_type": "stream",
          "name": "stdout",
          "text": [
            "[['g', 'e', 'e', 'k', 's', 'f', 'o', 'r', 'g', 'e', 'e', 'k', 's'], ['g', 'e', 'e', 'k', 's', 'f', 'o', 'r', 'g', 'ee', 'k', 's'], ['g', 'ee', 'k', 's', 'f', 'o', 'r', 'g', 'e', 'e', 'k', 's'], ['g', 'ee', 'k', 's', 'f', 'o', 'r', 'g', 'ee', 'k', 's']]\n"
          ]
        }
      ]
    },
    {
      "cell_type": "markdown",
      "source": [
        "## ***Jan 6:* 1094. Car Pooling**"
      ],
      "metadata": {
        "id": "7BwRRpCdxyrC"
      }
    },
    {
      "cell_type": "code",
      "source": [
        "class Solution:\n",
        "    def carPooling(self, l, cap: int) -> bool:\n",
        "        \n",
        "        Passenger_record=[0]*1001\n",
        "        \n",
        "        for i in l:\n",
        "            passenger, start, end = i[0], i[1], i[2]\n",
        "            Passenger_record[start] += passenger\n",
        "            Passenger_record[end] -= passenger\n",
        "        \n",
        "        total = 0\n",
        "        for i in Passenger_record:\n",
        "            total += i\n",
        "            if total > cap:\n",
        "                return False\n",
        "        return True"
      ],
      "metadata": {
        "id": "JuVCiC84OB7i"
      },
      "execution_count": null,
      "outputs": []
    },
    {
      "cell_type": "code",
      "source": [
        "trips = [[2,1,5],[3,3,7]]; capacity = 4\n",
        "obj1 = Solution()\n",
        "print(obj1.carPooling(trips, capacity))"
      ],
      "metadata": {
        "colab": {
          "base_uri": "https://localhost:8080/"
        },
        "id": "RRYpBtTkH077",
        "outputId": "05a7aa95-1ae0-423c-939e-4e1846f79a00"
      },
      "execution_count": null,
      "outputs": [
        {
          "output_type": "stream",
          "name": "stdout",
          "text": [
            "False\n"
          ]
        }
      ]
    },
    {
      "cell_type": "markdown",
      "source": [
        "## ***Jan 7:* 382. Linked List Random Node**"
      ],
      "metadata": {
        "id": "9zWvDp7H12j2"
      }
    },
    {
      "cell_type": "code",
      "source": [
        "class Solution:\n",
        "\n",
        "    def __init__(self, head):\n",
        "        # store nodes' value in an array \n",
        "        self.array = []\n",
        "        curr = head\n",
        "        while curr:\n",
        "            self.array.append(curr.val)\n",
        "            curr = curr.next\n",
        "            \n",
        "    def getRandom(self) -> int:\n",
        "        num = int(random.random() * len(self.array))\n",
        "        return self.array[num]"
      ],
      "metadata": {
        "id": "X0--j2GI2PkH"
      },
      "execution_count": null,
      "outputs": []
    },
    {
      "cell_type": "code",
      "source": [
        "obj = Solution ()"
      ],
      "metadata": {
        "id": "HfFvPXol3H5G"
      },
      "execution_count": null,
      "outputs": []
    },
    {
      "cell_type": "markdown",
      "source": [
        "## ***Jan 8:* 1463. Cherry Pickup II**"
      ],
      "metadata": {
        "id": "hZzxW9bEGvbG"
      }
    },
    {
      "cell_type": "code",
      "source": [
        "# Very Hard to Understand *Copy Paste Work*\n",
        "class Solution:\n",
        "\tdef cherryPickup(self, grid) -> int:\n",
        "\t\tm, n = len(grid), len(grid[0])\n",
        "\n",
        "\t\t# @lru_cache(None)\n",
        "\t\tdef dfs(r,c1,c2):\n",
        "\t\t\tif r==m:\n",
        "\t\t\t\treturn 0\n",
        "\n",
        "\t\t\tch = grid[r][c1] if c1==c2 else grid[r][c1]+grid[r][c2]            \n",
        "\t\t\tres = 0\n",
        "\t\t\tfor p in range(c1-1,c1+2):\n",
        "\t\t\t\tfor q in range(c2-1,c2+2):\n",
        "\t\t\t\t\tif 0<=p<n and 0<=q<n:\n",
        "\t\t\t\t\t\tres = max(res,dfs(r+1,p,q))\n",
        "\t\t\treturn ch+res\n",
        "\n",
        "\t\treturn dfs(0,0,n-1)"
      ],
      "metadata": {
        "id": "zASa8JVzG6Ac"
      },
      "execution_count": null,
      "outputs": []
    },
    {
      "cell_type": "code",
      "source": [
        "obj1 = Solution()\n",
        "print(obj1.cherryPickup([[3,1,1],[2,5,1],[1,5,5],[2,1,1]]))"
      ],
      "metadata": {
        "colab": {
          "base_uri": "https://localhost:8080/"
        },
        "id": "VYIHhPAt6efH",
        "outputId": "c4b2e380-ad17-4be8-984c-0cfcae6cc2aa"
      },
      "execution_count": null,
      "outputs": [
        {
          "output_type": "stream",
          "name": "stdout",
          "text": [
            "24\n"
          ]
        }
      ]
    },
    {
      "cell_type": "markdown",
      "source": [
        "## ***Jan 9:* 1041. Robot Bounded In Circle**"
      ],
      "metadata": {
        "id": "wjRoOsLxWNBc"
      }
    },
    {
      "cell_type": "code",
      "source": [
        "# Copied and understanded\n",
        "class Solution(object):\n",
        "    def isRobotBounded(self, instructions):\n",
        "        d = [[1, 0], [0, 1], [-1, 0], [0, -1]]\n",
        "        di = x = y = 0\n",
        "        for i in instructions:\n",
        "            if i == 'L': di = (di + 1) % 4\n",
        "            elif i == 'R': di = (di - 1) % 4\n",
        "            else: x, y = x + d[di][0], y + d[di][1]     \n",
        "        if x == 0 and y == 0 or di > 0: return True\n",
        "        return False"
      ],
      "metadata": {
        "id": "DYZAEszoWqwU"
      },
      "execution_count": null,
      "outputs": []
    },
    {
      "cell_type": "code",
      "source": [
        "obj1 = Solution()\n",
        "obj1.isRobotBounded(instructions = \"GGLLGG\")"
      ],
      "metadata": {
        "colab": {
          "base_uri": "https://localhost:8080/"
        },
        "id": "gvUWZONOcJt9",
        "outputId": "6499e3ac-dd55-48b2-a7f2-073baf693e64"
      },
      "execution_count": null,
      "outputs": [
        {
          "output_type": "execute_result",
          "data": {
            "text/plain": [
              "True"
            ]
          },
          "metadata": {},
          "execution_count": 63
        }
      ]
    },
    {
      "cell_type": "markdown",
      "source": [
        "## ***Jan 10:* 67. Add Binary**"
      ],
      "metadata": {
        "id": "Wn3yumVBOlGQ"
      }
    },
    {
      "cell_type": "code",
      "source": [
        "a = '1010';b = '1011'\n",
        "a = int(a, 2)\n",
        "b = int(b, 2)\n",
        "print(bin(int(a+b))[2:])"
      ],
      "metadata": {
        "colab": {
          "base_uri": "https://localhost:8080/"
        },
        "id": "PlqDRDJfO3Ok",
        "outputId": "d10ce730-8cd3-49b0-bc40-2b252a5fb6e5"
      },
      "execution_count": null,
      "outputs": [
        {
          "output_type": "stream",
          "name": "stdout",
          "text": [
            "10101\n"
          ]
        }
      ]
    },
    {
      "cell_type": "markdown",
      "source": [
        "## ***Jan 11:* 1022. Sum of Root To Leaf Binary Numbers**"
      ],
      "metadata": {
        "id": "kJtftQ7oPFZd"
      }
    },
    {
      "cell_type": "code",
      "source": [
        "class TreeNode:\n",
        "    def __init__(self, val=0, left=None, right=None):\n",
        "        self.val = val\n",
        "        self.left = left\n",
        "        self.right = right\n",
        "class Solution:\n",
        "    def sumRootToLeaf(self, root) -> int:\n",
        "        if not root: return 0\n",
        "        nos=[]\n",
        "        def dp(node,s):\n",
        "            s+=str(node.val)\n",
        "            if not node.left and not node.right:\n",
        "                nos.append(s)\n",
        "            elif not node.right:\n",
        "                dp(node.left,s)\n",
        "            elif not node.left:\n",
        "                dp(node.right,s)\n",
        "            else:\n",
        "                dp(node.left,s)\n",
        "                dp(node.right,s)\n",
        "        def bin_to_dec(s):\n",
        "            ans=0\n",
        "            n=len(s)\n",
        "            print(s)\n",
        "            for i in range(n):\n",
        "                ans+=int(s[i]) * 2 ** (n-i-1)\n",
        "            return ans\n",
        "        dp(root,\"\")\n",
        "        res=0\n",
        "        print(nos)\n",
        "        for b in nos:\n",
        "            res+=bin_to_dec(b)\n",
        "        return res\n",
        "\n",
        "obj1 = Solution()\n",
        "obj2 = TreeNode([1,0,1,0,1,0,1])\n",
        "print(obj1.sumRootToLeaf(root = obj2))"
      ],
      "metadata": {
        "colab": {
          "base_uri": "https://localhost:8080/",
          "height": 380
        },
        "id": "9QtGEoWxPd46",
        "outputId": "332822ed-5fe1-48c8-fef5-74cb5592b4f4"
      },
      "execution_count": null,
      "outputs": [
        {
          "output_type": "stream",
          "name": "stdout",
          "text": [
            "['[1, 0, 1, 0, 1, 0, 1]']\n",
            "[1, 0, 1, 0, 1, 0, 1]\n"
          ]
        },
        {
          "output_type": "error",
          "ename": "ValueError",
          "evalue": "ignored",
          "traceback": [
            "\u001b[0;31m---------------------------------------------------------------------------\u001b[0m",
            "\u001b[0;31mValueError\u001b[0m                                Traceback (most recent call last)",
            "\u001b[0;32m<ipython-input-9-671bb7af50ed>\u001b[0m in \u001b[0;36m<module>\u001b[0;34m()\u001b[0m\n\u001b[1;32m     35\u001b[0m \u001b[0mobj1\u001b[0m \u001b[0;34m=\u001b[0m \u001b[0mSolution\u001b[0m\u001b[0;34m(\u001b[0m\u001b[0;34m)\u001b[0m\u001b[0;34m\u001b[0m\u001b[0;34m\u001b[0m\u001b[0m\n\u001b[1;32m     36\u001b[0m \u001b[0mobj2\u001b[0m \u001b[0;34m=\u001b[0m \u001b[0mTreeNode\u001b[0m\u001b[0;34m(\u001b[0m\u001b[0;34m[\u001b[0m\u001b[0;36m1\u001b[0m\u001b[0;34m,\u001b[0m\u001b[0;36m0\u001b[0m\u001b[0;34m,\u001b[0m\u001b[0;36m1\u001b[0m\u001b[0;34m,\u001b[0m\u001b[0;36m0\u001b[0m\u001b[0;34m,\u001b[0m\u001b[0;36m1\u001b[0m\u001b[0;34m,\u001b[0m\u001b[0;36m0\u001b[0m\u001b[0;34m,\u001b[0m\u001b[0;36m1\u001b[0m\u001b[0;34m]\u001b[0m\u001b[0;34m)\u001b[0m\u001b[0;34m\u001b[0m\u001b[0;34m\u001b[0m\u001b[0m\n\u001b[0;32m---> 37\u001b[0;31m \u001b[0mprint\u001b[0m\u001b[0;34m(\u001b[0m\u001b[0mobj1\u001b[0m\u001b[0;34m.\u001b[0m\u001b[0msumRootToLeaf\u001b[0m\u001b[0;34m(\u001b[0m\u001b[0mroot\u001b[0m \u001b[0;34m=\u001b[0m \u001b[0mobj2\u001b[0m\u001b[0;34m)\u001b[0m\u001b[0;34m)\u001b[0m\u001b[0;34m\u001b[0m\u001b[0;34m\u001b[0m\u001b[0m\n\u001b[0m",
            "\u001b[0;32m<ipython-input-9-671bb7af50ed>\u001b[0m in \u001b[0;36msumRootToLeaf\u001b[0;34m(self, root)\u001b[0m\n\u001b[1;32m     30\u001b[0m         \u001b[0mprint\u001b[0m\u001b[0;34m(\u001b[0m\u001b[0mnos\u001b[0m\u001b[0;34m)\u001b[0m\u001b[0;34m\u001b[0m\u001b[0;34m\u001b[0m\u001b[0m\n\u001b[1;32m     31\u001b[0m         \u001b[0;32mfor\u001b[0m \u001b[0mb\u001b[0m \u001b[0;32min\u001b[0m \u001b[0mnos\u001b[0m\u001b[0;34m:\u001b[0m\u001b[0;34m\u001b[0m\u001b[0;34m\u001b[0m\u001b[0m\n\u001b[0;32m---> 32\u001b[0;31m             \u001b[0mres\u001b[0m\u001b[0;34m+=\u001b[0m\u001b[0mbin_to_dec\u001b[0m\u001b[0;34m(\u001b[0m\u001b[0mb\u001b[0m\u001b[0;34m)\u001b[0m\u001b[0;34m\u001b[0m\u001b[0;34m\u001b[0m\u001b[0m\n\u001b[0m\u001b[1;32m     33\u001b[0m         \u001b[0;32mreturn\u001b[0m \u001b[0mres\u001b[0m\u001b[0;34m\u001b[0m\u001b[0;34m\u001b[0m\u001b[0m\n\u001b[1;32m     34\u001b[0m \u001b[0;34m\u001b[0m\u001b[0m\n",
            "\u001b[0;32m<ipython-input-9-671bb7af50ed>\u001b[0m in \u001b[0;36mbin_to_dec\u001b[0;34m(s)\u001b[0m\n\u001b[1;32m     24\u001b[0m             \u001b[0mprint\u001b[0m\u001b[0;34m(\u001b[0m\u001b[0ms\u001b[0m\u001b[0;34m)\u001b[0m\u001b[0;34m\u001b[0m\u001b[0;34m\u001b[0m\u001b[0m\n\u001b[1;32m     25\u001b[0m             \u001b[0;32mfor\u001b[0m \u001b[0mi\u001b[0m \u001b[0;32min\u001b[0m \u001b[0mrange\u001b[0m\u001b[0;34m(\u001b[0m\u001b[0mn\u001b[0m\u001b[0;34m)\u001b[0m\u001b[0;34m:\u001b[0m\u001b[0;34m\u001b[0m\u001b[0;34m\u001b[0m\u001b[0m\n\u001b[0;32m---> 26\u001b[0;31m                 \u001b[0mans\u001b[0m\u001b[0;34m+=\u001b[0m\u001b[0mint\u001b[0m\u001b[0;34m(\u001b[0m\u001b[0ms\u001b[0m\u001b[0;34m[\u001b[0m\u001b[0mi\u001b[0m\u001b[0;34m]\u001b[0m\u001b[0;34m)\u001b[0m \u001b[0;34m*\u001b[0m \u001b[0;36m2\u001b[0m \u001b[0;34m**\u001b[0m \u001b[0;34m(\u001b[0m\u001b[0mn\u001b[0m\u001b[0;34m-\u001b[0m\u001b[0mi\u001b[0m\u001b[0;34m-\u001b[0m\u001b[0;36m1\u001b[0m\u001b[0;34m)\u001b[0m\u001b[0;34m\u001b[0m\u001b[0;34m\u001b[0m\u001b[0m\n\u001b[0m\u001b[1;32m     27\u001b[0m             \u001b[0;32mreturn\u001b[0m \u001b[0mans\u001b[0m\u001b[0;34m\u001b[0m\u001b[0;34m\u001b[0m\u001b[0m\n\u001b[1;32m     28\u001b[0m         \u001b[0mdp\u001b[0m\u001b[0;34m(\u001b[0m\u001b[0mroot\u001b[0m\u001b[0;34m,\u001b[0m\u001b[0;34m\"\"\u001b[0m\u001b[0;34m)\u001b[0m\u001b[0;34m\u001b[0m\u001b[0;34m\u001b[0m\u001b[0m\n",
            "\u001b[0;31mValueError\u001b[0m: invalid literal for int() with base 10: '['"
          ]
        }
      ]
    },
    {
      "cell_type": "markdown",
      "source": [
        "## ***Jan 12:* 701. Insert into a Binary Search Tree**"
      ],
      "metadata": {
        "id": "b8wpCu_Tj_2y"
      }
    },
    {
      "cell_type": "code",
      "source": [
        "# Definition for a binary tree node.\n",
        "class TreeNode:\n",
        "    def __init__(self, val=0, left=None, right=None):\n",
        "        self.val = val\n",
        "        self.left = left\n",
        "        self.right = right\n",
        "class Solution:\n",
        "    def insertIntoBST(self, root, val: int):\n",
        "        node = TreeNode(val=val)\n",
        "        if not root:\n",
        "            return node\n",
        "        temp = root\n",
        "        prev = None\n",
        "        while temp:\n",
        "            prev = temp\n",
        "            if val > temp.val:\n",
        "                temp = temp.right\n",
        "            else:\n",
        "                temp = temp.left\n",
        "        if val > prev.val:\n",
        "            prev.right = node\n",
        "        else:\n",
        "            prev.left = node\n",
        "        return root"
      ],
      "metadata": {
        "id": "-GdqKQdLkIKS"
      },
      "execution_count": null,
      "outputs": []
    },
    {
      "cell_type": "code",
      "source": [
        "root = [4,2,7,1,3]; val = 5\n",
        "obj = Solution()\n",
        "obj1 = TreeNode()\n",
        "obj1.val = 4\n",
        "obj1 = obj1.left\n",
        "# obj1.val = 2\n",
        "\n",
        "print(obj.insertIntoBST(root,val))"
      ],
      "metadata": {
        "colab": {
          "base_uri": "https://localhost:8080/",
          "height": 321
        },
        "id": "iCxZesjMkYSk",
        "outputId": "35f86a4e-a6e6-45f4-a482-af5f31aa7913"
      },
      "execution_count": null,
      "outputs": [
        {
          "output_type": "error",
          "ename": "AttributeError",
          "evalue": "ignored",
          "traceback": [
            "\u001b[0;31m---------------------------------------------------------------------------\u001b[0m",
            "\u001b[0;31mAttributeError\u001b[0m                            Traceback (most recent call last)",
            "\u001b[0;32m<ipython-input-8-da5f123fdae7>\u001b[0m in \u001b[0;36m<module>\u001b[0;34m()\u001b[0m\n\u001b[1;32m      6\u001b[0m \u001b[0;31m# obj1.val = 2\u001b[0m\u001b[0;34m\u001b[0m\u001b[0;34m\u001b[0m\u001b[0;34m\u001b[0m\u001b[0m\n\u001b[1;32m      7\u001b[0m \u001b[0;34m\u001b[0m\u001b[0m\n\u001b[0;32m----> 8\u001b[0;31m \u001b[0mprint\u001b[0m\u001b[0;34m(\u001b[0m\u001b[0mobj\u001b[0m\u001b[0;34m.\u001b[0m\u001b[0minsertIntoBST\u001b[0m\u001b[0;34m(\u001b[0m\u001b[0mroot\u001b[0m\u001b[0;34m,\u001b[0m\u001b[0mval\u001b[0m\u001b[0;34m)\u001b[0m\u001b[0;34m)\u001b[0m\u001b[0;34m\u001b[0m\u001b[0;34m\u001b[0m\u001b[0m\n\u001b[0m",
            "\u001b[0;32m<ipython-input-2-5ecf2f0031fa>\u001b[0m in \u001b[0;36minsertIntoBST\u001b[0;34m(self, root, val)\u001b[0m\n\u001b[1;32m     14\u001b[0m         \u001b[0;32mwhile\u001b[0m \u001b[0mtemp\u001b[0m\u001b[0;34m:\u001b[0m\u001b[0;34m\u001b[0m\u001b[0;34m\u001b[0m\u001b[0m\n\u001b[1;32m     15\u001b[0m             \u001b[0mprev\u001b[0m \u001b[0;34m=\u001b[0m \u001b[0mtemp\u001b[0m\u001b[0;34m\u001b[0m\u001b[0;34m\u001b[0m\u001b[0m\n\u001b[0;32m---> 16\u001b[0;31m             \u001b[0;32mif\u001b[0m \u001b[0mval\u001b[0m \u001b[0;34m>\u001b[0m \u001b[0mtemp\u001b[0m\u001b[0;34m.\u001b[0m\u001b[0mval\u001b[0m\u001b[0;34m:\u001b[0m\u001b[0;34m\u001b[0m\u001b[0;34m\u001b[0m\u001b[0m\n\u001b[0m\u001b[1;32m     17\u001b[0m                 \u001b[0mtemp\u001b[0m \u001b[0;34m=\u001b[0m \u001b[0mtemp\u001b[0m\u001b[0;34m.\u001b[0m\u001b[0mright\u001b[0m\u001b[0;34m\u001b[0m\u001b[0;34m\u001b[0m\u001b[0m\n\u001b[1;32m     18\u001b[0m             \u001b[0;32melse\u001b[0m\u001b[0;34m:\u001b[0m\u001b[0;34m\u001b[0m\u001b[0;34m\u001b[0m\u001b[0m\n",
            "\u001b[0;31mAttributeError\u001b[0m: 'list' object has no attribute 'val'"
          ]
        }
      ]
    },
    {
      "cell_type": "markdown",
      "source": [
        "## ***Jan 13:* 452. Minimum Number of Arrows to Burst Balloons**"
      ],
      "metadata": {
        "id": "12qM35msAVyO"
      }
    },
    {
      "cell_type": "code",
      "source": [
        "points = [[10,16],[2,8],[1,6],[7,12]]\n",
        "# points = [[1,2],[3,4],[5,6],[7,8]]\n",
        "points = [[1,2],[2,3],[3,4],[4,5]]\n",
        "maxi_val = 0\n",
        "for i in points:\n",
        "  for j in i:\n",
        "    maxi_val = max(maxi_val, j)\n",
        "# print(maxi_val)\n",
        "record = [0] * maxi_val\n",
        "for i in points:\n",
        "  for j in range(i[0]-1, i[1]):\n",
        "    record[j] += 1\n",
        "print(record)\n",
        "l = len(points)\n",
        "decrement = 0\n",
        "for i in range(len(record)-1):\n",
        "  if record[i] < record[i+1]:\n",
        "    decrement += 1\n",
        "print(l-decrement)\n",
        "\n",
        "# Stuck \n",
        "# Don't know what should do next"
      ],
      "metadata": {
        "colab": {
          "base_uri": "https://localhost:8080/"
        },
        "id": "H0gj7BUUDViW",
        "outputId": "7436a8e9-a074-4865-eb11-cd9a1cde751c"
      },
      "execution_count": null,
      "outputs": [
        {
          "output_type": "stream",
          "name": "stdout",
          "text": [
            "[1, 2, 2, 2, 1]\n",
            "3\n"
          ]
        }
      ]
    },
    {
      "cell_type": "code",
      "source": [
        "points = [[10,16],[2,8],[1,6],[7,12]]\n",
        "# points = [[1,2],[3,4],[5,6],[7,8]]\n",
        "points = [[1,2],[2,3],[3,4],[4,5]]\n",
        "points.sort(key= lambda x : x[1])\n",
        "print(points)\n",
        "ans = 0; arrow = 0\n",
        "for start, end in points:\n",
        "  if ans == 0 or start > arrow:\n",
        "    ans = ans + 1\n",
        "    arrow = end\n",
        "print(ans)"
      ],
      "metadata": {
        "colab": {
          "base_uri": "https://localhost:8080/"
        },
        "id": "GlJlq09nNqZB",
        "outputId": "88cb6219-bdcd-42b6-f67d-f13720070de0"
      },
      "execution_count": null,
      "outputs": [
        {
          "output_type": "stream",
          "name": "stdout",
          "text": [
            "[[1, 2], [2, 3], [3, 4], [4, 5]]\n",
            "2\n"
          ]
        }
      ]
    },
    {
      "cell_type": "code",
      "source": [
        "help(points.sort)"
      ],
      "metadata": {
        "colab": {
          "base_uri": "https://localhost:8080/"
        },
        "id": "GvESRij4QD0P",
        "outputId": "5a858636-9dd1-4705-bb09-787fe7ebf512"
      },
      "execution_count": null,
      "outputs": [
        {
          "output_type": "stream",
          "name": "stdout",
          "text": [
            "Help on built-in function sort:\n",
            "\n",
            "sort(*, key=None, reverse=False) method of builtins.list instance\n",
            "    Stable sort *IN PLACE*.\n",
            "\n"
          ]
        }
      ]
    },
    {
      "cell_type": "markdown",
      "source": [
        "## ***Jan 14:* 8. String to Integer (atoi)**"
      ],
      "metadata": {
        "id": "ONFpJAyUfvTA"
      }
    },
    {
      "cell_type": "code",
      "source": [
        "s = \"   -42\"\n",
        "s = \"4193 with words\"\n",
        "s = \"words and 987\"\n",
        "s = \"-91283472332\"      # output = -91283472332     # expected = -2147483648\n",
        "alpha = \"ABCDEFGHIJKLMNOPQRSTUVWXYZabcdefghijklmnopqrstuvwxyz .\"\n",
        "new = \"\"\n",
        "print(s.split(' '))\n",
        "for i in s:\n",
        "  if i not in alpha:\n",
        "    new += i \n",
        "flag = True\n",
        "# s = s.strip()\n",
        "print(new)\n",
        "print(int(\"-45\"))\n",
        "\"42\"\n",
        "\"   -42\"\n",
        "\"4193 with words\"\n",
        "\"words and 987\""
      ],
      "metadata": {
        "colab": {
          "base_uri": "https://localhost:8080/"
        },
        "id": "ppsUBI4snPxg",
        "outputId": "e2a6b474-7ad1-4180-88b9-864359aafeb1"
      },
      "execution_count": null,
      "outputs": [
        {
          "output_type": "stream",
          "name": "stdout",
          "text": [
            "['words', 'and', '987']\n",
            "987\n",
            "-45\n"
          ]
        }
      ]
    },
    {
      "cell_type": "code",
      "source": [
        "class Solution:\n",
        "    def myAtoi(self, s: str) -> int:\n",
        "        s = s.strip()\n",
        "        alpha = \"ABCDEFGHIJKLMNOPQRSTUVWXYZabcdefghijklmnopqrstuvwxyz .\"\n",
        "        lst = s.split(' ')\n",
        "        s = lst[0].split('.')\n",
        "        s = s[0]\n",
        "        new = \"\"\n",
        "        for i in s:\n",
        "            if i not in alpha:\n",
        "                new += i\n",
        "        new = new.strip()\n",
        "        if new == '':   return 0\n",
        "        if not new[1].isdigit():   return 0\n",
        "        def clip(val, min_ = -2147483648, max_=2147483647):\n",
        "            return min_ if val < min_ else max_ if val > max_ else val\n",
        "        return clip(int(new))"
      ],
      "metadata": {
        "id": "6XT832mELerH"
      },
      "execution_count": null,
      "outputs": []
    },
    {
      "cell_type": "code",
      "source": [
        "class Solution:\n",
        "    def myAtoi(self, s: str) -> int:\n",
        "        s = s.strip()\n",
        "        alpha = \"ABCDEFGHIJKLMNOPQRSTUVWXYZabcdefghijklmnopqrstuvwxyz .\"\n",
        "        lst = s.split(' ')\n",
        "        s = lst[0]\n",
        "        new = \"\"\n",
        "        for i in s:\n",
        "            if i not in alpha:\n",
        "                new += i\n",
        "        new = new.strip()\n",
        "        if new == '':   return 0\n",
        "        def clip(val, min_ = -2147483648, max_=2147483647):\n",
        "          return min_ if val < min_ else max_ if val > max_ else val\n",
        "        return clip(int(new))"
      ],
      "metadata": {
        "id": "hDCGJWX_CnHl"
      },
      "execution_count": null,
      "outputs": []
    },
    {
      "cell_type": "code",
      "source": [
        "obj = Solution()\n",
        "print(obj.myAtoi(\"-91283472332\"))\n",
        "lst = \"3.14159 jfjkl fj\"\n",
        "print(lst.split()[0].split('.'))"
      ],
      "metadata": {
        "colab": {
          "base_uri": "https://localhost:8080/"
        },
        "id": "maq17fLQDRjW",
        "outputId": "9eb3e6fb-2e89-450b-b5b0-edb786f068ec"
      },
      "execution_count": null,
      "outputs": [
        {
          "output_type": "stream",
          "name": "stdout",
          "text": [
            "-2147483648\n",
            "['3', '14159']\n"
          ]
        }
      ]
    },
    {
      "cell_type": "markdown",
      "source": [
        "## ***Jan 15:* 1345. Jump Game IV**"
      ],
      "metadata": {
        "id": "z88f6pgND4TN"
      }
    },
    {
      "cell_type": "code",
      "source": [
        "from collections import defaultdict, deque\n",
        "class Solution:\n",
        "    def minJumps(self, arr) -> int:\n",
        "        if len(arr) == 1:\n",
        "            return 0\n",
        "        adj = defaultdict(list)\n",
        "        for i, n in enumerate(arr):\n",
        "            adj[n].append(i)\n",
        "        \n",
        "        ans = [0] * len(arr)  # the return value is ans[0], once we find it, we can return immediately.\n",
        "        dq = deque([len(arr) - 1])  # obviously, ans[-1] == 0, so we fulfill ans from ans[-1] to ans[0] iteratively\n",
        "        while dq:\n",
        "            i = dq.popleft()\n",
        "\n",
        "            # move forward if the next one has not seen before that is ans[i + 1] == 0\n",
        "            # note that the ans[len(arr) - 1] is always 0, we should NOT update it, so i < len(arr) - 1\n",
        "            if i < len(arr) - 1 and ans[i + 1] == 0 and i + 1 < len(arr) - 1:\n",
        "                ans[i + 1] = ans[i] + 1\n",
        "                dq.append(i + 1)\n",
        "\n",
        "            # move backward if the previous one has not seen before that is ans[i - 1] == 0\n",
        "            if i > 0 and ans[i - 1] == 0:\n",
        "                ans[i - 1] = ans[i] + 1\n",
        "                if i - 1 == 0: return ans[0]\n",
        "                dq.append(i - 1)\n",
        "\n",
        "            # move to j where arr[i] == arr[j]\n",
        "            for j in adj[arr[i]]:\n",
        "                if ans[j] == 0 and j < len(arr) - 1:\n",
        "                    ans[j] = ans[i] + 1\n",
        "                    if j == 0: return ans[0]\n",
        "                    dq.append(j)\n",
        "            adj.pop(arr[i])  # pop arr[i] from the adj, very very important to avoid double calculating"
      ],
      "metadata": {
        "id": "KXdr3WrrEFJl"
      },
      "execution_count": null,
      "outputs": []
    },
    {
      "cell_type": "code",
      "source": [
        "obj = Solution()\n",
        "arr = [100,-23,-23,404,100,23,23,23,3,404]\n",
        "obj.minJumps(arr)"
      ],
      "metadata": {
        "colab": {
          "base_uri": "https://localhost:8080/"
        },
        "id": "54pDR-wxKKKS",
        "outputId": "31eab6d6-474b-4588-92a8-193c213ea84f"
      },
      "execution_count": null,
      "outputs": [
        {
          "output_type": "execute_result",
          "data": {
            "text/plain": [
              "3"
            ]
          },
          "metadata": {},
          "execution_count": 6
        }
      ]
    },
    {
      "cell_type": "markdown",
      "source": [
        "## ***Jan 16:* 849. Maximize Distance to Closest Person**"
      ],
      "metadata": {
        "id": "ISbLUljyymR8"
      }
    },
    {
      "cell_type": "code",
      "source": [
        "class Solution:\n",
        "    def maxDistToClosest(self, seats) -> int:\n",
        "        \"\"\"\n",
        "        Scan the seats array (seats) to create a list of occupied\n",
        "        seats (occupied).\n",
        "        \"\"\"\n",
        "        len_seats = len(seats)\n",
        "        occupied = [k for k in range(len_seats) if seats[k] == 1]\n",
        "\n",
        "        \"\"\"\n",
        "        Use occupied to compute the maximum distance to an\n",
        "        occupied seat:\n",
        "        - Handle edge cases for the seats at the beginning and\n",
        "          end of seats that have an occupied seat on only one\n",
        "          side.\n",
        "        - Loop through occupied to handle interior seats that\n",
        "          have occupied seats on both sides\n",
        "        \"\"\"\n",
        "        max_distance = max(occupied[0], len_seats - 1 - occupied[-1])\n",
        "        len_occupied = len(occupied)\n",
        "        for k in range(1, len_occupied):\n",
        "            distance = (occupied[k] - occupied[k - 1]) // 2\n",
        "            if distance > max_distance:\n",
        "                max_distance = distance\n",
        "        return max_distance"
      ],
      "metadata": {
        "id": "xdW7MZ5nyxyO"
      },
      "execution_count": null,
      "outputs": []
    },
    {
      "cell_type": "code",
      "source": [
        "obj = Solution()\n",
        "seats = [1,0,0,0,1,0,1]\n",
        "print(obj.maxDistToClosest(seats))"
      ],
      "metadata": {
        "colab": {
          "base_uri": "https://localhost:8080/"
        },
        "id": "E73PPeJmzFMs",
        "outputId": "f0cddcca-50cc-4028-ada1-74810eddcb84"
      },
      "execution_count": null,
      "outputs": [
        {
          "output_type": "stream",
          "name": "stdout",
          "text": [
            "2\n"
          ]
        }
      ]
    },
    {
      "cell_type": "markdown",
      "source": [
        "## ***Jan 17:* 290. Word Pattern**"
      ],
      "metadata": {
        "id": "Ff26dOMMSH-y"
      }
    },
    {
      "cell_type": "code",
      "source": [
        "class Solution:\n",
        "    def wordPattern(self, pattern: str, s: str) -> bool:\n",
        "        lst = s.split()\n",
        "        match = dict()\n",
        "        if len(pattern) != len(lst) or len(set(pattern)) != len(set(lst)): return False\n",
        "        for a, val in zip(pattern, lst):\n",
        "            if a in match and match[a] != val:\n",
        "                return False\n",
        "            elif a not in match:\n",
        "                match[a] = val\n",
        "            else:\n",
        "                pass\n",
        "        return True\n",
        "        \n",
        "obj = Solution()\n",
        "print(obj.wordPattern(pattern = \"abba\", s = \"dog cat cat fish\"))"
      ],
      "metadata": {
        "colab": {
          "base_uri": "https://localhost:8080/"
        },
        "id": "LFXF8kbfSTuA",
        "outputId": "9e16ba99-67f7-4976-b5a2-5129372a5675"
      },
      "execution_count": null,
      "outputs": [
        {
          "output_type": "stream",
          "name": "stdout",
          "text": [
            "False\n"
          ]
        }
      ]
    },
    {
      "cell_type": "code",
      "source": [
        "from collections import *\n",
        "class Solution:\n",
        "    def wordPattern(self, pattern: str, s: str) -> bool:\n",
        "        dic = defaultdict()  # the projection dict, key is the char in pattern and the value is a word\n",
        "        words = s.split(' ')\n",
        "\t\t# 'aa' -> 'dog', 'ab' -> 'dog dog', 'abc'- > 'cat dog cat'\n",
        "        if len(pattern) != len(words) or len(set(pattern)) != len(set(words)): return False\n",
        "        for i, c in enumerate(pattern):\n",
        "            if c in dic:  # c has been projected to some word\n",
        "                if dic[c] != words[i]: return False  # 'aba' -> 'cat dog dog'\n",
        "            else:\n",
        "                dic[c] = words[i]\n",
        "        return True\n",
        "obj = Solution()\n",
        "print(obj.wordPattern(pattern = \"abba\", s = \"dog cat cat fish\"))"
      ],
      "metadata": {
        "colab": {
          "base_uri": "https://localhost:8080/"
        },
        "id": "ffn5Qq-Qd62C",
        "outputId": "66df5c7a-4b93-4265-ad5b-1d2511af09cf"
      },
      "execution_count": null,
      "outputs": [
        {
          "output_type": "stream",
          "name": "stdout",
          "text": [
            "False\n"
          ]
        }
      ]
    },
    {
      "cell_type": "markdown",
      "source": [
        "## ***Jan 18:* 605. Can Place Flowers**"
      ],
      "metadata": {
        "id": "PELr3x-Vfp3g"
      }
    },
    {
      "cell_type": "code",
      "source": [
        "class Solution:\n",
        "    def canPlaceFlowers(self, flowerbed, n: int) -> bool:\n",
        "        def is_adjecent(lst):\n",
        "            for i in range(0,len(lst)):\n",
        "                if i == 0:\n",
        "                    if lst[i] == 1 and lst[i+1] == 1:\n",
        "                        return False\n",
        "                elif i == len(lst)-1:\n",
        "                    if lst[i] == 1 and lst[i-1] == 1:\n",
        "                        return False\n",
        "                elif lst[i] == 1 and lst[i+1] != 0 and lst[i-1] != 0:\n",
        "                    return False\n",
        "            return True\n",
        "        print(is_adjecent([1,0,0,0,1]))\n",
        "obj = Solution()\n",
        "print(obj.canPlaceFlowers(flowerbed = [1,0,0,0,1], n = 1))"
      ],
      "metadata": {
        "colab": {
          "base_uri": "https://localhost:8080/"
        },
        "id": "vtvAzEUOf13T",
        "outputId": "f1fb44b4-69bc-40de-b016-9f5b8ea1d6cf"
      },
      "execution_count": null,
      "outputs": [
        {
          "output_type": "stream",
          "name": "stdout",
          "text": [
            "True\n",
            "None\n"
          ]
        }
      ]
    },
    {
      "cell_type": "code",
      "source": [
        "class Solution:\n",
        "    def canPlaceFlowers(self, flowerbed, n: int) -> bool:\n",
        "        \n",
        "        count = 0\n",
        "        prev = 0\n",
        "        last = 0\n",
        "        \n",
        "        for i in range(len(flowerbed)-1):\n",
        "            if flowerbed[i] == 0 and prev == 0 and flowerbed[i+1] == 0:\n",
        "                prev = 1\n",
        "                count += 1\n",
        "            else:\n",
        "                prev = flowerbed[i]\n",
        "                \n",
        "        if prev == 0 and flowerbed[-1] == 0 and last == 0:\n",
        "            prev = 1\n",
        "            count += 1\n",
        "                    \n",
        "        return count >= n\n",
        "obj = Solution()\n",
        "print(obj.canPlaceFlowers(flowerbed = [1,0,0,0,1], n = 1))"
      ],
      "metadata": {
        "colab": {
          "base_uri": "https://localhost:8080/"
        },
        "id": "CkdakzLKoz_t",
        "outputId": "a9b29e1c-6e17-4e8e-8b5d-d995bdd15c80"
      },
      "execution_count": null,
      "outputs": [
        {
          "output_type": "stream",
          "name": "stdout",
          "text": [
            "True\n"
          ]
        }
      ]
    },
    {
      "cell_type": "markdown",
      "source": [
        "## ***Jan 19:* 142. Linked List Cycle II**"
      ],
      "metadata": {
        "id": "k-XTzhpDEyJK"
      }
    },
    {
      "cell_type": "code",
      "source": [
        "# Definition for singly-linked list.\n",
        "# class ListNode:\n",
        "#     def __init__(self, x):\n",
        "#         self.val = x\n",
        "#         self.next = None\n",
        "\n",
        "class Solution:\n",
        "    def detectCycle(self, head: Optional[ListNode]) -> Optional[ListNode]:\n",
        "        visited = set()\n",
        "        \n",
        "        while head:\n",
        "            if head in visited:\n",
        "                return head\n",
        "            else:\n",
        "                visited.add(head)\n",
        "                head = head.next\n",
        "        return None"
      ],
      "metadata": {
        "id": "O-aN1nTAE6W6"
      },
      "execution_count": null,
      "outputs": []
    },
    {
      "cell_type": "markdown",
      "source": [
        "## ***Jan 20:* 875. Koko Eating Bananas**"
      ],
      "metadata": {
        "id": "P9EcBNYrdx48"
      }
    },
    {
      "cell_type": "code",
      "source": [
        "import math\n",
        "class Solution:\n",
        "    def minEatingSpeed(self, piles, h: int) -> int:\n",
        "        #If the length of the piles is equal to the H, return max(piles)\n",
        "        if h == len(piles):\n",
        "            return max(piles)\n",
        "        \n",
        "        #Binary search\n",
        "\t      #Koko could each at least 1 banana and at most max(piles) bananas each time\n",
        "        lo, hi = 1, max(piles)\n",
        "        \n",
        "        while lo < hi:\n",
        "            #Get the mid number of bananas to eat\n",
        "            mid = (lo+hi) // 2\n",
        "            #Calculate how many hours that koko need to finish eating all of the piles given the eating speed mid \n",
        "            H = 0\n",
        "            for p in piles:\n",
        "                if p < mid:\n",
        "                    H += 1\n",
        "                else:\n",
        "                    H += math.ceil(p/mid)\n",
        "            \n",
        "            #If the time that koko need is less than or equal to H, we need to search for the left part\n",
        "            if H <= h:\n",
        "                hi = mid\n",
        "            #If the time that koko need is bigger than H, we need to search for the right part\n",
        "            else:\n",
        "                lo = mid + 1\n",
        "                \n",
        "        return lo\n",
        "\n",
        "obj = Solution()\n",
        "print(obj.minEatingSpeed(piles = [3,6,7,11], h = 8))"
      ],
      "metadata": {
        "colab": {
          "base_uri": "https://localhost:8080/"
        },
        "id": "L1f2BB3Nd0JZ",
        "outputId": "1ba46291-0306-45d1-8abd-1a6d718dc928"
      },
      "execution_count": null,
      "outputs": [
        {
          "output_type": "stream",
          "name": "stdout",
          "text": [
            "4\n"
          ]
        }
      ]
    },
    {
      "cell_type": "markdown",
      "source": [
        "## ***Jan 21:* 134. Gas Station**"
      ],
      "metadata": {
        "id": "h2dA7LQv-KNu"
      }
    },
    {
      "cell_type": "code",
      "source": [
        "class Solution:\n",
        "    def canCompleteCircuit(self, gas, cost) -> int:\n",
        "        trip_tank, curr_tank, start, n = 0, 0, 0, len(gas)\n",
        "        for i in range(n):\n",
        "            trip_tank += gas[i] - cost[i]\n",
        "            curr_tank += gas[i] - cost[i]\n",
        "            if curr_tank < 0:\n",
        "                start = i + 1\n",
        "                curr_tank = 0 \n",
        "        return start if trip_tank >= 0 else -1\n",
        "obj = Solution()\n",
        "print(obj.canCompleteCircuit(gas = [1,2,3,4,5], cost = [3,4,5,1,2]))"
      ],
      "metadata": {
        "colab": {
          "base_uri": "https://localhost:8080/"
        },
        "id": "Lb_itmMF-yFa",
        "outputId": "78b4bb10-7b1d-4783-8aeb-3375d6403f79"
      },
      "execution_count": null,
      "outputs": [
        {
          "output_type": "stream",
          "name": "stdout",
          "text": [
            "3\n"
          ]
        }
      ]
    },
    {
      "cell_type": "markdown",
      "source": [
        "## ***Jan 22:* 1510. Stone Game IV**"
      ],
      "metadata": {
        "id": "BEndaYduxSbK"
      }
    },
    {
      "cell_type": "code",
      "source": [
        "class Solution:\n",
        "    def winnerSquareGame(self, n: int) -> bool:\n",
        "        dp = [False] * (n + 1)\n",
        "        for i in range(1, n + 1):\n",
        "            for k in range(1, int(i**0.5)+1):\n",
        "                lst.append(dp[i - k * k])\n",
        "            dp[i]not all(lst)\n",
        "            # dp[i] = not all(dp[i - k * k] for k in range(1, int(i**0.5) + 1))\n",
        "        return dp[-1]\n",
        "obj = Solution()\n",
        "print(obj.winnerSquareGame(10))"
      ],
      "metadata": {
        "colab": {
          "base_uri": "https://localhost:8080/"
        },
        "id": "CI25SN4cxahX",
        "outputId": "d723d381-5a77-4200-fa94-6356b1a4a1e5"
      },
      "execution_count": null,
      "outputs": [
        {
          "output_type": "stream",
          "name": "stdout",
          "text": [
            "True\n"
          ]
        }
      ]
    },
    {
      "cell_type": "markdown",
      "source": [
        "## ***Jan 23:* 1291. Sequential Digits**"
      ],
      "metadata": {
        "id": "i3hAt5ELQVnK"
      }
    },
    {
      "cell_type": "code",
      "source": [
        "class Solution:\n",
        "    def sequentialDigits(self, low: int, high: int):\n",
        "        def creat_digit(l,low,high):\n",
        "            lst = ['1','2','3','4','5','6','7','8','9']\n",
        "            ret = []\n",
        "            i = 0\n",
        "            while l < 10:\n",
        "                val = ''.join(lst[i:l])\n",
        "                val = int(val)\n",
        "                if val <= high and val >= low:\n",
        "                  ret.append(val)\n",
        "                i += 1\n",
        "                l += 1\n",
        "            return ret\n",
        "\n",
        "        answer = []    \n",
        "        for i in range(len(str(low)), len(str(high)) + 1):\n",
        "            answer += creat_digit(i,low, high)\n",
        "        return answer\n",
        "               \n",
        "\n",
        "low = 1000; high = 130000\n",
        "low = 58; high = 155\n",
        "obj = Solution()\n",
        "print(obj.sequentialDigits(low, high))"
      ],
      "metadata": {
        "id": "rKdfhltKQbfs",
        "colab": {
          "base_uri": "https://localhost:8080/"
        },
        "outputId": "cbd47543-87b8-4576-94af-85659099834a"
      },
      "execution_count": 23,
      "outputs": [
        {
          "output_type": "stream",
          "name": "stdout",
          "text": [
            "[67, 78, 89, 123]\n"
          ]
        }
      ]
    },
    {
      "cell_type": "markdown",
      "source": [
        "# **Weekly Contest 274**"
      ],
      "metadata": {
        "id": "LB74Ic6RFX3k"
      }
    },
    {
      "cell_type": "markdown",
      "source": [
        "## **2124. Check if All A's Appears Before All B's**"
      ],
      "metadata": {
        "id": "mQGsrMmGFb4N"
      }
    },
    {
      "cell_type": "code",
      "source": [
        "class Solution:\n",
        "    def checkString(self, s: str) -> bool:\n",
        "        if 'ba' in s:\n",
        "            return False\n",
        "        else:\n",
        "            return True"
      ],
      "metadata": {
        "id": "l2Ky_luKvxP8"
      },
      "execution_count": null,
      "outputs": []
    },
    {
      "cell_type": "code",
      "source": [
        "obj1 = Solution()\n",
        "print(obj1.checkString(\"aaababb\"))"
      ],
      "metadata": {
        "colab": {
          "base_uri": "https://localhost:8080/"
        },
        "id": "QcCJavZmv0is",
        "outputId": "1e4c25e7-29e5-4f4b-e7dc-7bc071526b11"
      },
      "execution_count": null,
      "outputs": [
        {
          "output_type": "stream",
          "name": "stdout",
          "text": [
            "False\n"
          ]
        }
      ]
    },
    {
      "cell_type": "markdown",
      "source": [
        "## **2125. Number of Laser Beams in a Bank**"
      ],
      "metadata": {
        "id": "obXWXz5tFeWE"
      }
    },
    {
      "cell_type": "code",
      "source": [
        "bank = [\"011001\",\"000000\",\"010100\",\"001000\"]\n",
        "beams = []\n",
        "for i in range(len(bank)):\n",
        "  if '1' not in bank[i]:\n",
        "    continue\n",
        "  else:\n",
        "    beam = 0\n",
        "    for j in range(i):\n",
        "      if bank[i][j] == '1':\n",
        "        beam += 1\n",
        "    beams.append(beam)\n"
      ],
      "metadata": {
        "id": "27NvkgJZwKUD"
      },
      "execution_count": null,
      "outputs": []
    },
    {
      "cell_type": "code",
      "source": [
        "beam = []\n",
        "bank = [\"011001\",\"000000\",\"010100\",\"001000\"]\n",
        "# bank = [\"000\",\"111\",\"000\"]\n",
        "for i in bank:\n",
        "  beam.append(i.count('1'))\n",
        "print(beam)\n",
        "no_of_beams = 0\n",
        "first = beam[0]\n",
        "second = 0\n",
        "for i in range(1, len(beam)):\n",
        "  if beam[i] == 0:\n",
        "    continue\n",
        "  else:\n",
        "    second = beam[i]\n",
        "    no_of_beams += first * second\n",
        "  first = second\n",
        "print(no_of_beams)"
      ],
      "metadata": {
        "colab": {
          "base_uri": "https://localhost:8080/"
        },
        "id": "QJFfbL9n1kq0",
        "outputId": "275f974d-dcea-4ca4-b5f8-715d80710e15"
      },
      "execution_count": null,
      "outputs": [
        {
          "output_type": "stream",
          "name": "stdout",
          "text": [
            "[3, 0, 2, 1]\n",
            "8\n"
          ]
        }
      ]
    },
    {
      "cell_type": "markdown",
      "source": [
        "# **Biweekly Contest 69**"
      ],
      "metadata": {
        "id": "1Opd7D4jHMmQ"
      }
    },
    {
      "cell_type": "markdown",
      "source": [
        "## **5960. Capitalize the Title**"
      ],
      "metadata": {
        "id": "EkYGok8jNxmA"
      }
    },
    {
      "cell_type": "code",
      "source": [
        "title = \"capiTalIze He titLe\"\n",
        "print()\n",
        "new_str = ''\n",
        "val = title.title().split()\n",
        "print(val)\n",
        "for i in range(len(val)):\n",
        "  if len(val[i]) <= 2:\n",
        "    new_str += val[i].lower() + ' '\n",
        "  else:\n",
        "    new_str += val[i] + ' '\n",
        "print(new_str[:-1])  \n",
        "\n",
        "print(len(val[1]))"
      ],
      "metadata": {
        "colab": {
          "base_uri": "https://localhost:8080/"
        },
        "id": "V1YeZ-83HRBe",
        "outputId": "708fca1f-682c-4d5b-e648-33f6bd361573"
      },
      "execution_count": null,
      "outputs": [
        {
          "output_type": "stream",
          "name": "stdout",
          "text": [
            "\n",
            "['Capitalize', 'He', 'Title']\n",
            "Capitalize he Title\n",
            "2\n"
          ]
        }
      ]
    },
    {
      "cell_type": "markdown",
      "source": [
        "## **5961. Maximum Twin Sum of a Linked List**"
      ],
      "metadata": {
        "id": "Jw3OeV0ZOE6G"
      }
    },
    {
      "cell_type": "code",
      "source": [
        "class ListNode:\n",
        "    def __init__(self, val=0, next=None):\n",
        "        self.val = val\n",
        "        self.next = next\n",
        "class Solution:\n",
        "    def pairSum(self, head) -> int:\n",
        "        array = []\n",
        "        curr = head\n",
        "        while curr:\n",
        "            array.append(curr.val)\n",
        "            curr = curr.next\n",
        "        print(array)\n",
        "        "
      ],
      "metadata": {
        "id": "461zNQ3sJkt8"
      },
      "execution_count": null,
      "outputs": []
    },
    {
      "cell_type": "code",
      "source": [
        "head = [0, 1,-2,-1]\n",
        "# head = [5, 4, 2, 1]\n",
        "head = [4, 2, 2, 3]\n",
        "max_sum = 0\n",
        "curr_sum = 0\n",
        "n = len(head)\n",
        "for i in range(int(n/2)):\n",
        "  curr_sum = head[i] + head[-(i+1)]\n",
        "  max_sum = max(max_sum, curr_sum)\n",
        "  print(curr_sum)\n",
        "print(max_sum)"
      ],
      "metadata": {
        "colab": {
          "base_uri": "https://localhost:8080/"
        },
        "id": "_AGQzJlHSxK_",
        "outputId": "b78cd2b9-27f3-452b-d100-696a227f9a76"
      },
      "execution_count": null,
      "outputs": [
        {
          "output_type": "stream",
          "name": "stdout",
          "text": [
            "7\n",
            "4\n",
            "7\n"
          ]
        }
      ]
    },
    {
      "cell_type": "markdown",
      "source": [
        "## **5962. Longest Palindrome by Concatenating Two Letter Words**"
      ],
      "metadata": {
        "id": "x0So8MlBXNkQ"
      }
    },
    {
      "cell_type": "code",
      "source": [
        "from itertools import permutations\n",
        "total = []\n",
        "largest = 0\n",
        "curr = 0\n",
        "# words = [\"lc\",\"cl\",\"gg\"]\n",
        "words = [\"ab\",\"ty\",\"yt\",\"lc\",\"cl\",\"ab\"]\n",
        "words = [\"cc\",\"ll\",\"xx\"]\n",
        "words = [\"dd\",\"aa\",\"bb\",\"dd\",\"aa\",\"dd\",\"bb\",\"dd\",\"aa\",\"cc\",\"bb\",\"cc\",\"dd\",\"cc\"]\n",
        "lst_count = []\n",
        "for i in range(len(words)+1):\n",
        "  perm = permutations(words, i)\n",
        "  for j in list(perm):\n",
        "    total.append(list(j))\n",
        "total = total[1:]\n",
        "print(total)\n",
        "for sub in total:\n",
        "  is_pal = ''.join(sub)\n",
        "  if is_pal == is_pal[::-1]:\n",
        "    print(is_pal)\n",
        "    curr = len(is_pal)\n",
        "    lst_count.append(curr)\n",
        "    # largest = max(curr, largest)\n",
        "print(max(lst_count))\n",
        "\n",
        "# Not Working this Idea"
      ],
      "metadata": {
        "id": "ieqmAxHMX5Re"
      },
      "execution_count": null,
      "outputs": []
    },
    {
      "cell_type": "code",
      "source": [
        "from collections import Counter\n",
        "# Counter is basically here creating a dictionary of \n",
        "# all the occurences against their count in words list\n",
        "class Solution:\n",
        "    def longestPalindrome(self, words) -> int:\n",
        "        c = Counter(words)\n",
        "        ans = 0\n",
        "        ans2 = 0\n",
        "        t = 0\n",
        "        for i in c:\n",
        "            if i == i[::-1]:\n",
        "                ans2 += c[i]//2*2\n",
        "                t += c[i]%2\n",
        "            elif i < i[::-1]:\n",
        "                ans += min(c[i], c[i[::-1]])*2\n",
        "        print(ans, ans2, t)\n",
        "        return (ans+ans2+min(t, 1))*2"
      ],
      "metadata": {
        "id": "hALuDeplhJqn"
      },
      "execution_count": null,
      "outputs": []
    },
    {
      "cell_type": "code",
      "source": [
        "obj = Solution()\n",
        "# words = [\"lc\",\"cl\",\"gg\"]\n",
        "words = [\"ab\",\"ty\",\"yt\",\"lc\",\"cl\",\"ab\"]\n",
        "words = [\"cc\",\"ll\",\"xx\"]\n",
        "words = [\"dd\",\"aa\",\"bb\",\"dd\",\"aa\",\"dd\",\"bb\",\"dd\",\"aa\",\"cc\",\"bb\",\"cc\",\"dd\",\"cc\"]\n",
        "print(obj.longestPalindrome([\"dd\",\"aa\",\"bb\",\"dd\",\"aa\",\"dd\",\"bb\",\"dd\",\"aa\",\"cc\",\"bb\",\"cc\",\"dd\",\"cc\"]))"
      ],
      "metadata": {
        "colab": {
          "base_uri": "https://localhost:8080/"
        },
        "id": "NCTHwFk6hgMg",
        "outputId": "29dea859-4448-4259-ae9d-df5827770ff5"
      },
      "execution_count": null,
      "outputs": [
        {
          "output_type": "stream",
          "name": "stdout",
          "text": [
            "0 10 4\n",
            "22\n"
          ]
        }
      ]
    },
    {
      "cell_type": "markdown",
      "source": [
        "# **Weekly Contest 275**"
      ],
      "metadata": {
        "id": "pPmUQr67xEFk"
      }
    },
    {
      "cell_type": "markdown",
      "source": [
        "## **5976. Check if Every Row and Column Contains All Numbers**"
      ],
      "metadata": {
        "id": "j_e_a9l06Bbz"
      }
    },
    {
      "cell_type": "code",
      "source": [
        "class Solution:\n",
        "    def checkValid(self, matrix) -> bool:\n",
        "        if len(matrix) == 1:\n",
        "            return True\n",
        "        n = len(matrix)\n",
        "        c = {}\n",
        "        for i in range(1, n+1):\n",
        "            if i not in c:\n",
        "                c[i] = 1\n",
        "            else:\n",
        "                c[i] += 1\n",
        "        \n",
        "        for i in range(0, len(matrix)):\n",
        "            nc = Counter(matrix[i])\n",
        "            if c != nc:\n",
        "                return False\n",
        "        \n",
        "        def column(matrix, i):\n",
        "            return [row[i] for row in matrix]\n",
        "        \n",
        "        for i, j in enumerate(matrix):\n",
        "            col = column(matrix, i)\n",
        "            nc = Counter(col)\n",
        "            if c != nc:\n",
        "                return False  \n",
        "            \n",
        "        return True"
      ],
      "metadata": {
        "id": "SObZqvUP5HPV"
      },
      "execution_count": null,
      "outputs": []
    },
    {
      "cell_type": "code",
      "source": [
        "matrix = [[1,1,1],[1,2,3],[1,2,3]]\n",
        "# matrix = [[1,2,3],[3,1,2],[2,3,1]]\n",
        "# matrix = [[1]]\n",
        "obj = Solution()\n",
        "print(obj.checkValid(matrix))"
      ],
      "metadata": {
        "colab": {
          "base_uri": "https://localhost:8080/"
        },
        "id": "xGcChOZ2xTY1",
        "outputId": "791d9ffb-45ef-441e-9c74-033b9d3b4d26"
      },
      "execution_count": null,
      "outputs": [
        {
          "output_type": "stream",
          "name": "stdout",
          "text": [
            "False\n"
          ]
        }
      ]
    },
    {
      "cell_type": "markdown",
      "source": [
        "## **5977. Minimum Swaps to Group All 1's Together II**"
      ],
      "metadata": {
        "id": "aZptK1T7593T"
      }
    },
    {
      "cell_type": "code",
      "source": [
        "# Copied and Understanded\n",
        "class Solution:\n",
        "    def minSwaps(self, nums) -> int:\n",
        "        n1 = sum(nums)\n",
        "        cur = sum(nums[:n1])\n",
        "        ans = n1\n",
        "        for i in range(len(nums)):\n",
        "            ans = min(ans, n1 - cur)                # Minimum no of swaps\n",
        "            cur += nums[(i + n1) % len(nums)]       # For Circular array\n",
        "            cur -= nums[i]\n",
        "        return ans"
      ],
      "metadata": {
        "id": "SEJy6pG56aHb"
      },
      "execution_count": null,
      "outputs": []
    },
    {
      "cell_type": "code",
      "source": [
        "obj = Solution()\n",
        "obj.minSwaps(nums = [0,1,1,1,0,0,1,1,0])"
      ],
      "metadata": {
        "colab": {
          "base_uri": "https://localhost:8080/"
        },
        "id": "h91xQC9QH6l6",
        "outputId": "b021db43-c8a9-4443-a38d-41981dbd8c58"
      },
      "execution_count": null,
      "outputs": [
        {
          "output_type": "execute_result",
          "data": {
            "text/plain": [
              "2"
            ]
          },
          "metadata": {},
          "execution_count": 52
        }
      ]
    },
    {
      "cell_type": "markdown",
      "source": [
        "# **Weekly Contest 276**"
      ],
      "metadata": {
        "id": "2bKMMq1p0h8I"
      }
    },
    {
      "cell_type": "markdown",
      "source": [
        "## **5980. Divide a String Into Groups of Size k**"
      ],
      "metadata": {
        "id": "DuWe8kNbu9bX"
      }
    },
    {
      "cell_type": "code",
      "source": [
        "class Solution:\n",
        "    def divideString(self, s: str, k: int, fill: str):\n",
        "        l = len(s)\n",
        "        # e = 0\n",
        "        if l % k != 0:\n",
        "            extra = fill * (k - (l % k))\n",
        "            s += extra\n",
        "            # e = 1\n",
        "        lst = []\n",
        "        st = 0\n",
        "        ls = k\n",
        "        # e += k\n",
        "        print(s)\n",
        "        e = len(s) // k\n",
        "        print(e)\n",
        "        for i in range(e):\n",
        "            grp = s[st:ls]\n",
        "            lst.append(grp)\n",
        "            st = ls\n",
        "            ls += k\n",
        "        return lst\n",
        "        "
      ],
      "metadata": {
        "id": "zgZMHOpGu-C5"
      },
      "execution_count": null,
      "outputs": []
    },
    {
      "cell_type": "code",
      "source": [
        "obj = Solution()\n",
        "# s = \"abcdefghij\"; k = 3; fill = \"x\"\n",
        "s = \"ctoyjrwtngqwt\"\n",
        "k = 8\n",
        "fill = \"n\"                        # [\"ctoyjrwt\",\"ngqwtnnn\",\"\",\"\",\"\",\"\",\"\",\"\",\"\"]\n",
        "print(obj.divideString(s,k,fill))\n"
      ],
      "metadata": {
        "colab": {
          "base_uri": "https://localhost:8080/"
        },
        "id": "sixbxdimxNeE",
        "outputId": "046bc83f-3b39-4f9f-faa8-31de9f69b427"
      },
      "execution_count": null,
      "outputs": [
        {
          "output_type": "stream",
          "name": "stdout",
          "text": [
            "ctoyjrwtngqwtnnn\n",
            "2\n",
            "['ctoyjrwt', 'ngqwtnnn']\n"
          ]
        }
      ]
    },
    {
      "cell_type": "markdown",
      "source": [
        "## **5194. Minimum Moves to Reach Target Score**"
      ],
      "metadata": {
        "id": "0Hcc-JwH0mm4"
      }
    },
    {
      "cell_type": "code",
      "source": [
        "class Solution:\n",
        "    def minMoves(self, target: int, maxDoubles: int) -> int:\n",
        "        to_ret = 0\n",
        "        while target > 1 :\n",
        "            if maxDoubles == 0 :\n",
        "                to_ret += target - 1\n",
        "                break\n",
        "            if target % 2 == 1 :\n",
        "                to_ret += 1\n",
        "                target -= 1\n",
        "            else :\n",
        "                to_ret += 1\n",
        "                target = target // 2\n",
        "                maxDoubles -= 1\n",
        "        return to_ret"
      ],
      "metadata": {
        "id": "ZLKqg06s0B2z"
      },
      "execution_count": null,
      "outputs": []
    },
    {
      "cell_type": "code",
      "source": [
        "obj = Solution()\n",
        "print(obj.minMoves(target = 19, maxDoubles = 2))"
      ],
      "metadata": {
        "colab": {
          "base_uri": "https://localhost:8080/"
        },
        "id": "bbnsxvVHaAca",
        "outputId": "c548fd1a-9106-4824-a824-48a507d4643b"
      },
      "execution_count": null,
      "outputs": [
        {
          "output_type": "stream",
          "name": "stdout",
          "text": [
            "7\n"
          ]
        }
      ]
    },
    {
      "cell_type": "markdown",
      "source": [
        "## **2140. Solving Questions With Brainpower**"
      ],
      "metadata": {
        "id": "hzx_0H-mefti"
      }
    },
    {
      "cell_type": "code",
      "source": [
        "class Solution:\n",
        "    def mostPoints(self, questions) -> int:\n",
        "      lst = [0]*200;\n",
        "      for i in range(len(questions)-1, -1, -1):\n",
        "          lst[i] = max(lst[i+1],questions[i][0] + lst[i + questions[i][1] + 1])\n",
        "\n",
        "      return lst[0]"
      ],
      "metadata": {
        "id": "OU6cXEa_eka6"
      },
      "execution_count": null,
      "outputs": []
    },
    {
      "cell_type": "code",
      "source": [
        "obj = Solution()\n",
        "questions = [[3,2],[4,3],[4,4],[2,5]]\n",
        "questions = [[1,1],[2,2],[3,3],[4,4],[5,5]]\n",
        "print(obj.mostPoints(questions))"
      ],
      "metadata": {
        "colab": {
          "base_uri": "https://localhost:8080/"
        },
        "id": "ocdNet3EpAK1",
        "outputId": "9f7e2bd4-35a0-42b4-91f4-998356b7831f"
      },
      "execution_count": null,
      "outputs": [
        {
          "output_type": "stream",
          "name": "stdout",
          "text": [
            "7\n"
          ]
        }
      ]
    },
    {
      "cell_type": "markdown",
      "source": [
        "# **Biweekly Contest 70**"
      ],
      "metadata": {
        "id": "JIAUSL3ZM_0r"
      }
    },
    {
      "cell_type": "markdown",
      "source": [
        "## **5971. Minimum Cost of Buying Candies With Discount**"
      ],
      "metadata": {
        "id": "p9W3BMvUNC3t"
      }
    },
    {
      "cell_type": "code",
      "source": [
        "# It is clear from the test cases and the question statment also \n",
        "# that in cost list in sorted form sum of every second index is the result \n",
        "class Solution:\n",
        "    def minimumCost(self, cost) -> int:\n",
        "        a=sorted(cost)[::-1]\n",
        "        print(a)\n",
        "        s=0\n",
        "        for i in range(len(a)):\n",
        "            if i%3!=2:\n",
        "                print(a[i])\n",
        "                s+=a[i]\n",
        "        return s\n",
        "obj = Solution()\n",
        "cost = [6,5,7,9,2,2]\n",
        "print(obj.minimumCost(cost))"
      ],
      "metadata": {
        "colab": {
          "base_uri": "https://localhost:8080/"
        },
        "id": "YPizyCEdNCOr",
        "outputId": "dbaf59a3-dc59-4afe-f470-3d3195573583"
      },
      "execution_count": null,
      "outputs": [
        {
          "output_type": "stream",
          "name": "stdout",
          "text": [
            "[9, 7, 6, 5, 2, 2]\n",
            "9\n",
            "7\n",
            "5\n",
            "2\n",
            "23\n"
          ]
        }
      ]
    },
    {
      "cell_type": "markdown",
      "source": [
        "## **Count the Hidden Sequences**"
      ],
      "metadata": {
        "id": "eODm2whSRJFp"
      }
    },
    {
      "cell_type": "code",
      "source": [
        "class Solution:\n",
        "    def numberOfArrays(self, differences, lower: int, upper: int) -> int:\n",
        "        def generate_sequences(diff,lower,upper):\n",
        "            l = lower\n",
        "            u = upper\n",
        "            sequences = []\n",
        "            for i in range(lower, upper):\n",
        "                val = i\n",
        "                seq = []\n",
        "                seq.append(i)\n",
        "                to_append = True\n",
        "                for j in range(len(diff)):\n",
        "                    val += diff[j]\n",
        "                    seq.append(val)\n",
        "                for k in range(len(seq)):\n",
        "                  if seq[k] not in range(l, u+1):\n",
        "                    to_append = False\n",
        "                  \n",
        "                if to_append:\n",
        "                  sequences.append(seq)\n",
        "            return len(sequences), sequences\n",
        "        \n",
        "        print(generate_sequences(differences, lower, upper))\n",
        "\n",
        "obj = Solution()\n",
        "differences = [-40]; lower = -46; upper = 53\n",
        "# differences = [94357]; lower = -45280; upper = 54014\n",
        "# differences = [1,-3,4]; lower = 1; upper = 6\n",
        "# differences = [3,-4,5,1,-2]; lower = -4; upper = 5\n",
        "print(obj.numberOfArrays(differences, lower, upper))"
      ],
      "metadata": {
        "colab": {
          "base_uri": "https://localhost:8080/"
        },
        "id": "5R_kQN2HRLRb",
        "outputId": "1a799d71-7c99-40ab-c33f-40af520c6a73"
      },
      "execution_count": null,
      "outputs": [
        {
          "output_type": "stream",
          "name": "stdout",
          "text": [
            "(59, [[-6, -46], [-5, -45], [-4, -44], [-3, -43], [-2, -42], [-1, -41], [0, -40], [1, -39], [2, -38], [3, -37], [4, -36], [5, -35], [6, -34], [7, -33], [8, -32], [9, -31], [10, -30], [11, -29], [12, -28], [13, -27], [14, -26], [15, -25], [16, -24], [17, -23], [18, -22], [19, -21], [20, -20], [21, -19], [22, -18], [23, -17], [24, -16], [25, -15], [26, -14], [27, -13], [28, -12], [29, -11], [30, -10], [31, -9], [32, -8], [33, -7], [34, -6], [35, -5], [36, -4], [37, -3], [38, -2], [39, -1], [40, 0], [41, 1], [42, 2], [43, 3], [44, 4], [45, 5], [46, 6], [47, 7], [48, 8], [49, 9], [50, 10], [51, 11], [52, 12]])\n",
            "None\n"
          ]
        }
      ]
    },
    {
      "cell_type": "code",
      "source": [
        "class Solution:\n",
        "    def numberOfArrays(self, differences, lower: int, upper: int) -> int:\n",
        "        def generate_sequences(diff,lower,upper):\n",
        "            l = lower\n",
        "            u = upper\n",
        "            sequences = 0\n",
        "            for i in range(lower, upper):\n",
        "                val = i\n",
        "                seq = []\n",
        "                seq.append(i)\n",
        "                to_append = True\n",
        "                for j in range(len(differences)):\n",
        "                    val += differences[j]\n",
        "                    seq.append(val)\n",
        "                for k in range(len(seq)):\n",
        "                    if seq[k] not in range(l, u+1):\n",
        "                        to_append = False\n",
        "                  \n",
        "                if to_append:\n",
        "                    sequences +=1\n",
        "            if len(differences) == 1:\n",
        "                return sequences + 1\n",
        "            return sequences\n",
        "\n",
        "obj = Solution()\n",
        "differences = [-40]; lower = -46; upper = 53\n",
        "# differences = [94357]; lower = -45280; upper = 54014\n",
        "# differences = [1,-3,4]; lower = 1; upper = 6\n",
        "# differences = [3,-4,5,1,-2]; lower = -4; upper = 5\n",
        "print(obj.numberOfArrays(differences, lower, upper))"
      ],
      "metadata": {
        "id": "-4gKtn_VmCI1"
      },
      "execution_count": null,
      "outputs": []
    },
    {
      "cell_type": "code",
      "source": [
        "class Solution:\n",
        "    def numberOfArrays(self, differences, lower: int, upper: int) -> int:\n",
        "        min_ = 0\n",
        "        max_ = 0\n",
        "        curr = 0\n",
        "        for d in differences:\n",
        "            curr += d\n",
        "            min_ = min(curr, min_)\n",
        "            max_ = max(curr, max_)\n",
        "        print(min_,max_)\n",
        "        low_range = lower - min_\n",
        "        high_range = upper - max_\n",
        "        return max(high_range - low_range + 1, 0)\n",
        "\n",
        "obj = Solution()\n",
        "differences = [-40]; lower = -46; upper = 53\n",
        "# differences = [94357]; lower = -45280; upper = 54014\n",
        "# differences = [1,-3,4]; lower = 1; upper = 6\n",
        "differences = [3,-4,5,1,-2]; lower = -4; upper = 5\n",
        "print(obj.numberOfArrays(differences, lower, upper))"
      ],
      "metadata": {
        "colab": {
          "base_uri": "https://localhost:8080/"
        },
        "id": "M5O_FSNgjnqx",
        "outputId": "836c0bab-a978-48e1-dc87-28e50da0233a"
      },
      "execution_count": null,
      "outputs": [
        {
          "output_type": "stream",
          "name": "stdout",
          "text": [
            "-1 5\n",
            "4\n"
          ]
        }
      ]
    },
    {
      "cell_type": "markdown",
      "source": [
        "# **Weekly Contest 277**"
      ],
      "metadata": {
        "id": "xz_PKT0uznEc"
      }
    },
    {
      "cell_type": "markdown",
      "source": [
        "## **2148. Count Elements With Strictly Smaller and Greater Elements**"
      ],
      "metadata": {
        "id": "f-6bxuVe9RR7"
      }
    },
    {
      "cell_type": "code",
      "source": [
        "class Solution:\n",
        "    def countElements(self, nums) -> int:\n",
        "        nums.sort()\n",
        "        st = nums.count(nums[0])\n",
        "        if st > 1:\n",
        "            nums = nums[st-1:]\n",
        "        en = nums.count(nums[-1])\n",
        "        if en > 1:\n",
        "            l = len(nums)\n",
        "            nums = nums[:l-en+1]\n",
        "        print(nums)\n",
        "        if len(set(nums))<=2:\n",
        "            return 0\n",
        "        return len(nums)-2\n",
        "nums = [-71,-71,93,-71,40]\n",
        "nums = [-89,39,39,-89,39,39]\n",
        "# nums = [11,7,2,15]\n",
        "# nums = [-3,3,3,90]\n",
        "# nums = [-65,-65,50,-65,50,-55,-65,-65]\n",
        "nums = [-89,39,39,-89,39,39]\n",
        "obj = Solution()\n",
        "print(obj.countElements(nums))"
      ],
      "metadata": {
        "colab": {
          "base_uri": "https://localhost:8080/"
        },
        "id": "V6G8aadjzqnO",
        "outputId": "1e75304d-54bc-4df7-a22f-39d133cb40bb"
      },
      "execution_count": null,
      "outputs": [
        {
          "output_type": "stream",
          "name": "stdout",
          "text": [
            "[-89, 39]\n",
            "0\n"
          ]
        }
      ]
    },
    {
      "cell_type": "code",
      "source": [
        "# nums = [-71,-71,93,-71,40]\n",
        "nums = [-89,39,39,-89,39,39]\n",
        "nums = [40,40,93,32,6,-71,40]\n",
        "nums = [-71,6,25,17,32,40,40,40]\n",
        "print(nums.count(nums[0]))"
      ],
      "metadata": {
        "colab": {
          "base_uri": "https://localhost:8080/"
        },
        "id": "oTVUHf3V15ju",
        "outputId": "599967a0-eb21-42cc-e918-b2defde094ee"
      },
      "execution_count": null,
      "outputs": [
        {
          "output_type": "stream",
          "name": "stdout",
          "text": [
            "3\n"
          ]
        }
      ]
    },
    {
      "cell_type": "markdown",
      "source": [
        "## **5991. Rearrange Array Elements by Sign**"
      ],
      "metadata": {
        "id": "H1wVUnEc9VHL"
      }
    },
    {
      "cell_type": "code",
      "source": [
        "class Solution:\n",
        "    def rearrangeArray(self, nums):\n",
        "        p_nums = []\n",
        "        n_nums = []\n",
        "        for i in range(len(nums)):\n",
        "            if nums[i] > 0:\n",
        "                p_nums.append(nums[i])\n",
        "            if nums[i] < 0:\n",
        "                n_nums.append(nums[i])\n",
        "        ret = []\n",
        "        for i in range(int(len(nums)/2)):\n",
        "            ret.append(p_nums[i])\n",
        "            ret.append(n_nums[i])\n",
        "        return ret\n",
        "nums = [3,1,-2,-5,2,-4]\n",
        "obj = Solution()\n",
        "print(obj.rearrangeArray(nums))"
      ],
      "metadata": {
        "colab": {
          "base_uri": "https://localhost:8080/"
        },
        "id": "d9wvVHoX9XCT",
        "outputId": "53c36486-76f8-4c87-8f0b-ba49717fa394"
      },
      "execution_count": null,
      "outputs": [
        {
          "output_type": "stream",
          "name": "stdout",
          "text": [
            "[3, -2, 1, -5, 2, -4]\n"
          ]
        }
      ]
    },
    {
      "cell_type": "markdown",
      "source": [
        "## **2150. Find All Lonely Numbers in the Array**"
      ],
      "metadata": {
        "id": "2beDOgeFBocK"
      }
    },
    {
      "cell_type": "code",
      "source": [
        "import collections\n",
        "class Solution:\n",
        "    def findLonely(self, nums):\n",
        "        cnt = collections.Counter(nums)\n",
        "        modified = []\n",
        "        for num in cnt:\n",
        "            if cnt[num] == 1 and (num - 1) not in cnt and (num + 1) not in cnt:\n",
        "                modified.append(num)\n",
        "#         modified = modified + nums\n",
        "        \n",
        "#         zip_object = zip(list1, list2)\n",
        "#         for list1_i, list2_i in zip_object:\n",
        "#             difference.append(list1_i-list2_i)\n",
        "        return modified"
      ],
      "metadata": {
        "id": "wNzsrJXNBqjp"
      },
      "execution_count": null,
      "outputs": []
    },
    {
      "cell_type": "code",
      "source": [
        "nums = [487168,680726,339642,548654,682988,100682,253838,846990,50459,838159,590195,431968,232448,734503,578406,208660,458270,252614,797733,653567,81578,76075,919951,117086,97848,312061,722871,910442,999223,512329,207105,366114,754523,505865,447059,694868,551478,474008,687681,855252,953339,58830,458055,674113,701904,550622,555135,16179,570546,670595,247853,583066,651847,583238,408698,347745,654550,62944,673158,726219,983865,741203,173632,528600,466952,808826,680558,167488,892559,387207,182909,769017,845999,533856,834191,371301,247558,700219,28069,8806,81121,86580,105289,153942,793726,747574,359959,169743,105758,971581,767385,801690,293638,4210,903391,136619,321603,704718,810930,406472,370078,721108,823560,841105,189354,18152,951784,432653,113893,606064,795887,726584,62389,801369,139832,5582,505561,850612,243817,786683,948940,250744,878207,607956,750450,592247,695762,88939,353555,886574,923297,110341,668225,15228,140816,841224,711461,306811,854939,864979,826807,225131,547862,528280,106133,517028,23376,68289,908055,880905,601608,575886,543865,962874,107729,69747,353412,541307,511079,499259,73745,723458,678430,899624,703620,244824,992253,217558,720529,750480,520861,40948,487316,64779,27176,247692,677772,166657,790823,835362,960135,756650,593635,311939,585070,930030,2272,840195,991529,319530,859220,501633,841917,374237,78701,958187,986480,11264,860468,699118,835245,635593,297836,775001,423566,316700,730100,791341,427106,802485,343485,284244,806699,822855,707851,986053,928976,750577,828142,150795,339168,346050,226456,953327,395118,324028,651906,211795,497086,545833,911961,43550,971253,365444,9646,775731,6789,233661,746823,426115,517419,383430,640865,715048,978541,401673,427224,144656,115274,46590,735884,106771,787839,594584,151593,404224,200343,665700,114985,798720,365427,628021,456467,797394,189035,530545,969389,344838,227648,627321,39820,126039,554394,326609,155758,29335,478270,57145,888847,472810,245736,615603,799695,395051,73428,334452,169334,701683,289196,808329,301195,106148,518664,248332,976118,257818,904608,793271,284639,898297,673473,692546,74612,342775,627112,653391,218110,369609,283995,155709,78579,298764,208413,821123,187215,259757,297456,712266,27888,110395,571669,119094,453448,124708,357797,89552,894660,927020,200194,749848,671484,904423,856895,402238,128401,374067,576859,288721,996880,585886,718611,149997,533938,801034,545570,593290,56814,767553,769688,201597,246282,662358,832299,116349,344995,215115,186463,832700,353043,510910,481726,174296,376483,428562,811542,654247,185773,430307,661881,625687,325979,738041,824500,351217,288051,966041,866764,167330,643382,857126,359562,287034,290940,85848,916395,377664,6349,778035,742960,518576,912290,459052,780177,86965,625687,540177,577988,182871,766221,633698,577114,744219,921622,26142,222805,831994,7996,40174,922510,609199,118674,938319,578149,75013,805468,420251,663183,690052,929223,183217,608526,484610,431754,557989,280434,267766,237079,277577,996521,268620,889092,921819,224347,671583,228555,500306,493640,835362,760845,167627,971666,5556,144679,660534,741200,420493,839483,380357,662206,424121,584752,821212,767553,262778,142948,187539,171894,256223,400291,631611,744551,82828,323748,523751,836445,833937,587109,680960,350095,978788,348123,436061,724806,285687,251870,155796,158689,234515,786770,292418,846983,213367,512927,419499,224962,959333,2065,957645,621266,105488,759988,418899,651492,908669,509590,667080,469205,449414,836132,420764,995780,236710,835047,952687,444380,134543,210395,528997,195364,102261,858378,31444,144720,992867,589431,228043,185442,139098,156457,278100,979757,575435,111879,975743,463881,587757,633410,360173,541840,119637,721558,70136,929564,982595,447857,796500,301279,270665,554698,711975,910352,577270,165685,819967,672304,216128,256416,820589,556322,110302,197388,578346,178203,353764,736485,761936,353253,175221,149019,974266,231410,177677,397607,770805,419859,311934,12647,939177,512302,932851,769444,319163,663582,995766,926139,277784,342376,163777,728413,951879,232989,206400,876157,965029,185934,748001,637333,284488,500596,840910,794660,703931,553391,533938,939220,434019,630703,903828,221687,692427,369184,773056,670908,922474,534453,431006,636438,113532,364514,163264,775472,141511,84167,198460,62530,450268,232884,667292,227346,29716,122759,155316,30772,253382,765737,986727,248215,720704,7502,325518,494715,690063,38116,374956,679281,629327,521670,853885,439647,6232,119715,442453,184865,102308,436036,506538,245995,703246,868420,752154,272892,976700,155021,148173,771777,850561,408976,124113,566468,975480,659493,725458,494016,401720,93371,867405,719516,148493,854827,361380,836708,918810,808415,647739,117369,815506,203452,491970,586044,180183,485675,194102,594681,761781,390142,257140,978903,124575,192353,353032,608323,374636,216911,911795,503188,316619,376909,350532,844858,174296,278014,933414,956676,843816,735849,544331,56082,677314,306811,427239,304985,463,395605,199916,775217,533703,844170,677650,932096,989754,796826,631031,967067,807959,190752,988947,178250,983203,564646,961516,842180,159085,110302,57972,996264,927111,136405,175502,869724,100770,761936,635053,818874,786862,150944,968832,678859,373428,536552,591750,512515,177975,829480,790215,334117,807421,257641,665229,548609,481451,960763,161831,16136,153997,90027,538439,469558,597708,5998,322995,483552,435955,533209,419261,386111,854851,334371,942861,606912,943341,420855,96459,698417,702468,431991,926195,706462,67226,610642,482155,998274,313369,585914,48752,150273,513848,92046,271759,795026,397682,677232,805709,340084,40372,44672,20283,173568,683371,439164,206107,660677,107543,790785,476074,677295,926211,772323,249376,130485,211504,610530,164144,170666,251691,326828,285283,942307,162546,468451,737217,462741,334199,497495,81711,87899,549549,190640,522275,19467,916189,854716,904423,467828,719420,182245,442604,66845,77330,881281,870886,770126,920855,443117,646413,73914,680200,311934,238729,172227,117202,205675,364513,416638,790331,658492,881556,686974,863827,197192,442536,188574,869824,888673,781319,78959,451013,136863,46100,51894,857639,346177,135187,305136,539015,444981,468131,514472,452089,531637,825977,853699,672895,265950,405556,559850,939733,562483,2059,312612,809138,242517,884136,692578,302729,543866,278575,901090,669150,174228,351207,86357,150516,79856,105824,82079,438731,693555,309880,544042,888698,943603,489454,112206,529863,393154,357543,780280,760471,690052,546807,733609,135551,263327,106821,376860,291974,659975,185797,678029,607364,932103,301461,505075,327289,365888,375565,817173,175813,378859,834002,610213,763338,488760,83992,511500,90674,876862,630703,222514,171376,855686,285859,468382,721329,617883,471596,763240,96607,753778,689726,66951,359056,764089,158892,598230,117529,52424,264398,251912,478833,87049,706815,523755,59688,196427,990179,127130,244349,320665,456475,826512,801034,481451,641766,568237,473190,31291,30579,688659,39948,778826,539014,263687,968695,385426,744347,324216,771231,971700,125280,993273,224973,602197,901971,193612,912336,652882,679297,153201,616294,870636,632293,662936,265435,4735,266264,790345,418910,140020,409708,712717,836240,703856,991843,290777,103271,241166,864361,893458,704381,699334,181670,207732,811314,579775,333908,557143,75093,990503,513886,198964,502442,378690,78475,388750,6349,862587,379709,102308,682936,90932,378511,669479,404374,781376,181521,833085,442799,507988,931215,559078,404967,99449,403214,433480,746074,879594,841449,864361,689922,619476,136864,671948,370994,750271,122375,450916,170111,846391,577687,864543,740375,428981,571848,511816,233706,776529,839762,622319,428981,392156,481943,411963,953376,338851,667620,591385,697332,332457,992186,237899,472641,557139,971471,674756,576334,441088,656284,146255,600788,954381,770481,260795,504632,841134,320665,152366,532576,201448,346177,787569,837192,447713,444969,246986,716175,433899,178094,960142,330991,458055,14063,737798,52636,375869,502594,273844,801397,482312,46100,615783,762469,136372,61865,148601,312176,850278,28501,394825,561621,482262,540069,249545,197484,711634,630033,84268,365506,915051,212163,490706,478754,781276,381814,257905,868065,775310,96299,449940,594691,16972,525098,793596,274172,262316,673979,599656,690443,425034,350486,959640,448031,852667,723758,895264,635291,119875,757364,469782,59165,265242,205999,540568,584692,432398,482904,361955,179139,570793,78372,87965,347306,719968,725276,282755,776797,464376,972025,619374,319804,689351,229037,720803,412500,110827,837514,999969,262138,395050,392713,157316,344332,640940,856524,584987,38578,580001,532926,19339,604291,990620,493720,632091,26993,635065,91751,971203,41197,800645,659703,254815,894357,775385,277203,516841,587308,346921,654508,345398,195571,718517,688781,25329,878703,718781,602208,64193,307453,422967,346050,156667,368458,990776,671134,656362,836127,542901,804836,267923,133166,903593,197119,798761,250067,177052,979523,572352,150761,739222,907112,736168,483670,357086,229711,117627,469102,299630,885861,548408,166999,265943,199434,395256,642487,935402,383430,163051,352752,26142,546965,584125,626130,52756,537736,663755,877700,976440,356249,816294,151736,273043,563838,119983,983472,215896,396038,208151,306789,472514,842718,459357,87049,236446,879460,404172,427563,450497,1495,895748,757751,82018,17311,524525,462611,408445,814144,449038,71052,662480,739222,119771,247336,36933,362205,277041,174679,236690,169252,321702,290388,253118,87659,579875,761336,429575,153064,277476,572558,66729,7946,463519,968757,543795,468227,302477,231792,801355,111818,777688,537558,442772,46783,664634,327847,888718,577771,965949,389049,373556,171467,456963,752548,85209,986873,826630,936181,407137,845609,476416,299630,213733,143505,18391,732879,939397,603344,860120,133916,146316,302483,521417,914972,711574,133316,802044,25844,603162,205845,956845,651358,245938,933201,761816,775702,40142,703636,242831,536959,669689,894457,985834,771364,108701,952863,554834,28469,75820,676981,814536,698266,873746,754658,971621,433132,883021,711240,801729,44348,76507,350082,71852,459169,294577,234118,484000,277617,315725,199090,229206,563017,383603,849974,329352,136216,551031,538964,726519,776171,460361,544192,882927,178216,83640,537975,357417,373821,586872,97798,710013,3738,444981,161546,745357,408443,485003,69290,538614,103472,515095,982897,329069,303424,168659,6104,957539,777134,460047,406886,702403,681537,469262,746989,283188,237030,354277,768578,694575,286209,643382,373873,295271,692713,493278,164871,996335,526629,236710,212239,784210,542629,483816,166896,365280,895255,411532,586723,500060,377832,21433,771412,57611,79728,329131,35436,569753,857741,384017,838292,291762,166418,36281,86932,504364,24549,304834,641615,427239,676113,810812,908515,189235,844348,512391,268428,246048,429301,918463,809888,255951,92379,947996,651979,375575,174360,47665,920600,78844,177052,283562,679363,799601,182332,327042,846396,524226,28469,895042,115017,881021,501951,796934,587896,743143,261177,101259,645113,797021,834901,675931,692664,254048,830606,660707,510378,227150,27173,496977,827560,958751,606495,447287,822737,84345,665232,846955,879460,119629,854817,826200,180766,141934,840673,884386,413382,543042,149774,959482,341395,68019,937964,275654,691427,691864,468595,239895,210467,69559,662950,448486,683936,757272,521098,88234,921649,661543,954421,837336,418899,488854,50112,217314,414281,684807,825262,228782,320244,701173,460610,936784,417024,858342,814005,140949,334432,820584,325261,747593,222150,102619,26759,517635,683617,497493,942358,45007,354394,706064,555135,58772,599853,351080,16946,108216,786784,559756,162699,298371,705645,558906,847148,690113,109296,809596,321840,222803,500575,797283,616967,456744,907820,609721,534453,433735,563639,212163,473438,329116,362287,736168,728404,76023,810478,473909,337725,604869,485675,295854,799794,301416,6104,838850,683757,41224,232989,544042,764743,631819,213081,843620,714624,474556,903828,549016,733091,710118,573438,201205,882056,171013,151042,822161,553766,781463,741422,484449,836880,450656,873683,245125,759993,996119,231715,883791,696449,763498,143161,81645,595924,106140,113237,603314,134597,73110,357484,48485,149242,455826,788827,434729,638407,979946,822524,784210,498650,948416,495355,985834,958965,567343,792464,235094,672914,183327,499309,279434,553744,336713,623135,815542,650860,933229,191175,377747,983446,842718,268029,365506,408384,279200,104914,174478,691132,609832,66310,82284,811726,148500,958841,12262,572987,697746,961226,6046,666451,273721,998221,301598,308955,433914,399981,217514,157297,16281,295216,564827,141466,902520,679336,517690,433884,380357,72408,549574,408698,322056,423924,464963,704580,819070,414623,935646,96073,280368,938785,752132,915929,801355,891374,205324,361642,930811,388080,597017,77198,305204,732657,489982,360664,825418,820209,372780,281219,503190,570274,312602,471026,747250,583907,250051,594315,240635,481446,984312,385811,506560,52293,591878,950765,526645,572142,394928,428248,857229,502189,552710,533002,208103,139543,143832,70776,486411,470563,117530,126609,744019,255501,474556,38010,849875,282721,837864,425873,93371,3574,268481,893477,209748,643089,687830,794386,893339,475181,549940,110919,600861,272875,961,780415,659087,816946,51663,487776,221341,172227,468381,402896,851724,248170,569753,203997,443825,304905,812558,193679,575609,39935,298436,227137,134939,870636,133916,50469,504632,567950,445224,945566,305887,50316,198709,496009,906085,597663,831465,822423,54437,119825,491797,948946,38241,106269,406358,81487,291364,288605,995766,829717,64948,709887,324868,568491,178379,58130,121797,394911,837552,733039,342125,942277,27155,351742,213929,439817,83202,39820,113919,248047,680960,994183,463016,805247,231967,199275,405296,487017,110241,120975,182909,141442,531938,489490,441664,818831,412162,358156,978404,741982,369958,660080,676922,380029,423359,798998,531702,26379,187681,551460,609138,164337,928617,40174,621732,860595,55969,169980,691993,796106,307355,530729,255911,66596,283084,429575,465816,273347,4512,50141,620646,581121,232686,916404,607876,467922,445082,330666,576859,118348,766160,952203,271400,192663,198968,800747,888525,192072,61865,416682,639617,832835,21884,381696,871137,718781,178724,461899,696872,18077,408850,28849,229997,845756,254442,839582,364482,424191,141564,37220,989447,857288,334199,607904,751127,289356,642717,117938,230028,33170,864979,576692,418565,365022,632999,807421,998503,410492,360392,616954,560275,807959,495756,810112,434738,262173,337164,374956,969262,61778,752882,373898,547251,157437,444349,294156,948541,247704,458589,992858,677599,594780,940833,312374,530667,92544,928212,87369,433573,414102,684216,7491,81387,430632,755989,608811,651667,789145,195750,284244,192332,790507,644232,465441,602876,241227,62910,968293,458191,749848,503625,610530,686449,383959,286684,474113,534524,296967,307670,294481,950856,881499,215824,764277,988715,558843,276874,205850,947433,674930,167323,19339,957196,814296,129778,761178,384891,336714,704338,234118,495096,895042,279577,240068,227767,18648,791862,144168,234565,608484,725909,368884,211627,84583,657853,611529,381336,483372,740283,694849,660038,840990,690348,168224,611937,450048,375000,59671,914834,56046,949982,119284,882540,730930,948350,424219,938571,994360,206690,136589,967662,63617,967845,33823,842593,752632,809421,981444,178203,808329,901413,997364,918441,83374,794511,892807,497184,249787,615863,783588,175478,373496,613553,775699,436989,111117,201608,769001,509192,317279,431471,744524,499133,769828,229168,935071,214952,3338,789111,750450,241672,70414,332118,999554,165470,622563,521244,326136,910687,158252,269520,598718,675379,925894,882167,363277,762227,781835,556281,852642,785623,628283,983719,451223,867271,767740,873747,82527,653213,631143,981838,183749,609189,483223,7541,120470,27297,694849,229839,487629,188482,266736,450366,637808,247930,134913,797328,528997,316619,156908,785196,706107,150273,299415,798692,173632,848053,513641,926868,571452,414080,814417,859426,575886,110615,66333,770977,773291,298341,762788,712717,277290,380579,99470,441906,757704,9584,269117,804206,427272,166896,271036,337037,429548,187210,588657,878541,230313,300716,312532,347253,323695,538730,168723,768454,99013,13961,360305,495315,517569,580665,687393,578095,242126,33272,341505,307330,257773,112920,166036,773030,983357,105843,349291,649975,891374,845587,663535,671797,82513,819146,925482,993912,916076,282084,124840,441507,443546,985252,81959,827410,616832,394443,45770,971761,492019,240287,775001,488488,328389,724893,751966,196663,554016,165291,541275,38404,859503,189494,937686,73428,185650,691968,58689,764148,49876,346921,527011,435156,931318,133948,757055,80660,124240,100163,795026,173519,416834,321600,933101,186776,853152,562501,913156,117238,72127,423222,929643,488590,922638,232268,381321,427494,141674,380695,171013,669492,354198,705461,817947,52756,290915,666668,621043,532830,631427,524598,511437,124992,66466,339947,137121,403782,618414,901022,779314,737798,203391,429719,777092,452990,161041,495567,981231,218489,308712,468041,271829,491797,391734,847576,212967,793133,823713,534950,710118,222189,400404,384083,195614,80308,439881,456475,733125,760266,469413,629606,486613,631476,484369,905399,567746,769270,165694,874692,646091,161256,315036,404374,927517,197049,775310,639305,429383,205398,42637,560549,258559,390211,958011,242850,42360,795933,936175,202551,50643,952574,577988,190079,901971,696672,547455,345538,37444,814963,449024,333821,429644,806699,467880,192579,808544,653092,90295,194248,624143,225143,676298,505192,37617,103224,307070,182786,502656,79045,114933,688391,222703,366294,53712,834747,184307,360225,437472,536552,117256,942884,941130,579123,70776,823651,622292,862663,741475,222424,225059,537641,844105,391226,853683,646785,275470,33079,837891,535301,806554,875206,414452,579307,571848,805612,249428,621392,899938,695002,697341,668644,916598,26190,649437,652675,339526,599224,673248,835104,126229,912549,460523,869120,508545,234596,965386,38894,813400,999762,678029,205110,936552,511718,438310,766099,21685,345624,525372,990670,785058,861777,530932,309954,848797,869250,890538,153556,952574,146418,214262,595472,130219,814266,14180,491378,488036,9978,266289,61369,159844,576325,425170,668781,603781,37445,482801,824548,402212,62944,806481,280640,581712,679547,531574,48155,853465,588355,373556,498119,615627,915105,826777,680419,917506,363825,788654,854911,795670,215322,750233,112321,100025,799245,671583,931767,678697,19005,878223,137466,892085,563838,118083,825977,576042,259440,568386,165011,643708,593825,420339,159085,474011,14557,880241,21179,540150,970822,211077,405296,731251,996119,942089,645990,139386,578721,608586,647724,257060,971876,574577,645964,512638,237749,237954,591093,548654,336126,247692,684008,11462,88113,25614,711576,350419,781943,904226,919305,985805,952203,455746,56886,694426,142540,984039,176040,448240,319194,797428,459531,802929,443936,736415,537513,146890,453925,630957,459322,228555,254442,245925,683245,208549,420493,207139,382337,216969,491542,769795,12507,375621,586943,535857,40435,27359,959151,80810,298502,520829,456021,815890,697850,450183,429126,283543,169987,166286,554545,926551,849688,613002,986002,363902,290204,168672,59447,257818,737329,32341,831694,469782,293526,607653,968984,125201,80587,610795,126733,602467,361284,224741,469704,504787,887366,43970,476558,577588,711530,673302,848139,140020,232703,223177,337990,118485,223392,15527,925663,234516,893590,334575,276876,926855,256362,757859,499869,354615,498187,663170,843352,379865,857951,857847,575224,391284,223392,996016,296884,348738,100954,577938,709271,175061,786586,838274,955935,289775,417334,549788,871004,70479,253382,672600,455982,893986,935273,554039,72541,233372,99124,236327,418295,383116,17834,528202,884502,246033,64475,169431,176617,168796,108967,800939,423380,953111,19175,516038,973716,872044,667798,707697,729180,150697,914008,498108,92873,81071,527632,559220,203252,865247,761485,930234,482801,726729,502556,624597,512410,812598,553670,967077,725296,220078,352466,300233,505928,182256,554960,244275,792032,978402,670470,882887,244794,765800,838854,153336,900401,205850,220206,954667,301479,842391,350532,995124,639645,50577,214387,865247,581907,868163,502856,759585,781493,736161,686983,720529,463311,512160,569116,517326,233722,227158,476074,716880,900723,877527,884733,113460,396050,63811,55810,903766,761751,436972,100425,453214,672895,155963,520013,585580,92741,583835,617164,13600,942385,324340,669152,40694,67544,68338,555101,232884,290847,971581,100163,673632,551031,801572,778699,271036,55307,969913,424836,41754,403097,8465,717222,732439,274310,857607,212134,709479,58233,222223,549301,620199,420625,443778,262173,743911,481894,921545,934635,420371,977639,521775,92873,472078,971876,811331,240240,575320,713679,937326,592412,287505,524404,430219,675840,114337,233931,662726,290204,362585,388638,855238,911315,499501,957052,790087,498934,718132,535558,524396,142949,467761,713084,441906,242780,328411,467828,278852,219162,930718,695658,635463,937003,934683,705514,346739,47932,353392,125031,182511,30666,996066,739639,199625,643511,818739,939558,814334,930900,480969,726724,901816,713394,649573,610795,407892,585840,100218,73769,421091,905596,350037,358855,76141,499612,622526,48884,634543,223354,393349,102463,859573,354982,620740,604525,935971,307500,562987,445039,901708,276610,88838,380258,521686,405070,585345,331238,492886,815097,943366,310613,301832,457939,670922,86965,416397,519999,81045,307505,432636,670199,357628,839803,875141,207784,971867,435527,955238,518664,955485,645317,323084,652385,30388,47993,600947,954859,445521,563170,8829,899130,781559,494430,906780,981950,708050,289029,807283,846790,949676,360360,205530,69302,566400,142272,361762,514991,635095,374892,227236,432573,887152,945889,497245,757489,920468,829952,323975,182450,757866,926848,263252,877804,768294,258636,956637,147371,566788,882264,39935,827760,38724,155292,588501,668422,342600,90705,114539,597507,968369,840673,15735,478087,910056,9978,333470,288542,46827,721591,649630,146890,225367,182245,125049,851454,381348,959333,476558,539724,174529,96674,661523,645956,625951,216526,643832,704065,471833,480799,144291,505778,516038,260083,325135,237079,591962,831074,36544,296868,283469,433099,481436,712162,243953,646554,233546,401673,46024,228768,757174,702482,169277,305750,931044,855334,123073,136864,649931,283084,1278,689237,217170,850195,622319,140052,98872,41693,87006,554955,404452,209316,900401,420529,232223,115175,579198,774764,702760,456187,384247,61954,53390,222933,244824,306665,902240,106036,350735,970747,321185,516299,584131,548330,938186,53793,284618,513511,692612,787712,214734,794175,985683,568588,836689,73110,871405,496216,821212,442617,550576,108150,641334,817177,187554,141564,483180,873132,495545,313853,507417,313003,202990,11932,147083,444233,394102,227375,30564,979783,568237,675840,753324,403097,646167,469097,592138,2447,232042,99945,617025,785288,497047,574941,597299,399022,836333,386666,100341,494786,67762,915266,773751,582443,650556,38724,281698,282963,565434,957128,273971,546444,678510,874763,730004,477161,327110,544472,834464,76505,64918,632120,921393,938678,808415,505239,764092,460096,448456,10681,808359,169071,694735,788715,171574,469945,678859,61539,627321,70143,652096,82588,314288,153770,48789,245156,972392,938912,396607,843352,637049,935803,896864,57133,63294,262367,734460,284652,266074,272953,220329,347745,191275,736298,787859,22475,112152,907081,543247,629453,238696,816804,197023,657812,2887,392644,379390,854958,478861,111849,992867,332508,3550,735078,245352,858244,17454,793735,505120,381240,855363,147105,673358,283066,854348,24768,600068,372540,164953,363277,42299,742254,915387,327346,27918,723881,609721,577694,725810,441459,256486,813505,91472,217384,942957,409723,852072,788346,835877,349943,689160,967239,340802,204832,82716,615350,416190,510067,889797,764120,126991,832791,701683,952115,345420,928369,336126,717030,355047,221184,28673,95378,974027,397747,457308,884051,392692,224818,920168,816927,417109,942683,195245,581712,249365,266114,704932,782404,318839,846426,774446,723449,963363,499309,726078,799794,727348,328136,57389,154969,331681,882962,600687,687068,442622,573437,425274,451569,411551,289934,683677,521521,696053,81711,334056,65367,616967,761751,386816,880942,310613,413070,965733,37342,210909,258984,199685,570708,324868,134758,2087,719958,382157,987845,84633,111931,695937,431298,270493,291292,921567,295533,789610,50281,529493,9060,306549,878984,813505,359248,868124,217220,159254,651313,995930,710361,133421,752943,761529,740599,136816,602273,774775,259719,784263,994638,593276,289550,600902,830666,995778,594935,632208,750786,397862,112754,659647,486291,963667,538439,980642,237560,53578,545147,89692,47675,871004,775349,334011,927275,132782,501933,539852,757252,390415,259539,251763,748476,804908,521961,318274,88887,971809,598803,859143,415342,782179,429827,35436,874038,761519,797561,470727,115141,921653,330709,525778,739629,137746,304036,116276,466691,860109,535841,394974,654167,867783,335896,448584,56578,680969,747266,955238,697340,129718,671831,388561,720082,355080,533490,211381,224741,398907,156869,429686,401220,622794,629018,794007,849294,255911,52710,898071,814248,31731,523686,832915,481726,530959,600326,348738,271300,857157,949491,149962,434062,307330,111467,372674,327066,969551,91472,785510,798701,427224,467166,425535,472430,828018,572308,137979,543344,674200,214144,110827,696988,934224,978576,581259,871852,410286,599306,383780,938050,472712,712240,57825,910928,705763,710993,99326,231792,157299,307017,804362,73934,78265,454298,96004,241853,225588,192663,304036,32667,564646,520641,862514,643479,664170,723260,267594,757734,874340,620456,751915,69924,560526,71164,715354,574205,330361,120309,13355,835126,232033,733358,658821,758659,692612,957645,632867,509604,485003,411963,27359,406591,74556,849875,229304,320112,225084,718244,388740,823341,640026,50703,28635,910534,369125,450183,321064,125635,296868,987078,267454,871137,214872,12250,267611,490982,220327,101131,643511,449940,723180,467477,140354,769260,625072,301262,789678,814865,996833,71393,275244,566101,138389,210376,381301,570234,646785,827393,43775,855238,864606,559674,46142,805519,590030,225025,453647,665240,330196,898406,225834,386952,899036,997810,720082,356690,785641,114573,265562,656870,671455,803038,84548,218694,914817,699874,460852,961926,84849,199275,937235,297939,511160,983883,423990,366037,174815,910178,303611,907112,17934,310558,365356,952799,536644,514991,976410,725397,98320,453991,227709,653094,505928,998716,926758,305980,463881,166910,218364,349208,735177,49649,869651,328465,8884,647739,529248,410888,877630,521375,64273,875365,524687,808988,576741,367330,828634,443829,27230,431645,788855,824777,616481,951354,322915,672168,194634,785260,801919,550019,320120,751351,564961,728510,528451,426130,763752,25978,967845,331137,131382,811211,977055,582443,986646,424506,597352,280307,128968,293526,813323,916259,407137,821996,278402,912366,828162,147575,753506,90202,94680,262045,486061,957218,505735,307898,626778,70044,958359,592143,167323,702718,685418,90493,312263,504357,533402,238097,172648,258487,100241,686571,181229,183055,725518,876517,335110,607956,265021,803330,651126,952326,432888,400086,929780,146152,389257,623615,216422,904491,740775,439788,314398,241853,771472,505958,272999,613002,314160,613836,12157,723709,980642,95194,313394,275535,633446,168070,829435,556819,885159,456445,186864,216946,7709,824415,856787,104459,629710,375770,835744,151249,977019,654189,338924,698029,201258,531809,827059,582652,140342,178200,628390,209561,684928,205675,740416,113692,320539,617844,756181,105460,334748,441948,851336,957453,714428,789917,537558,864526,573172,119732,840236,767359,628948,519604,483762,49875,317763,645492,981278,940743,991061,810644,780821,185797,800390,393520,158599,888476,174540,524753,805046,527307,726444,950829,907863,502155,861748,890184,869178,487926,190891,288426,435302,784586,372440,997851,194484,892085,929128,528799,536446,159482,716777,138663,732879,704599,62311,991859,242132,304525,911943,521276,466523,321815,382443,649630,218408,599022,558881,592084,422582,685701,14231,560052,625474,327637,459643,439682,193279,366114,280640,483549,84756,468564,545738,844717,233124,678494,427158,201597,549164,117238,424733,39940,150399,562451,398907,249990,962692,1850,774420,140660,334153,228356,641003,961371,441828,489982,889428,353291,468597,406622,733609,52356,218038,688239,999829,516858,222963,344418,666973,38037,143106,902103,204660,337725,358372,476634,789739,146459,825148,827736,703796,97471,469660,729286,107014,953111,322396,6828,605685,164450,255110,605192,322995,756851,860320,115191,511357,695055,593794,184454,899250,82513,541948,943341,777176,563416,991470,759261,484990,514522,139353,172448,407444,132980,822958,45045,197049,377289,489303,915051,259440,436848,482770,260740,546403,854252,570439,338571,37877,338823,908247,898034,228991,237102,894660,952705,288015,51663,268080,134397,288310,567343,935065,919285,936538,177535,297364,818488,191754,953327,34077,392515,951392,696792,722033,451432,728133,576132,573647,608034,9268,295689,67485,257659,103727,674200,144892,909532,542035,120971,230426,308235,918461,648123,948171,264152,680555,245877,444298,382206,575445,495975,256044,277581,264492,774247,694174,958841,354272,828268,629365,469809,589213,142623,671484,972397,153447,757751,817075,949248,35806,935486,421408,445004,879320,471566,777919,648056,175534,841517,476977,707581,277098,308868,474477,646110,451978,873310,726976,373904,201171,935220,4259,321469,806404,494786,577994,388429,916086,521453,932238,41153,168540,375483,914400,628163,605186,57796,121545,88488,669711,395240,309354,946029,890184,796082,174228,558697,277405,937014,233722,778699,161860,905729,841517,994287,177453,687579,253141,700605,531574,929205,263687,392044,16381,611586,955693,937326,899910,386226,193886,79368,881063,326895,405774,78372,145983,576692,122156,419061,234791,811965,273840,213968,522845,443689,701630,339129,142497,484211,838540,827465,446999,795098,146252,328189,14208,130126,164043,408342,620948,316604,864398,341436,872283,827541,147105,668480,72242,568257,654320,420714,53366,416888,985716,250089,268988,807120,984013,385507,252938,649455,951386,147230,759295,274847,921828,790964,352861,93847,525190,693201,521352,586805,252938,494108,279052,132529,694575,370806,213731,427665,217858,95141,354256,515872,388599,57133,823879,443745,858881,775702,497388,932176,271535,174505,278402,869664,829818,452681,84390,882540,823389,952762,269555,196663,561364,222282,546668,938832,866547,314906,813398,512281,161102,828402,929065,757866,213307,588480,862663,520353,445470,515984,473442,294690,640777,123103,215217,297267,616037,95282,937965,395256,90493,816172,79782,303424,383780,293487,598552,500861,221311,897703,465735,897456,217745,990809,317634,743734,560796,292967,701630,123559,723758,383564,503111,903705,246998,60992,95859,277867,519242,226380,122249,726270,810359,77969,435510,55524,217818,976643,74344,582023,870933,409280,334975,955123,923056,503958,700608,789335,905596,812731,409513,132598,992865,793726,839738,519808,976396,216328,320611,174541,927802,710738,927536,233846,911204,108701,871448,378221,95678,663755,601082,412824,177464,162634,236327,242082,265104,965665,377297,974025,957561,197119,656298,720437,514516,882913,560355,389244,20657,706796,177931,411911,889584,909180,307333,518832,233812,516300,311769,270959,627698,672724,262097,498643,203631,616615,978800,54015,122396,489254,460852,505171,110041,779802,66849,497954,524260,980444,120175,439466,527841,218364,345981,290777,230201,159372,554523,775746,790901,244813,563437,525190,511500,549964,889014,459130,551303,625864,894783,141652,447783,122958,871967,690128,849705,692519,151852,778133,731429,232598,49300,836049,762804,389052,872751,50562,822005,892372,915645,41874,716627,763161,112519,417483,250373,183550,784772,646935,26174,451049,48789,628000,121162,273216,11212,591093,134754,450731,280466,496103,912925,677704,598057,322233,837037,733141,242831,195769,221912,764089,637086,253905,903856,268045,479912,312602,376048,88283,324017,962320,75013,993567,467524,63732,792730,729405,727173,414670,463337,762922,563139,784584,348384,185274,415268,741422,492379,995124,845613,421518,23145,471665,147510,869894,725061,410618,708079,485839,165685,176385,273507,582615,889673,34171,233276,283544,905399,526027,331038,349460,791128,698640,105829,360117,407931,609199,790994,623716,850335,946277,690369,305042,119284,618573,725940,50643,738106,439788,58772,45817,96542,485328,791852,409180,795768,821789,81999,205857,871186,453845,221776,999937,44818,17126,591631,379389,234306,614324,392910,408445,354744,157510,156018,45122,548898,947329,986700,302617,652693,842288,921888,557697,363341,919991,888442,435777,132494,537116,929919,380959,27155,518830,372440,727645,728417,769795,615302,192534,990796,486780,301663,846001,834965,279346,462741,706459,360735,365724,473438,417290,805626,744259,732968,327390,744524,878098,668620,907091,219871,830384,134583,550812,473887,325174,312348,662358,673211,549268,119637,504895,849294,805625,853128,362664,640956,816804,863486,860972,881237,348647,222661,283543,819262,751077,589409,246969,262359,994787,564145,931345,769723,236251,119786,134597,84784,302222,489387,94631,218091,392973,138389,350153,780057,348695,681204,796107,361167,363772,923724,722682,965803,114401,717830,870933,6687,479023,863418,455705,770164,145414,979918,870886,233546,837076,22475,518027,76378,159941,856218,446825,221333,665282,258866,534784,177865,385561,996552,984694,733658,78551,453885,479538,184225,603160,538760,67673,994460,472430,46142,356756,81955,551171,256121,681204,792215,90028,193886,731284,388404,730814,556464,252594,268582,704568,620163,96747,73267,955615,387442,960451,122738,130210,80308,134722,411905,236416,587336,883097,917529,730425,223354,613085,776446,637049,545461,233846,631808,462785,540389,104211,971581,193171,491837,28849,413538,246776,518686,291977,318485,856355,378683,971090,945164,999989,753941,450396,542507,190032,20133,826919,556593,709479,232091,591751,78263,161387,472641,996876,784419,31595,249766,959195,519438,998702,319197,890732,766719,893807,490958,250330,644366,103780,198428,124570,273258,987362,148665,860938,323481,610335,140742,470684,776171,954114,170775,877026,967990,620971,209171,376106,243427,643509,991972,905196,152896,168723,414016,619690,994887,112861,32769,99730,162983,441587,860141,210355,695658,146162,576774,991547,367236,253263,205524,757276,162409,157748,483037,417905,530288,492883,198006,540874,374237,557768,198833,300566,450040,668207,511438,683769,766098,829081,541407,622205,744996,996264,128882,460223,843225,501836,809598,406082,923271,758806,265833,62989,24817,62251,794441,287700,987915,969907,917409,537083,983728,163850,580204,314544,499207,217008,389730,159238,529009,665749,721586,406964,180768,389257,126677,256036,630837,647769,520829,21401,549207,669479,336286,677727,517737,270234,452187,129718,428395,778079,640639,233812,236577,329220,577951,563139,967490,321091,768407,204605,207477,840758,890348,359184,180766,128734,285856,411551,966944,814296,406591,903740,490725,117173,543858,56018,81849,248673,934721,19901,366867,262163,287161,828135,340208,436697,303449,102855,312542,794691,151891,765800,235257,888442,128993,462052,722360,469650,202163,842723,713642,311485,14208,497148,4551,126557,238543,65886,812297,484610,514701,722046,164596,593287,984371,129712,690113,628168,304091,870258,842593,193532,539014,869740,64629,949604,448049,620952,193652,740416,762469,61111,525767,402915,196999,436485,372174,451223,680904,245293,782607,467761,725061,635848,966155,809981,580866,330756,831527,437041,584552,815561,955123,347674,783266,262927,595120,765840,345624,113644,377289,703088,109572,314298,660922,590573,260083,471476,201227,692713,57326,116932,410478,644173,948505,682861,416524,612629,586872,358372,632983,819063,434196,691959,626783,309446,995278,773215,146255,616405,242801,27778,784882,577096,25540,32845,647138,615350,169252,916170,990906,563944,309954,239629,687393,814963,945815,556322,408190,313394,301516,611192,897954,30668,334875,200634,93423,346803,277244,953239,845655,887799,226054,420935,510067,565305,995076,417713,896563,647070,178058,631552,720422,148828,551386,192711,299920,718358,926983,770447,702707,166686,758917,360172,701329,820346,948621,884057,427751,304985,850668,967281,362493,992720,768175,946176,329009,14959,133780,79782,173248,927926,227962,696548,646328,189777,538940,610516,405483,475372,424959,886269,657560,281145,269452,291420,279673,568841,552369,432580,885354,494402,928048,379865,503925,827410,301432,471658,478311,554559,985149,802821,155292,131476,493670,788083,788970,697840,263597,282719,782824,814005,89080,58075,160142,716063,211457,478589,735778,701515,422074,483670,370896,172967,673381,895981,58998,677028,463311,638945,606390,38419,312047,418029,925525,578687,460206,728566,620878,800591,139058,520542,405524,156457,960175,560796,255948,844496,652552,95038,23791,661672,996880,360225,502442,539724,52283,216902,13950,945974,809241,108273,33454,166849,243911,373115,100952,577540,624098,350095,909087,14292,901668,947570,473511,692686,313278,664325,4011,888818,83719,639093,311091,559382,294768,83565,623544,50732,907477,624699,561340,410116,142976,308712,919900,19005,770368,95942,526945,552710,138939,991074,525375,371827,870100,743143,369840,862847,423322,62339,753024,497604,606390,470110,361018,29679,103271,472417,44161,546047,574413,201965,943525,604622,826777,290545,393837,145612,355080,258636,930632,373104,60621,780611,369498,897600,957644,619558,932176,450846,588573,70292,421511,475181,252614,667080,769828,98269,125326,618948,783459,907658,774247,734888,945845,721232,442792,822423,47996,604040,981076,342009,122738,203841,97656,781845,250525,454144,144683,378221,137723,95859,238543,290847,58056,393349,302483,71393,412106,235243,941130,201604,449242,752401,622974,375278,119732,116198,282366,133095,103596,904118,741893,681051,246998,734614,493157,202957,173568,998258,498848,652001,281978,119715,775983,854817,95546,184435,883021,311375,27249,920496,561936,661881,435302,815722,827541,650860,942385,633154,353039,252278,502414,626174,144710,2897,919266,833826,63811,265833,672424,317167,570274,827158,813270,36711,622905,374865,632336,740775,778204,433056,217101,504563,641394,556563,325648,334314,905528,200673,681020,492932,169334,505711,462170,101298,855333,305204,432542,784882,848918,451399,647513,465260,993335,727114,26831,382447,857619,303399,529795,751437,534794,403032,824854,795768,702740,89152,746668,851227,604904,700401,568640,874174,454104,923155,636499,2027,979764,682666,452990,634007,482383,838732,977671,476274,316986,218865,385911,979096,384247,75714,331996,941321,981703,531718,843197,194634,983357,529863,26230,828268,788747,764998,376048,125049,397015,138900,21912,514544,783930,644688,641298,612629,164581,734828,911537,982986,684301,180437,391284,775371,572074,159609,845281,554415,266104,512692,348674,374363,254555,110241,770299,124529,102650,947217,587687,486061,722256,238281,769567,14986,569280,234516,381859,417143,503431,124489,373890,139215,974785,94736,572291,91987,270223,353097,468425,307997,976118,944477,173151,809201,908640,541566,155392,823341,56814,71751,798015,588396,518108,338415,297291,175534,677869,603314,66601,36903,400980,135132,987137,472889,318759,241080,504906,369815,900761,736914,875925,775059,303414,475381,156043,377289,555802,670868,323528,879320,295227,275244,271094,282665,336702,504895,739568,246092,367146,874025,500724,452472,235318,189254,244625,742743,101890,722464,264874,714678,734828,784808,433135,838878,457088,172923,422119,404849,736173,537259,482463,867271,191366,754290,141310,922793,968984,62898,663285,50374,494899,479915,831731,72469,649504,481147,187907,510898,760450,54838,932634,625864,755361,51005,815561,395012,150761,855862,907533,108856,382209,334011,484211,440943,35139,457281,63308,421948,966655,160874,486026,272860,342167,171894,207547,941032,671714,24522,857816,110254,629686,957717,143724,22147,16796,312838,959406,287858,144504,102748,884185,914162,228785,620456,583758,566429,8145,435649,49168,177431,420251,87882,540090,186666,411980,577162,92617,606859,395203,887956,324928,56743,509989,698077,392574,729947,639032,490235,502155,811740,762235,763752,388367,698681,801729,364272,783262,911984,64273,639421,323830,537975,472270,683936,757989,370620,373857,483762,906218,937965,566477,396170,645405,854245,192758,456892,806874,249846,294257,995170,290788,558296,493719,461880,38069,299520,740664,466172,592534,575378,778300,903281,137362,431277,292411,477878,98727,574518,361780,158146,381989,478861,421233,193688,327766,934906,115754,840224,105613,404169,427623,303856,863332,423549,671280,663630,797751,167701,225588,15527,174630,557166,120470,34239,322925,313369,87702,915763,288479,759741,90621,506097,66596,151249,190017,787069,294012,256121,351587,289093,992570,580610,44759,728891,696872,310634,879986,120751,220941,826919,116454,81600,862393,406057,574498,633731,705926,590170,638407,306674,522852,526747,776717,538940,396269,805538,547813,619903,158840,760926,954557,486081,718611,374534,937723,426581,103648,518732,513886,756838,959219,425170,64642,191048,29335,990638,951565,678430,889336,252343,135168,851861,968867,652283,850539,746517,968320,88488,183482,532795,577640,288100,827512,55495,508872,260159,365625,55969,404750,443689,963611,921881,130874,889576,900253,119278,875036,135412,946995,945140,856927,770374,142623,70073,705479,249267,425942,835125,421977,242022,257863,840107,137307,200333,700325,634099,182105,40357,555258,686272,613838,337358,486571,561340,292787,43870,461471,216486,258714,276772,624302,245654,267998,168070,247933,160373,78052,809201,790738,430384,912336,459538,113437,34619,623019,614692,805501,195985,244039,999296,361639,511357,184525,590408,814828,274847,229722,457138,495604,500300,513395,940762,65812,271948,444136,2260,509989,627233,217514,381174,673482,898108,568637,813688,435499,335290,898682,844669,58236,189873,157296,202717,916086,183375,729309,111467,569344,724450,794007,648394,894376,552369,12049,38286,965002,973716,823022,840580,172901,810037,699670,218445,783571,538567,298432,879986,198006,360338,548449,949200,928472,639645,681732,663285,358482,738560,651492,401010,207633,352671,967404,243953,949676,83609,43613,161377,130024,747307,693699,802020,326215,519999,884465,885875,484700,279358,914441,103724,1850,949603,71617,505735,45766,798701,832076,858378,914816,265442,165141,749848,662127,255958,771666,964405,920052,458918,624443,673946,181168,996552,555204,529493,599496,230426,415803,718291,249263,346198,397646,904751,629028,444298,678236,990796,270029,161377,631572,777871,969081,241815,661789,990860,560896,568956,629998,160142,16876,221204,906396,733482,765811,166541,399021,713568,96450,684301,423792,231646,455980,878659,759585,58284,442772,680287,647724,52283,942486,798967,703856,18782,528675,515459,932735,377276,41693,713549,172570,642678,984012,896661,698640,182786,44543,618105,70541,896076,434215,842679,251137,26042,846993,54425,416902,106666,908640,628000,903766,137822,341559,765371,503067,166654,361329,427317,561471,500083,830369,999786,528750,411412,937069,393688,525488,753121,376576,602316,270269,724806,338506,377077,940833,951386,899376,253384,525809,550113,679281,732722,877875,175249,170666,332391,724893,869308,699874,84548,374906,997417,390759,384541,521224,539649,243703,854343,79300,916259,860109,652542,981870,569116,782842,571367,190508,903593,662333,774742,702896,842769,436972,996566,696988,948307,722256,177391,166471,38872,959074,222223,20657,78263,856915,443936,577493,602279,687599,291560,767344,856144,779464,916996,785834,627145,109475,6700,206246,94487,395099,487637,929869,757935,400971,378517,239159,873857,550503,769544,371089,93851,419431,681214,741842,373496,325073,73144,94736,383416,554394,444331,456188,180693,482512,966838,267875,438546,704568,46100,311137,839803,593290,879134,872180,922126,957644,775333,716268,668049,770447,569591,553990,316196,607384,706003,712635,523751,896563,872527,484990,576042,490235,50891,835902,929187,306085,610326,691668,629616,885902,543731,264975,183247,720192,143708,848742,403782,537825,604843,707619,349682,711574,531592,25547,960142,962320,485413,492962,606660,49301,448653,858796,266432,917845,219150,19,655247,652283,130151,431821,268823,563017,480056,911005,909157,531718,76059,162843,825750,129876,736371,400223,26489,762052,374844,132991,914008,483730,23228,94256,579775,959373,726917,75444,912807,938319,492962,835844,151716,396050,527954,97066,748435,867586,333733,355526,321469,163967,871369,867543,599722,560856,994322,729788,413879,688573,58236,483835,496494,971761,900446,79851,495153,934712,487168,712253,218804,405299,561210,564055,774763,443569,335161,477860,285856,481415,474346,724420,690825,558489,808025,516300,810720,334117,322199,178379,593228,309446,770077,353644,2268,341505,451049,98314,887799,978437,849292,17831,56987,947077,619251,463807,517361,389006,973520,985092,140660,554545,169405,65039,902240,214788,272686,806006,442785,478232,863377,934503,427847,697735,119123,153991,427305,393531,73421,5656,751643,17682,181314,950158,511731,496751,362524,566408,277013,260959,914872,542901,960451,921828,32132,433457,873251,929877,38159,321936,137952,777569,688573,737200,523206,146650,406753,766959,496685,20187,728470,322669,8090,799821,901636,616033,871731,37041,571405,968634,684002,606611,930811,882827,78329,209668,250352,627005,579447,634940,550780,508148,803341,628163,479538,247853,956322,324174,668907,913603,377797,949763,583747,697746,522912,398551,896072,550144,792252,59997,602397,676610,850854,621719,97510,682666,934424,789833,72369,140321,898479,724592,634806,351217,225834,169638,317895,607176,539717,504729,261032,793343,495102,686449,654247,682144,327454,262138,875370,278204,89552,788715,413092,23246,51894,651591,645199,389439,113692,228505,844496,301783,874087,856495,248235,487358,603621,632999,299520,776986,848053,473337,236416,146728,539072,676459,136816,887189,869740,482059,640904,25119,476887,357812,217220,103245,293377,184388,673472,385940,992632,58410,767977,137019,261695,534988,140354,732613,887024,722713,903946,292269,339927,788910,510002,223552,875354,115109,182872,783446,520999,1767,980355,269555,558192,731550,76355,447488,994379,438929,476502,257566,508391,707619,391790,566152,160484,903174,262193,474477,613955,180295,334044,672600,428775,373495,838878,106269,930212,958187,895154,383013,717708,881021,108841,958045,701173,18007,286622,966660,839,102991,467880,773711,930031,764998,973040,920522,179166,892986,246776,941032,864339,551519,593906,971833,343273,509366,541977,648705,140729,175869,876592,75347,427563,741842,964901,367236,417307,81999,830666,699007,213807,995780,835771,806592,752023,805501,276369,280659,475804,87857,41207,719098,290466,691413,108258,302654,486021,305892,612120,712510,188222,329780,999559,998497,264152,478432,46213,561597,793124,340208,150955,846001,717497,560230,237153,196619,489332,950259,47054,519438,775200,908055,341010,564085,24549,316489,651847,232807,442369,286684,961430,557954,617305,471324,252837,496216,349291,321036,994777,497604,476977,607384,915746,707618,37888,26158,940269,393921,979481,968832,333486,953138,773223,188002,788827,638483,380991,508484,365469,275011,561168,33577,820779,206107,171639,714532,332088,586144,214367,997810,47761,7111,661775,492796,240980,883391,366037,565647,520863,310558,760762,837358,156375,712059,548330,242517,125224,573934,153693,249543,828212,988329,837101,212238,522999,417342,945974,415228,972062,802245,897812,495538,972533,353644,39194,315863,444587,771702,213867,362594,542746,537606,339985,467461,772542,723260,173629,649283,884248,254882,446813,223609,571280,980340,845334,483283,82085,954859,381348,390434,808121,868728,251841,176565,239101,4735,536807,119208,844352,622123,141362,66378,545862,458873,377264,760471,885801,149019,18184,618896,835940,409861,91751,234960,245925,997969,516623,757798,6651,111527,340267,746481,962532,746497,602149,846643,326609,812977,685418,252681,728405,474346,616696,399538,519908,70014,730815,305887,285034,313451,717820,270051,744492,778734,721569,300296,250728,916987,810467,266074,306805,753637,787965,371244,123073,651469,510780,443922,940269,79793,653369,942235,622690,53793,96433,541321,536024,551846,234407,352402,871448,355075,968979,225856,171787,476051,474775,508825,233661,957629,933106,181328,806874,948260,218810,668562,33615,796082,538852,856787,42360,70556,702482,152270,555462,705132,555529,316827,690962,204660,203631,633045,328394,984312,794441,507909,79040,607191,278300,148497,910638,901550,930276,756792,820459,687298,949151,154132,166686,482155,164562,96686,532173,967064,197836,890562,161166,319210,947277,698049,323252,534950,675954,257252,728969,360328,497351,7442,706599,161537,156375,233965,801561,33190,300686,88837,750517,307960,883315,110254,725810,186683,677511,747604,366032,59671,847812,999604,132598,695535,999223,787099,97604,207105,281491,73460,262925,983496,28430,971026,846790,674803,381336,937340,193148,109824,672403,28586,2065,519727,33454,299195,998575,501547,37677,637349,733482,710606,991037,330036,856927,717468,268080,294001,702604,804242,435702,227640,245261,58224,672297,12123,321559,42254,137344,511085,961675,33215,796106,824427,557007,326911,251736,168261,211,293487,838206,807855,574750,140342,611161,9148,978404,38010,814693,568761,58794,184925,640444,947044,841529,274202,926848,914336,245525,357001,236840,417745,393135,712769,610633,871967,905717,398646,397027,53357,600182,373904,562896,957218,691668,654662,290688,635876,26158,668959,488312,216508,549940,700896,591322,282997,77936,452886,928212,882674,428383,145414,873181,477487,778997,186247,560510,503301,818739,956402,393443,578745,400071,313036,50891,134094,308462,879663,643423,38912,758653,412870,861146,295483,323054,622437,695987,762052,654554,385719,524045,975271,51860,546121,19175,208886,934606,554494,807532,722994,264598,104116,380122,786030,469635,829802,924694,963973,919064,768284,800130,445004,110235,709444,776717,342932,893183,264945,580019,37445,95038,619858,305892,68907,70719,233276,75444,1057,277333,871369,830703,820175,288757,380087,914030,836125,357812,40357,781778,836704,663794,551312,449408,799097,442701,671536,540121,164709,870006,44502,696548,113147,716781,62668,859220,789833,381351,350251,944849,676326,406492,40046,799322,92214,41215,109768,698629,968634,449879,976440,98872,687743,811385,757276,781309,997058,899282,942235,792586,315928,769506,174851,910143,652153,322088,176385,79040,104112,203252,834140,729658,207827,237159,252997,917858,266569,661450,430307,332457,41815,512240,680200,844765,654180,688239,250332,222615,839488,975601,641282,17955,411068,138140,229304,446157,778230,195059,400735,707581,988640,533899,813044,214093,889847,493363,547102,315019,844253,60093,486763,299531,591585,475580,30838,350044,823861,887956,973974,814417,979752,826409,307693,130856,922675,354644,275470,518027,373898,759359,303699,224522,98599,721603,267412,11872,157299,375041,544803,738560,637504,816069,747854,725867,284933,202207,447324,884011,497094,160576,965234,250298,891142,328189,406339,55409,277577,696824,271403,789678,552028,468935,798997,208671,537830,900523,289129,585787,240820,96591,27386,762108,242195,414271,929740,522159,256070,928669,416902,936686,42637,508825,355388,415321,578835,697686,414209,762431,66497,838815,399677,857157,515634,980563,864526,364692,336482,589213,642717,819056,433276,848962,316250,325768,465467,995950,853760,231191,350867,696285,729218,233787,571280,621719,621390,61489,986700,122375,933450,772221,509317,730189,439647,626331,869264,877600,789917,66048,499089,333821,719320,178078,951159,952099,142371,512940,475930,649931,319491,421977,292664,216291,18874,665910,245995,959736,797428,771535,177124,178792,14762,360807,840236,365139,300416,443286,213733,450380,937795,494999,353817,119629,499260,334612,34187,825625,420183,849293,646928,375483,576219,214861,694440,533785,417334,786865,948621,875816,379868,671135,438047,877779,41466,94487,652631,521761,712656,99653,737034,947334,931318,47504,627953,705154,616773,211381,814146,819967,600230,181547,320098,752802,965594,974967,998398,987968,755165,11931,710013,832913,560896,189254,962678,105015,416784,848962,222393,536633,213349,825512,154843,294400,562465,706571,529471,196544,838815,870246,29679,964901,612947,779419,147074,797626,706796,557105,369571,498817,828427,762495,326638,89152,691864,392912,419882,312735,28501,475381,169662,783150,444403,123608,496059,332361,697919,173672,553725,258068,88887,876347,533613,334370,462564,88387,668248,256383,454620,289129,948416,434215,225709,98320,954429,805011,561561,998805,186463,448441,967020,555529,707728,822034,886947,258866,892786,145081,485232,289804,220327,228184,759874,953239,882167,404974,654346,34562,68162,412824,660705,729527,335780,665623,415803,962409,465629,519855,493901,259464,729431,741045,426676,144224,442107,431471,594681,18782,226586,464571,396210,857332,123624,981399,944378,858749,409977,427158,157766,103664,80806,351210,286833,690378,395240,435756,99173,296691,461947,954837,254046,554960,212077,475180,506612,178329,400233,622123,392543,708989,554754,702646,927111,192570,678592,724295,16337,863225,540222,528691,676610,419061,124992,282934,428395,781762,419633,926038,748838,420935,582367,119523,958263,154058,358488,812666,886156,29995,895476,487797,445249,551360,776544,829428,144679,441537,565952,321273,256865,293777,971889,570197,78843,496751,829296,344629,382788,36935,24819,461643,25048,479023,341085,97656,282755,73661,929735,22147,986053,497148,524226,318839,675180,590577,185650,202827,816498,369253,354248,417143,370526,87293,723764,696440,251528,665561,499071,744347,603879,880389,427305,710343,148761,166261,399229,380401,276610,412119,425236,739566,74298,220127,669128,960938,611007,508411,198265,234617,827736,728662,417620,809981,262359,589409,335374,233251,676326,192353,160539,252604,990712,242322,851727,930557,442486,125706,674718,788018,120786,287001,479912,268249,836874,139386,372622,590577,867701,620949,860141,998497,273721,495209,83017,583758,443363,607505,541561,939365,254048,924838,119987,147826,348893,647400,845702,697850,362063,155031,585528,938299,582251,295589,913281,395613,715937,574297,232686,149809,112226,682824,448724,388334,429735,802119,464043,981392,78806,716814,42926,934972,574109,82588,155483,743193,33360,764812,796997,827992,986002,331020,969902,595120,861975,261293,130466,113119,774764,646910,963034,329310,700139,565647,247773,187093,698507,213349,23354,323252,80330,601620,267564,642673,764214,568732,33215,321176,12174,937159,348454,379353,104866,849857,565952,132142,641013,461810,876145,384541,915854,451759,642678,216183,2260,782724,899829,193821,580748,991263,930212,760172,560632,300403,783939,679777,961430,681020,570197,558192,397862,9148,426298,95863,15228,287001,902433,558447,700774,935640,739192,484304,245293,729754,28055,998221,214994,887024,272686,345521,924888,525372,64095,410618,847667,208151,294768,417024,933728,535129,74298,327859,195023,406339,521521,241537,330151,360295,313541,344983,343974,861200,274622,110547,253821,55082,464714,326895,522131,175276,67755,68701,288137,325824,214410,358891,292390,891115,776797,263111,416698,139215,142542,885790,166541,534689,171376,237565,852408,845587,944694,409413,100576,949030,241,98077,80057,241,407890,742585,394528,311545,164218,800407,282831,802343,951120,505746,156869,764298,566429,952326,92046,643423,997286,730467,929223,343485,694118,551806,817751,603012,933944,757989,342125,54003,66254,73804,54806,455571,185926,177961,470160,812588,185934,784272,723354,23718,62898,451432,300416,678735,707618,6893,216508,230290,919368,708645,881816,500300,310740,401617,816498,795857,31342,236251,62658,761711,744670,112168,322467,733091,814387,539852,427537,468381,253263,250512,48044,870246,853172,307453,166612,81849,541314,338097,48992,558296,997920,957717,91857,595017,309862,502077,624171,128832,527306,987939,243512,404849,229168,955693,281641,406695,956359,646461,354211,372350,647177,878231,668090,763161,385940,967067,19901,55889,204542,798637,784129,96459,706459,986482,452407,520641,206107,657997,134838,781221,230102,214354,872180,731874,507752,754541,812263,435514,800645,166286,462785,956373,811214,276876,931460,678666,572470,13633,447783,476714,838273,990019,832066,586273,831090,534702,354093,494915,242231,569668,444946,874275,149214,790738,232682,310441,370896,865583,921904,368028,114722,868736,448467,253838,72469,802763,584904,439618,679088,443292,998461,816925,78556,423907,313853,800203,512709,635848,448853,449718,588034,549585,603158,558579,578149,684008,253271,350425,320123,104201,489964,743848,188342,704298,605251,964014,404271,322971,61472,31706,138727,13954,869099,15735,313541,564983,745709,273851,104995,873534,600230,530475,644448,208620,251171,443587,422967,362524,618276,476401,530545,612130,435527,665553,383959,770164,926551,719636,748811,490812,503111,225154,576050,955935,501425,493792,847025,913706,879686,912807,641766,126484,450546,829401,237899,642908,566811,798467,224634,501546,820274,680726,840725,565434,462310,82526,891843,842718,251733,497184,839571,539962,55549,898313,32640,377289,396337,490452,836333,344639,357709,998598,292298,247704,395605,211457,606764,927924,318631,148500,168261,26174,778644,2357,958306,396416,775027,200634,333977,492997,381998,474775,689220,191893,592236,613166,719611,16883,646554,777781,52959,460590,402056,734171,930030,217247,378517,970014,435955,976055,85631,685636,111917,424506,134244,814828,848139,847411,878201,431727,698077,372733,269081,323898,463114,776984,562451,613955,489505,539861,558420,175151,802485,360305,658794,950335,66951,817809,299151,182237,927275,805301,460395,437641,324380,546420,586140,212207,608323,769352,783571,428039,419559,408850,751932,32477,369940,868387,16147,714567,206932,740664,668962,61941,822933,921409,683777,307097,178047,883652,646128,486711,57796,771472,624561,756210,628514,49169,754055,649198,733769,575320,120576,720961,112532,230924,298377,1556,426195,596309,811795,227293,648363,757935,724328,924627,81606,9060,72433,47231,937795,518759,375528,276237,234010,299453,529186,173571,25468,525171,551601,185835,222615,269005,572142,662501,745278,948946,579328,55480,205227,439810,74261,812262,433420,299934,206097,946549,886198,637547,528433,712266,271829,486081,759832,744492,635068,661841,455117,588344,686507,237395,374518,645794,186289,452187,806010,32640,205110,594251,661106,574941,643981,801536,797110,570345,826836,831164,581769,402915,735177,504447,522990,458397,920883,170822,945408,220747,422000,814334,893649,670873,774195,251591,135943,295754,931486,304436,76879,505101,304360,344918,679020,958782,471686,833329,301782,399737,539861,360093,602279,971148,151065,999110,615517,787099,897031,989214,922419,548683,803038,457138,902195,542948,347760,199703,398409,470110,524753,961371,42254,14074,243822,202867,832829,515459,747307,396038,413138,881388,782657,649446,876880,348454,863418,103950,976410,784346,769544,443604,718993,884242,776672,322108,894783,109669,405192,215322,128159,757272,70037,411832,8467,848781,109677,55576,471472,376027,855043,617896,162409,295436,649778,945845,440619,563170,837076,827560,206028,399538,261568,491779,418729,912740,409861,605247,660754,549160,651060,778833,35420,32518,15848,44044,58689,520287,166105,673550,929564,683700,437316,922521,190032,620948,321702,593276,906565,99441,648558,142948,416008,548683,936210,47843,43775,535558,748476,959482,989315,489323,162317,219693,990670,798662,843461,763498,698049,457939,153336,366499,981207,354017,879158,845609,446963,285104,90202,948416,911627,343273,228505,131261,750413,329069,509924,660061,743865,757174,352354,398339,66528,167592,39901,505581,788018,47993,825026,472417,155197,19390,45023,10479,878659,503074,428981,98341,793374,765171,56912,845152,40213,54866,898313,2937,981511,419865,940869,686974,381463,955048,731967,781319,400223,902811,7718,369620,989214,920855,429366,951126,819070,163831,775333,794442,49281,99994,758940,795622,322396,963688,606404,41661,451870,104878,759261,600068,456691,965247,147083,549626,60300,576545,869196,911087,947433,723330,201679,912854,635876,763338,184617,977115,465735,182256,572985,616547,779103,158616,276109,646591,663027,151154,728770,917578,569421,1539,683677,32375,364198,712904,334598,35282,202551,872802,303045,642790,981207,459722,540222,412452,366241,456884,213616,275052,847855,532926,101511,648586,462170,653791,193612,593228,689922,212071,18152,777528,4558,425178,78432,461955,455974,447614,98314,347674,584873,95199,25258,103648,851272,834705,598988,36832,695126,766688,929263,395929,160462,247839,574297,447333,89681,700318,545862,601533,426476,860675,525452,577694,982401,581606,237565,863494,880905,534444,139025,332163,330772,517129,520673,169276,767977,258211,783833,752802,329131,221022,609682,695987,329334,500530,851000,850020,450546,548171,994610,319383,914198,989447,368656,423243,322202,253118,801536,311902,585632,767767,912774,717708,291772,202470,341892,533490,758863,886198,863947,416018,946868,716516,942388,543550,956618,629532,573196,573414,704611,502750,988791,682261,340154,154519,723180,806982,493208,642072,26124,994921,409230,537736,995278,692167,790951,752844,805073,249263,616696,602208,400377,474794,917070,426110,938438,199762,865784,373664,165532,623615,822933,249918,391389,557105,714537,483752,815571,107167,934191,299519,25147,785114,753715,219516,528799,232537,600164,75437,998250,317188,912590,68701,118355,242231,691988,791264,709611,909640,252077,505192,879138,35492,847142,916310,397909,176730,303414,344418,288964,391226,382447,54522,704517,753861,570307,732894,928117,975428,565596,862710,6129,219516,129660,772635,951774,472433,173430,141580,895689,707754,373628,55049,730326,813069,565058,392,700282,709377,160065,635274,731914,174107,905717,983072,776591,674756,282084,582438,680061,753291,667620,824906,580866,719153,529665,450914,327390,822737,51860,991485,722046,699358,536246,205829,548803,283003,725666,600840,525452,479675,790087,10503,38404,735796,939564,832984,460289,551540,295345,414452,831799,496409,184121,947383,761485,942486,598748,765235,926161,765939,631125,982986,142417,290628,444946,659688,301445,736173,175887,982595,340429,34171,268077,69747,954381,28340,541804,803798,718809,694254,235318,186247,266569,149242,411532,192711,173858,645317,419261,900253,929274,947383,834661,649959,61473,520861,938050,383411,997851,417518,18301,8145,996619,835771,199827,378399,888454,347017,220078,257846,19534,540635,543255,108652,957227,910429,461955,277290,783412,728012,185054,69798,201171,218489,769017,487328,290,734358,341892,129712,917981,459877,504040,536781,691774,896060,449408,109475,276335,374711,821231,221204,760450,198426,639370,22313,582336,951684,79793,474606,752719,895040,7341,869894,416595,907820,690023,442536,687888,451870,288743,244039,899557,362205,235640,819056,313384,640258,626677,187074,901055,737296,333733,5998,277041,378518,264398,953224,947961,535890,341622,40430,576885,317545,90028,711847,591171,267173,149009,423936,956322,752582,966788,781845,179825,318784,155853,635463,461694,993273,216183,357982,77819,203452,560526,317686,259116,335681,756589,885954,114526,141461,918529,387840,150058,722509,889336,837181,984186,759359,812005,477634,861777,221166,246282,507910,486989,726027,644516,320883,397638,604401,408565,856420,770778,443072,557364,505717,914521,307997,245459,680885,903856,957453,105674,915387,149136,570903,305936,736286,618885,168332,178119,274809,51390,11212,602470,350075,877053,251691,972757,897600,183430,746823,379837,838854,162312,459322,304652,706278,549292,536246,337729,511670,833702,219653,719516,146025,915105,755950,795908,323036,603485,618309,331205,351006,268478,147256,670819,820173,184925,20162,63700,621249,222933,526298,280368,435604,66549,771604,290488,10987,202654,390262,235855,504447,716627,697241,690611,587760,412740,853305,508689,297449,850195,660061,851272,542580,719259,463685,455826,920883,569978,301516,612671,167526,605440,566400,14762,702295,442236,9408,606661,40447,297329,896289,867701,597984,905179,892968,582144,758616,878170,387342,987137,986795,318752,688050,131778,383385,972996,815610,878879,825026,72197,572787,585243,468364,586309,450916,412893,366499,595301,310811,2887,267634,710431,450371,604174,505958,704381,393904,948567,25338,90980,768646,837466,298051,345630,298284,394561,207079,64945,490812,652023,517259,720470,431510,449718,44543,818537,260520,100188,348893,419426,499879,803107,122263,94587,225367,417182,201008,959074,29035,648235,4986,321810,571669,290671,505752,740370,6755,346117,166259,692167,929234,190017,381354,478087,16890,711989,659042,98448,833937,201347,181968,677459,581302,130024,155044,353291,108967,222432,119484,549301,799951,10779,153041,977338,983263,170822,753121,266567,379709,469097,101327,610789,78075,905270,370994,977351,293638,233194,684385,899673,201254,975122,660705,380122,824500,912925,765477,54031,246981,587003,304835,810413,395262,98448,445224,978788,998354,33466,461432,113877,686803,400578,213230,962318,819063,988554,719856,828442,257773,303661,770126,650636,308115,719830,377139,110854,382861,159251,121162,643034,288247,174941,60118,52200,506346,278448,448456,779464,655099,99173,63106,863528,502525,469597,555460,421948,144524,450846,334314,119786,808961,936538,406886,674804,63617,3246,794627,960763,299667,740208,533209,705717,906950,377297,429383,959597,435156,366411,980051,848088,834206,849863,33993,534702,873875,59332,177937,86285,63568,972062,342775,121581,600687,45007,958589,494402,874340,640493,340109,153991,836445,638650,441006,989008,252896,736572,321885,786096,87823,194729,241653,610516,50732,159374,880261,241353,343341,279673,320539,577427,833206,995738,563944,354593,456054,97999,940014,178216,145242,529423,924655,2180,588304,628191,146109,997595,414486,671134,200164,399229,901828,468919,729309,752508,859056,79938,638127,348695,281088,487316,13355,51674,306805,394974,467980,295689,704889,267454,732694,443072,93036,428277,295173,733007,840075,883886,825718,817974,212207,553616,791374,297106,213968,107543,414700,828396,685977,289713,988788,337678,583955,693120,629286,49301,119987,43282,86082,286959,23618,654508,178119,57592,422533,495067,259800,559952,938611,79728,166129,578764,888566,911726,932765,126907,337164,962863,371444,382584,995641,344124,586599,66254,386666,210247,281762,765495,366074,633827,309543,286157,907167,687254,714537,38069,588386,893686,375725,577588,808826,880902,626177,364513,453332,697686,523206,431893,149994,431006,324800,578101,969424,491144,400996,560160,173240,694868,902540,608484,950026,134754,671533,424099,827776,877062,387362,837564,988053,884419,761816,66528,715777,519585,484195,325979,85294,44440,172882,396168,606793,73934,508815,51474,400206,499869,490725,209445,248268,348462,905415,391424,917455,925055,556446,725563,382443,751570,525778,938571,368848,943773,566479,814235,413512,338116,885267,928369,682045,758428,366035,392644,822005,711249,407197,740586,351993,211795,138935,651915,940350,550780,629018,222832,91126,356232,126733,633698,855862,903128,635573,862246,474743,994972,516306,362799,449344,109413,896737,450964,250728,662752,526813,73600,924284,422357,460395,405602,478866,12663,42398,938785,92379,278946,557800,434193,824549,91126,554785,152993,671280,904658,41273,6789,533673,34860,715261,185835,232091,61292,381696,594480,281145,706558,453126,890115,947996,482576,51978,576334,987937,942220,861043,390294,952051,49678,115470,241059,54806,836652,239865,541694,961304,794138,343425,838732,300679,417729,67673,518140,855712,780415,76023,223372,390017,216364,344983,325557,611974,681420,792464,175221,637064,500616,82498,991440,557114,986432,108950,971582,295173,397280,828357,178348,361756,169662,565746,783330,712059,478906,582144,639271,641261,784847,370000,57647,421599,597984,564228,13356,274172,757971,411101,187389,189010,266567,34302,588344,489689,652552,353212,868452,750671,251242,721289,589961,544220,608354,913056,821015,827540,842321,268870,895508,112152,151154,443204,901877,54814,51250,212967,58197,673550,105497,49840,324380,743057,693477,762334,253141,278473,16890,770036,419332,168038,745363,252997,972730,142803,237089,273333,466046,447009,445956,696440,64095,914834,997595,611586,113763,485232,806010,380064,242620,213341,442753,350904,411487,460361,6688,603485,834007,628609,79852,283769,952178,253271,419877,805163,798206,391328,764945,869948,763569,502189,931622,57521,635026,170937,208413,299208,401067,962311,651591,129855,544454,368395,15554,718832,131565,453765,721558,565305,447948,190508,136835,488854,529009,175024,135910,561555,300451,988815,238669,934265,501239,468473,577059,892000,706263,740327,97260,138157,80613,970196,364790,572841,754055,324017,564120,646461,686196,97610,139187,648586,603344,76904,875749,850721,473623,998805,141128,975509,6195,696242,55859,104648,52326,758428,484654,231236,743475,966944,977983,498982,373986,493717,395099,177391,742127,375170,298220,560526,201998,290,903257,843720,883683,678433,47913,746497,733598,479839,66254,659704,639232,15484,552537,422746,80975,549118,585632,4795,392713,43102,158689,991405,129686,687298,342447,545833,785189,65367,391887,58731,281356,154764,558843,395288,644258,197365,681359,374518,425045,15011,568510,281094,899232,813352,291259,842971,873132,90674,132432,576454,285793,393306,585354,597748,892372,235059,646509,371688,129876,337166,206247,963356,606204,634099,149028,89342,940126,373873,195023,147442,86239,888673,437105,367419,290879,346216,262039,647934,469435,925932,950439,384083,361756,550750,597341,392692,507740,919900,358107,171752,62309,46651,901877,295754,212614,24963,325348,730176,992253,998006,950107,885153,457982,490400,301463,932622,685297,576201,438616,372101,685681,143940,696449,283883,371688,796500,666241,247356,415148,159374,909146,637504,665105,114933,688859,581876,797880,155921,354615,427494,142019,414080,195974,119379,752367,270768,644669,319668,532955,215255,184617,230516,405975,408711,421997,428861,477985,994777,448416,750371,771777,209505,427666,63085,751112,152896,18219,125557,55249,475580,229809,896848,127845,846565,831090,299208,565826,812134,697744,259800,62377,439188,861439,874716,408350,839246,505711,428248,774264,369571,496103,965238,70897,896910,738324,112900,79380,687961,791374,838205,306259,61179,276335,393921,374945,691831,170111,453674,782179,339523,671365,197023,805008,132059,492763,151147,389400,757654,931508,929303,418295,116790,704929,946737,516586,732657,559673,631632,624222,731661,656870,809432,399737,508872,396416,106539,438620,980109,830824,822161,703464,809596,322807,467973,267185,441885,18874,528457,21653,441460,841897,99449,166997,75376,322821,670015,205999,72616,476730,691360,444295,881818,131504,60118,101607,235483,282934,426456,131547,631268,40606,605645,525045,133112,802020,485471,455223,530962,725666,956185,638195,758181,677028,864303,278100,701856,142019,125097,653391,160756,117659,857229,322088,673979,804442,807283,750891,521268,359808,615302,257854,748811,481936,259719,187143,144004,288964,132332,367523,513962,541432,427751,593307,132290,862342,744594,782657,87905,922419,629218,288015,993708,264717,199138,850589,982839,169314,594535,889800,820274,42703,723449,920616,849314,322636,503227,550141,879134,576299,916598,609469,773380,23587,760809,13961,896415,601062,386532,44742,394219,191639,190024,494964,609265,843251,552666,393688,214042,286139,945815,659293,214367,12616,436848,618199,18246,419431,374648,429719,244275,920073,220911,595647,985252,398895,292664,481816,652476,154138,76507,974833,53468,37668,963074,213458,80622,665229,731804,311916,319197,555044,726737,205577,145663,788229,404452,104998,826550,39809,297066,545204,442850,870885,626204,739568,705461,903281,684686,558881,465724,994887,831816,831759,775385,860468,453337,173847,988884,261321,74234,233303,882962,103853,201258,388229,210467,800747,2027,125440,830369,717548,880483,482576,33272,79856,551860,342622,128722,446320,377264,854645,590170,6591,137979,285687,280407,952420,82526,201008,573647,793638,86854,50577,187903,136316,439810,769921,662178,114565,409193,600164,654167,91542,210777,160297,507133,250298,774672,860931,974865,956137,337990,164596,32414,549160,43613,801369,627735,368694,785153,867543,58243,505984,798015,471600,71719,287345,528115,493384,23166,362459,851152,582493,155791,6591,894928,544192,483617,692115,439881,654550,104998,229141,111079,895419,472868,995738,357812,441696,250373,530294,721289,59273,630332,947570,306741,861043,829401,928472,721371,419344,317239,140112,7346,612947,335780,428763,996016,393135,331998,336763,49296,821124,990906,297548,25038,610495,974442,222702,309862,884934,868004,554343,316081,57611,82422,853510,315197,503907,25540,918769,468473,119208,585178,82527,251385,527,797880,730224,746168,90921,4259,624592,959423,123956,802501,962096,533647,589124,882887,471328,399677,99081,119379,445270,214325,503362,226103,269108,615579,188938,107454,73309,751643,64629,925148,890880,273347,71719,390566,258027,431745,441948,863625,457321,405556,181456,569186,962297,539649,315019,21645,60300,339533,922486,673819,140949,939166,212976,856420,708957,785593,258220,241779,665086,484700,314160,109173,290488,414016,528834,234781,885137,424525,728119,566298,24963,204375,743193,136156,345995,662726,854792,479972,700167,859967,220860,773454,602853,137561,16179,713916,939371,741486,330666,148237,586642,764743,255220,61955,475025,481936,348129,803181,976720,815042,42943,417307,726396,165885,330756,798997,47640,557041,350419,324295,175683,482078,903904,279453,697512,309669,635053,83861,728257,792252,219405,970196,420041,778663,578764,1407,764951,434619,352663,291329,750385,307527,599749,627145,555366,470882,851000,263252,515111,772310,345756,409415,800478,778230,932804,490475,903167,422190,538964,168038,160373,708492,838740,230007,896072,955048,328764,647462,28632,332163,415321,834078,374149,357670,842971,444380,747824,748001,952098,422480,882713,457049,997727,467878,342080,633731,959423,89106,825705,242692,531817,429686,144710,673663,371827,514000,80733,920468,198799,419792,595017,254882,709261,413703,979359,501425,696661,132783,513628,478191,450964,930480,981361,576271,95546,299483,37522,221016,434364,296366,715073,973040,934152,229767,509366,465096,294156,402849,385951,68408,332174,325768,651060,648501,784170,243703,404271,518108,679132,31964,6717,235529,63295,469660,41794,775983,165141,760917,155044,85203,646737,892968,721584,973470,993786,665238,331238,602709,492303,357086,726444,868954,548442,400555,113107,814536,650040,225203,292963,760845,373821,544941,527011,954860,103392,239746,45408,580305,223710,649446,613915,167112,292549,974427,346216,117086,711398,50584,203915,524541,743535,329833,831841,185050,43102,372163,169361,53645,550503,786770,31705,522533,608544,200333,124288,101294,126576,57389,933246,505421,409433,254700,904751,712565,347183,694220,63152,900197,591750,23672,872167,608443,477218,6507,375770,360201,410943,827158,568744,318759,42398,90955,660886,414692,786553,731429,771515,34302,399216,749609,104077,862342,57954,189757,925633,994153,587859,296829,845537,417673,266289,33642,561882,174630,237834,123274,179615,571405,966655,86580,732002,562012,682148,80806,124489,12965,301645,821271,862770,67755,143278,950570,924911,270223,282111,966972,792557,38286,804721,793038,522159,279453,170733,288247,775020,439002,978281,726219,902938,649455,414621,395929,840099,267440,125422,730815,121749,799821,768824,620949,453337,862820,377132,147256,513395,932794,102660,840195,172275,209763,339565,613728,844242,536410,952099,742660,242692,792237,425178,667527,30470,124529,94761,641004,31595,76564,66635,797242,93601,125672,100438,232883,728941,108051,953382,163331,102986,816069,775545,100188,977009,263684,894807,501546,816980,567040,697683,217346,333483,52710,275011,260490,770299,753222,255958,8666,488316,433370,906698,56389,183044,729905,192708,103273,416482,322130,674718,407962,607602,699940,761004,511438,210188,844858,458646,539837,212211,424219,261032,762105,183435,355613,366872,440166,914277,426456,902112,153368,405578,887459,472430,669671,318914,427243,455974,491714,205960,78806,718931,841529,967151,7838,964110,637608,549403,411748,947810,172747,700732,711563,270778,383465,261231,99081,551180,955593,450734,758917,982476,617068,70073,170040,257573,710801,465619,665282,703722,342746,761251,512559,17530,121580,313003,312176,728969,762788,643382,234550,266958,980863,543865,914751,264569,416681,193067,412039,944378,214042,282997,391371,965250,160761,825750,554168,323650,692546,710343,407892,362155,894073,751671,764696,635095,260465,934481,994508,115470,170733,610642,852072,477876,330036,896864,578884,257573,994694,677650,66254,355634,808049,566311,33679,751304,236999,654647,292522,498031,628947,200343,856395,260938,600182,72939,85691,672434,351587,432108,860152,507471,734894,696872,499844,794660,693474,215255,867411,566557,109863,449059,181012,948260,15848,302958,273258,400368,522806,751850,916996,837891,902112,385284,936175,700557,528115,8235,714415,648705,285773,504544,786393,537202,130563,445249,834048,548449,492592,690063,899910,119875,541977,525098,39112,604309,627501,961197,161537,72765,643571,44440,444351,265308,642629,270678,699192,244906,167627,101675,193668,50967,40822,905528,213081,740370,258984,866338,778853,731754,718622,213230,106870,199405,44368,728849,724722,516479,602612,673566,4471,437486,807120,169980,559731,732657,171613,684321,19169,554834,17889,945464,584234,390827,105829,150856,894928,618682,647513,758938,244299,626662,887189,491970,35740,894014,682390,967404,856230,456576,762059,61132,621390,955485,617840,522702,628302,145242,770069,717703,223552,866628,870001,241059,258409,358929,172529,951435,795061,564956,287345,399845,701337,45332,351340,601999,563302,161860,351449,514622,161664,624188,661841,212112,195140,102261,419689,770982,191893,937361,583196,929609,838850,595237,753381,350605,221377,928197,811048,98269,212486,322880,612920,4307,222730,922153,986795,757677,936848,346285,556464,173240,820346,98194,50636,43449,335290,410943,63568,820130,446591,783101,723354,400676,484472,419499,533752,194001,522953,72125,509845,737111,374865,673575,86082,727645,741982,949073,503431,834140,198168,541314,785114,237030,561210,222432,864398,275535,494643,148007,711132,834442,106610,927962,251422,793543,58064,971033,691155,382157,616285,914112,80660,893451,37653,611810,488349,455782,432700,175211,661389,216569,271250,888112,6195,525171,86274,85557,409751,601651,443204,521102,496789,900821,105408,142394,279657,671365,927802,121581,611510,417088,171363,743616,944377,205005,616615,849705,214325,341223,891477,384619,350153,355919,675557,533899,672767,585345,383091,159687,950840,536781,140729,62910,336896,450656,820299,684055,931236,860675,359520,340670,992989,753324,1539,400653,236717,714220,775446,992865,755304,858280,373658,839483,195364,999655,606782,650611,536558,220909,276610,969525,366347,356530,728133,116383,10928,710417,911898,530047,810306,991470,499207,276610,881764,774195,663141,752087,798720,447503,963973,263285,428775,915929,315945,874025,988715,559615,848379,736787,898353,505935,926139,166105,156467,343293,429366,867021,550576,756486,320098,72242,191197,793543,720682,269117,100425,23618,440261,655099,598295,854958,161556,733119,146100,54425,2357,27490,454106,673819,443789,721658,866675,499621,497450,938299,197235,639232,228905,991566,704783,889673,371723,822012,95958,972285,915918,626662,661086,170185,597546,564790,777688,818656,215369,986098,272999,720533,308302,910143,610455,326652,659293,427981,712162,962311,175255,529266,101742,598801,755950,520999,727365,806549,146495,634543,44450,368890,906068,897456,625331,73745,139203,697744,47743,318087,259732,96431,802818,805327,693201,308899,935245,243822,503067,181848,137254,576774,356530,788526,784236,548948,849032,745883,903946,544618,93575,206097,373495,715937,230099,861865,941849,814262,779701,961516,348664,164500,284105,206619,647995,702608,699524,138366,829816,56018,149506,910429,341822,960067,935486,997058,867385,861952,259697,578255,354744,720704,313272,755884,805904,263376,607365,588386,713989,354644,700219,106133,228397,450302,354160,36832,76995,99535,809138,420323,815585,816294,456615,145037,301899,296326,345766,518431,761950,341452,907093,45019,227375,237089,117583,825718,743618,832602,444902,764945,408477,784353,230352,458873,155478,577096,468064,718832,539072,597708,965280,307032,416690,70456,386409,164721,391791,646887,588692,909146,111668,577687,185442,442850,540984,898750,661086,949604,309685,18301,805806,197474,292269,991529,708492,36490,446652,923022,871660,278116,256823,739259,81711,376909,455782,684585,676657,485153,860595,313921,294400,824210,851336,531293,932900,606049,11642,310968,805806,719360,467549,291272,124570,145663,639069,442538,889847,5205,731687,281332,543255,295767,67544,423222,175536,281138,838650,212614,957227,632133,256044,601761,895578,726930,750413,779995,171456,312838,143014,352582,455746,3246,910555,611425,901811,37425,237395,38396,993592,484217,626615,519314,967367,968221,43990,183270,699670,412603,44450,95991,449038,483816,19534,783402,931508,526945,130270,100580,89555,197480,788843,676039,583864,968848,857791,587336,900148,732894,395584,66497,237089,248814,720089,381354,678592,737632,393023,850420,249029,368672,914872,370385,749693,460756,321091,557768,13601,695884,414692,323071,348824,824224,552444,144342,24817,617934,832975,963688,790823,256345,310283,966838,646091,372787,634082,347284,638603,24522,682988,662178,130387,866452,971562,560510,149396,624877,509590,874720,182654,558447,168555,581247,694254,330991,948683,530984,354248,456880,734888,848697,128567,854792,382447,230099,808988,795905,527415,186666,536590,728770,769444,241537,432950,959031,11931,262925,197727,316688,205727,921070,169987,126557,64760,796939,107167,909802,932980,268620,85286,575112,325755,465375,885142,805328,214144,628302,697707,61941,653403,447717,702460,42703,217289,439860,962084,147785,601620,794639,981947,142949,234090,382645,34893,157297,592954,573713,289600,934606,702766,25119,424471,456445,831731,761950,941091,251901,314702,39138,151852,31444,513628,343287,490200,333971,375823,723023,602021,712135,814550,230957,651126,743057,17831,67485,712289,869664,171696,461643,98868,585243,301348,887636,144862,598057,305467,122625,592138,337807,503664,230352,833563,205398,205663,912590,386507,652036,213020,851604,285859,96542,833588,246323,820284,186856,483223,177865,420371,123738,784272,951058,736581,197484,453523,204832,172729,38445,97610,298502,223490,506346,845041,632867,797094,291560,711847,99621,206560,711735,532601,678697,243610,382029,321559,437182,127856,444727,568659,314906,241740,602794,910357,201590,946489,840990,454954,620971,897396,230007,309898,739738,256312,774721,944542,166987,987915,578384,409180,667330,946608,730425,629455,785394,184278,73309,468064,536633,538614,675121,281138,448724,202681,362799,386068,229460,45258,125557,826269,879138,76564,552625,666966,783178,245230,328411,145037,721108,870565,406472,356416,636924,593043,213250,972704,8134,747266,667292,855363,455732,350436,519784,54658,106361,536644,792523,824946,53468,949676,146650,700401,23246,374728,78877,51390,755957,848452,803798,642007,500928,536156,517259,772643,23693,74709,223198,593429,8884,467166,144604,538760,997727,161433,242282,839,355190,949158,880519,388334,846565,339129,730278,987845,548438,220747,466172,444351,505101,447713,363356,76468,421518,898071,320787,763773,204678,632999,81606,463632,397698,772455,932430,139242,163967,644479,163589,595512,529037,441507,50068,22036,362061,162977,968979,277323,730189,333804,195571,662983,284969,332450,497094,81716,338725,324799,414271,519658,487431,233124,270506,593625,464130,186833,251164,21476,826507,487328,28290,989683,707061,727114,350939,628081,149165,419848,553744,13600,237498,414426,958612,522110,952549,111849,206400,986789,805904,555366,445655,58329,897685,772324,965238,666321,895435,933681,147261,77336,773263,775968,853539,866791,708898,942328,312252,559737,141158,394825,174012,838869,285283,882927,72075,208671,389052,951179,884078,620035,654446,133948,101298,879865,400971,147575,315824,857003,827521,911309,436938,597337,559409,487755,501434,488488,130856,357150,980863,409163,698978,782824,631519,740569,995951,533785,95199,85615,179905,370806,529795,939336,690769,248268,995606,30579,696265,774855,88301,121736,962332,978541,21982,141377,427854,872751,676049,912283,346005,508545,436092,393837,650611,661448,493107,912244,620167,119584,196081,776031,637568,818471,652508,504211,531054,250525,751757,818356,544974,426115,744095,326461,864606,141317,158455,933944,401617,118936,741858,285605,222661,100551,944332,773137,61955,653239,942474,572343,204651,711367,583655,382855,2897,953780,938537,736143,832299,227767,202990,591907,38473,437041,699865,44825,304360,22169,792586,586290,496843,889408,872922,311091,595428,578679,996269,817530,841340,278472,725522,53645,622538,56898,939878,796939,14074,789145,16876,706278,56334,776984,647231,74261,713084,424191,192969,849849,232598,436061,797751,982476,580648,885532,284655,444295,513294,201205,851421,746481,339183,844929,538822,413512,301432,883791,414064,834001,224152,456187,439213,136405,789111,245458,449018,635688,324550,134244,286981,984197,264790,621004,413090,530480,99509,161335,41874,979683,189695,178865,215412,659487,779624,75630,41585,236427,632207,420137,581259,647321,783330,197545,257905,71363,169134,43870,715817,141971,558420,354982,152097,203169,692626,197474,105705,384870,522769,76135,87662,745287,367063,58482,798165,707697,128882,627770,62251,440783,701621,418606,130387,566468,443196,330361,566744,317731,784237,20187,836861,290026,358434,138617,497347,224196,87518,86203,652153,249376,416837,359115,377221,744219,649504,379843,50891,11266,656284,843197,347863,72987,944248,696294,139242,831938,284964,262454,18184,376483,146767,530984,788843,73122,876635,537083,392692,924421,196323,65734,483180,98670,274813,838740,424099,451136,516443,57252,184797,873767,612629,327042,247620,415916,687264,998006,896415,816732,696692,518140,395397,390415,262936,682941,898479,687599,631031,354587,832913,146418,109068,611192,317174,716980,904682,921677,658954,961718,561621,704718,39877,828077,492026,690502,539614,363356,404134,942835,546539,205005,965234,694302,469809,834191,6562,766221,27457,126555,660886,434338,169746,666236,576454,500616,127816,359921,955520,492033,350090,731550,343293,392044,954109,783232,325073,942023,398557,822656,739039,192970,519444,189266,341010,652141,911292,751318,203590,473189,453064,916192,890808,130685,576496,308868,672728,98907,651415,840559,592672,396338,519808,174941,651313,974451,503191,575378,193719,256345,683106,584692,465724,109059,112920,242713,946995,867424,71233,294642,410660,8829,513209,164500,745670,678757,866396,816773,497388,30388,498263,243756,47058,700896,735332,661151,350949,338056,264429,751127,706642,568454,222871,386209,828634,244962,448441,841917,896737,279325,687766,359758,580050,986190,782399,83746,381998,502824,21982,798784,276772,51005,659704,191160,115175,3460,936963,18537,486601,849292,660155,530465,664325,145612,786813,348824,117240,164693,867589,570969,141017,703246,298861,657560,346739,860972,542930,897031,216856,368207,397646,503925,832915,603947,24993,563924,50187,625137,494643,588501,344918,828681,839582,100025,498119,518735,322817,248054,785394,455145,189468,227634,242397,332023,782683,597707,413065,464473,663575,862004,942940,368742,770374,250925,652036,927517,513073,757971,594087,374844,498200,292414,608770,442126,986835,46673,881354,632864,769886,222872,131778,330156,500162,780914,786923,65794,980355,909822,417550,714119,281164,474030,117544,648501,415442,250140,639069,348909,713989,726519,726584,329832,959406,961287,226705,416415,414268,839545,907085,44502,748460,977338,914162,677306,167531,866396,440151,967064,930188,149396,92741,811542,701132,304652,971917,517845,583066,355868,102565,592954,505179,369609,537750,752452,756215,319170,335629,534969,542997,268481,750891,205829,585914,869196,240128,245720,187869,939938,574440,670511,382055,849196,424374,45122,808025,742034,818656,468564,81053,772643,213250,371247,355388,533530,853572,990186,272829,707317,77819,628164,831816,548101,671259,43547,85316,906833,717688,292829,888718,473909,316827,953044,711563,391328,979359,792237,86171,797110,683626,456882,68380,727879,99994,146995,911309,942023,451606,637608,351006,671259,215191,660155,165718,843461,516213,695762,296673,668225,542948,327639,471000,801450,992234,832911,650605,846391,42926,817592,531916,371720,107816,839545,287490,755622,173571,950566,352089,932643,687681,117060,394847,607102,638603,384235,459130,261321,616555,298090,845701,581247,875635,182276,745329,724164,578058,333620,929205,913053,426130,489254,612383,136803,427665,721717,560160,784169,230102,849513,964906,224312,423398,974919,513463,595428,700318,153048,847855,471833,971253,664196,290949,526027,378138,867313,366867,586144,666918,119252,761916,353389,144787,592219,848434,409930,712015,497100,370476,609251,908669,353097,4210,748013,264975,227944,414857,16086,941619,603621,911087,173506,231091,319668,59306,559762,154023,949184,185738,316328,763666,967020,518064,413329,339606,827101,11512,117938,963363,610360,489705,828327,650556,176638,345525,241080,16396,217405,788225,278146,858639,886791,916302,349866,161057,490606,141973,150955,246694,611069,690502,564790,157748,472005,260189,501434,370948,245240,375604,586290,924121,532920,601761,664797,398577,4486,255891,428758,548408,465096,204651,794175,337536,181968,352265,33823,206928,837864,685861,50703,139476,125224,482770,641065,153986,776986,444308,729244,100952,313386,197836,26993,394406,833409,210188,662243,189235,801997,857367,527059,620491,230409,536959,370664,256926,604438,172901,563639,942141,907287,268048,291272,171888,794424,917689,503625,478589,870565,228768,810467,556487,456308,614324,971833,3576,594885,50607,449855,951159,138266,206144,620024,30178,559078,16086,309685,873529,246084,835245,134094,785641,165694,893477,24973,195380,413138,669525,183247,516259,918953,742989,906950,124987,546444,714726,947638,729286,139832,304559,363805,903943,727465,150154,625072,888380,763219,419693,923686,317170,355919,721321,748001,604173,111959,147863,302654,500336,763725,574618,847175,481531,268988,922217,690218,162317,639476,469460,260740,693578,849513,991269,866474,615494,267923,976720,888594,749848,575322,473190,108150,286567,545024,699767,637824,181681,330156,787166,271535,457088,175820,826938,62658,527214,923488,288492,684335,632988,677989,240286,782934,438068,670100,457846,922149,13630,449037,313036,287490,277098,505752,827101,405192,421511,416698,270832,235855,872527,830606,175813,778133,581440,842718,817743,270792,714137,146459,196163,509602,484080,377424,515634,118186,704770,284969,976643,543858,118917,934712,11506,209680,850561,733141,341181,131753,234306,390200,350038,565325,285891,246694,347480,686060,811211,968848,94417,715777,373327,187393,838738,486989,954042,780964,513209,621608,350162,551984,840624,948880,329352,719251,104914,870792,534964,152851,673575,215800,959640,753778,774298,28516,645486,553863,824548,855334,779419,311769,581987,338225,400655,10681,973380,711530,685297,622794,282564,682158,778663,615783,287161,687244,343196,588379,717882,679324,264502,900146,201577,7660,888525,479800,727061,178094,576902,333584,12174,302542,87518,155737,574914,302888,438047,61111,349689,137723,846671,463519,955107,811244,825070,224312,395203,631143,866791,762431,57145,394406,907282,256228,63107,83202,183642,369940,377605,158662,870379,18391,436254,835329,786813,88735,634019,144342,804206,302703,817769,783229,827512,702896,360338,58998,572787,667849,271176,848913,589741,975257,786372,165625,508101,412603,547391,280403,236577,569986,937014,346167,368278,308379,568593,264874,950840,971889,527864,450371,399981,450734,587599,491360,352752,751165,998141,929263,880261,248856,865784,683371,66243,122156,535041,230639,227293,266047,53362,242322,56912,353701,967862,529127,470995,152064,271948,601651,436135,32477,638938,735758,291805,859319,156791,825862,512846,974833,112754,213367,728417,542374,606150,346491,923247,337539,80330,788855,890887,622176,112362,544974,98819,588034,134047,260795,377832,179059,606875,563028,852198,396409,945404,376400,827776,337166,379237,102463,660153,251385,751915,197688,353350,876578,573013,784236,402770,615024,532072,183264,261270,508815,606064,726445,72891,496789,899233,195406,749686,620262,224522,672271,868736,460223,116383,694303,142803,751791,991919,880483,306030,806006,117173,230095,514295,265021,233609,486673,551478,721833,972025,394480,998354,778853,54430,249075,720192,453296,20138,365280,96607,664186,733388,86203,220941,498132,179910,176730,87823,531592,501633,837512,726729,440769,236908,240519,289934,779974,58130,606774,558489,211162,149401,45966,969905,71365,756589,501836,842391,355609,875533,518754,965120,346141,95865,797981,190739,837396,384075,358705,77936,439682,254011,220747,716777,682214,240980,153978,407304,700282,864759,464069,859798,553210,534678,990712,721537,368184,334762,389916,792257,412588,922848,70456,832829,424082,304835,587687,566789,770987,427166,390759,426117,218336,768578,502383,280499,540150,811818,360513,167029,128210,397337,629039,836127,799812,480799,434837,433420,496883,982021,990926,594631,763517,374728,341223,477218,931486,462052,546704,179866,351093,688835,212239,548803,629532,421518,769352,336773,753977,721586,33642,801017,955854,86497,823389,800130,204288,289222,629039,679006,956255,305672,817530,210355,700807,91892,154750,502525,114125,152378,483617,543225,105408,904559,792395,507150,420084,276844,12647,544082,676039,883421,927745,419633,124731,311375,388740,277244,646503,835975,818876,239159,298236,85940,282405,866452,584988,387530,15528,530294,559067,63106,634736,382168,401294,518322,739624,184307,497954,276658,249267,596467,767385,721020,345870,249803,418722,430689,512940,865305,210850,94256,986201,179396,138366,425236,250067,101712,771535,289600,619387,786885,645980,906428,551256,494416,944248,387514,197480,900197,257060,463114,63294,746750,326658,231825,943950,388404,850020,35989,497979,981947,45310,377221,721587,692207,593299,180768,158495,188482,610213,821630,892786,652480,171104,649569,939668,219150,140112,966275,932804,969262,666321,750671,159609,918422,524260,692664,921649,91935,833563,71601,325824,377811,187215,72921,376404,771412,765499,177535,539372,197715,999700,587140,313381,236486,749986,476406,265562,809241,523907,179910,752043,87446,643784,862827,983446,52283,80960,546206,661672,835588,760017,692426,578834,464887,815891,778988,1480,33506,524639,420764,165320,272497,399978,64455,950116,707635,10523,384235,733401,110251,937820,463167,887159,834007,172882,592219,1079,591053,389066,839686,241161,786096,372787,84981,951577,950107,616547,378013,781861,84120,265155,248033,153997,432251,96840,648665,831320,400817,350540,146495,388584,382766,913056,446591,48884,527059,933361,188111,340843,402238,844715,134838,783459,795100,216569,360117,349208,653980,409977,964076,973616,437105,874573,573650,710431,880017,210909,109669,173463,50607,565458,906457,967549,53578,962733,617844,772142,873310,954109,747109,429204,967170,44825,164144,928048,672633,125578,33936,851727,633391,576050,688050,606036,507499,708545,467461,276369,13633,856538,983942,233864,610969,674540,609170,390621,261403,527214,221441,722339,307765,397587,616405,49649,735335,626235,86272,188389,510880,230391,400812,47665,143049,554494,233296,554785,670612,423189,361162,987560,149407,244906,382168,697735,681151,828402,489291,696872,946392,482512,613634,799365,14785,862961,689204,745994,427317,280034,562857,714132,951737,119849,527052,745464,793374,315210,857607,611540,733879,539879,36229,857584,53073,383013,813012,785593,868728,296673,523716,212909,662682,251831,431455,110514,549375,171888,178348,748713,670199,400555,748702,42981,112226,700522,444403,803658,719134,851244,484331,296668,238903,931714,887366,193271,65028,439618,334856,322609,101712,516999,136589,221983,484090,685068,827919,241100,412039,941295,763666,106036,291255,49172,205869,500514,715866,555730,690023,699973,855274,823036,79491,273227,991269,494350,146076,43297,87687,543786,174887,705271,872044,988550,693694,170275,325546,532372,285624,495934,109928,146767,869378,838279,252954,803951,32658,995258,770077,321840,478258,695673,137561,752882,687766,100580,444628,950026,208103,375974,620224,965955,208869,894807,641971,504450,917409,137307,414032,773571,205628,272740,996566,984371,928867,398557,387138,352129,341181,163777,754804,138046,138043,917191,835587,693578,71285,462310,446252,390383,15011,482059,153298,817592,510880,957196,2937,683371,521570,78196,990868,195274,832791,621527,822012,803332,190640,288557,475695,714567,712696,559072,509845,120975,439738,503750,794442,679091,705154,901792,754182,732002,80127,918463,123581,66103,17323,80127,422190,774420,130210,436143,382984,572089,974699,633155,767767,1445,527277,759054,996475,189695,2734,720089,440798,490147,330196,388638,504563,459992,696185,741858,679281,238903,764049,100347,402536,961688,810235,260938,851227,761004,6129,510002,638898,166418,660821,619122,35878,940942,647666,203841,992186,210850,816546,658492,358749,500,545147,841134,212211,237309,61753,120340,996950,834155,216902,616919,408976,425391,588807,720408,997049,113033,598825,418722,265778,503227,306726,827393,143524,62668,786553,90967,676049,400255,569966,36769,22193,397654,36711,487637,285537,80850,758181,881354,415442,272963,595017,667967,707754,985449,810334,1234,708050,749986,498282,206103,871845,11695,110873,307540,508606,447717,704819,11872,137356,807699,313207,845578,749020,309898,123598,371169,297628,831938,400071,37078,952949,128993,603506,775699,917837,637039,768175,325755,175061,392973,212996,751364,375810,787406,294001,834501,584551,563407,733388,135187,180687,438068,425062,976986,57326,822159,390262,474794,380087,766072,14198,441875,895945,238281,697045,243817,318485,610335,660202,965195,184461,444236,338405,852803,851724,276453,983781,354198,326321,907970,412093,317621,812588,579054,230838,903800,138895,644572,369591,258348,251630,50584,840164,629766,693372,190739,215603,637144,737819,181314,358482,299328,540955,144168,440796,619352,302705,614442,339927,947334,607315,257734,886947,250332,158502,275383,747854,968181,913281,799140,603879,935646,454442,636852,385719,683807,821402,898483,80733,395331,835104,82498,516479,290688,105521,577225,578406,511094,85691,344629,801561,284488,137466,66171,914030,716759,998598,837990,70292,714549,38458,9861,273808,753291,611111,125594,60745,181229,365022,270051,909532,482250,89204,840685,693700,135459,14313,375177,482211,493304,679781,890535,875141,870684,264598,853406,920168,758210,552037,370179,712135,897812,464704,590682,960135,410888,174815,639489,863735,996475,521859,760334,366241,886122,871724,242204,649283,943051,959373,154944,758653,334020,170315,101327,188342,808839,745096,537444,138242,319163,643708,105460,747574,796934,730134,662790,859426,974967,70143,951179,401250,567009,466523,624219,384825,491967,846993,258714,692139,731868,825507,445025,334875,413065,625767,458646,211052,510642,629682,206247,466938,281231,985963,199434,733598,545024,86687,995663,358747,459538,451680,23145,395262,869308,525619,598803,441459,828442,329360,837038,195406,180101,382055,565074,669182,410438,371659,230085,369125,755622,710300,466623,875233,217170,983802,924911,139005,947292,799574,29035,459169,811848,731016,53357,258211,947123,559762,283844,941619,514583,847314,638191,546531,557750,139058,147602,754560,382,35139,474011,508606,535972,924331,24866,687695,443922,495623,991980,250096,141120,456333,136216,606082,345756,133095,962874,108812,77350,530963,580648,144787,663466,921653,568922,279296,15554,545205,691959,382817,681662,711461,36983,53712,254661,222871,307693,392362,487959,468708,849012,597858,395050,615586,960358,648542,167531,718587,937340,38946,228180,729431,610360,442736,752844,229200,321360,141317,279759,79703,545738,205549,245720,970625,926296,740888,285073,618259,816731,124689,753637,710801,175039,458270,701750,297322,519784,667560,624098,116216,868630,868676,890551,76468,786889,400255,392505,387993,276342,181328,587423,271403,297291,475025,165859,942042,674362,45867,385144,50763,430156,812558,547813,953683,64471,810334,138529,611111,269225,368264,605969,75255,348461,930900,139607,66625,70556,60244,68139,979515,499071,150058,137928,557540,263072,111527,394090,296691,122958,699652,977812,734503,704783,549781,236696,409230,426298,678393,434430,261802,976379,962678,696053,552958,776935,443900,499879,975122,498643,287250,129885,989315,527277,85221,806416,386306,554039,17311,484825,645587,798372,731541,961688,602902,945544,172529,674930,526813,794606,31324,418694,833208,44044,911625,835671,487637,867582,308899,452659,388584,152794,219310,280057,596309,440147,473590,921819,330398,850589,876602,9292,142610,943884,712565,690049,199089,87293,646935,361516,106709,321064,336773,598337,985683,133316,964162,234343,916987,654395,446226,317763,727361,662009,933488,232807,254661,975459,846464,36544,390297,645492,249358,165658,341507,285034,479680,252604,35580,589910,64987,611403,109824,386306,658614,146715,988550,83719,755725,40159,313278,763511,640963,122109,331277,483037,904965,26157,560315,217274,21234,36883,33170,973891,811230,970441,943884,48591,101966,957861,446963,617025,446249,868116,783150,144004,336026,760926,589301,82058,309012,824548,322184,316703,915746,159307,884386,814927,843251,387066,539879,483283,45258,184824,977840,483265,415916,339341,511045,629007,207487,26383,30999,698271,394176,242891,740283,353423,817611,787859,780595,382337,161029,44742,589301,861952,296829,915502,857270,435220,885436,266944,95863,934906,614502,253307,323304,180295,618279,550874,392931,272963,305388,644448,590255,291259,915678,140742,617068,114729,649792,91385,956373,733091,602197,954841,98872,684807,173976,287569,471596,103547,87687,38428,73122,511079,905982,630939,941321,525029,647434,370688,209763,87790,928682,700167,725949,322613,631572,702393,68139,609427,161176,244737,171456,893339,610780,117171,424489,730494,57252,842723,235398,801508,814550,372174,853286,177931,543042,666149,333859,10473,157244,625210,11695,242620,747024,764148,805073,866338,160761,572671,997603,950856,138663,798662,550141,790785,741088,242126,606158,205765,689726,10512,936336,522999,382593,886791,975208,535890,223052,233581,453208,810359,760328,958340,188938,975743,584234,128968,581876,50281,814753,305467,552235,645647,28290,822633,226103,79300,27288,899359,829639,511437,520353,103266,995081,217304,119484,292418,474162,206894,27428,673176,339606,364692,720202,936784,660953,420339,617164,689500,342043,799097,874692,530834,19558,883509,677314,334961,84390,683877,878223,101131,547910,203058,76576,222282,440269,151891,166999,201268,718101,493881,464825,910704,16396,223372,846464,410116,212142,573834,146432,62397,191914,551966,744996,689603,304905,871731,11818,863304,870006,309291,923055,112168,37957,228457,739388,997286,695535,868630,257863,542609,141310,532935,154519,471000,732439,20445,185274,55716,250396,642007,364050,624877,958201,992551,155758,447376,942421,190396,375069,768182,295549,220339,298861,726078,873875,843313,770778,838649,58284,526298,815362,956007,4342,333578,446157,364968,78329,720192,185090,299483,945170,239348,432108,347054,395412,297891,928617,152591,65238,894014,14346,246833,701366,504440,490982,75530,852991,22193,385025,373986,528293,713392,825705,791925,711975,668548,468595,801508,871136,395101,383116,623019,738163,239329,311884,611175,543873,828327,484000,144683,924328,485328,951248,981278,222424,346871,395121,917693,712022,426195,419689,215191,484369,151125,385426,859573,585354,821628,881764,923155,888698,870684,149805,685889,588480,324928,555044,150384,59663,884057,182237,921393,343828,749782,893334,433914,550267,95643,870222,326638,279883,514622,124804,372101,873187,431968,80960,608628,373485,938434,27451,402749,612130,602394,117060,382788,855043,566456,67143,404087,603798,869651,817809,251494,41398,724592,295890,169431,725197,588242,331988,878649,430583,613302,747777,76995,206810,911812,352466,193532,803486,90621,985420,764129,951553,138043,132363,155478,458475,820130,712014,131476,220593,682158,535405,321884,173151,390500,130897,612629,65078,69409,68792,381029,331543,859798,545498,441489,915645,301663,649485,460289,192800,751799,679777,413248,666075,801186,667694,241100,952705,208951,651029,23025,888594,532022,261695,136511,86239,466928,211516,621781,631268,123518,520113,822477,74844,492803,909822,44348,357150,627369,316198,829060,192997,184824,978984,847558,616033,402896,652542,763157,462176,901619,317853,697840,542747,229978,748713,992619,457914,259464,396210,955214,166259,48030,769688,83861,381814,286713,191175,678261,84319,938995,490617,839152,377258,969574,385175,456884,895125,911639,582720,878231,124731,932096,531853,670390,498194,626630,453063,996950,843118,52959,434170,946531,899611,950241,792042,360968,409433,197051,544174,173091,354272,822380,668207,927587,719153,467524,855619,19263,751018,560623,630332,88229,853760,138140,825769,604976,623044,567746,179919,626200,139005,22169,350605,234891,611810,2370,262677,48767,921567,131065,688820,861230,257641,696294,671714,375528,267656,305244,625527,136156,268549,406622,121749,125422,751165,959967,875778,334371,66103,503498,712635,596724,661151,16946,569668,909989,961738,456691,442340,469558,301049,967768,809888,27888,750233,320815,998250,984260,433303,705645,690128,551656,832076,622526,60273,880813,882056,68778,702318,877472,31072,62989,502077,766099,704024,223198,744822,216422,105703,956185,48485,78052,877472,297066,758725,859088,168419,746907,189205,434837,740485,971203,104171,331369,480978,854685,288557,113688,446879,713752,56987,574285,467878,696755,282831,222687,328608,805538,689603,674088,285104,426238,624066,110919,425135,249787,431835,573641,532930,767203,347140,829952,802063,370027,280276,278852,118936,512275,665148,811285,899546,337037,786659,406322,915918,768584,3436,975545,110873,985149,180687,714038,561293,630837,948940,644510,585710,513563,589555,966797,821172,269605,333655,87432,22036,464648,535301,574440,668090,443604,138529,272730,876181,104667,546206,158666,392156,149028,379459,617375,122263,674113,114899,315469,53825,820914,498848,746785,469704,884227,495096,602025,759816,316014,619454,518064,595537,670595,313921,284947,567040,795007,288887,403082,14959,972730,478238,267766,59881,498718,807642,786393,807435,743734,591160,299685,767504,935273,40213,959918,205663,919877,579749,342345,808683,581121,990281,283883,665700,214354,515812,809432,939378,903473,398409,772648,238440,357709,80159,30615,45023,213914,66278,825262,101890,737123,4747,185811,780464,334056,161176]\n",
        "obj = Solution()\n",
        "print(obj.findLonely(nums))"
      ],
      "metadata": {
        "colab": {
          "base_uri": "https://localhost:8080/"
        },
        "id": "lko4s0s9EULV",
        "outputId": "1d9e0fc6-9f13-4e01-bc36-6baadf933af6"
      },
      "execution_count": null,
      "outputs": [
        {
          "output_type": "stream",
          "name": "stdout",
          "text": [
            "[339642, 100682, 846990, 50459, 838159, 590195, 232448, 208660, 797733, 653567, 81578, 76075, 919951, 97848, 312061, 722871, 910442, 512329, 754523, 505865, 447059, 474008, 855252, 953339, 58830, 701904, 550622, 570546, 583238, 673158, 983865, 741203, 528600, 466952, 680558, 167488, 892559, 387207, 845999, 533856, 371301, 247558, 28069, 8806, 81121, 105289, 153942, 359959, 169743, 105758, 801690, 903391, 136619, 321603, 810930, 370078, 823560, 841105, 189354, 951784, 432653, 113893, 795887, 62389, 5582, 505561, 850612, 786683, 250744, 878207, 592247, 88939, 353555, 886574, 923297, 110341, 140816, 841224, 854939, 826807, 225131, 547862, 528280, 517028, 23376, 68289, 601608, 107729, 353412, 541307, 723458, 899624, 703620, 217558, 750480, 40948, 64779, 27176, 677772, 166657, 756650, 593635, 311939, 585070, 2272, 319530, 78701, 986480, 11264, 699118, 635593, 297836, 423566, 316700, 730100, 791341, 427106, 822855, 707851, 928976, 750577, 828142, 150795, 339168, 226456, 395118, 324028, 651906, 497086, 911961, 43550, 365444, 9646, 775731, 517419, 640865, 715048, 144656, 115274, 46590, 735884, 106771, 787839, 594584, 151593, 404224, 114985, 365427, 628021, 456467, 797394, 189035, 969389, 344838, 227648, 126039, 478270, 888847, 472810, 245736, 615603, 799695, 334452, 289196, 301195, 106148, 248332, 904608, 793271, 284639, 898297, 74612, 627112, 218110, 283995, 155709, 78579, 298764, 259757, 297456, 110395, 119094, 453448, 124708, 357797, 927020, 200194, 856895, 128401, 374067, 288721, 585886, 149997, 545570, 116349, 344995, 215115, 832700, 353043, 510910, 428562, 185773, 738041, 288051, 966041, 866764, 167330, 857126, 359562, 287034, 290940, 85848, 916395, 377664, 778035, 742960, 518576, 912290, 459052, 780177, 540177, 577114, 921622, 222805, 831994, 7996, 922510, 118674, 805468, 663183, 183217, 608526, 431754, 557989, 280434, 996521, 889092, 224347, 500306, 493640, 971666, 5556, 660534, 741200, 662206, 424121, 584752, 262778, 187539, 256223, 400291, 631611, 744551, 82828, 323748, 587109, 348123, 251870, 155796, 846983, 512927, 224962, 621266, 105488, 759988, 469205, 449414, 836132, 835047, 952687, 134543, 210395, 144720, 589431, 228043, 139098, 979757, 575435, 111879, 587757, 633410, 541840, 70136, 447857, 301279, 270665, 554698, 910352, 577270, 672304, 216128, 256416, 820589, 197388, 578346, 353764, 736485, 353253, 974266, 231410, 177677, 397607, 770805, 419859, 939177, 512302, 932851, 663582, 277784, 342376, 728413, 951879, 876157, 965029, 637333, 500596, 840910, 703931, 553391, 939220, 434019, 221687, 369184, 773056, 670908, 922474, 636438, 113532, 163264, 775472, 141511, 84167, 198460, 62530, 450268, 227346, 29716, 122759, 155316, 30772, 765737, 986727, 248215, 7502, 325518, 494715, 38116, 629327, 521670, 853885, 6232, 442453, 184865, 436036, 506538, 868420, 752154, 272892, 976700, 155021, 148173, 124113, 975480, 659493, 725458, 494016, 401720, 867405, 148493, 854827, 361380, 836708, 918810, 117369, 815506, 586044, 180183, 194102, 761781, 390142, 257140, 978903, 124575, 353032, 374636, 216911, 911795, 503188, 278014, 933414, 956676, 843816, 735849, 544331, 56082, 463, 199916, 775217, 533703, 844170, 989754, 796826, 190752, 988947, 178250, 983203, 842180, 57972, 175502, 869724, 100770, 818874, 786862, 150944, 373428, 512515, 177975, 829480, 790215, 548609, 161831, 16136, 483552, 386111, 854851, 942861, 606912, 420855, 698417, 702468, 431991, 926195, 706462, 67226, 998274, 48752, 513848, 271759, 397682, 677232, 805709, 340084, 40372, 44672, 20283, 439164, 660677, 677295, 926211, 130485, 211504, 326828, 942307, 162546, 468451, 737217, 497495, 87899, 549549, 522275, 19467, 916189, 854716, 719420, 442604, 66845, 77330, 881281, 443117, 646413, 73914, 238729, 117202, 416638, 790331, 881556, 863827, 197192, 188574, 869824, 78959, 451013, 857639, 305136, 468131, 514472, 452089, 531637, 853699, 265950, 559850, 939733, 562483, 2059, 312612, 884136, 692578, 302729, 278575, 901090, 669150, 351207, 86357, 150516, 105824, 82079, 438731, 693555, 309880, 943603, 489454, 112206, 393154, 357543, 780280, 546807, 135551, 263327, 106821, 376860, 291974, 659975, 932103, 301461, 505075, 327289, 365888, 375565, 817173, 378859, 488760, 83992, 876862, 222514, 855686, 721329, 617883, 763240, 359056, 158892, 598230, 52424, 251912, 478833, 706815, 523755, 59688, 196427, 990179, 127130, 244349, 826512, 31291, 688659, 39948, 778826, 968695, 324216, 771231, 971700, 125280, 224973, 652882, 679297, 153201, 616294, 632293, 662936, 265435, 266264, 790345, 418910, 409708, 836240, 991843, 241166, 893458, 699334, 181670, 207732, 811314, 333908, 557143, 75093, 990503, 198964, 378690, 78475, 388750, 862587, 682936, 90932, 378511, 781376, 181521, 833085, 442799, 507988, 931215, 404967, 403214, 433480, 746074, 879594, 841449, 619476, 671948, 750271, 864543, 740375, 511816, 233706, 776529, 839762, 481943, 953376, 338851, 591385, 697332, 557139, 971471, 441088, 600788, 770481, 152366, 532576, 201448, 787569, 837192, 444969, 246986, 716175, 433899, 14063, 52636, 375869, 502594, 273844, 801397, 482312, 136372, 148601, 850278, 482262, 540069, 249545, 711634, 630033, 84268, 490706, 478754, 781276, 868065, 96299, 594691, 16972, 793596, 262316, 599656, 690443, 425034, 350486, 448031, 852667, 895264, 635291, 757364, 59165, 265242, 540568, 432398, 482904, 361955, 179139, 570793, 87965, 347306, 719968, 725276, 464376, 619374, 319804, 689351, 229037, 720803, 412500, 837514, 999969, 157316, 344332, 640940, 856524, 38578, 580001, 604291, 990620, 632091, 635065, 41197, 254815, 894357, 277203, 516841, 587308, 345398, 718517, 688781, 25329, 878703, 64193, 156667, 368458, 990776, 656362, 804836, 133166, 798761, 979523, 572352, 229711, 117627, 469102, 885861, 265943, 642487, 935402, 163051, 546965, 584125, 626130, 877700, 356249, 151736, 273043, 119983, 983472, 215896, 306789, 472514, 459357, 236446, 404172, 450497, 1495, 895748, 82018, 524525, 462611, 814144, 71052, 662480, 119771, 247336, 36933, 174679, 236690, 290388, 87659, 579875, 761336, 153064, 277476, 572558, 66729, 7946, 968757, 543795, 468227, 302477, 111818, 46783, 664634, 327847, 577771, 965949, 389049, 171467, 456963, 752548, 85209, 986873, 826630, 936181, 476416, 143505, 939397, 860120, 146316, 521417, 914972, 802044, 25844, 603162, 205845, 956845, 651358, 245938, 933201, 40142, 703636, 669689, 894457, 771364, 952863, 75820, 676981, 698266, 754658, 971621, 433132, 711240, 350082, 71852, 294577, 277617, 315725, 229206, 383603, 849974, 83640, 357417, 97798, 3738, 161546, 745357, 408443, 69290, 103472, 515095, 982897, 168659, 957539, 777134, 460047, 702403, 681537, 469262, 746989, 283188, 354277, 286209, 295271, 493278, 164871, 996335, 526629, 542629, 895255, 586723, 500060, 21433, 857741, 384017, 838292, 291762, 36281, 86932, 504364, 641615, 676113, 810812, 908515, 844348, 512391, 268428, 246048, 429301, 255951, 651979, 375575, 174360, 920600, 283562, 679363, 799601, 182332, 846396, 115017, 501951, 587896, 261177, 101259, 645113, 797021, 834901, 675931, 660707, 510378, 227150, 27173, 496977, 958751, 606495, 447287, 84345, 665232, 846955, 826200, 141934, 413382, 149774, 341395, 68019, 275654, 691427, 239895, 69559, 662950, 448486, 521098, 88234, 661543, 954421, 837336, 50112, 217314, 414281, 228782, 320244, 460610, 858342, 334432, 820584, 325261, 747593, 222150, 102619, 26759, 517635, 683617, 497493, 942358, 354394, 706064, 599853, 351080, 108216, 786784, 559756, 162699, 298371, 558906, 847148, 109296, 222803, 500575, 797283, 456744, 433735, 329116, 362287, 810478, 604869, 295854, 301416, 683757, 41224, 631819, 843620, 714624, 549016, 151042, 553766, 781463, 484449, 836880, 873683, 245125, 759993, 231715, 143161, 81645, 595924, 106140, 113237, 357484, 434729, 979946, 822524, 498650, 495355, 958965, 235094, 672914, 183327, 279434, 623135, 815542, 933229, 377747, 268029, 408384, 279200, 174478, 691132, 609832, 66310, 82284, 811726, 12262, 572987, 961226, 6046, 666451, 301598, 308955, 16281, 295216, 564827, 141466, 902520, 679336, 517690, 433884, 72408, 549574, 322056, 423924, 464963, 704580, 414623, 96073, 752132, 205324, 361642, 388080, 597017, 77198, 360664, 825418, 820209, 372780, 281219, 471026, 747250, 583907, 250051, 594315, 240635, 481446, 385811, 506560, 52293, 591878, 950765, 526645, 394928, 533002, 139543, 143832, 486411, 470563, 126609, 744019, 255501, 282721, 425873, 3574, 209748, 643089, 687830, 794386, 600861, 272875, 961, 659087, 816946, 487776, 221341, 248170, 203997, 443825, 193679, 575609, 298436, 227137, 134939, 50469, 567950, 945566, 50316, 198709, 496009, 906085, 597663, 831465, 54437, 119825, 38241, 406358, 81487, 291364, 288605, 829717, 64948, 709887, 568491, 121797, 394911, 837552, 733039, 942277, 351742, 213929, 439817, 113919, 248047, 994183, 463016, 805247, 231967, 487017, 141442, 531938, 489490, 441664, 818831, 412162, 358156, 369958, 660080, 676922, 380029, 423359, 531702, 26379, 187681, 551460, 609138, 164337, 621732, 691993, 307355, 530729, 465816, 4512, 50141, 620646, 916404, 607876, 467922, 445082, 118348, 766160, 271400, 198968, 192072, 639617, 832835, 21884, 178724, 461899, 18077, 229997, 845756, 364482, 37220, 857288, 607904, 289356, 230028, 418565, 998503, 410492, 360392, 616954, 560275, 495756, 810112, 434738, 61778, 547251, 157437, 444349, 948541, 458589, 992858, 677599, 594780, 312374, 530667, 92544, 87369, 433573, 414102, 684216, 7491, 81387, 430632, 755989, 608811, 651667, 195750, 192332, 790507, 644232, 465441, 602876, 241227, 968293, 458191, 474113, 534524, 296967, 307670, 294481, 881499, 215824, 764277, 276874, 129778, 761178, 384891, 704338, 279577, 240068, 18648, 791862, 234565, 725909, 368884, 211627, 84583, 657853, 611529, 483372, 660038, 690348, 168224, 611937, 450048, 375000, 56046, 949982, 730930, 948350, 994360, 206690, 967662, 752632, 809421, 981444, 901413, 997364, 918441, 83374, 794511, 892807, 615863, 783588, 175478, 613553, 436989, 111117, 201608, 769001, 509192, 317279, 499133, 935071, 214952, 3338, 241672, 70414, 332118, 999554, 165470, 622563, 521244, 326136, 910687, 158252, 269520, 598718, 675379, 925894, 762227, 781835, 556281, 852642, 785623, 628283, 983719, 767740, 653213, 981838, 183749, 609189, 7541, 27297, 229839, 487629, 266736, 450366, 637808, 247930, 134913, 797328, 156908, 785196, 706107, 299415, 798692, 513641, 926868, 571452, 110615, 66333, 770977, 773291, 298341, 380579, 99470, 757704, 9584, 427272, 429548, 187210, 588657, 878541, 230313, 300716, 312532, 347253, 323695, 538730, 768454, 99013, 495315, 517569, 580665, 578095, 166036, 773030, 105843, 649975, 663535, 671797, 819146, 925482, 993912, 916076, 124840, 443546, 81959, 616832, 394443, 45770, 492019, 328389, 751966, 554016, 165291, 541275, 859503, 189494, 937686, 691968, 757055, 124240, 173519, 416834, 321600, 933101, 186776, 853152, 562501, 913156, 72127, 929643, 488590, 922638, 232268, 381321, 141674, 380695, 669492, 817947, 290915, 666668, 621043, 532830, 631427, 524598, 66466, 339947, 137121, 618414, 901022, 779314, 203391, 777092, 161041, 495567, 981231, 468041, 391734, 847576, 793133, 823713, 222189, 400404, 195614, 733125, 760266, 469413, 629606, 486613, 631476, 769270, 161256, 315036, 639305, 560549, 258559, 390211, 958011, 242850, 795933, 190079, 696672, 547455, 345538, 449024, 429644, 192579, 808544, 653092, 90295, 194248, 624143, 225143, 676298, 37617, 103224, 307070, 502656, 79045, 688391, 366294, 834747, 437472, 117256, 942884, 579123, 823651, 622292, 741475, 225059, 537641, 844105, 853683, 33079, 806554, 875206, 579307, 805612, 249428, 621392, 899938, 695002, 668644, 26190, 649437, 652675, 339526, 599224, 673248, 126229, 912549, 460523, 869120, 234596, 965386, 38894, 813400, 999762, 936552, 511718, 438310, 21685, 785058, 530932, 848797, 869250, 890538, 153556, 214262, 595472, 130219, 814266, 14180, 491378, 488036, 61369, 159844, 576325, 668781, 603781, 402212, 806481, 679547, 48155, 853465, 588355, 615627, 680419, 917506, 363825, 788654, 854911, 795670, 112321, 799245, 931767, 118083, 568386, 165011, 593825, 14557, 880241, 21179, 970822, 211077, 731251, 942089, 645990, 578721, 608586, 574577, 645964, 512638, 237749, 237954, 11462, 88113, 25614, 711576, 781943, 904226, 919305, 985805, 56886, 694426, 142540, 984039, 176040, 448240, 319194, 459531, 802929, 736415, 537513, 453925, 630957, 683245, 208549, 207139, 216969, 491542, 12507, 375621, 586943, 535857, 40435, 959151, 80810, 456021, 429126, 849688, 363902, 168672, 59447, 737329, 32341, 831694, 607653, 125201, 80587, 602467, 361284, 504787, 43970, 673302, 232703, 223177, 118485, 925663, 893590, 334575, 926855, 256362, 757859, 498187, 663170, 857951, 857847, 575224, 296884, 100954, 577938, 709271, 786586, 289775, 549788, 70479, 455982, 893986, 72541, 233372, 99124, 17834, 528202, 884502, 246033, 64475, 176617, 168796, 800939, 423380, 667798, 729180, 150697, 498108, 81071, 527632, 559220, 930234, 502556, 624597, 512410, 812598, 553670, 967077, 725296, 300233, 792032, 978402, 670470, 244794, 220206, 954667, 301479, 214387, 581907, 868163, 502856, 781493, 736161, 686983, 512160, 517326, 227158, 716880, 900723, 877527, 884733, 113460, 55810, 453214, 155963, 520013, 585580, 583835, 324340, 669152, 40694, 68338, 555101, 673632, 801572, 55307, 969913, 424836, 41754, 8465, 717222, 274310, 212134, 58233, 620199, 420625, 443778, 743911, 481894, 921545, 934635, 977639, 521775, 472078, 811331, 240240, 713679, 592412, 287505, 524404, 430219, 114337, 233931, 362585, 911315, 499501, 957052, 498934, 718132, 524396, 242780, 219162, 930718, 937003, 934683, 705514, 47932, 353392, 125031, 182511, 30666, 996066, 739639, 199625, 939558, 480969, 726724, 901816, 713394, 649573, 585840, 100218, 73769, 421091, 358855, 76141, 499612, 620740, 604525, 935971, 307500, 562987, 445039, 901708, 380258, 521686, 405070, 492886, 815097, 943366, 301832, 670922, 416397, 81045, 307505, 432636, 357628, 207784, 971867, 323084, 652385, 600947, 445521, 899130, 781559, 494430, 906780, 981950, 289029, 360360, 205530, 69302, 142272, 361762, 374892, 227236, 432573, 887152, 945889, 497245, 757489, 323975, 182450, 877804, 768294, 956637, 147371, 882264, 827760, 668422, 342600, 90705, 114539, 597507, 968369, 910056, 333470, 288542, 46827, 721591, 851454, 174529, 96674, 661523, 645956, 625951, 216526, 643832, 704065, 144291, 505778, 325135, 591962, 831074, 283469, 433099, 481436, 46024, 305750, 931044, 1278, 689237, 140052, 87006, 554955, 209316, 420529, 232223, 579198, 702760, 53390, 306665, 350735, 970747, 321185, 584131, 938186, 284618, 513511, 787712, 214734, 568588, 836689, 871405, 442617, 641334, 817177, 187554, 495545, 507417, 444233, 394102, 30564, 979783, 646167, 2447, 232042, 99945, 785288, 497047, 597299, 100341, 67762, 915266, 773751, 281698, 282963, 957128, 273971, 678510, 874763, 730004, 477161, 327110, 544472, 834464, 76505, 64918, 632120, 938678, 505239, 764092, 460096, 808359, 169071, 694735, 171574, 469945, 61539, 652096, 314288, 153770, 245156, 972392, 938912, 396607, 935803, 262367, 734460, 284652, 272953, 220329, 191275, 736298, 907081, 543247, 629453, 238696, 657812, 332508, 3550, 735078, 245352, 858244, 17454, 793735, 505120, 381240, 673358, 283066, 854348, 24768, 372540, 164953, 42299, 742254, 327346, 27918, 723881, 256486, 217384, 942957, 409723, 788346, 835877, 349943, 689160, 967239, 340802, 82716, 416190, 889797, 764120, 126991, 952115, 345420, 717030, 355047, 221184, 28673, 95378, 974027, 397747, 457308, 884051, 224818, 816927, 417109, 942683, 195245, 249365, 266114, 704932, 782404, 846426, 774446, 727348, 328136, 154969, 331681, 687068, 442622, 425274, 451569, 386816, 880942, 413070, 965733, 37342, 199685, 570708, 134758, 2087, 719958, 84633, 111931, 695937, 431298, 270493, 291292, 295533, 789610, 306549, 878984, 359248, 868124, 159254, 995930, 710361, 133421, 752943, 761529, 740599, 602273, 774775, 784263, 994638, 289550, 600902, 995778, 594935, 750786, 659647, 486291, 963667, 237560, 89692, 47675, 775349, 501933, 757252, 259539, 251763, 804908, 521961, 318274, 971809, 859143, 415342, 429827, 874038, 761519, 797561, 470727, 115141, 330709, 739629, 137746, 116276, 466691, 535841, 867783, 335896, 448584, 56578, 680969, 671831, 388561, 401220, 814248, 31731, 523686, 530959, 600326, 271300, 949491, 149962, 434062, 372674, 327066, 969551, 785510, 425535, 828018, 572308, 543344, 934224, 978576, 871852, 410286, 599306, 472712, 712240, 57825, 910928, 705763, 710993, 99326, 307017, 804362, 78265, 454298, 96004, 32667, 862514, 643479, 664170, 267594, 757734, 69924, 71164, 715354, 574205, 120309, 232033, 733358, 658821, 758659, 509604, 74556, 320112, 225084, 718244, 640026, 28635, 910534, 125635, 987078, 214872, 12250, 267611, 467477, 769260, 301262, 814865, 996833, 566101, 210376, 381301, 570234, 805519, 590030, 225025, 453647, 665240, 898406, 386952, 899036, 356690, 114573, 671455, 218694, 961926, 84849, 937235, 297939, 511160, 983883, 423990, 910178, 303611, 17934, 365356, 952799, 725397, 453991, 227709, 653094, 998716, 926758, 305980, 166910, 328465, 529248, 877630, 521375, 875365, 524687, 576741, 367330, 443829, 27230, 431645, 824777, 616481, 951354, 322915, 672168, 785260, 801919, 550019, 320120, 751351, 564961, 728510, 528451, 25978, 331137, 131382, 977055, 986646, 597352, 280307, 813323, 821996, 912366, 828162, 753506, 94680, 262045, 307898, 626778, 70044, 958359, 592143, 702718, 312263, 504357, 533402, 238097, 172648, 258487, 100241, 686571, 183055, 725518, 876517, 335110, 803330, 432888, 400086, 929780, 146152, 904491, 314398, 613836, 12157, 723709, 95194, 633446, 829435, 556819, 885159, 186864, 216946, 7709, 824415, 104459, 629710, 835744, 977019, 654189, 338924, 698029, 531809, 827059, 582652, 178200, 628390, 209561, 684928, 756181, 334748, 714428, 573172, 767359, 519604, 940743, 991061, 810644, 780821, 800390, 393520, 158599, 888476, 805046, 950829, 907863, 861748, 869178, 487926, 190891, 288426, 784586, 194484, 929128, 536446, 159482, 704599, 62311, 991859, 242132, 304525, 911943, 521276, 321815, 218408, 599022, 592084, 422582, 685701, 14231, 560052, 625474, 327637, 459643, 193279, 483549, 84756, 844717, 678494, 549164, 424733, 39940, 150399, 249990, 962692, 334153, 228356, 441828, 889428, 468597, 52356, 218038, 999829, 516858, 222963, 666973, 38037, 143106, 902103, 476634, 789739, 825148, 703796, 97471, 107014, 6828, 605685, 164450, 255110, 605192, 756851, 860320, 115191, 695055, 593794, 184454, 899250, 541948, 777176, 563416, 514522, 139353, 172448, 407444, 132980, 822958, 45045, 489303, 546403, 854252, 570439, 338571, 37877, 338823, 908247, 898034, 228991, 237102, 134397, 288310, 935065, 919285, 297364, 818488, 191754, 34077, 392515, 951392, 696792, 722033, 576132, 608034, 9268, 257659, 103727, 144892, 542035, 120971, 308235, 918461, 648123, 948171, 680555, 245877, 382206, 575445, 495975, 277581, 264492, 694174, 629365, 972397, 153447, 817075, 949248, 35806, 421408, 471566, 777919, 648056, 646110, 451978, 726976, 935220, 806404, 577994, 388429, 521453, 932238, 41153, 168540, 914400, 605186, 121545, 669711, 309354, 946029, 558697, 277405, 905729, 994287, 177453, 687579, 700605, 16381, 386226, 79368, 881063, 405774, 145983, 234791, 811965, 273840, 522845, 142497, 838540, 827465, 446999, 795098, 146252, 130126, 164043, 408342, 316604, 341436, 872283, 668480, 568257, 654320, 420714, 53366, 416888, 985716, 250089, 385507, 147230, 759295, 790964, 352861, 93847, 521352, 586805, 494108, 279052, 132529, 213731, 217858, 95141, 354256, 515872, 388599, 823879, 443745, 858881, 174505, 829818, 452681, 952762, 561364, 546668, 938832, 866547, 813398, 512281, 161102, 929065, 213307, 445470, 515984, 473442, 294690, 640777, 123103, 215217, 297267, 616037, 95282, 816172, 598552, 500861, 221311, 897703, 217745, 990809, 317634, 292967, 123559, 383564, 903705, 60992, 277867, 519242, 226380, 122249, 726270, 77969, 435510, 55524, 217818, 74344, 582023, 409280, 334975, 503958, 700608, 789335, 812731, 409513, 839738, 976396, 216328, 320611, 710738, 927536, 911204, 95678, 601082, 177464, 162634, 242082, 265104, 965665, 974025, 957561, 656298, 720437, 514516, 882913, 560355, 389244, 411911, 889584, 909180, 307333, 518832, 270959, 627698, 672724, 262097, 978800, 54015, 122396, 505171, 110041, 779802, 66849, 980444, 120175, 439466, 527841, 345981, 230201, 159372, 554523, 775746, 790901, 244813, 563437, 549964, 889014, 551303, 141652, 692519, 836049, 762804, 50562, 112519, 417483, 183550, 784772, 273216, 450731, 280466, 677704, 322233, 195769, 221912, 637086, 253905, 268045, 88283, 993567, 63732, 792730, 729405, 727173, 414670, 463337, 762922, 784584, 348384, 415268, 492379, 845613, 471665, 147510, 708079, 485839, 273507, 582615, 331038, 349460, 791128, 407931, 790994, 623716, 850335, 946277, 690369, 305042, 618573, 725940, 738106, 45817, 791852, 821789, 205857, 871186, 453845, 221776, 999937, 44818, 17126, 591631, 392910, 157510, 156018, 548898, 947329, 302617, 652693, 842288, 921888, 557697, 363341, 919991, 435777, 132494, 537116, 929919, 380959, 518830, 192534, 486780, 834965, 279346, 360735, 365724, 417290, 744259, 732968, 878098, 668620, 907091, 219871, 830384, 134583, 550812, 473887, 325174, 312348, 673211, 549268, 853128, 362664, 640956, 863486, 881237, 348647, 819262, 751077, 246969, 994787, 564145, 931345, 769723, 84784, 302222, 489387, 94631, 218091, 780057, 361167, 363772, 923724, 722682, 965803, 114401, 717830, 455705, 979918, 76378, 159941, 856218, 446825, 221333, 534784, 385561, 984694, 733658, 78551, 453885, 184225, 603160, 994460, 356756, 81955, 551171, 792215, 731284, 252594, 268582, 620163, 96747, 73267, 955615, 387442, 134722, 411905, 883097, 917529, 613085, 776446, 545461, 631808, 540389, 104211, 193171, 491837, 413538, 518686, 291977, 856355, 378683, 971090, 945164, 999989, 753941, 450396, 542507, 20133, 556593, 161387, 996876, 784419, 249766, 959195, 998702, 890732, 766719, 893807, 490958, 250330, 644366, 103780, 198428, 987362, 148665, 860938, 323481, 470684, 954114, 170775, 877026, 967990, 209171, 376106, 243427, 643509, 991972, 905196, 619690, 112861, 32769, 99730, 162983, 441587, 146162, 991547, 205524, 417905, 530288, 492883, 540874, 198833, 300566, 450040, 683769, 829081, 541407, 622205, 843225, 809598, 406082, 923271, 758806, 287700, 969907, 983728, 163850, 580204, 314544, 217008, 389730, 159238, 665749, 406964, 126677, 256036, 647769, 21401, 549207, 336286, 677727, 517737, 270234, 778079, 640639, 329220, 577951, 967490, 768407, 204605, 207477, 840758, 890348, 359184, 128734, 903740, 248673, 934721, 262163, 828135, 436697, 303449, 102855, 312542, 794691, 235257, 722360, 469650, 202163, 713642, 311485, 4551, 65886, 812297, 514701, 593287, 628168, 304091, 870258, 448049, 620952, 193652, 525767, 196999, 436485, 680904, 782607, 966155, 831527, 783266, 262927, 765840, 113644, 703088, 109572, 314298, 660922, 590573, 471476, 201227, 116932, 410478, 644173, 948505, 682861, 416524, 632983, 434196, 626783, 773215, 242801, 27778, 32845, 647138, 916170, 239629, 408190, 897954, 30668, 93423, 346803, 845655, 226054, 995076, 417713, 647070, 178058, 631552, 720422, 148828, 551386, 299920, 718358, 926983, 702707, 701329, 850668, 967281, 362493, 992720, 946176, 329009, 133780, 173248, 927926, 227962, 646328, 189777, 405483, 475372, 424959, 886269, 269452, 291420, 568841, 432580, 885354, 471658, 478311, 554559, 802821, 493670, 788083, 788970, 263597, 282719, 89080, 58075, 716063, 735778, 701515, 422074, 172967, 673381, 895981, 638945, 38419, 312047, 418029, 925525, 578687, 460206, 728566, 620878, 800591, 520542, 405524, 960175, 255948, 23791, 13950, 108273, 166849, 243911, 373115, 577540, 909087, 14292, 901668, 473511, 692686, 4011, 888818, 639093, 559382, 83565, 623544, 907477, 624699, 142976, 770368, 95942, 138939, 991074, 525375, 870100, 369840, 862847, 423322, 62339, 753024, 361018, 44161, 546047, 574413, 201965, 943525, 604622, 290545, 930632, 373104, 60621, 780611, 369498, 619558, 588573, 125326, 618948, 907658, 721232, 442792, 47996, 604040, 981076, 342009, 454144, 58056, 412106, 235243, 201604, 449242, 752401, 622974, 375278, 116198, 282366, 103596, 904118, 741893, 681051, 734614, 493157, 202957, 998258, 652001, 281978, 184435, 27249, 920496, 561936, 815722, 353039, 252278, 502414, 626174, 919266, 833826, 672424, 317167, 813270, 622905, 632336, 778204, 433056, 217101, 641394, 556563, 325648, 200673, 492932, 432542, 848918, 451399, 465260, 993335, 26831, 857619, 303399, 751437, 534794, 403032, 824854, 702740, 746668, 604904, 568640, 874174, 454104, 636499, 979764, 634007, 482383, 977671, 476274, 316986, 218865, 385911, 979096, 75714, 331996, 981703, 26230, 788747, 397015, 138900, 21912, 514544, 783930, 644688, 641298, 164581, 911537, 180437, 775371, 572074, 845281, 554415, 266104, 512692, 348674, 374363, 254555, 102650, 947217, 769567, 14986, 569280, 381859, 373890, 974785, 572291, 91987, 468425, 944477, 541566, 155392, 71751, 588396, 338415, 677869, 66601, 36903, 400980, 135132, 472889, 504906, 369815, 900761, 736914, 875925, 775059, 156043, 555802, 670868, 323528, 295227, 271094, 282665, 336702, 246092, 367146, 500724, 452472, 244625, 742743, 722464, 714678, 784808, 433135, 172923, 422119, 537259, 482463, 191366, 754290, 922793, 50374, 494899, 479915, 481147, 187907, 510898, 54838, 932634, 755361, 395012, 907533, 108856, 382209, 440943, 457281, 63308, 160874, 486026, 272860, 342167, 207547, 857816, 629686, 143724, 16796, 287858, 144504, 102748, 884185, 228785, 435649, 177431, 87882, 540090, 411980, 577162, 92617, 606859, 56743, 392574, 729947, 639032, 811740, 762235, 388367, 698681, 364272, 783262, 911984, 639421, 323830, 472270, 370620, 373857, 906218, 566477, 396170, 645405, 854245, 192758, 456892, 249846, 294257, 995170, 290788, 461880, 592534, 778300, 137362, 431277, 292411, 477878, 98727, 574518, 361780, 158146, 381989, 421233, 193688, 327766, 115754, 840224, 105613, 404169, 427623, 303856, 863332, 423549, 663630, 167701, 557166, 34239, 322925, 87702, 915763, 288479, 759741, 506097, 787069, 294012, 289093, 992570, 580610, 44759, 728891, 310634, 120751, 116454, 81600, 862393, 406057, 574498, 705926, 306674, 522852, 526747, 396269, 619903, 158840, 954557, 374534, 937723, 426581, 518732, 756838, 959219, 64642, 191048, 990638, 951565, 252343, 135168, 851861, 968867, 850539, 746517, 968320, 183482, 532795, 577640, 288100, 55495, 260159, 365625, 404750, 963611, 921881, 130874, 889576, 119278, 875036, 135412, 945140, 705479, 425942, 242022, 840107, 700325, 182105, 555258, 686272, 613838, 337358, 486571, 292787, 461471, 216486, 624302, 245654, 267998, 247933, 430384, 113437, 34619, 614692, 195985, 999296, 361639, 184525, 590408, 229722, 495604, 940762, 65812, 444136, 627233, 381174, 673482, 898108, 568637, 813688, 435499, 898682, 844669, 189873, 202717, 183375, 569344, 724450, 648394, 894376, 12049, 965002, 823022, 840580, 810037, 218445, 538567, 298432, 949200, 681732, 401010, 207633, 352671, 83609, 326215, 884465, 885875, 279358, 914441, 103724, 71617, 45766, 265442, 662127, 771666, 964405, 920052, 458918, 624443, 673946, 181168, 555204, 599496, 718291, 346198, 629028, 678236, 270029, 777871, 969081, 241815, 661789, 990860, 568956, 629998, 906396, 765811, 713568, 96450, 423792, 231646, 455980, 680287, 798967, 528675, 932735, 377276, 713549, 172570, 896661, 618105, 70541, 896076, 842679, 251137, 26042, 106666, 137822, 341559, 765371, 166654, 361329, 561471, 500083, 999786, 528750, 411412, 937069, 525488, 376576, 602316, 270269, 338506, 377077, 899376, 253384, 525809, 550113, 732722, 877875, 175249, 332391, 374906, 997417, 521224, 854343, 981870, 782842, 571367, 662333, 774742, 842769, 948307, 166471, 38872, 856915, 577493, 767344, 856144, 785834, 6700, 929869, 873857, 371089, 93851, 681214, 73144, 383416, 444331, 180693, 267875, 438546, 311137, 922126, 716268, 668049, 569591, 553990, 316196, 706003, 835902, 929187, 306085, 610326, 629616, 885902, 543731, 143708, 848742, 537825, 604843, 349682, 25547, 485413, 448653, 858796, 266432, 917845, 19, 655247, 130151, 431821, 268823, 480056, 911005, 909157, 76059, 162843, 736371, 26489, 132991, 483730, 23228, 726917, 835844, 151716, 527954, 97066, 748435, 867586, 355526, 599722, 560856, 994322, 729788, 413879, 483835, 496494, 900446, 495153, 712253, 218804, 405299, 564055, 443569, 335161, 477860, 481415, 724420, 690825, 810720, 322199, 2268, 978437, 947077, 619251, 463807, 517361, 389006, 973520, 985092, 169405, 65039, 214788, 442785, 478232, 863377, 934503, 427847, 119123, 393531, 73421, 5656, 17682, 950158, 511731, 566408, 277013, 260959, 32132, 433457, 873251, 929877, 38159, 321936, 137952, 777569, 737200, 406753, 766959, 496685, 728470, 322669, 8090, 901636, 37041, 684002, 606611, 882827, 209668, 250352, 627005, 579447, 634940, 508148, 803341, 324174, 668907, 913603, 377797, 949763, 583747, 522912, 398551, 550144, 59997, 602397, 850854, 97510, 934424, 72369, 140321, 634806, 169638, 317895, 607176, 539717, 504729, 793343, 495102, 682144, 327454, 875370, 278204, 413092, 645199, 389439, 874087, 856495, 248235, 487358, 473337, 146728, 676459, 640904, 476887, 103245, 293377, 184388, 992632, 58410, 137019, 534988, 732613, 722713, 788910, 875354, 115109, 783446, 1767, 76355, 447488, 994379, 438929, 476502, 257566, 508391, 566152, 160484, 903174, 262193, 334044, 895154, 108841, 958045, 18007, 286622, 966660, 102991, 773711, 920522, 179166, 892986, 864339, 551519, 593906, 175869, 876592, 75347, 699007, 213807, 806592, 752023, 280659, 475804, 87857, 41207, 719098, 290466, 691413, 108258, 486021, 612120, 712510, 188222, 329780, 999559, 478432, 46213, 561597, 793124, 717497, 560230, 237153, 196619, 489332, 950259, 47054, 775200, 564085, 316489, 442369, 557954, 617305, 471324, 252837, 321036, 37888, 979481, 333486, 953138, 773223, 188002, 638483, 380991, 508484, 365469, 561168, 33577, 820779, 171639, 714532, 332088, 47761, 7111, 661775, 492796, 883391, 520863, 760762, 837358, 573934, 153693, 249543, 828212, 988329, 837101, 417342, 415228, 802245, 495538, 972533, 39194, 315863, 444587, 771702, 213867, 362594, 537606, 339985, 772542, 173629, 884248, 446813, 223609, 980340, 845334, 82085, 390434, 808121, 251841, 176565, 239101, 536807, 844352, 141362, 66378, 885801, 618896, 835940, 234960, 997969, 516623, 757798, 6651, 340267, 962532, 602149, 846643, 812977, 252681, 519908, 70014, 313451, 717820, 778734, 721569, 300296, 787965, 371244, 651469, 510780, 653369, 622690, 96433, 541321, 536024, 551846, 234407, 352402, 355075, 225856, 171787, 476051, 957629, 933106, 218810, 668562, 33615, 538852, 152270, 555462, 705132, 690962, 633045, 328394, 607191, 278300, 148497, 910638, 901550, 930276, 756792, 820459, 949151, 154132, 164562, 96686, 532173, 890562, 161166, 319210, 947277, 675954, 257252, 360328, 497351, 7442, 706599, 233965, 33190, 300686, 750517, 307960, 883315, 186683, 677511, 747604, 366032, 847812, 999604, 97604, 281491, 73460, 983496, 28430, 971026, 193148, 672403, 28586, 519727, 299195, 998575, 37677, 637349, 710606, 991037, 717468, 702604, 804242, 435702, 227640, 245261, 58224, 672297, 12123, 137344, 511085, 961675, 824427, 557007, 326911, 251736, 211, 807855, 574750, 611161, 814693, 568761, 58794, 640444, 947044, 274202, 914336, 245525, 357001, 236840, 417745, 712769, 610633, 398646, 397027, 562896, 654662, 668959, 488312, 591322, 452886, 882674, 428383, 873181, 477487, 778997, 503301, 956402, 393443, 578745, 308462, 879663, 38912, 412870, 861146, 295483, 323054, 622437, 654554, 524045, 975271, 546121, 208886, 807532, 722994, 104116, 786030, 469635, 829802, 924694, 919064, 768284, 110235, 709444, 342932, 893183, 264945, 580019, 619858, 68907, 70719, 1057, 277333, 830703, 820175, 288757, 836125, 781778, 836704, 663794, 551312, 442701, 671536, 540121, 164709, 113147, 716781, 381351, 350251, 944849, 406492, 40046, 799322, 92214, 41215, 109768, 698629, 449879, 687743, 811385, 781309, 899282, 315928, 769506, 174851, 104112, 729658, 207827, 237159, 917858, 661450, 41815, 512240, 844765, 654180, 839488, 975601, 641282, 17955, 411068, 195059, 400735, 988640, 813044, 214093, 493363, 547102, 844253, 60093, 486763, 299531, 591585, 30838, 350044, 823861, 973974, 979752, 826409, 922675, 303699, 98599, 721603, 267412, 375041, 544803, 725867, 284933, 202207, 447324, 884011, 160576, 891142, 55409, 696824, 552028, 468935, 537830, 900523, 585787, 240820, 96591, 27386, 762108, 242195, 929740, 256070, 928669, 936686, 414209, 980563, 336482, 433276, 316250, 465467, 231191, 350867, 696285, 729218, 233787, 61489, 933450, 772221, 509317, 626331, 869264, 877600, 66048, 499089, 719320, 178078, 142371, 475930, 319491, 216291, 665910, 959736, 177124, 178792, 360807, 365139, 443286, 450380, 494999, 353817, 334612, 34187, 825625, 420183, 646928, 576219, 214861, 694440, 786865, 875816, 379868, 877779, 41466, 652631, 521761, 712656, 99653, 737034, 47504, 627953, 616773, 814146, 181547, 965594, 998398, 987968, 755165, 105015, 416784, 222393, 825512, 154843, 562465, 706571, 529471, 196544, 147074, 797626, 498817, 828427, 762495, 392912, 419882, 312735, 123608, 496059, 332361, 697919, 173672, 553725, 258068, 876347, 533613, 462564, 88387, 668248, 256383, 454620, 225709, 954429, 805011, 561561, 707728, 822034, 145081, 289804, 228184, 759874, 404974, 654346, 34562, 68162, 729527, 665623, 962409, 465629, 519855, 493901, 741045, 426676, 144224, 442107, 226586, 464571, 857332, 123624, 981399, 858749, 157766, 103664, 351210, 286833, 690378, 435756, 461947, 954837, 254046, 212077, 506612, 178329, 400233, 392543, 708989, 554754, 702646, 192570, 724295, 16337, 863225, 528691, 781762, 926038, 748838, 582367, 119523, 958263, 154058, 358488, 812666, 886156, 29995, 895476, 487797, 551360, 776544, 829428, 441537, 321273, 256865, 293777, 829296, 36935, 24819, 25048, 341085, 73661, 929735, 675180, 202827, 369253, 370526, 723764, 251528, 665561, 880389, 148761, 166261, 380401, 412119, 739566, 220127, 669128, 960938, 611007, 508411, 198265, 234617, 728662, 417620, 335374, 233251, 160539, 930557, 442486, 125706, 120786, 268249, 836874, 372622, 495209, 83017, 443363, 607505, 541561, 939365, 924838, 147826, 647400, 362063, 155031, 585528, 582251, 295589, 395613, 149809, 682824, 429735, 802119, 464043, 981392, 716814, 934972, 574109, 155483, 33360, 764812, 796997, 827992, 331020, 969902, 861975, 261293, 130466, 113119, 646910, 963034, 329310, 700139, 247773, 187093, 698507, 23354, 267564, 642673, 764214, 568732, 321176, 937159, 379353, 104866, 849857, 132142, 641013, 461810, 876145, 915854, 451759, 782724, 899829, 193821, 580748, 991263, 760172, 560632, 300403, 783939, 902433, 700774, 935640, 739192, 484304, 729754, 28055, 214994, 345521, 924888, 847667, 933728, 535129, 327859, 330151, 360295, 343974, 861200, 274622, 110547, 253821, 55082, 464714, 522131, 175276, 288137, 214410, 358891, 292390, 891115, 263111, 142542, 885790, 534689, 852408, 944694, 409413, 100576, 949030, 98077, 80057, 407890, 742585, 394528, 311545, 164218, 800407, 802343, 951120, 505746, 764298, 730467, 694118, 551806, 817751, 603012, 54003, 73804, 455571, 185926, 177961, 470160, 23718, 678735, 6893, 230290, 919368, 708645, 881816, 310740, 795857, 31342, 761711, 744670, 322467, 814387, 427537, 250512, 48044, 853172, 166612, 338097, 48992, 997920, 91857, 624171, 128832, 987939, 243512, 281641, 406695, 956359, 354211, 372350, 647177, 55889, 204542, 798637, 784129, 986482, 452407, 657997, 781221, 731874, 507752, 754541, 435514, 811214, 931460, 678666, 572470, 476714, 990019, 832066, 586273, 354093, 494915, 874275, 149214, 232682, 310441, 865583, 921904, 368028, 114722, 448467, 802763, 584904, 679088, 443292, 998461, 816925, 78556, 423907, 800203, 512709, 448853, 549585, 603158, 558579, 350425, 320123, 104201, 489964, 743848, 704298, 605251, 964014, 322971, 138727, 13954, 869099, 564983, 745709, 273851, 104995, 873534, 530475, 208620, 251171, 443587, 618276, 476401, 665553, 719636, 225154, 493792, 847025, 913706, 879686, 126484, 642908, 566811, 798467, 224634, 840725, 891843, 251733, 839571, 539962, 55549, 490452, 344639, 292298, 606764, 927924, 318631, 778644, 958306, 775027, 333977, 492997, 689220, 592236, 613166, 719611, 16883, 777781, 460590, 402056, 734171, 217247, 970014, 976055, 85631, 685636, 111917, 847411, 878201, 431727, 372733, 269081, 323898, 489505, 175151, 658794, 950335, 299151, 805301, 437641, 546420, 586140, 428039, 419559, 751932, 868387, 16147, 206932, 668962, 921409, 683777, 307097, 178047, 883652, 646128, 486711, 624561, 756210, 628514, 649198, 733769, 120576, 720961, 112532, 230924, 298377, 1556, 811795, 648363, 724328, 924627, 72433, 47231, 518759, 276237, 234010, 299453, 529186, 25468, 551601, 269005, 662501, 745278, 579328, 55480, 205227, 299934, 946549, 637547, 528433, 759832, 635068, 455117, 686507, 645794, 186289, 594251, 661106, 643981, 570345, 826836, 831164, 581769, 522990, 458397, 945408, 422000, 893649, 670873, 251591, 135943, 304436, 76879, 679020, 958782, 471686, 833329, 360093, 971148, 151065, 999110, 615517, 902195, 347760, 199703, 202867, 881388, 876880, 103950, 784346, 718993, 884242, 776672, 322108, 128159, 70037, 411832, 8467, 848781, 109677, 55576, 471472, 376027, 617896, 295436, 649778, 440619, 206028, 261568, 491779, 418729, 912740, 605247, 660754, 778833, 35420, 32518, 520287, 683700, 437316, 922521, 906565, 99441, 648558, 416008, 936210, 47843, 489323, 219693, 354017, 879158, 911627, 131261, 509924, 743865, 352354, 398339, 167592, 39901, 505581, 155197, 19390, 10479, 503074, 98341, 765171, 845152, 54866, 981511, 419865, 940869, 381463, 731967, 902811, 7718, 369620, 951126, 163831, 49281, 758940, 795622, 606404, 41661, 104878, 965247, 549626, 576545, 723330, 201679, 912854, 977115, 572985, 779103, 158616, 276109, 646591, 663027, 917578, 569421, 32375, 364198, 712904, 334598, 35282, 872802, 303045, 642790, 459722, 412452, 213616, 275052, 101511, 653791, 212071, 777528, 4558, 78432, 447614, 584873, 25258, 834705, 598988, 695126, 766688, 160462, 247839, 447333, 89681, 601533, 426476, 982401, 581606, 863494, 534444, 139025, 330772, 517129, 520673, 783833, 221022, 609682, 329334, 500530, 548171, 994610, 319383, 914198, 368656, 423243, 322202, 311902, 912774, 291772, 202470, 758863, 863947, 416018, 946868, 716516, 942388, 543550, 956618, 573196, 573414, 704611, 502750, 988791, 682261, 340154, 806982, 493208, 642072, 26124, 994921, 790951, 400377, 917070, 426110, 938438, 199762, 373664, 165532, 249918, 391389, 483752, 815571, 934191, 25147, 753715, 232537, 75437, 317188, 118355, 691988, 791264, 709611, 909640, 252077, 35492, 847142, 916310, 397909, 54522, 704517, 753861, 570307, 928117, 975428, 565596, 862710, 129660, 772635, 951774, 472433, 173430, 141580, 895689, 373628, 55049, 730326, 813069, 565058, 392, 709377, 160065, 635274, 731914, 174107, 983072, 776591, 582438, 680061, 824906, 529665, 450914, 991485, 699358, 283003, 600840, 479675, 10503, 735796, 939564, 832984, 551540, 295345, 831799, 496409, 184121, 598748, 765235, 926161, 765939, 631125, 142417, 290628, 659688, 301445, 175887, 340429, 268077, 28340, 541804, 718809, 173858, 929274, 834661, 649959, 383411, 417518, 996619, 199827, 378399, 888454, 347017, 257846, 540635, 108652, 783412, 728012, 185054, 69798, 734358, 917981, 459877, 504040, 691774, 896060, 374711, 821231, 198426, 639370, 22313, 582336, 951684, 474606, 752719, 895040, 7341, 416595, 687888, 288743, 899557, 235640, 313384, 640258, 626677, 187074, 901055, 737296, 953224, 947961, 341622, 40430, 576885, 317545, 591171, 267173, 149009, 423936, 752582, 966788, 179825, 318784, 155853, 461694, 357982, 317686, 259116, 335681, 885954, 114526, 141461, 918529, 387840, 722509, 837181, 984186, 812005, 477634, 221166, 726027, 644516, 320883, 397638, 604401, 408565, 557364, 505717, 914521, 680885, 105674, 149136, 570903, 305936, 736286, 618885, 168332, 274809, 602470, 350075, 877053, 972757, 183430, 379837, 162312, 549292, 337729, 511670, 833702, 219653, 146025, 795908, 323036, 618309, 331205, 268478, 670819, 820173, 20162, 63700, 621249, 435604, 66549, 771604, 10987, 202654, 697241, 690611, 587760, 412740, 853305, 508689, 297449, 542580, 719259, 463685, 569978, 612671, 167526, 605440, 702295, 442236, 9408, 40447, 297329, 896289, 905179, 758616, 878170, 387342, 318752, 383385, 972996, 815610, 878879, 72197, 468364, 586309, 412893, 595301, 310811, 267634, 393904, 948567, 25338, 90980, 768646, 837466, 298051, 345630, 298284, 394561, 207079, 64945, 652023, 720470, 431510, 818537, 260520, 419426, 803107, 94587, 417182, 648235, 4986, 321810, 290671, 6755, 346117, 929234, 711989, 659042, 201347, 677459, 581302, 799951, 10779, 153041, 983263, 610789, 78075, 905270, 977351, 233194, 684385, 899673, 201254, 765477, 54031, 246981, 587003, 810413, 33466, 461432, 113877, 686803, 400578, 962318, 988554, 719856, 303661, 650636, 308115, 719830, 377139, 110854, 382861, 159251, 643034, 52200, 278448, 863528, 469597, 555460, 144524, 808961, 794627, 299667, 740208, 705717, 959597, 366411, 980051, 848088, 834206, 849863, 33993, 59332, 177937, 86285, 958589, 640493, 340109, 638650, 441006, 989008, 252896, 736572, 194729, 241653, 241353, 343341, 577427, 833206, 354593, 456054, 97999, 940014, 529423, 924655, 2180, 588304, 628191, 146109, 414486, 200164, 901828, 468919, 752508, 859056, 79938, 638127, 281088, 51674, 467980, 704889, 732694, 93036, 428277, 733007, 840075, 883886, 817974, 553616, 297106, 414700, 828396, 685977, 289713, 988788, 337678, 583955, 693120, 629286, 43282, 286959, 57592, 422533, 495067, 559952, 938611, 166129, 888566, 911726, 932765, 126907, 962863, 371444, 382584, 995641, 344124, 586599, 210247, 281762, 765495, 366074, 633827, 309543, 286157, 907167, 687254, 893686, 375725, 880902, 626177, 453332, 431893, 149994, 578101, 969424, 491144, 400996, 902540, 671533, 877062, 387362, 837564, 988053, 884419, 519585, 484195, 85294, 396168, 606793, 51474, 400206, 209445, 905415, 391424, 917455, 925055, 556446, 725563, 751570, 368848, 943773, 566479, 814235, 338116, 885267, 682045, 366035, 711249, 407197, 740586, 351993, 138935, 651915, 940350, 222832, 356232, 903128, 635573, 862246, 474743, 994972, 516306, 449344, 109413, 662752, 73600, 924284, 422357, 405602, 478866, 12663, 278946, 557800, 434193, 152993, 904658, 41273, 533673, 34860, 715261, 61292, 594480, 706558, 453126, 890115, 51978, 987937, 942220, 390294, 952051, 49678, 836652, 239865, 541694, 961304, 794138, 343425, 300679, 417729, 855712, 390017, 216364, 325557, 611974, 681420, 637064, 991440, 557114, 986432, 108950, 397280, 828357, 565746, 478906, 639271, 641261, 784847, 370000, 57647, 421599, 564228, 411101, 187389, 189010, 489689, 353212, 868452, 251242, 589961, 544220, 608354, 821015, 842321, 268870, 895508, 54814, 51250, 58197, 105497, 49840, 693477, 762334, 770036, 419332, 745363, 273333, 466046, 447009, 445956, 113763, 380064, 213341, 442753, 350904, 411487, 628609, 283769, 952178, 419877, 805163, 798206, 869948, 763569, 931622, 57521, 635026, 170937, 401067, 129855, 544454, 368395, 131565, 453765, 447948, 136835, 175024, 135910, 561555, 300451, 988815, 238669, 934265, 501239, 577059, 892000, 706263, 740327, 97260, 138157, 80613, 364790, 572841, 564120, 686196, 139187, 76904, 875749, 850721, 473623, 141128, 975509, 696242, 55859, 104648, 52326, 484654, 231236, 743475, 977983, 498982, 493717, 742127, 375170, 298220, 201998, 903257, 843720, 883683, 678433, 47913, 479839, 15484, 552537, 422746, 80975, 549118, 4795, 991405, 129686, 342447, 785189, 391887, 58731, 281356, 154764, 395288, 644258, 197365, 681359, 425045, 568510, 281094, 813352, 132432, 285793, 393306, 597748, 235059, 646509, 963356, 606204, 89342, 940126, 147442, 367419, 290879, 262039, 647934, 469435, 925932, 950439, 550750, 597341, 507740, 358107, 171752, 62309, 46651, 325348, 730176, 885153, 457982, 490400, 301463, 932622, 576201, 438616, 685681, 143940, 666241, 247356, 415148, 665105, 688859, 155921, 195974, 752367, 270768, 644669, 532955, 230516, 405975, 408711, 421997, 428861, 477985, 448416, 750371, 209505, 63085, 751112, 18219, 55249, 229809, 896848, 127845, 565826, 812134, 62377, 439188, 861439, 874716, 408350, 839246, 774264, 70897, 896910, 738324, 112900, 79380, 687961, 306259, 61179, 374945, 691831, 453674, 339523, 805008, 132059, 492763, 151147, 389400, 757654, 929303, 116790, 704929, 946737, 516586, 631632, 624222, 731661, 106539, 438620, 980109, 830824, 703464, 322807, 467973, 267185, 441885, 528457, 21653, 841897, 166997, 75376, 322821, 670015, 72616, 476730, 691360, 881818, 131504, 101607, 235483, 131547, 40606, 605645, 525045, 133112, 485471, 455223, 638195, 864303, 701856, 125097, 160756, 117659, 804442, 521268, 359808, 257854, 187143, 132332, 367523, 513962, 541432, 593307, 132290, 744594, 87905, 629218, 993708, 264717, 199138, 982839, 169314, 594535, 889800, 920616, 849314, 322636, 576299, 609469, 773380, 23587, 760809, 601062, 386532, 394219, 191639, 190024, 494964, 609265, 552666, 286139, 12616, 618199, 18246, 374648, 920073, 220911, 595647, 398895, 481816, 652476, 154138, 37668, 963074, 213458, 80622, 731804, 311916, 726737, 205577, 788229, 826550, 39809, 626204, 684686, 831759, 173847, 988884, 74234, 233303, 103853, 388229, 125440, 717548, 551860, 342622, 128722, 446320, 854645, 280407, 952420, 793638, 86854, 187903, 136316, 769921, 114565, 409193, 91542, 210777, 160297, 507133, 774672, 860931, 974865, 956137, 32414, 627735, 368694, 785153, 58243, 505984, 471600, 493384, 23166, 362459, 851152, 582493, 155791, 692115, 229141, 111079, 895419, 472868, 441696, 59273, 306741, 721371, 419344, 317239, 7346, 428763, 331998, 336763, 49296, 297548, 25038, 610495, 974442, 884934, 868004, 554343, 316081, 82422, 853510, 315197, 503907, 918769, 585178, 527, 730224, 746168, 90921, 624592, 123956, 802501, 962096, 533647, 589124, 471328, 445270, 503362, 269108, 615579, 107454, 925148, 890880, 390566, 258027, 431745, 863625, 457321, 181456, 569186, 962297, 21645, 339533, 922486, 939166, 212976, 708957, 258220, 241779, 665086, 109173, 528834, 234781, 885137, 424525, 728119, 566298, 204375, 345995, 479972, 859967, 220860, 773454, 602853, 713916, 939371, 741486, 148237, 586642, 255220, 348129, 803181, 815042, 42943, 726396, 165885, 47640, 557041, 324295, 175683, 482078, 903904, 697512, 309669, 728257, 219405, 420041, 1407, 764951, 434619, 352663, 291329, 750385, 307527, 599749, 470882, 515111, 772310, 409415, 800478, 490475, 903167, 328764, 647462, 28632, 834078, 374149, 357670, 747824, 422480, 882713, 457049, 342080, 89106, 531817, 673663, 514000, 198799, 419792, 709261, 413703, 696661, 478191, 930480, 981361, 576271, 37522, 221016, 434364, 296366, 715073, 934152, 229767, 402849, 385951, 68408, 332174, 679132, 31964, 6717, 235529, 41794, 760917, 85203, 646737, 721584, 973470, 993786, 665238, 602709, 492303, 868954, 548442, 113107, 650040, 225203, 292963, 544941, 103392, 239746, 45408, 580305, 223710, 613915, 167112, 292549, 974427, 711398, 203915, 524541, 743535, 831841, 185050, 372163, 169361, 522533, 608544, 124288, 101294, 126576, 933246, 505421, 254700, 347183, 694220, 63152, 23672, 872167, 608443, 6507, 360201, 568744, 90955, 771515, 399216, 749609, 104077, 57954, 189757, 925633, 994153, 587859, 845537, 417673, 561882, 237834, 123274, 179615, 562012, 682148, 12965, 301645, 821271, 862770, 143278, 950570, 282111, 966972, 792557, 804721, 793038, 775020, 439002, 978281, 902938, 414621, 840099, 267440, 768824, 862820, 377132, 932794, 102660, 172275, 339565, 613728, 844242, 536410, 742660, 667527, 30470, 94761, 66635, 797242, 93601, 125672, 100438, 728941, 108051, 953382, 163331, 102986, 775545, 977009, 263684, 816980, 697683, 217346, 333483, 260490, 753222, 8666, 488316, 433370, 906698, 56389, 183044, 729905, 192708, 103273, 416482, 322130, 407962, 607602, 699940, 539837, 762105, 183435, 355613, 366872, 440166, 914277, 153368, 405578, 887459, 669671, 318914, 427243, 491714, 205960, 718931, 967151, 7838, 964110, 549403, 411748, 947810, 172747, 700732, 270778, 383465, 261231, 551180, 955593, 170040, 465619, 703722, 342746, 761251, 512559, 17530, 234550, 266958, 914751, 264569, 193067, 391371, 965250, 554168, 323650, 362155, 894073, 751671, 764696, 260465, 934481, 994508, 477876, 578884, 994694, 355634, 808049, 566311, 33679, 751304, 236999, 654647, 292522, 498031, 856395, 72939, 672434, 860152, 507471, 734894, 499844, 693474, 867411, 566557, 109863, 449059, 181012, 302958, 400368, 522806, 751850, 385284, 700557, 8235, 714415, 285773, 504544, 537202, 130563, 834048, 492592, 39112, 604309, 627501, 961197, 72765, 643571, 265308, 642629, 270678, 699192, 101675, 193668, 50967, 40822, 731754, 718622, 106870, 199405, 44368, 728849, 724722, 602612, 673566, 4471, 437486, 559731, 171613, 684321, 19169, 17889, 945464, 390827, 150856, 618682, 758938, 244299, 35740, 682390, 856230, 456576, 762059, 61132, 617840, 522702, 770069, 717703, 866628, 870001, 258409, 358929, 951435, 795061, 564956, 399845, 701337, 45332, 351340, 601999, 563302, 351449, 161664, 624188, 212112, 195140, 770982, 937361, 583196, 929609, 595237, 753381, 221377, 928197, 811048, 212486, 322880, 612920, 4307, 222730, 922153, 757677, 936848, 346285, 98194, 50636, 43449, 783101, 400676, 484472, 533752, 194001, 522953, 72125, 737111, 949073, 198168, 148007, 711132, 834442, 106610, 927962, 251422, 58064, 971033, 691155, 616285, 914112, 893451, 37653, 488349, 432700, 175211, 661389, 271250, 888112, 86274, 85557, 409751, 521102, 900821, 142394, 279657, 611510, 417088, 171363, 743616, 891477, 384619, 675557, 672767, 383091, 159687, 336896, 820299, 684055, 931236, 359520, 340670, 992989, 400653, 236717, 714220, 775446, 755304, 858280, 373658, 999655, 606782, 536558, 220909, 969525, 366347, 10928, 710417, 911898, 530047, 810306, 663141, 752087, 447503, 263285, 315945, 559615, 848379, 736787, 898353, 505935, 156467, 867021, 756486, 191197, 720682, 440261, 598295, 161556, 733119, 146100, 27490, 454106, 443789, 721658, 866675, 499621, 497450, 197235, 228905, 991566, 371723, 95958, 972285, 170185, 597546, 215369, 986098, 720533, 308302, 610455, 326652, 427981, 175255, 529266, 101742, 598801, 727365, 806549, 368890, 906068, 625331, 139203, 47743, 318087, 259732, 96431, 802818, 935245, 181848, 137254, 788526, 548948, 849032, 745883, 544618, 93575, 861865, 941849, 814262, 779701, 348664, 284105, 206619, 647995, 702608, 699524, 829816, 149506, 341822, 960067, 867385, 259697, 578255, 313272, 755884, 263376, 228397, 450302, 354160, 99535, 420323, 815585, 456615, 301899, 296326, 345766, 518431, 341452, 907093, 45019, 117583, 743618, 832602, 444902, 408477, 784353, 965280, 307032, 416690, 386409, 164721, 646887, 588692, 111668, 540984, 898750, 36490, 446652, 923022, 871660, 278116, 256823, 739259, 684585, 676657, 485153, 824210, 531293, 932900, 606049, 11642, 310968, 719360, 467549, 442538, 5205, 731687, 281332, 295767, 175536, 632133, 895578, 726930, 779995, 143014, 352582, 910555, 611425, 901811, 37425, 38396, 993592, 484217, 626615, 519314, 967367, 968221, 43990, 183270, 95991, 783402, 130270, 89555, 583864, 857791, 900148, 395584, 248814, 737632, 393023, 850420, 249029, 368672, 370385, 749693, 460756, 695884, 323071, 824224, 552444, 617934, 832975, 310283, 634082, 347284, 971562, 874720, 182654, 168555, 948683, 456880, 848697, 128567, 795905, 527415, 536590, 432950, 959031, 197727, 316688, 205727, 921070, 64760, 909802, 932980, 85286, 575112, 465375, 885142, 697707, 653403, 702460, 217289, 439860, 962084, 147785, 794639, 234090, 382645, 34893, 573713, 702766, 424471, 941091, 251901, 314702, 39138, 343287, 490200, 333971, 375823, 723023, 602021, 230957, 712289, 171696, 98868, 301348, 887636, 144862, 122625, 337807, 503664, 386507, 213020, 851604, 833588, 246323, 820284, 186856, 123738, 951058, 736581, 453523, 172729, 38445, 223490, 845041, 797094, 99621, 206560, 711735, 532601, 243610, 382029, 437182, 127856, 444727, 568659, 241740, 602794, 910357, 201590, 946489, 454954, 897396, 739738, 256312, 774721, 944542, 166987, 578384, 667330, 946608, 629455, 184278, 675121, 202681, 386068, 229460, 826269, 552625, 666966, 783178, 245230, 356416, 636924, 593043, 972704, 8134, 455732, 350436, 54658, 106361, 792523, 824946, 78877, 755957, 848452, 500928, 536156, 23693, 74709, 593429, 144604, 161433, 242282, 355190, 949158, 880519, 730278, 548438, 320787, 763773, 204678, 463632, 397698, 772455, 932430, 644479, 163589, 595512, 529037, 50068, 362061, 162977, 277323, 333804, 662983, 332450, 81716, 338725, 519658, 487431, 270506, 593625, 464130, 186833, 251164, 21476, 826507, 989683, 707061, 350939, 628081, 149165, 419848, 237498, 414426, 958612, 522110, 952549, 986789, 445655, 58329, 897685, 895435, 933681, 147261, 77336, 773263, 775968, 853539, 708898, 942328, 312252, 559737, 141158, 174012, 838869, 72075, 884078, 620035, 654446, 879865, 315824, 857003, 827521, 436938, 597337, 559409, 487755, 409163, 698978, 631519, 740569, 85615, 179905, 939336, 690769, 995606, 696265, 774855, 88301, 121736, 962332, 141377, 427854, 912283, 346005, 436092, 661448, 493107, 912244, 620167, 119584, 196081, 776031, 637568, 818471, 652508, 504211, 531054, 751757, 818356, 744095, 326461, 158455, 285605, 100551, 944332, 773137, 653239, 942474, 572343, 711367, 583655, 382855, 953780, 938537, 736143, 591907, 38473, 699865, 496843, 889408, 872922, 578679, 996269, 841340, 725522, 622538, 56898, 939878, 56334, 647231, 849849, 885532, 284655, 513294, 851421, 339183, 844929, 538822, 414064, 224152, 439213, 449018, 635688, 324550, 286981, 984197, 264790, 621004, 413090, 530480, 99509, 161335, 979683, 178865, 215412, 659487, 779624, 75630, 41585, 236427, 420137, 647321, 197545, 71363, 169134, 715817, 141971, 152097, 203169, 692626, 105705, 384870, 522769, 76135, 87662, 745287, 367063, 58482, 798165, 627770, 440783, 701621, 418606, 443196, 566744, 317731, 836861, 290026, 358434, 138617, 497347, 224196, 416837, 359115, 379843, 11266, 347863, 72987, 284964, 262454, 876635, 924421, 196323, 65734, 98670, 274813, 451136, 516443, 184797, 873767, 247620, 687264, 696692, 395397, 262936, 682941, 354587, 109068, 317174, 716980, 904682, 921677, 658954, 961718, 39877, 828077, 492026, 539614, 404134, 942835, 546539, 6562, 27457, 126555, 434338, 169746, 666236, 127816, 359921, 955520, 492033, 350090, 783232, 822656, 739039, 519444, 189266, 652141, 911292, 751318, 203590, 916192, 890808, 130685, 576496, 672728, 98907, 651415, 840559, 592672, 974451, 193719, 683106, 109059, 242713, 867424, 71233, 294642, 410660, 745670, 678757, 816773, 498263, 243756, 47058, 735332, 350949, 338056, 264429, 706642, 568454, 386209, 244962, 279325, 359758, 580050, 986190, 782399, 83746, 502824, 798784, 191160, 3460, 936963, 18537, 486601, 530465, 117240, 164693, 867589, 570969, 141017, 542930, 216856, 368207, 603947, 24993, 563924, 50187, 625137, 828681, 518735, 322817, 248054, 455145, 189468, 227634, 242397, 332023, 782683, 464473, 663575, 862004, 942940, 368742, 250925, 513073, 594087, 498200, 292414, 608770, 442126, 986835, 46673, 632864, 769886, 500162, 780914, 786923, 65794, 417550, 714119, 281164, 474030, 117544, 250140, 348909, 961287, 226705, 416415, 414268, 907085, 748460, 677306, 440151, 930188, 701132, 971917, 517845, 355868, 102565, 505179, 537750, 752452, 756215, 319170, 335629, 534969, 542997, 240128, 187869, 939938, 670511, 849196, 424374, 742034, 81053, 371247, 533530, 853572, 990186, 272829, 707317, 548101, 43547, 85316, 906833, 717688, 292829, 953044, 86171, 683626, 456882, 68380, 727879, 146995, 451606, 165718, 516213, 327639, 801450, 992234, 832911, 650605, 531916, 371720, 107816, 950566, 352089, 932643, 394847, 607102, 616555, 298090, 875635, 182276, 745329, 724164, 578058, 333620, 913053, 612383, 136803, 721717, 964906, 423398, 974919, 513463, 153048, 664196, 290949, 378138, 867313, 666918, 119252, 761916, 353389, 848434, 409930, 497100, 370476, 609251, 748013, 227944, 414857, 173506, 231091, 59306, 154023, 949184, 185738, 316328, 413329, 11512, 489705, 176638, 345525, 217405, 788225, 278146, 858639, 916302, 349866, 161057, 490606, 141973, 611069, 472005, 260189, 370948, 245240, 375604, 924121, 532920, 664797, 398577, 4486, 255891, 428758, 337536, 352265, 206928, 685861, 139476, 641065, 153986, 444308, 729244, 313386, 833409, 662243, 801997, 857367, 620491, 230409, 370664, 256926, 604438, 942141, 907287, 268048, 794424, 917689, 556487, 456308, 3576, 594885, 449855, 138266, 206144, 620024, 30178, 873529, 246084, 24973, 195380, 669525, 516259, 918953, 742989, 124987, 714726, 947638, 304559, 363805, 903943, 727465, 150154, 888380, 763219, 419693, 923686, 317170, 721321, 111959, 147863, 500336, 763725, 574618, 847175, 481531, 922217, 690218, 639476, 469460, 866474, 615494, 575322, 286567, 699767, 637824, 181681, 787166, 175820, 826938, 923488, 288492, 684335, 632988, 677989, 782934, 670100, 457846, 922149, 13630, 270832, 581440, 817743, 270792, 714137, 196163, 509602, 484080, 377424, 118186, 704770, 118917, 11506, 209680, 131753, 390200, 565325, 285891, 347480, 686060, 94417, 373327, 187393, 838738, 954042, 780964, 621608, 350162, 551984, 840624, 948880, 719251, 870792, 534964, 152851, 215800, 774298, 28516, 645486, 553863, 581987, 338225, 400655, 973380, 282564, 687244, 343196, 588379, 717882, 679324, 264502, 900146, 201577, 7660, 479800, 727061, 576902, 333584, 302542, 155737, 574914, 302888, 349689, 846671, 955107, 811244, 825070, 907282, 256228, 183642, 377605, 158662, 870379, 436254, 835329, 88735, 634019, 302703, 817769, 783229, 667849, 271176, 848913, 589741, 975257, 786372, 165625, 508101, 547391, 280403, 569986, 346167, 368278, 308379, 568593, 527864, 587599, 491360, 998141, 248856, 66243, 535041, 230639, 266047, 53362, 353701, 967862, 529127, 470995, 152064, 436135, 638938, 735758, 291805, 859319, 156791, 825862, 512846, 542374, 606150, 346491, 923247, 337539, 890887, 622176, 112362, 98819, 134047, 179059, 606875, 563028, 852198, 396409, 945404, 376400, 379237, 660153, 197688, 353350, 876578, 573013, 402770, 615024, 532072, 183264, 261270, 72891, 749686, 620262, 672271, 751791, 991919, 306030, 230095, 514295, 233609, 486673, 721833, 394480, 54430, 249075, 453296, 20138, 664186, 498132, 837512, 440769, 236908, 240519, 779974, 606774, 211162, 149401, 45966, 969905, 71365, 355609, 875533, 518754, 965120, 346141, 95865, 797981, 837396, 384075, 358705, 254011, 682214, 153978, 407304, 864759, 464069, 553210, 534678, 721537, 368184, 334762, 389916, 792257, 412588, 922848, 424082, 770987, 427166, 426117, 218336, 502383, 280499, 811818, 360513, 167029, 128210, 397337, 799812, 496883, 982021, 990926, 594631, 763517, 546704, 179866, 351093, 688835, 753977, 801017, 955854, 86497, 204288, 289222, 679006, 956255, 305672, 700807, 91892, 154750, 114125, 152378, 543225, 904559, 792395, 507150, 420084, 276844, 544082, 883421, 927745, 646503, 835975, 818876, 298236, 85940, 282405, 387530, 559067, 634736, 401294, 518322, 739624, 276658, 596467, 721020, 345870, 249803, 430689, 865305, 986201, 179396, 619387, 786885, 645980, 906428, 551256, 494416, 387514, 746750, 326658, 231825, 943950, 35989, 497979, 45310, 692207, 593299, 158495, 821630, 652480, 171104, 649569, 939668, 966275, 918422, 91935, 71601, 377811, 72921, 376404, 765499, 539372, 197715, 999700, 587140, 313381, 236486, 476406, 523907, 752043, 87446, 643784, 862827, 760017, 464887, 778988, 1480, 33506, 524639, 165320, 272497, 399978, 64455, 950116, 707635, 10523, 733401, 110251, 937820, 463167, 887159, 1079, 591053, 389066, 839686, 241161, 84981, 951577, 378013, 781861, 84120, 265155, 248033, 432251, 96840, 648665, 831320, 400817, 350540, 382766, 933361, 188111, 340843, 844715, 795100, 653980, 964076, 973616, 874573, 573650, 880017, 173463, 565458, 906457, 967549, 962733, 772142, 747109, 429204, 967170, 672633, 125578, 33936, 633391, 606036, 507499, 708545, 856538, 983942, 233864, 610969, 674540, 609170, 390621, 261403, 221441, 722339, 307765, 397587, 735335, 626235, 86272, 188389, 230391, 400812, 143049, 233296, 670612, 423189, 361162, 987560, 149407, 681151, 489291, 946392, 613634, 799365, 14785, 862961, 689204, 745994, 280034, 562857, 714132, 951737, 119849, 527052, 745464, 315210, 611540, 733879, 36229, 857584, 53073, 813012, 523716, 212909, 662682, 251831, 431455, 110514, 549375, 748702, 42981, 700522, 803658, 719134, 851244, 484331, 296668, 931714, 193271, 65028, 334856, 322609, 516999, 221983, 484090, 685068, 827919, 941295, 291255, 49172, 205869, 500514, 715866, 555730, 699973, 855274, 823036, 79491, 273227, 494350, 146076, 43297, 543786, 174887, 705271, 693694, 170275, 325546, 532372, 285624, 495934, 109928, 869378, 838279, 252954, 803951, 32658, 995258, 478258, 695673, 444628, 375974, 620224, 965955, 208869, 641971, 504450, 414032, 773571, 205628, 272740, 928867, 387138, 352129, 754804, 138046, 917191, 71285, 446252, 390383, 153298, 521570, 78196, 990868, 195274, 621527, 803332, 475695, 712696, 559072, 439738, 503750, 679091, 901792, 754182, 123581, 17323, 436143, 382984, 572089, 974699, 1445, 759054, 2734, 440798, 490147, 459992, 696185, 764049, 100347, 402536, 810235, 638898, 660821, 619122, 35878, 940942, 647666, 816546, 358749, 500, 237309, 61753, 120340, 834155, 616919, 425391, 588807, 720408, 997049, 113033, 598825, 265778, 306726, 143524, 90967, 569966, 36769, 397654, 285537, 80850, 667967, 985449, 1234, 498282, 206103, 871845, 307540, 704819, 137356, 807699, 313207, 845578, 749020, 123598, 371169, 297628, 37078, 952949, 603506, 917837, 637039, 212996, 751364, 375810, 787406, 834501, 563407, 425062, 976986, 822159, 766072, 14198, 441875, 895945, 697045, 660202, 965195, 184461, 444236, 338405, 852803, 276453, 983781, 326321, 907970, 412093, 317621, 579054, 230838, 903800, 138895, 644572, 369591, 258348, 251630, 840164, 629766, 693372, 215603, 637144, 737819, 299328, 540955, 440796, 619352, 302705, 614442, 607315, 257734, 158502, 275383, 968181, 799140, 454442, 636852, 683807, 821402, 898483, 395331, 105521, 577225, 511094, 66171, 716759, 837990, 714549, 38458, 9861, 273808, 125594, 60745, 482250, 89204, 840685, 135459, 14313, 375177, 482211, 493304, 679781, 890535, 853406, 758210, 552037, 370179, 464704, 590682, 639489, 863735, 521859, 760334, 886122, 871724, 242204, 943051, 154944, 334020, 170315, 808839, 745096, 537444, 138242, 730134, 662790, 401250, 567009, 624219, 384825, 491967, 692139, 731868, 825507, 445025, 625767, 211052, 510642, 629682, 466938, 281231, 985963, 86687, 995663, 358747, 451680, 525619, 329360, 180101, 565074, 669182, 410438, 371659, 230085, 710300, 466623, 875233, 983802, 947292, 799574, 811848, 731016, 947123, 283844, 514583, 847314, 638191, 546531, 557750, 147602, 754560, 382, 535972, 924331, 24866, 687695, 495623, 991980, 250096, 141120, 456333, 606082, 108812, 77350, 663466, 568922, 279296, 382817, 681662, 36983, 392362, 487959, 468708, 849012, 597858, 615586, 960358, 648542, 718587, 38946, 228180, 442736, 229200, 321360, 279759, 79703, 205549, 970625, 926296, 740888, 285073, 618259, 124689, 175039, 701750, 297322, 667560, 116216, 868676, 890551, 786889, 392505, 387993, 276342, 587423, 165859, 942042, 674362, 45867, 385144, 50763, 430156, 953683, 64471, 269225, 368264, 605969, 75255, 139607, 66625, 60244, 979515, 137928, 557540, 263072, 394090, 699652, 977812, 549781, 236696, 678393, 434430, 261802, 976379, 552958, 776935, 443900, 287250, 129885, 85221, 806416, 484825, 645587, 798372, 731541, 602902, 945544, 794606, 31324, 418694, 833208, 911625, 835671, 867582, 452659, 152794, 219310, 280057, 440147, 473590, 330398, 876602, 9292, 142610, 690049, 361516, 106709, 598337, 964162, 234343, 654395, 446226, 727361, 662009, 933488, 975459, 390297, 249358, 165658, 341507, 479680, 35580, 589910, 64987, 611403, 658614, 146715, 755725, 40159, 763511, 640963, 122109, 331277, 904965, 560315, 217274, 21234, 36883, 973891, 811230, 970441, 48591, 101966, 957861, 446249, 868116, 336026, 82058, 309012, 322184, 316703, 159307, 814927, 387066, 977840, 483265, 339341, 511045, 629007, 207487, 26383, 30999, 698271, 394176, 242891, 353423, 817611, 780595, 161029, 915502, 857270, 435220, 885436, 266944, 614502, 253307, 323304, 618279, 550874, 392931, 305388, 590255, 915678, 114729, 649792, 91385, 954841, 173976, 287569, 103547, 38428, 905982, 630939, 525029, 647434, 370688, 87790, 928682, 725949, 322613, 702393, 609427, 244737, 610780, 117171, 424489, 730494, 235398, 853286, 666149, 333859, 10473, 157244, 625210, 747024, 572671, 997603, 741088, 606158, 205765, 10512, 936336, 382593, 975208, 223052, 233581, 453208, 760328, 958340, 814753, 552235, 645647, 822633, 27288, 899359, 829639, 103266, 995081, 217304, 474162, 206894, 27428, 673176, 720202, 660953, 689500, 342043, 530834, 19558, 883509, 334961, 683877, 547910, 203058, 76576, 440269, 201268, 718101, 493881, 464825, 910704, 212142, 573834, 146432, 62397, 191914, 551966, 11818, 863304, 309291, 37957, 228457, 739388, 542609, 532935, 20445, 55716, 250396, 364050, 958201, 992551, 447376, 942421, 190396, 375069, 768182, 295549, 220339, 843313, 815362, 956007, 4342, 333578, 364968, 185090, 945170, 239348, 347054, 395412, 297891, 152591, 65238, 14346, 246833, 701366, 504440, 75530, 852991, 385025, 528293, 713392, 791925, 668548, 395101, 738163, 239329, 311884, 611175, 543873, 924328, 951248, 346871, 395121, 917693, 712022, 151125, 821628, 149805, 685889, 150384, 59663, 343828, 749782, 893334, 550267, 95643, 870222, 279883, 124804, 873187, 608628, 373485, 938434, 27451, 402749, 602394, 566456, 67143, 404087, 603798, 251494, 41398, 295890, 725197, 588242, 331988, 878649, 430583, 613302, 747777, 206810, 911812, 803486, 985420, 764129, 951553, 132363, 458475, 220593, 535405, 390500, 130897, 65078, 69409, 68792, 381029, 331543, 545498, 441489, 649485, 192800, 751799, 413248, 666075, 801186, 667694, 208951, 651029, 23025, 532022, 136511, 466928, 211516, 621781, 123518, 520113, 822477, 74844, 492803, 627369, 316198, 829060, 192997, 978984, 847558, 763157, 462176, 901619, 317853, 229978, 992619, 457914, 955214, 48030, 286713, 678261, 84319, 938995, 490617, 839152, 377258, 969574, 385175, 895125, 911639, 582720, 531853, 670390, 498194, 626630, 843118, 434170, 946531, 899611, 950241, 792042, 360968, 197051, 544174, 173091, 822380, 927587, 855619, 19263, 751018, 560623, 88229, 825769, 604976, 623044, 179919, 626200, 234891, 2370, 262677, 48767, 131065, 688820, 861230, 267656, 305244, 625527, 268549, 959967, 875778, 503498, 596724, 909989, 961738, 442340, 301049, 967768, 320815, 984260, 433303, 551656, 60273, 880813, 68778, 702318, 31072, 704024, 744822, 105703, 758725, 859088, 168419, 746907, 189205, 740485, 104171, 331369, 480978, 854685, 113688, 446879, 713752, 574285, 696755, 222687, 328608, 674088, 426238, 624066, 425135, 431835, 573641, 532930, 767203, 347140, 802063, 370027, 280276, 512275, 665148, 811285, 899546, 786659, 406322, 768584, 3436, 975545, 714038, 561293, 644510, 585710, 513563, 589555, 966797, 821172, 269605, 333655, 87432, 464648, 272730, 876181, 104667, 158666, 379459, 617375, 114899, 315469, 53825, 820914, 746785, 884227, 602025, 759816, 316014, 619454, 595537, 284947, 795007, 288887, 403082, 478238, 59881, 498718, 807642, 807435, 591160, 299685, 767504, 959918, 919877, 579749, 342345, 808683, 990281, 515812, 939378, 903473, 772648, 238440, 80159, 30615, 213914, 66278, 737123, 4747, 185811, 780464]\n"
          ]
        }
      ]
    }
  ]
}