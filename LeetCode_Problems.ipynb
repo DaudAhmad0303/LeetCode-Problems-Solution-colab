{
  "nbformat": 4,
  "nbformat_minor": 0,
  "metadata": {
    "colab": {
      "name": "LeetCode Problems.ipynb",
      "provenance": [],
      "collapsed_sections": [],
      "authorship_tag": "ABX9TyMAbqOIT3F711t3KsxhJEw/"
    },
    "kernelspec": {
      "name": "python3",
      "display_name": "Python 3"
    },
    "language_info": {
      "name": "python"
    }
  },
  "cells": [
    {
      "cell_type": "code",
      "metadata": {
        "colab": {
          "base_uri": "https://localhost:8080/"
        },
        "id": "PUSX913BWvXi",
        "outputId": "2d0902c1-478a-469a-b497-2c3c69a0a489"
      },
      "source": [
        "ls = ['H','Hello', 1, 11, 111]\n",
        "# for i in range(len(ls)):\n",
        "#   print(ls[i])\n",
        "print(len(ls))"
      ],
      "execution_count": null,
      "outputs": [
        {
          "output_type": "stream",
          "name": "stdout",
          "text": [
            "5\n"
          ]
        }
      ]
    },
    {
      "cell_type": "code",
      "metadata": {
        "colab": {
          "base_uri": "https://localhost:8080/"
        },
        "id": "AplBtlNfMsHL",
        "outputId": "55296a44-1c41-4da9-885e-d767d47995e3"
      },
      "source": [
        "def greet():\n",
        "  return \"Hello\"\n",
        "\n",
        "gre = greet() + \" World\"\n",
        "print(gre)"
      ],
      "execution_count": null,
      "outputs": [
        {
          "output_type": "stream",
          "text": [
            "Hello World\n"
          ],
          "name": "stdout"
        }
      ]
    },
    {
      "cell_type": "markdown",
      "metadata": {
        "id": "rTU7ZKzPcflK"
      },
      "source": [
        "Given an array of integers nums and an integer target, return indices of the two numbers such that they add up to target.\n",
        "\n",
        "You may assume that each input would have exactly one solution, and you may not use the same element twice.\n",
        "\n",
        "You can return the answer in any order.\n",
        "\n",
        " \n",
        "**Example 1:**\n",
        "\n",
        "Input: nums = [2,7,11,15], target = 9\n",
        "\n",
        "Output: [0,1]\n",
        "\n",
        "Output: Because nums[0] + nums[1] == 9,\n",
        "\n",
        "we return [0, 1].\n",
        "\n",
        "**Example 2:**\n",
        "\n",
        "Input: nums = [3,2,4], target = 6\n",
        "\n",
        "Output: [1,2]\n",
        "\n",
        "**Example 3:**\n",
        "\n",
        "Input: nums = [3,3], target = 6\n",
        "\n",
        "Output: [0,1]"
      ]
    },
    {
      "cell_type": "code",
      "metadata": {
        "colab": {
          "base_uri": "https://localhost:8080/"
        },
        "id": "mkPAa0uKWFWz",
        "outputId": "1d65c9b9-e338-4da6-b226-fe00bef41480"
      },
      "source": [
        "class Solution:\n",
        "    def twoSum(self):\n",
        "        answer = []\n",
        "        target = 6\n",
        "        nums = [2,3,4]\n",
        "        # for x in range(len(nums)):\n",
        "        #     if(x < len(nums)-1):\n",
        "        #         if(nums[x] + nums[x+1] == target):\n",
        "        #             answer.append(x)\n",
        "        #             answer.append(x+1)\n",
        "        # print(answer)\n",
        "        # return answer\n",
        "        # t = 0-target\n",
        "        for x in range(len(nums)):\n",
        "            if(x < len(nums)):\n",
        "                print(str(x) + \" w\")    \n",
        "                if(nums[0] == 2):  #(nums[x] + nums[0])\n",
        "                  print(x)\n",
        "                  answer.append(x)\n",
        "        print(answer)\n",
        "        return answer\n",
        "                \n",
        "           \n",
        "p = Solution()\n",
        "print(p.twoSum())"
      ],
      "execution_count": null,
      "outputs": [
        {
          "output_type": "stream",
          "text": [
            "0 w\n",
            "0\n",
            "1 w\n",
            "1\n",
            "2 w\n",
            "2\n",
            "[0, 1, 2]\n",
            "[0, 1, 2]\n"
          ],
          "name": "stdout"
        }
      ]
    },
    {
      "cell_type": "code",
      "metadata": {
        "id": "AzRRUGh9jAMs"
      },
      "source": [
        "class Solution:\n",
        "    def twoSum(self, nums: List[int], target: int) -> List[int]:\n",
        "        answer = []\n",
        "        for x in range(len(nums)):\n",
        "            for y in range(len(nums)):\n",
        "                if(x < len(nums)-1):\n",
        "                    if(nums[x] + nums[x+y] == target):\n",
        "                        answer.append(x)\n",
        "                        answer.append(x+y)\n",
        "            return answer\n",
        "        # t = 0-target\n",
        "#         for x in range(len(nums)):\n",
        "#             if(x < len(nums)-1):    \n",
        "#                 if(nums[x] + nums[0] == nums[0]):\n",
        "#                     answer.append(x)\n",
        "#         return answer"
      ],
      "execution_count": null,
      "outputs": []
    },
    {
      "cell_type": "markdown",
      "metadata": {
        "id": "LPf9GF2ynV4C"
      },
      "source": [
        "# **1365. How Many Numbers Are Smaller Than the Current Number**\n",
        "\n",
        "Given the array nums, for each nums[i] find out how many numbers in the array are smaller than it. That is, for each nums[i] you have to count the number of valid j's such that j != i and nums[j] < nums[i].\n",
        "\n",
        "Return the answer in an array.\n",
        "\n",
        "**Example 1:**\n",
        "\n",
        "Input: nums = [8,1,2,2,3]\n",
        "Output: [4,0,1,1,3]\n",
        "Explanation: \n",
        "For nums[0]=8 there exist four smaller numbers than it (1, 2, 2 and 3). \n",
        "For nums[1]=1 does not exist any smaller number than it.\n",
        "For nums[2]=2 there exist one smaller number than it (1). \n",
        "For nums[3]=2 there exist one smaller number than it (1). \n",
        "For nums[4]=3 there exist three smaller numbers than it (1, 2 and 2).\n",
        "\n",
        "**Example 2:**\n",
        "\n",
        "Input: nums = [6,5,4,8]\n",
        "Output: [2,1,0,3]"
      ]
    },
    {
      "cell_type": "markdown",
      "metadata": {
        "id": "wrxHhfg4pA-J"
      },
      "source": [
        "Comment # First Traverse whole List, while considering each element\n",
        "Then we'll compare whole List for elements less than the considered element"
      ]
    },
    {
      "cell_type": "code",
      "metadata": {
        "colab": {
          "base_uri": "https://localhost:8080/"
        },
        "id": "gOXtY3X0nszw",
        "outputId": "4a1d2c68-8163-402d-b732-ca65b07bfdc4"
      },
      "source": [
        "nums = [8,1,2,2,3]\n",
        "list = []\n",
        "\n",
        "for i in nums:\n",
        "  count = 0\n",
        "  for j in nums):\n",
        "    if i > j:\n",
        "      count += 1\n",
        "  list.append(count)\n",
        "\n",
        "print(ls_1)\n",
        "\n"
      ],
      "execution_count": null,
      "outputs": [
        {
          "output_type": "stream",
          "text": [
            "[4, 0, 1, 1, 3]\n"
          ],
          "name": "stdout"
        }
      ]
    },
    {
      "cell_type": "code",
      "metadata": {
        "colab": {
          "base_uri": "https://localhost:8080/"
        },
        "id": "A10wnCHSHbU_",
        "outputId": "f6617dc3-d1cd-40bc-d79a-8e2fc1a5acac"
      },
      "source": [
        "x, y = [int(x) for x in input().split()] \n",
        "print(x)\n",
        "print(y)\n",
        "print(type(x))"
      ],
      "execution_count": null,
      "outputs": [
        {
          "output_type": "stream",
          "text": [
            "3 4\n",
            "3\n",
            "4\n",
            "<class 'int'>\n"
          ],
          "name": "stdout"
        }
      ]
    },
    {
      "cell_type": "code",
      "metadata": {
        "colab": {
          "base_uri": "https://localhost:8080/"
        },
        "id": "a-1k90IoHuOG",
        "outputId": "e5b4b8c4-efdb-48b7-ba5d-c70f00874afb"
      },
      "source": [
        "x, y = input(),  input()\n",
        "print(x, y)"
      ],
      "execution_count": null,
      "outputs": [
        {
          "output_type": "stream",
          "text": [
            "3 4\n",
            "3 4\n",
            "3 4 3 4\n"
          ],
          "name": "stdout"
        }
      ]
    },
    {
      "cell_type": "code",
      "metadata": {
        "colab": {
          "base_uri": "https://localhost:8080/"
        },
        "id": "WPVFskrLWex7",
        "outputId": "aace32e2-663c-4cff-a48b-1c76ca17a754"
      },
      "source": [
        "name = \"Daud\"\n",
        "print(name[-1])"
      ],
      "execution_count": null,
      "outputs": [
        {
          "output_type": "stream",
          "text": [
            "d\n"
          ],
          "name": "stdout"
        }
      ]
    },
    {
      "cell_type": "markdown",
      "metadata": {
        "id": "_94rWkpMq5ls"
      },
      "source": [
        "# **1108. Defanging an IP Address**\n",
        "\n",
        "Given a valid (IPv4) IP address, return a defanged version of that IP address.\n",
        "\n",
        "A defanged IP address replaces every period \".\" with \"[.]\".\n",
        "\n",
        " \n",
        "\n",
        "**Example 1:**\n",
        "\n",
        "Input: address = \"1.1.1.1\"\n",
        "\n",
        "Output: \"1[.]1[.]1[.]1\"\n",
        "\n",
        "**Example 2:**\n",
        "\n",
        "Input: address = \"255.100.50.0\"\n",
        "\n",
        "Output: \"255[.]100[.]50[.]0\"\n",
        "\n"
      ]
    },
    {
      "cell_type": "code",
      "metadata": {
        "id": "JcoHje2WrZ6K",
        "colab": {
          "base_uri": "https://localhost:8080/"
        },
        "outputId": "307f5010-1aa9-4298-da7d-238a9113de37"
      },
      "source": [
        "address = '1.1.1.1'\n",
        "newadd = ''\n",
        "for i in address:\n",
        "  if (i == '.'):\n",
        "    newadd += '[.]'\n",
        "  else:\n",
        "    newadd += i\n",
        "\n",
        "print('New Address: ',newadd)"
      ],
      "execution_count": null,
      "outputs": [
        {
          "output_type": "stream",
          "text": [
            "New Address:  1[.]1[.]1[.]1\n"
          ],
          "name": "stdout"
        }
      ]
    },
    {
      "cell_type": "markdown",
      "metadata": {
        "id": "F61QC539OLmQ"
      },
      "source": [
        "# **344. Reverse String**\n",
        "\n",
        "Write a function that reverses a string. The input string is given as an array of characters s.\n",
        "\n",
        " \n",
        "\n",
        "**Example 1:**\n",
        "\n",
        "Input: s = [\"h\",\"e\",\"l\",\"l\",\"o\"]\n",
        "\n",
        "Output: [\"o\",\"l\",\"l\",\"e\",\"h\"]\n",
        "\n",
        "**Example 2:**\n",
        "\n",
        "Input: s = [\"H\",\"a\",\"n\",\"n\",\"a\",\"h\"]\n",
        "\n",
        "Output: [\"h\",\"a\",\"n\",\"n\",\"a\",\"H\"]\n",
        "\n",
        "**Follow up:** Do not allocate extra space for another array. You must do this by modifying the input array in-place with O(1) extra memory."
      ]
    },
    {
      "cell_type": "code",
      "metadata": {
        "colab": {
          "base_uri": "https://localhost:8080/"
        },
        "id": "TE2YMBHsL9nh",
        "outputId": "75557cd7-6589-4c34-ce98-48532add4802"
      },
      "source": [
        "s = [\"h\",\"e\",\"l\",\"l\",\"o\"]\n",
        "for i in range(len(s)//2):\n",
        "  s[i],s[-i-1] = s[-i-1],s[i]\n",
        "  # s[i] = s[-i-1]\n",
        "  # s[-i-1] = s[i]\n",
        "\n",
        "print(s)"
      ],
      "execution_count": null,
      "outputs": [
        {
          "output_type": "stream",
          "text": [
            "['o', 'l', 'l', 'e', 'h']\n"
          ],
          "name": "stdout"
        }
      ]
    },
    {
      "cell_type": "code",
      "metadata": {
        "colab": {
          "base_uri": "https://localhost:8080/"
        },
        "id": "Ji8rapJooKCJ",
        "outputId": "92f438c3-7218-4389-a02f-b7bb5ec7aa62"
      },
      "source": [
        "lists =[]  \n",
        "s = '(){[]'\n",
        "val = None\n",
        "dic ={\n",
        "    '}':'{',\n",
        "    ')':'(',\n",
        "    ']':'['\n",
        "}\n",
        "dic_values = dic.values()  # [ '{', '(',  '[' ]\n",
        "for i in s:  \n",
        "    if i in dic_values:\n",
        "        lists.append(i)\n",
        "    else:\n",
        "        if len(lists) > 0 and lists[-1] ==dic[i]:\n",
        "            lists.pop()\n",
        "        else:\n",
        "            val = False\n",
        "val = len(lists) == 0\n",
        "print(val)"
      ],
      "execution_count": null,
      "outputs": [
        {
          "output_type": "stream",
          "text": [
            "False\n"
          ],
          "name": "stdout"
        }
      ]
    },
    {
      "cell_type": "code",
      "metadata": {
        "colab": {
          "base_uri": "https://localhost:8080/"
        },
        "id": "QScOvN2bBAjQ",
        "outputId": "e8fda987-ed39-4b10-edf4-207e9e43fa03"
      },
      "source": [
        "nums = [0,1,2,2,3,0,4,2]\n",
        "val = 2\n",
        "x = []\n",
        "count = 0\n",
        "for i in range(len(nums)):\n",
        "    if val == nums[i]:\n",
        "        count = count+1\n",
        "for i in range(len(nums)):\n",
        "    if nums[i] != val:\n",
        "        x.append(nums[i])\n",
        "for j in range(3):\n",
        "    x.append(\"_\")\n",
        "lst = [i for i in x]\n",
        "print(lst)"
      ],
      "execution_count": null,
      "outputs": [
        {
          "output_type": "stream",
          "name": "stdout",
          "text": [
            "[0, 1, 3, 0, 4, '_', '_', '_']\n"
          ]
        }
      ]
    },
    {
      "cell_type": "code",
      "metadata": {
        "id": "K_z8bKM6A4OF"
      },
      "source": [
        "# output is this  [0, 1, 3, 0, 4, '_', '_', '_'] , I need this output   [0,1,3,0, 4,_,_,_]  \n"
      ],
      "execution_count": null,
      "outputs": []
    },
    {
      "cell_type": "code",
      "metadata": {
        "id": "nXqT4fGeiGPb"
      },
      "source": [
        "class Solution:\n",
        "    def restoreString(self, s: str, indices) -> str:\n",
        "        string = s.split('')\n",
        "        temp = ''\n",
        "        for i in range(0,len(s)):\n",
        "            string[indices[i]] += s[i]\n",
        "\n",
        "        return string\n",
        "\n",
        "t1 = Solution()\n",
        "print(t1.restoreString('codeleet',45670213))\n"
      ],
      "execution_count": null,
      "outputs": []
    },
    {
      "cell_type": "code",
      "metadata": {
        "id": "B8_xyYjXoua1"
      },
      "source": [
        "def restoreString(self, s: str, indices: List[int]) -> str:\n",
        "\t\tresult = [\"\"] * len(s)\n",
        "\n",
        "\t\tfor i, letter in enumerate(s):\n",
        "\t\t\tresult[indices[i]] = letter\n",
        "\n",
        "\t\treturn \"\".join(result)"
      ],
      "execution_count": null,
      "outputs": []
    },
    {
      "cell_type": "code",
      "metadata": {
        "colab": {
          "base_uri": "https://localhost:8080/"
        },
        "id": "SDWb5fWnqT5Q",
        "outputId": "3e6e9743-f94b-4f3d-c6ba-68dcd1005b7b"
      },
      "source": [
        "list1 = list(\"sjdhj\")\n",
        "print(list1)"
      ],
      "execution_count": null,
      "outputs": [
        {
          "output_type": "stream",
          "text": [
            "['s', 'j', 'd', 'h', 'j']\n"
          ],
          "name": "stdout"
        }
      ]
    },
    {
      "cell_type": "markdown",
      "metadata": {
        "id": "o_TY6FfKnT62"
      },
      "source": [
        "# **1160. Find Words That Can Be Formed by Characters**\n",
        "\n",
        "You are given an array of strings **words** and a string chars.\n",
        "\n",
        "A string is good if it can be formed by characters from chars (each character can only be used once).\n",
        "\n",
        "Return the sum of lengths of all good strings in words.\n",
        "\n",
        "**Example 1:**\n",
        "\n",
        "Input: words = [\"cat\",\"bt\",\"hat\",\"tree\"], chars = \"atach\"\n",
        "\n",
        "Output: 6\n",
        "\n",
        "Explanation: The strings that can be formed are \"cat\" and \"hat\" so the answer is 3 + 3 = 6.\n",
        "\n",
        "**Example 2:**\n",
        "\n",
        "Input: words = [\"hello\",\"world\",\"leetcode\"], chars = \"welldonehoneyr\"\n",
        "\n",
        "Output: 10\n",
        "\n",
        "Explanation: The strings that can be formed are \"hello\" and \"world\" so the answer is 5 + 5 = 10."
      ]
    },
    {
      "cell_type": "code",
      "metadata": {
        "colab": {
          "base_uri": "https://localhost:8080/"
        },
        "id": "pPJjWAEonS3o",
        "outputId": "635dd4bf-3674-44cc-f3d9-03bb9878e051"
      },
      "source": [
        "# words = [\"cat\",\"bt\",\"hat\",\"tree\"]\n",
        "# chars = \"atach\"\n",
        "# -----------------------------------------\n",
        "words = [\"hello\",\"world\",\"leetcode\"]\n",
        "chars = \"welldonehoneyr\"\n",
        "# -----------------------------------------\n",
        "count = 0\n",
        "countw = 0\n",
        "lt_chars = list(chars)\n",
        "lf_chars = list(chars)\n",
        "chars_c = []\n",
        "for i in words:\n",
        "  for j in i:\n",
        "    if j in lf_chars:\n",
        "      count += 1\n",
        "      lt_chars.remove(j)\n",
        "      chars_c.add(j)\n",
        "    if count == len(i):\n",
        "      countw += count\n",
        "      lf_chars = lt_chars.copy()\n",
        "    else:\n",
        "      for k in chars_c:\n",
        "        \n",
        "\n",
        "      print(lf_chars)\n",
        "  count = 0\n",
        "\n",
        "print(countw)\n"
      ],
      "execution_count": null,
      "outputs": [
        {
          "output_type": "stream",
          "text": [
            "['w', 'e', 'l', 'l', 'd', 'o', 'n', 'e', 'h', 'o', 'n', 'e', 'y', 'r']\n",
            "['w', 'e', 'l', 'l', 'd', 'o', 'n', 'e', 'h', 'o', 'n', 'e', 'y', 'r']\n",
            "10\n"
          ],
          "name": "stdout"
        }
      ]
    },
    {
      "cell_type": "code",
      "metadata": {
        "colab": {
          "base_uri": "https://localhost:8080/"
        },
        "id": "rvvW02W0T2hX",
        "outputId": "e5feae7a-ed97-4a93-cbac-6c1a2dbac00f"
      },
      "source": [
        "chars = \"welldonehoneyr\"\n",
        "for ch in chars:\n",
        "  chars = chars.replace(ch, \"\")\n",
        "  print(chars)\n",
        "  "
      ],
      "execution_count": null,
      "outputs": [
        {
          "output_type": "stream",
          "text": [
            "elldonehoneyr\n",
            "lldonhonyr\n",
            "donhonyr\n",
            "donhonyr\n",
            "onhonyr\n",
            "nhnyr\n",
            "hyr\n",
            "hyr\n",
            "yr\n",
            "yr\n",
            "yr\n",
            "yr\n",
            "r\n",
            "\n"
          ],
          "name": "stdout"
        }
      ]
    },
    {
      "cell_type": "code",
      "metadata": {
        "colab": {
          "base_uri": "https://localhost:8080/"
        },
        "id": "7WnIerIkWGHx",
        "outputId": "7108f5b7-92e0-4915-8b73-7ca1a8ba7f77"
      },
      "source": [
        "chars = \"welldonehoneyr\"\n",
        "l_chars = list(chars)\n",
        "print(l_chars)\n",
        "for ch in chars:\n",
        "  l_chars.remove(ch)\n",
        "  print(l_chars)"
      ],
      "execution_count": null,
      "outputs": [
        {
          "output_type": "stream",
          "text": [
            "['w', 'e', 'l', 'l', 'd', 'o', 'n', 'e', 'h', 'o', 'n', 'e', 'y', 'r']\n",
            "['e', 'l', 'l', 'd', 'o', 'n', 'e', 'h', 'o', 'n', 'e', 'y', 'r']\n",
            "['l', 'l', 'd', 'o', 'n', 'e', 'h', 'o', 'n', 'e', 'y', 'r']\n",
            "['l', 'd', 'o', 'n', 'e', 'h', 'o', 'n', 'e', 'y', 'r']\n",
            "['d', 'o', 'n', 'e', 'h', 'o', 'n', 'e', 'y', 'r']\n",
            "['o', 'n', 'e', 'h', 'o', 'n', 'e', 'y', 'r']\n",
            "['n', 'e', 'h', 'o', 'n', 'e', 'y', 'r']\n",
            "['e', 'h', 'o', 'n', 'e', 'y', 'r']\n",
            "['h', 'o', 'n', 'e', 'y', 'r']\n",
            "['o', 'n', 'e', 'y', 'r']\n",
            "['n', 'e', 'y', 'r']\n",
            "['e', 'y', 'r']\n",
            "['y', 'r']\n",
            "['r']\n",
            "[]\n"
          ],
          "name": "stdout"
        }
      ]
    },
    {
      "cell_type": "markdown",
      "metadata": {
        "id": "-9cVJqYUo_ju"
      },
      "source": [
        "# **1929. Concatenation of Array**\n",
        "\n",
        "Given an integer array nums of length n, you want to create an array ans of length 2n where ans[i] == nums[i] and ans[i + n] == nums[i] for 0 <= i < n (0-indexed).\n",
        "\n",
        "Specifically, ans is the **concatenation** of two nums arrays.\n",
        "\n",
        "Return the array ans.\n",
        "\n",
        "**Example 1:**\n",
        "\n",
        "Input: nums = [1,2,1]\n",
        "\n",
        "Output: [1,2,1,1,2,1]\n",
        "\n",
        "Explanation: The array ans is formed as follows:\n",
        "- ans = [nums[0],nums[1],nums[2],nums[0],nums[1],nums[2]]\n",
        "- ans = [1,2,1,1,2,1]\n",
        "\n",
        "\n",
        "**Example 2:**\n",
        "\n",
        "Input: nums = [1,3,2,1]\n",
        "\n",
        "Output: [1,3,2,1,1,3,2,1]\n",
        "\n",
        "Explanation: The array ans is formed as follows:\n",
        "- ans = [nums[0],nums[1],nums[2],nums[3],nums[0],nums[1],nums[2],nums[3]]\n",
        "- ans = [1,3,2,1,1,3,2,1]\n"
      ]
    },
    {
      "cell_type": "code",
      "metadata": {
        "colab": {
          "base_uri": "https://localhost:8080/"
        },
        "id": "8Yyh-6C0qYS9",
        "outputId": "a4391bf7-9420-4a67-8611-94a4296e3569"
      },
      "source": [
        "#Solution 1\n",
        "nums = [1,3,2,1]\n",
        "answer = nums\n",
        "for i in range(len(nums)):\n",
        "  answer.append(nums[i])\n",
        "print(answer)\n",
        "        "
      ],
      "execution_count": null,
      "outputs": [
        {
          "output_type": "stream",
          "name": "stdout",
          "text": [
            "[1, 3, 2, 1, 1, 3, 2, 1]\n"
          ]
        }
      ]
    },
    {
      "cell_type": "code",
      "metadata": {
        "colab": {
          "base_uri": "https://localhost:8080/"
        },
        "id": "OXRuMi-Jstlp",
        "outputId": "37c26a40-e88f-4eb6-896b-3affab147416"
      },
      "source": [
        "# Solution 2\n",
        "nums = [1,3,2,1]\n",
        "print(nums + nums)"
      ],
      "execution_count": null,
      "outputs": [
        {
          "output_type": "stream",
          "name": "stdout",
          "text": [
            "[1, 3, 2, 1, 1, 3, 2, 1]\n"
          ]
        }
      ]
    },
    {
      "cell_type": "markdown",
      "metadata": {
        "id": "-tsf66-tFiwO"
      },
      "source": [
        "# **5882. Grid Game Contest question** \n"
      ]
    },
    {
      "cell_type": "code",
      "metadata": {
        "id": "IWTyek0-FwYM"
      },
      "source": [
        "def index_2d(myList, val):\n",
        "    for i, x in enumerate(myList):\n",
        "        if val in x:\n",
        "            return (i, x.index(val))\n",
        "grid = [[2,5,4],[1,5,1]]\n",
        "# print(grid.index(max(grid)))\n",
        "# print(grid.index(max(max(grid,key=max))))\n",
        "# print(grid.index(grid.index(5)))\n",
        "print(index_2d(grid, max(max(x) for x in grid)))\n",
        "print(index_2d(grid, 1))\n",
        "print(max(grid[0]))"
      ],
      "execution_count": null,
      "outputs": []
    },
    {
      "cell_type": "markdown",
      "metadata": {
        "id": "dD8oQPvS-8S0"
      },
      "source": [
        "# **287. Find the Duplicate Number**\n",
        "Given an array of integers nums containing n + 1 integers where each integer is in the range [1, n] inclusive.\n",
        "\n",
        "There is only one repeated number in nums, return this repeated number.\n",
        "\n",
        "You must solve the problem without modifying the array nums and uses only constant extra space.\n",
        "\n",
        "**Example 1:**\n",
        "```\n",
        "Input: nums = [1,3,4,2,2]\n",
        "Output: 2\n",
        "```\n",
        "**Example 2:**\n",
        "```\n",
        "Input: nums = [3,1,3,4,2]\n",
        "Output: 3\n",
        "```\n",
        "\n"
      ]
    },
    {
      "cell_type": "code",
      "metadata": {
        "colab": {
          "base_uri": "https://localhost:8080/"
        },
        "id": "xQW-Tyms-7d9",
        "outputId": "1d40eb0e-6ad3-463c-952f-25f548fb2dea"
      },
      "source": [
        "nums = [3813, 15536,22271,14184,17895,3837,24294,23073,8515,21173,18958]\n",
        "for i in range(0, len(nums)):\n",
        "  for j in range(i+1, len(nums)):\n",
        "    if nums[i] == nums[j]:\n",
        "      print(nums[j])\n",
        "print(None)"
      ],
      "execution_count": null,
      "outputs": [
        {
          "output_type": "stream",
          "name": "stdout",
          "text": [
            "None\n"
          ]
        }
      ]
    },
    {
      "cell_type": "markdown",
      "metadata": {
        "id": "417GjGnYK7sK"
      },
      "source": [
        "# **1941. Check if All Characters Have Equal Number of Occurrences**\n",
        "\n",
        "Given a string s, return true if s is a good string, or false otherwise.\n",
        "\n",
        "A string s is good if all the characters that appear in s have the same number of occurrences (i.e., the same frequency).\n",
        "\n",
        "\n",
        "```\n",
        "Example 1:\n",
        "\n",
        "Input: s = \"abacbc\"\n",
        "Output: true\n",
        "Explanation: The characters that appear in s are 'a', 'b', and 'c'. All characters occur 2 times in s.\n",
        "```\n",
        "\n",
        "\n",
        "```\n",
        "Example 2:\n",
        "\n",
        "Input: s = \"aaabb\"\n",
        "Output: false\n",
        "Explanation: The characters that appear in s are 'a' and 'b'.\n",
        "'a' occurs 3 times while 'b' occurs 2 times, which is not the same number of times.\n",
        "```\n",
        "\n",
        "\n",
        "\n"
      ]
    },
    {
      "cell_type": "code",
      "metadata": {
        "colab": {
          "base_uri": "https://localhost:8080/"
        },
        "id": "9Q3-FiKoLQ6S",
        "outputId": "27b6d435-6673-4529-91b3-34cb4c71d32d"
      },
      "source": [
        "s = \"abacbc\"\n",
        "# s = \"aaabb\"\n",
        "dic = {}\n",
        "for i in s:\n",
        "    if i not in dic:\n",
        "        dic[i] = 1\n",
        "    else:\n",
        "        dic[i] += 1\n",
        "lst = list(dic.values())\n",
        "print(dic)\n",
        "val = lst[0]\n",
        "for i in range(len(lst)):\n",
        "    if lst[i] != val:\n",
        "        print(False)\n",
        "        break\n",
        "print(True)"
      ],
      "execution_count": null,
      "outputs": [
        {
          "output_type": "stream",
          "name": "stdout",
          "text": [
            "{'a': 2, 'b': 2, 'c': 2}\n",
            "True\n"
          ]
        }
      ]
    },
    {
      "cell_type": "markdown",
      "metadata": {
        "id": "XWyh91I_mw4_"
      },
      "source": [
        "# **1704. Determine if String Halves Are Alike**\n",
        "\n",
        "You are given a string s of even length. Split this string into two halves of equal lengths, and let a be the first half and b be the second half.\n",
        "\n",
        "Two strings are alike if they have the same number of vowels ('a', 'e', 'i', 'o', 'u', 'A', 'E', 'I', 'O', 'U'). Notice that s contains uppercase and lowercase letters.\n",
        "\n",
        "Return true if a and b are alike. Otherwise, return false.\n",
        "\n",
        " \n",
        "\n",
        "```\n",
        "Example 1:\n",
        "\n",
        "Input: s = \"book\"\n",
        "Output: true\n",
        "Explanation: a = \"bo\" and b = \"ok\". a has 1 vowel and b has 1 vowel. Therefore, they are alike.\n",
        "```\n",
        "\n",
        "\n",
        "```\n",
        "Example 2:\n",
        "\n",
        "Input: s = \"textbook\"\n",
        "Output: false\n",
        "Explanation: a = \"text\" and b = \"book\". a has 1 vowel whereas b has 2. Therefore, they are not alike.\n",
        "Notice that the vowel o is counted twice.\n",
        "```\n",
        "\n",
        "\n",
        "```\n",
        "Example 3:\n",
        "\n",
        "Input: s = \"AbCdEfGh\"\n",
        "Output: true\n",
        "```\n",
        "\n",
        "\n",
        "\n"
      ]
    },
    {
      "cell_type": "code",
      "metadata": {
        "colab": {
          "base_uri": "https://localhost:8080/"
        },
        "id": "5_kCdUQudk7C",
        "outputId": "9c22cbc6-a33a-44fa-a378-0867d10a6299"
      },
      "source": [
        "# Solution 1\n",
        "# s = \"book\"\n",
        "# s = \"textbook\"\n",
        "s = s.lower()\n",
        "l = int(len(s) / 2)\n",
        "a, b = '', ''\n",
        "count = 0\n",
        "vowels = ('a', 'e', 'i', 'o', 'u')\n",
        "print(l)\n",
        "for i in range(0, len(s)):\n",
        "    if i+1 <= l:\n",
        "        a += s[i]\n",
        "    else:\n",
        "        b += s[i]\n",
        "print(a,b)\n",
        "for i in range(0, l):\n",
        "    if a[i] in vowels:\n",
        "        count += 1\n",
        "    if b[i] in vowels:\n",
        "        count -= 1\n",
        "print(count == 0)\n",
        "            "
      ],
      "execution_count": null,
      "outputs": [
        {
          "output_type": "stream",
          "name": "stdout",
          "text": [
            "AbCd\n",
            "4\n",
            "abcd efgh\n",
            "True\n"
          ]
        }
      ]
    },
    {
      "cell_type": "code",
      "metadata": {
        "colab": {
          "base_uri": "https://localhost:8080/"
        },
        "id": "OHuUbl2EnmfH",
        "outputId": "771c8702-cc8b-4af1-9c58-2ed8eab74cdf"
      },
      "source": [
        "# Solution 2\n",
        "s = \"book\"\n",
        "# s = \"textbook\"\n",
        "s = s.lower()\n",
        "l = len(s) // 2\n",
        "a, b = 0, 0\n",
        "vowels = ('a', 'e', 'i', 'o', 'u')\n",
        "for i in range(l):\n",
        "    if s[i] in vowels:\n",
        "        a += 1\n",
        "    if s[i+l] in vowels:\n",
        "        b += 1\n",
        "print(a == b)"
      ],
      "execution_count": null,
      "outputs": [
        {
          "output_type": "stream",
          "name": "stdout",
          "text": [
            "True\n"
          ]
        }
      ]
    },
    {
      "cell_type": "markdown",
      "metadata": {
        "id": "40bsEmXawPMJ"
      },
      "source": [
        "# **1470. Shuffle the Array**\n",
        "\n",
        "Given the array nums consisting of 2n elements in the form ```[x1,x2,...,xn,y1,y2,...,yn].```\n",
        "\n",
        "Return the array in the form ```[x1,y1,x2,y2,...,xn,yn]```.\n",
        "```\n",
        "Example 1:\n",
        "Input: nums = [2,5,1,3,4,7], n = 3\n",
        "Output: [2,3,5,4,1,7] \n",
        "Explanation: Since x1=2, x2=5, x3=1, y1=3, y2=4, y3=7 then the answer is [2,3,5,4,1,7].\n",
        "```\n",
        "```\n",
        "Example 2:\n",
        "Input: nums = [1,2,3,4,4,3,2,1], n = 4\n",
        "Output: [1,4,2,3,3,2,4,1]\n",
        "```"
      ]
    },
    {
      "cell_type": "code",
      "metadata": {
        "colab": {
          "base_uri": "https://localhost:8080/"
        },
        "id": "IHxY2N5Cw1qg",
        "outputId": "b6a2f0fc-6119-4b37-b843-081b48a2c956"
      },
      "source": [
        "nums = [1,2,3,4,4,3,2,1]\n",
        "n = 4\n",
        "# nums = [1,3,2,4]\n",
        "# n = 2\n",
        "l = len(nums)\n",
        "print('Result:', [1,4,2,3,3,2,4,1])\n",
        "for i in range(0, l, 2):\n",
        "  nums.insert(i+1, nums[i+n])\n",
        "  print('loop:',i,nums)\n",
        "del(nums[l:])\n",
        "print(nums)\n",
        "# --------------------------------------------------------------------"
      ],
      "execution_count": null,
      "outputs": [
        {
          "output_type": "stream",
          "name": "stdout",
          "text": [
            "Result: [1, 4, 2, 3, 3, 2, 4, 1]\n",
            "loop: 0 [1, 4, 2, 3, 4, 4, 3, 2, 1]\n",
            "loop: 2 [1, 4, 2, 3, 3, 4, 4, 3, 2, 1]\n",
            "loop: 4 [1, 4, 2, 3, 3, 2, 4, 4, 3, 2, 1]\n",
            "loop: 6 [1, 4, 2, 3, 3, 2, 4, 1, 4, 3, 2, 1]\n",
            "[1, 4, 2, 3, 3, 2, 4, 1]\n"
          ]
        }
      ]
    },
    {
      "cell_type": "markdown",
      "metadata": {
        "id": "g-U_PLZs5IQr"
      },
      "source": [
        "# **2022. Convert 1D Array Into 2D Array**\n",
        "\n",
        "You are given a **0-indexed** 1-dimensional (1D) integer array ```original```, and two integers, ```m``` and ```n```. You are tasked with creating a 2-dimensional (2D) array with ```m``` rows and ```n``` columns using **all** the elements from ```original```.\n",
        "\n",
        "The elements from indices ```0``` to ```n - 1``` (**inclusive**) of original should form the first row of the constructed 2D array, the elements from indices ```n``` to ```2 * n - 1``` (**inclusive**) should form the second row of the constructed 2D array, and so on.\n",
        "\n",
        "Return an ```m x n``` *2D array constructed according to the above procedure, or an empty 2D array if it is impossible.*\n",
        "```\n",
        "Example 1:\n",
        "Input: original = [1,2,3,4], m = 2, n = 2\n",
        "Output: [[1,2],[3,4]]\n",
        "Explanation:\n",
        "The constructed 2D array should contain 2 rows and 2 columns.\n",
        "The first group of n=2 elements in original, [1,2], becomes the first row in the constructed 2D array.\n",
        "The second group of n=2 elements in original, [3,4], becomes the second row in the constructed 2D array.\n",
        "```\n",
        "```\n",
        "Example 2:\n",
        "Input: original = [1,2,3], m = 1, n = 3\n",
        "Output: [[1,2,3]]\n",
        "Explanation:\n",
        "The constructed 2D array should contain 1 row and 3 columns.\n",
        "Put all three elements in original into the first row of the constructed 2D array.\n",
        "```\n",
        "```\n",
        "Example 3:\n",
        "Input: original = [1,2], m = 1, n = 1\n",
        "Output: []\n",
        "Explanation:\n",
        "There are 2 elements in original.\n",
        "It is impossible to fit 2 elements in a 1x1 2D array, so return an empty 2D array.\n",
        "```"
      ]
    },
    {
      "cell_type": "code",
      "metadata": {
        "colab": {
          "base_uri": "https://localhost:8080/"
        },
        "id": "BSbCvPiEbqgm",
        "outputId": "c6257857-2aa5-4650-ca07-b881cc3dd19e"
      },
      "source": [
        "# original = [1,2,3,4]\n",
        "# m = 2\n",
        "# n = 2\n",
        "original = [1,2]\n",
        "m = 1\n",
        "n = 1\n",
        "j = 0\n",
        "result = [[0]*n]*m\n",
        "if m * n != len(original):\n",
        "  print('Cannot do this')\n",
        "for i in range(m):\n",
        "    result[i] = original[j:j+n]\n",
        "    j += n\n",
        "print(result)"
      ],
      "execution_count": null,
      "outputs": [
        {
          "output_type": "stream",
          "name": "stdout",
          "text": [
            "Cannot do this\n",
            "[[1]]\n"
          ]
        }
      ]
    },
    {
      "cell_type": "markdown",
      "metadata": {
        "id": "JJd5V5UN3KsF"
      },
      "source": [
        "# **2023. Number of Pairs of Strings With Concatenation Equal to Target**\n",
        "\n",
        "Given an array of digit strings ```nums``` and a digit string ```target```, return the number of pairs of indices ```(i, j)``` (where ```i != j```) such that the concatenation of ```nums[i] + nums[j]``` equals target.\n",
        "```\n",
        "Example 1:\n",
        "Input: nums = [\"777\",\"7\",\"77\",\"77\"], target = \"7777\"\n",
        "Output: 4\n",
        "Explanation: Valid pairs are:\n",
        "- (0, 1): \"777\" + \"7\"\n",
        "- (1, 0): \"7\" + \"777\"\n",
        "- (2, 3): \"77\" + \"77\"\n",
        "- (3, 2): \"77\" + \"77\"\n",
        "```\n",
        "```\n",
        "Example 2:\n",
        "Input: nums = [\"123\",\"4\",\"12\",\"34\"], target = \"1234\"\n",
        "Output: 2\n",
        "Explanation: Valid pairs are:\n",
        "- (0, 1): \"123\" + \"4\"\n",
        "- (2, 3): \"12\" + \"34\"\n",
        "```"
      ]
    },
    {
      "cell_type": "code",
      "metadata": {
        "colab": {
          "base_uri": "https://localhost:8080/"
        },
        "id": "qPn1p2NsmeHj",
        "outputId": "01b69a0a-275d-4b4f-b92a-4c2dba6b5792"
      },
      "source": [
        "nums = [\"777\",\"7\",\"77\",\"77\"]\n",
        "target = \"7777\"\n",
        "answer = 0\n",
        "for i in range(len(nums)):\n",
        "  for j in range(len(nums)):\n",
        "    if (i != j and nums[i] + nums[j] == target):\n",
        "      answer += 1\n",
        "print(answer)"
      ],
      "execution_count": null,
      "outputs": [
        {
          "output_type": "stream",
          "name": "stdout",
          "text": [
            "4\n"
          ]
        }
      ]
    },
    {
      "cell_type": "code",
      "metadata": {
        "colab": {
          "base_uri": "https://localhost:8080/"
        },
        "id": "gONVDSvLQKbY",
        "outputId": "f114d2c1-bced-46c6-ed03-2f453c589e36"
      },
      "source": [
        "# s ='XXOX'\n",
        "# s = 'OOOO'\n",
        "# s = 'XXX'\n",
        "s = 'OXOX'\n",
        "ns = ''\n",
        "st = 0\n",
        "count = 0\n",
        "en = len(s) - 1\n",
        "l = len(s) // 3 + len(s) % 3\n",
        "lst = ['XOO','XOX','XXO','OXO','OXX','OOX']\n",
        "for i in range(l):\n",
        "  if s [i:i+3] in lst:\n",
        "    count += 1\n",
        "    s.replace(s[0:3],'OOO')\n",
        "    print(s[i:i+3],'  ',s)\n",
        "  if s[i:i+3] == 'XXX':\n",
        "    count += 1\n",
        "    print(count)\n",
        "  if s[i:i+3] == '000':\n",
        "    pass\n",
        "    s.replace(s[i:i+3],'OOO')\n",
        "# print(count)"
      ],
      "execution_count": null,
      "outputs": [
        {
          "output_type": "stream",
          "name": "stdout",
          "text": [
            "OXO    OXOX\n",
            "XOX    OXOX\n"
          ]
        }
      ]
    },
    {
      "cell_type": "markdown",
      "metadata": {
        "id": "R0mQBxYRcjBP"
      },
      "source": [
        "# **2027. Minimum Moves to Convert String**\n",
        "You are given a string s consisting of n characters which are either 'X' or 'O'.\n",
        "\n",
        "A move is defined as selecting three consecutive characters of s and converting them to 'O'. Note that if a move is applied to the character 'O', it will stay the same.\n",
        "\n",
        "Return the minimum number of moves required so that all the characters of s are converted to 'O'.\n",
        "```\n",
        "Example 1:\n",
        "Input: s = \"XXX\"\n",
        "Output: 1\n",
        "Explanation: XXX -> OOO\n",
        "We select all the 3 characters and convert them in one move.\n",
        "```\n",
        "```\n",
        "Example 2:\n",
        "Input: s = \"XXOX\"\n",
        "Output: 2\n",
        "Explanation: XXOX -> OOOX -> OOOO\n",
        "We select the first 3 characters in the first move, and convert them to 'O'.\n",
        "Then we select the last 3 characters and convert them so that the final string contains all 'O's.\n",
        "```\n",
        "```\n",
        "Example 3:\n",
        "Input: s = \"OOOO\"\n",
        "Output: 0\n",
        "Explanation: There are no 'X's in s to convert.\n",
        "```"
      ]
    },
    {
      "cell_type": "code",
      "metadata": {
        "colab": {
          "base_uri": "https://localhost:8080/"
        },
        "id": "7ZSq1_6PY_Iv",
        "outputId": "cf71d7f7-b233-4b29-eaca-f2c1fbee245a"
      },
      "source": [
        "# s = 'OXOX'\n",
        "s ='XXOX'\n",
        "# s = 'OOOO'\n",
        "# s = 'XXX'\n",
        "count = 0\n",
        "l = len(s)\n",
        "i = 0\n",
        "while i < l:\n",
        "  if s[i] == 'X':\n",
        "    count += 1\n",
        "    i += 2\n",
        "  i += 1\n",
        "print(count)"
      ],
      "execution_count": null,
      "outputs": [
        {
          "output_type": "stream",
          "name": "stdout",
          "text": [
            "2\n"
          ]
        }
      ]
    },
    {
      "cell_type": "markdown",
      "metadata": {
        "id": "WQmx3Gl9qLvM"
      },
      "source": [
        "# **852. Peak Index in a Mountain Array**\n",
        "Let's call an array arr a mountain if the following properties hold:\n",
        "\n",
        "- arr.length >= 3\n",
        "- There exists some i with 0 < i < arr.length - 1 such that:\n",
        "  - arr[0] < arr[1] < ... arr[i-1] < arr[i]\n",
        "  - arr[i] > arr[i+1] > ... > arr[arr.length - 1]\n",
        "\n",
        "Given an integer array arr that is guaranteed to be a mountain, return any i such that arr[0] < arr[1] < ... arr[i - 1] < arr[i] > arr[i + 1] > ... > arr[arr.length - 1].\n",
        "```\n",
        "Example 1:\n",
        "Input: arr = [0,1,0]\n",
        "Output: 1\n",
        "```\n",
        "```\n",
        "Example 2:\n",
        "Input: arr = [0,2,1,0]\n",
        "Output: 1\n",
        "```\n",
        "```\n",
        "Example 3:\n",
        "Input: arr = [0,10,5,2]\n",
        "Output: 1\n",
        "```\n",
        "```\n",
        "Example 4:\n",
        "Input: arr = [24,69,100,99,79,78,67,36,26,19]\n",
        "Output: 2\n",
        "```"
      ]
    },
    {
      "cell_type": "code",
      "metadata": {
        "colab": {
          "base_uri": "https://localhost:8080/"
        },
        "id": "HS7HsyWwq3bp",
        "outputId": "3d1317ed-b786-4ebb-9793-2645e1bc4472"
      },
      "source": [
        "# First Approch\n",
        "# arr = [0,2,1,0]\n",
        "arr = [24,69,100,99,79,78,67,36,26,19]\n",
        "i=0\n",
        "while(arr[i]<arr[i+1]):\n",
        "    i+=1\n",
        "print(i)"
      ],
      "execution_count": null,
      "outputs": [
        {
          "output_type": "stream",
          "name": "stdout",
          "text": [
            "2\n"
          ]
        }
      ]
    },
    {
      "cell_type": "code",
      "metadata": {
        "colab": {
          "base_uri": "https://localhost:8080/"
        },
        "id": "VdUzetFV6nU5",
        "outputId": "1e1958af-82ac-4ec4-839b-e0d7e13e5c0e"
      },
      "source": [
        "# Second Approch\n",
        "print(arr.index(max(arr)))"
      ],
      "execution_count": null,
      "outputs": [
        {
          "output_type": "stream",
          "name": "stdout",
          "text": [
            "2\n"
          ]
        }
      ]
    },
    {
      "cell_type": "markdown",
      "metadata": {
        "id": "pw-MCG12-ErL"
      },
      "source": [
        "# **520. Detect Capital**\n",
        "We define the usage of capitals in a word to be right when one of the following cases holds:\n",
        "\n",
        "All letters in this word are capitals, like \"USA\".\n",
        "All letters in this word are not capitals, like \"leetcode\".\n",
        "Only the first letter in this word is capital, like \"Google\".\n",
        "\n",
        "Given a string word, return true if the usage of capitals in it is right.\n",
        "```\n",
        "Example 1:\n",
        "Input: word = \"USA\"\n",
        "Output: true\n",
        "```\n",
        "```\n",
        "Example 2:\n",
        "Input: word = \"FlaG\"\n",
        "Output: false\n",
        "```"
      ]
    },
    {
      "cell_type": "code",
      "metadata": {
        "colab": {
          "base_uri": "https://localhost:8080/"
        },
        "id": "sdgO14eB-HQX",
        "outputId": "1ffd66f5-ca2c-4cc5-bc07-ff2fb52756a0"
      },
      "source": [
        "word = \"USA\"\n",
        "word = \"FlaG\"\n",
        "print(word==word.upper() or word==word.lower() or word==word.capitalize())"
      ],
      "execution_count": null,
      "outputs": [
        {
          "output_type": "stream",
          "name": "stdout",
          "text": [
            "False\n"
          ]
        }
      ]
    }
  ]
}