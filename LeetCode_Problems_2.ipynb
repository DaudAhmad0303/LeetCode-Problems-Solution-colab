{
  "nbformat": 4,
  "nbformat_minor": 0,
  "metadata": {
    "colab": {
      "name": "LeetCode Problems-2.ipynb",
      "provenance": [],
      "collapsed_sections": [],
      "authorship_tag": "ABX9TyOFIDUX9grAuvEbkzXhf57u",
      "include_colab_link": true
    },
    "kernelspec": {
      "name": "python3",
      "display_name": "Python 3"
    },
    "language_info": {
      "name": "python"
    }
  },
  "cells": [
    {
      "cell_type": "markdown",
      "metadata": {
        "id": "view-in-github",
        "colab_type": "text"
      },
      "source": [
        "<a href=\"https://colab.research.google.com/github/DaudAhmad0303/LeetCode-Problems-Solution-colab/blob/master/LeetCode_Problems_2.ipynb\" target=\"_parent\"><img src=\"https://colab.research.google.com/assets/colab-badge.svg\" alt=\"Open In Colab\"/></a>"
      ]
    },
    {
      "cell_type": "markdown",
      "source": [
        "# **Random Practise Codes**"
      ],
      "metadata": {
        "id": "3u5k34sSz1ze"
      }
    },
    {
      "cell_type": "code",
      "execution_count": null,
      "metadata": {
        "id": "E5b5KU7czw0T",
        "colab": {
          "base_uri": "https://localhost:8080/"
        },
        "outputId": "656fb4da-eab6-4ffb-af90-4d43d0aab0c3"
      },
      "outputs": [
        {
          "output_type": "stream",
          "name": "stdout",
          "text": [
            "[4, 2, 8]\n",
            "[8, 2, 4]\n",
            "[8, 3, 2, 1, 4]\n"
          ]
        }
      ],
      "source": [
        "nums = [4,1,2,3,8]\n",
        "print(nums[::2])\n",
        "print(nums[::-2])\n",
        "print(nums[::-1])"
      ]
    },
    {
      "cell_type": "markdown",
      "source": [
        "# **Random Questions Solved**"
      ],
      "metadata": {
        "id": "w9dVcYqcz8CN"
      }
    },
    {
      "cell_type": "markdown",
      "source": [
        "## **2164. Sort Even and Odd Indices Independently**"
      ],
      "metadata": {
        "id": "1bbZeHbLRxAs"
      }
    },
    {
      "cell_type": "code",
      "source": [
        "class Solution:\n",
        "    def sortEvenOdd(self, nums):\n",
        "        if len(nums) <= 2:\n",
        "            return nums\n",
        "        odd = []\n",
        "        even = []\n",
        "        l = len(nums)\n",
        "        for i in range(len(nums)):\n",
        "            if i % 2 == 0:\n",
        "                even.append(nums[i])\n",
        "            else:\n",
        "                odd.append(nums[i])\n",
        "        odd.sort(reverse = True)        \n",
        "        even.sort()\n",
        "        nums = []\n",
        "        for i in range(len(odd)):\n",
        "            nums.append(even[i])\n",
        "            nums.append(odd[i])\n",
        "        if l % 2 != 0:\n",
        "            nums.append(even[-1])\n",
        "        return nums\n",
        "obj = Solution()\n",
        "print(obj.sortEvenOdd(nums = [4,1,2,3]))"
      ],
      "metadata": {
        "colab": {
          "base_uri": "https://localhost:8080/"
        },
        "id": "aMdk5ImtRxll",
        "outputId": "77574cd2-50e4-4a35-d2b1-cadcc7729f61"
      },
      "execution_count": null,
      "outputs": [
        {
          "output_type": "stream",
          "name": "stdout",
          "text": [
            "[2, 3, 4, 1]\n"
          ]
        }
      ]
    },
    {
      "cell_type": "code",
      "source": [
        "class Solution:\n",
        "    def sortEvenOdd(self, nums):\n",
        "        odds = nums[::2]\n",
        "        evens = nums[1::2]\n",
        "        odds.sort()\n",
        "        evens.sort()\n",
        "        evens.reverse()\n",
        "        odds.append(-1)\n",
        "        evens.append(-1)\n",
        "        \n",
        "        res = []\n",
        "        for a,b in zip(odds, evens):\n",
        "            if a >= 0:\n",
        "                res.append(a)\n",
        "            if b >= 0:\n",
        "                res.append(b)\n",
        "        \n",
        "        return res\n",
        "obj = Solution()\n",
        "print(obj.sortEvenOdd(nums = [4,1,2,3]))"
      ],
      "metadata": {
        "colab": {
          "base_uri": "https://localhost:8080/"
        },
        "id": "DYgEtvfXU49r",
        "outputId": "a294aab3-835d-4081-9580-8f9716a45a86"
      },
      "execution_count": null,
      "outputs": [
        {
          "output_type": "stream",
          "name": "stdout",
          "text": [
            "[2, 3, 4, 1]\n"
          ]
        }
      ]
    },
    {
      "cell_type": "markdown",
      "source": [
        "## **125. Valid Palindrome**"
      ],
      "metadata": {
        "id": "9Sf7sjg-5n-0"
      }
    },
    {
      "cell_type": "code",
      "source": [
        "class Solution:\n",
        "    def isPalindrome(self, s: str) -> bool:\n",
        "        st = \"\"\n",
        "        for i in range(len(s)):\n",
        "            if s[i].isalpha() or s[i].isdigit():\n",
        "                st += s[i].lower()\n",
        "        print(st)\n",
        "        return st == st[::-1]\n",
        "obj = Solution()\n",
        "print(obj.isPalindrome(s = \"A man, a plan, a canal: Panama\"))"
      ],
      "metadata": {
        "colab": {
          "base_uri": "https://localhost:8080/"
        },
        "id": "SGww_vNNz9VF",
        "outputId": "c5ce1f4d-c93b-4142-bc86-df041002c522"
      },
      "execution_count": null,
      "outputs": [
        {
          "output_type": "stream",
          "name": "stdout",
          "text": [
            "amanaplanacanalpanama\n",
            "True\n"
          ]
        }
      ]
    },
    {
      "cell_type": "markdown",
      "source": [
        "## **Count Operations to Obtain Zero**"
      ],
      "metadata": {
        "id": "xWGr5q1EKf_s"
      }
    },
    {
      "cell_type": "code",
      "source": [
        "class Solution:\n",
        "    def countOperations(self, num1: int, num2: int) -> int:\n",
        "        if num1 != num2:\n",
        "            return min(num1, num2) + abs(num1-num2)\n",
        "        elif num1 == 0 or num2 == 0:\n",
        "            return 0\n",
        "        else:\n",
        "            return 1\n",
        "obj = Solution()\n",
        "print(obj.countOperations(num1 = 2, num2 = 3))"
      ],
      "metadata": {
        "colab": {
          "base_uri": "https://localhost:8080/"
        },
        "id": "wndXGqtLMlP_",
        "outputId": "e5239de0-f96a-4cee-9faf-36805eadef90"
      },
      "execution_count": null,
      "outputs": [
        {
          "output_type": "stream",
          "name": "stdout",
          "text": [
            "3\n"
          ]
        }
      ]
    },
    {
      "cell_type": "code",
      "source": [
        "class Solution:\n",
        "    def countOperations(self, num1: int, num2: int) -> int:\n",
        "        op = 0\n",
        "        while True:\n",
        "            if num1 > num2:\n",
        "                num1 -= num2\n",
        "                op += 1\n",
        "            elif num2 > num1:\n",
        "                num2 -= num1\n",
        "                op += 1\n",
        "            else:\n",
        "                num1 = 0\n",
        "                op += 1\n",
        "            if num1 == 0 or num2 == 0:\n",
        "                break\n",
        "        return op\n",
        "            \n",
        "\n",
        "\n",
        "obj = Solution()\n",
        "print(obj.countOperations(num1 = 79, num2 = 68))"
      ],
      "metadata": {
        "colab": {
          "base_uri": "https://localhost:8080/"
        },
        "id": "dZjh-_vkMvrk",
        "outputId": "46c1a081-8662-4342-f313-1517335a66f2"
      },
      "execution_count": null,
      "outputs": [
        {
          "output_type": "stream",
          "name": "stdout",
          "text": [
            "14\n"
          ]
        }
      ]
    },
    {
      "cell_type": "markdown",
      "source": [
        "## **118. Pascal's Triangle**"
      ],
      "metadata": {
        "id": "i3BXEmbE7ufj"
      }
    },
    {
      "cell_type": "code",
      "source": [
        "class Solution:\n",
        "    def generate(self, numRows: int):\n",
        "        if numRows == 1:\n",
        "            return [[1]]\n",
        "        lst = [[1]]\n",
        "        i = 0\n",
        "        for c in range(numRows-1):\n",
        "            lst1 = [1]\n",
        "            for j in range(len(lst[i])-1):\n",
        "                lst1.append(lst[i][j] + lst[i][j+1])\n",
        "            lst.append(lst1 + [1])\n",
        "            i += 1\n",
        "        return lst\n",
        "obj = Solution()\n",
        "print(obj.generate(30))"
      ],
      "metadata": {
        "colab": {
          "base_uri": "https://localhost:8080/"
        },
        "id": "dlvkIULm80nL",
        "outputId": "baf9bee3-b90c-4b30-e63e-12033e903e3a"
      },
      "execution_count": null,
      "outputs": [
        {
          "output_type": "stream",
          "name": "stdout",
          "text": [
            "[[1], [1, 1], [1, 2, 1], [1, 3, 3, 1], [1, 4, 6, 4, 1], [1, 5, 10, 10, 5, 1], [1, 6, 15, 20, 15, 6, 1], [1, 7, 21, 35, 35, 21, 7, 1], [1, 8, 28, 56, 70, 56, 28, 8, 1], [1, 9, 36, 84, 126, 126, 84, 36, 9, 1], [1, 10, 45, 120, 210, 252, 210, 120, 45, 10, 1], [1, 11, 55, 165, 330, 462, 462, 330, 165, 55, 11, 1], [1, 12, 66, 220, 495, 792, 924, 792, 495, 220, 66, 12, 1], [1, 13, 78, 286, 715, 1287, 1716, 1716, 1287, 715, 286, 78, 13, 1], [1, 14, 91, 364, 1001, 2002, 3003, 3432, 3003, 2002, 1001, 364, 91, 14, 1], [1, 15, 105, 455, 1365, 3003, 5005, 6435, 6435, 5005, 3003, 1365, 455, 105, 15, 1], [1, 16, 120, 560, 1820, 4368, 8008, 11440, 12870, 11440, 8008, 4368, 1820, 560, 120, 16, 1], [1, 17, 136, 680, 2380, 6188, 12376, 19448, 24310, 24310, 19448, 12376, 6188, 2380, 680, 136, 17, 1], [1, 18, 153, 816, 3060, 8568, 18564, 31824, 43758, 48620, 43758, 31824, 18564, 8568, 3060, 816, 153, 18, 1], [1, 19, 171, 969, 3876, 11628, 27132, 50388, 75582, 92378, 92378, 75582, 50388, 27132, 11628, 3876, 969, 171, 19, 1], [1, 20, 190, 1140, 4845, 15504, 38760, 77520, 125970, 167960, 184756, 167960, 125970, 77520, 38760, 15504, 4845, 1140, 190, 20, 1], [1, 21, 210, 1330, 5985, 20349, 54264, 116280, 203490, 293930, 352716, 352716, 293930, 203490, 116280, 54264, 20349, 5985, 1330, 210, 21, 1], [1, 22, 231, 1540, 7315, 26334, 74613, 170544, 319770, 497420, 646646, 705432, 646646, 497420, 319770, 170544, 74613, 26334, 7315, 1540, 231, 22, 1], [1, 23, 253, 1771, 8855, 33649, 100947, 245157, 490314, 817190, 1144066, 1352078, 1352078, 1144066, 817190, 490314, 245157, 100947, 33649, 8855, 1771, 253, 23, 1], [1, 24, 276, 2024, 10626, 42504, 134596, 346104, 735471, 1307504, 1961256, 2496144, 2704156, 2496144, 1961256, 1307504, 735471, 346104, 134596, 42504, 10626, 2024, 276, 24, 1], [1, 25, 300, 2300, 12650, 53130, 177100, 480700, 1081575, 2042975, 3268760, 4457400, 5200300, 5200300, 4457400, 3268760, 2042975, 1081575, 480700, 177100, 53130, 12650, 2300, 300, 25, 1], [1, 26, 325, 2600, 14950, 65780, 230230, 657800, 1562275, 3124550, 5311735, 7726160, 9657700, 10400600, 9657700, 7726160, 5311735, 3124550, 1562275, 657800, 230230, 65780, 14950, 2600, 325, 26, 1], [1, 27, 351, 2925, 17550, 80730, 296010, 888030, 2220075, 4686825, 8436285, 13037895, 17383860, 20058300, 20058300, 17383860, 13037895, 8436285, 4686825, 2220075, 888030, 296010, 80730, 17550, 2925, 351, 27, 1], [1, 28, 378, 3276, 20475, 98280, 376740, 1184040, 3108105, 6906900, 13123110, 21474180, 30421755, 37442160, 40116600, 37442160, 30421755, 21474180, 13123110, 6906900, 3108105, 1184040, 376740, 98280, 20475, 3276, 378, 28, 1], [1, 29, 406, 3654, 23751, 118755, 475020, 1560780, 4292145, 10015005, 20030010, 34597290, 51895935, 67863915, 77558760, 77558760, 67863915, 51895935, 34597290, 20030010, 10015005, 4292145, 1560780, 475020, 118755, 23751, 3654, 406, 29, 1]]\n"
          ]
        }
      ]
    },
    {
      "cell_type": "code",
      "source": [
        "class Solution:\n",
        "    def generate(self, numRows: int):\n",
        "        if numRows == 1:\n",
        "            return [[1]]\n",
        "        elif numRows == 2:\n",
        "            return [[1],[1,1]]\n",
        "        lst = [[1],[1,1]]\n",
        "        i = 1\n",
        "        for c in range(numRows-2):\n",
        "            lst1 = [1]\n",
        "            for j in range(len(lst[i])-1):\n",
        "                lst1.append(lst[i][j] + lst[i][j+1])\n",
        "            lst.append(lst1 + [1])\n",
        "            i += 1\n",
        "        return lst\n",
        "obj = Solution()\n",
        "print(obj.generate(5))"
      ],
      "metadata": {
        "colab": {
          "base_uri": "https://localhost:8080/"
        },
        "id": "7tvy6FIe7vH2",
        "outputId": "8c45152b-b80e-4439-ebe8-0f412577b8a6"
      },
      "execution_count": null,
      "outputs": [
        {
          "output_type": "stream",
          "name": "stdout",
          "text": [
            "[[1], [1, 1], [1, 2, 1], [1, 3, 3, 1], [1, 4, 6, 4, 1]]\n"
          ]
        }
      ]
    },
    {
      "cell_type": "markdown",
      "source": [
        "## **551. Student Attendance Record I**"
      ],
      "metadata": {
        "id": "-Wp9xiKRrbs9"
      }
    },
    {
      "cell_type": "code",
      "source": [
        "%%time\n",
        "class Solution:\n",
        "    def checkRecord(self, s: str) -> bool:\n",
        "        if 'LLL' in s:\n",
        "            return False\n",
        "        if 'A' in s:\n",
        "            i = s.index('A')\n",
        "            s = s[:i] + s[i+1:]\n",
        "        if 'A' in s:\n",
        "            return False\n",
        "        return True\n",
        "obj = Solution()\n",
        "print(obj.checkRecord(s = \"PPALLP\"))"
      ],
      "metadata": {
        "colab": {
          "base_uri": "https://localhost:8080/"
        },
        "id": "d5ztDjaOrgMc",
        "outputId": "e2dce0cf-dbb9-4828-8f49-7bd315ecfeb3"
      },
      "execution_count": null,
      "outputs": [
        {
          "output_type": "stream",
          "name": "stdout",
          "text": [
            "True\n",
            "CPU times: user 142 µs, sys: 0 ns, total: 142 µs\n",
            "Wall time: 148 µs\n"
          ]
        }
      ]
    },
    {
      "cell_type": "code",
      "source": [
        "%%time\n",
        "class Solution:\n",
        "    def checkRecord(self, s: str) -> bool:\n",
        "        if s.count('A') < 2:\n",
        "            if 'LLL' in s:\n",
        "                return False\n",
        "            else:\n",
        "                return True\n",
        "        else:\n",
        "            return False\n",
        "obj = Solution()\n",
        "print(obj.checkRecord(s = \"PPALLP\"))"
      ],
      "metadata": {
        "colab": {
          "base_uri": "https://localhost:8080/"
        },
        "id": "j0t1Y49qwzN7",
        "outputId": "1d23fe85-05c9-49e1-8f29-7a155a978804"
      },
      "execution_count": null,
      "outputs": [
        {
          "output_type": "stream",
          "name": "stdout",
          "text": [
            "True\n",
            "CPU times: user 159 µs, sys: 0 ns, total: 159 µs\n",
            "Wall time: 125 µs\n"
          ]
        }
      ]
    },
    {
      "cell_type": "markdown",
      "source": [
        "# **Daily Coding Challenge**"
      ],
      "metadata": {
        "id": "JjbFKdK_0CL1"
      }
    },
    {
      "cell_type": "markdown",
      "source": [
        "## ***Feb 6:* 80. Remove Duplicates from Sorted Array II**"
      ],
      "metadata": {
        "id": "oSWUqCbYFrdK"
      }
    },
    {
      "cell_type": "code",
      "source": [
        "class Solution:\n",
        "    def removeDuplicates(self, nums) -> int:\n",
        "        l = len(nums)\n",
        "        prev = nums[0]\n",
        "        count = 0\n",
        "        d_count = 0\n",
        "        for i in range(l-1):\n",
        "            if d_count >= 2:\n",
        "                nums.remove(nums[i])\n",
        "                nums.append(0)\n",
        "            else:\n",
        "                count += 1\n",
        "            if nums[i+1] != nums[i]:\n",
        "                d_count = 0\n",
        "            else:\n",
        "                d_count +=1\n",
        "        print(nums)\n",
        "        return 5"
      ],
      "metadata": {
        "id": "-6QDoO3h0GXF"
      },
      "execution_count": null,
      "outputs": []
    },
    {
      "cell_type": "code",
      "source": [
        "class Solution:\n",
        "    def removeDuplicates(self, nums) -> int:\n",
        "        if len(nums) < 3: \n",
        "            return len(nums)\n",
        "        pos = 1\n",
        "        for i in range(1, len(nums)-1):\n",
        "            if nums[i-1] != nums[i+1]:\n",
        "                nums[pos] = nums[i]\n",
        "                pos += 1\n",
        "        nums[pos] = nums[-1]\n",
        "        print(nums)\n",
        "        return pos + 1\n",
        "\n",
        "obj = Solution()\n",
        "print(obj.removeDuplicates(nums = [0,0,1,1,1,1,2,3,3]))"
      ],
      "metadata": {
        "colab": {
          "base_uri": "https://localhost:8080/"
        },
        "id": "uua3fXo2Fx7y",
        "outputId": "43b4d6cd-ecd3-494b-a363-76fdcf6af890"
      },
      "execution_count": null,
      "outputs": [
        {
          "output_type": "stream",
          "name": "stdout",
          "text": [
            "[0, 0, 1, 1, 2, 3, 3, 3, 3]\n",
            "7\n"
          ]
        }
      ]
    },
    {
      "cell_type": "markdown",
      "source": [
        "## ***Feb 7:* 389. Find the Difference**"
      ],
      "metadata": {
        "id": "tnFlnR2eXfKa"
      }
    },
    {
      "cell_type": "code",
      "source": [
        "class Solution:\n",
        "\n",
        "    def findTheDifference(self, s: str, t: str) -> str:\n",
        "\n",
        "        sum1 = 0\n",
        "\n",
        "        sum2 = 0\n",
        "\n",
        "        for i in s:\n",
        "\n",
        "            sum1 += ord(i)\n",
        "\n",
        "        for i in t:\n",
        "\n",
        "            sum2 += ord(i)\n",
        "\n",
        "        return chr(sum2 - sum1)\n",
        "\n",
        "obj = Solution()\n",
        "print(obj.findTheDifference(s = \"abcd\", t = \"abcde\"))"
      ],
      "metadata": {
        "colab": {
          "base_uri": "https://localhost:8080/"
        },
        "id": "7TSaIEAdXcO3",
        "outputId": "70c1e887-7361-4b2c-f222-2d81b5f82c71"
      },
      "execution_count": null,
      "outputs": [
        {
          "output_type": "stream",
          "name": "stdout",
          "text": [
            "e\n"
          ]
        }
      ]
    },
    {
      "cell_type": "markdown",
      "source": [
        "## ***Feb 9:* 258. Add Digits**"
      ],
      "metadata": {
        "id": "5-2jhZ68Mhqh"
      }
    },
    {
      "cell_type": "code",
      "source": [
        "def make_list(n):\n",
        "    lst = list(str(n))\n",
        "    lst = list(map(int, lst))\n",
        "    return \n",
        "make_list(399)"
      ],
      "metadata": {
        "colab": {
          "base_uri": "https://localhost:8080/"
        },
        "id": "MHPZqD8RMpl5",
        "outputId": "42bf8919-f767-4f37-b838-2fc7278e7f3e"
      },
      "execution_count": null,
      "outputs": [
        {
          "output_type": "stream",
          "name": "stdout",
          "text": [
            "<class 'int'>\n"
          ]
        }
      ]
    },
    {
      "cell_type": "code",
      "source": [
        "class Solution:\n",
        "    def addDigits(self, num: int) -> int:\n",
        "        def make_list(n):\n",
        "            lst = list(str(n))\n",
        "            lst = list(map(int, lst))\n",
        "            return lst\n",
        "        while num>9:\n",
        "            lst = make_list(num)\n",
        "            val = 0\n",
        "            for i in lst:\n",
        "                val += i\n",
        "            num = val\n",
        "        return num\n",
        "obj = Solution()\n",
        "print(obj.addDigits(398))"
      ],
      "metadata": {
        "colab": {
          "base_uri": "https://localhost:8080/"
        },
        "id": "Q-QXY-lkOzox",
        "outputId": "14d49379-94ec-41c1-848c-ed39d7b0d026"
      },
      "execution_count": null,
      "outputs": [
        {
          "output_type": "stream",
          "name": "stdout",
          "text": [
            "2\n"
          ]
        }
      ]
    },
    {
      "cell_type": "markdown",
      "source": [
        "## ***Feb 9:* 532. K-diff Pairs in an Array**"
      ],
      "metadata": {
        "id": "CwmL8USkLFcJ"
      }
    },
    {
      "cell_type": "code",
      "source": [
        "class Solution:\n",
        "    def findPairs(self, nums, k: int) -> int:\n",
        "        # return the number of unique pairs\n",
        "        answ=0\n",
        "        # create a dictionary: d[x]==nums.count(x)\n",
        "        d={}\n",
        "        for x in nums:\n",
        "            if x in d: d[x]+=1\n",
        "            else:      d[x]=1\n",
        "        \n",
        "        if k: # k>0\n",
        "            answ=sum(x+k in d for x in d.keys())\n",
        "        else: # k==0\n",
        "            answ=sum(k>1 for k in d.values())\n",
        "                \n",
        "        return answ\n",
        "obj = Solution()\n",
        "print(obj.findPairs(nums = [3,1,4,1,5], k = 2))"
      ],
      "metadata": {
        "colab": {
          "base_uri": "https://localhost:8080/"
        },
        "id": "iUgZ4s1YLNWx",
        "outputId": "f9ba9a3b-6572-441d-f2cc-e48c96af1908"
      },
      "execution_count": null,
      "outputs": [
        {
          "output_type": "stream",
          "name": "stdout",
          "text": [
            "2\n"
          ]
        }
      ]
    },
    {
      "cell_type": "markdown",
      "source": [
        "## ***Feb 10:* 560. Subarray Sum Equals K**"
      ],
      "metadata": {
        "id": "zwSBB6e17B-o"
      }
    },
    {
      "cell_type": "code",
      "source": [
        "class Solution:\n",
        "    def subarraySum(self, nums, k: int) -> int:\n",
        "        d ={0:1}\n",
        "    \n",
        "        sums = 0\n",
        "\n",
        "        count= 0\n",
        "\n",
        "        for i in range(len(nums)):\n",
        "            sums+= nums[i]\n",
        "\n",
        "            if sums-k in d:\n",
        "                count+= d[sums-k]\n",
        "\n",
        "            if sums in d:\n",
        "                d[sums]+=1\n",
        "\n",
        "            else:\n",
        "                d[sums] = 1\n",
        "\n",
        "        return count\n",
        "obj = Solution()\n",
        "print(obj.subarraySum(nums = [1,2,3], k = 3))"
      ],
      "metadata": {
        "colab": {
          "base_uri": "https://localhost:8080/"
        },
        "id": "uCGVn7QF7GXx",
        "outputId": "e91f54d7-e8ec-4f5e-ff56-c7f8abbe8866"
      },
      "execution_count": null,
      "outputs": [
        {
          "output_type": "stream",
          "name": "stdout",
          "text": [
            "2\n"
          ]
        }
      ]
    },
    {
      "cell_type": "markdown",
      "source": [
        "## ***Feb 11:* 567. Permutation in String**"
      ],
      "metadata": {
        "id": "s_3UecpaI_bD"
      }
    },
    {
      "cell_type": "code",
      "source": [
        "import itertools\n",
        "s = 'ABC'\n",
        "nums = list(s)\n",
        "# nums = ['ABC']\n",
        "permutations = list(itertools.permutations(nums))\n",
        "lst = [''.join(permutation) for permutation in permutations]\n",
        "print(lst)"
      ],
      "metadata": {
        "colab": {
          "base_uri": "https://localhost:8080/"
        },
        "id": "ZoZuzYwBI-aM",
        "outputId": "0ac9fae8-5d22-444b-ed89-111d4c02a7ef"
      },
      "execution_count": null,
      "outputs": [
        {
          "output_type": "stream",
          "name": "stdout",
          "text": [
            "['ABC', 'ACB', 'BAC', 'BCA', 'CAB', 'CBA']\n"
          ]
        }
      ]
    },
    {
      "cell_type": "code",
      "source": [
        "from collections import Counter\n",
        "class Solution:\n",
        "    def checkInclusion(self, s1: str, s2: str) -> bool:\n",
        "        # Edge Condition\n",
        "        if len(s1) > len(s2):\n",
        "            return False\n",
        "        n1 = len(s1)\n",
        "        \n",
        "\t\t# Hashmap for s1\n",
        "        c1 = Counter(s1)\n",
        "\t\t\n",
        "        for i in range(len(s2)-n1+1):\n",
        "            if Counter(s2[i:i+n1]) == c1:\n",
        "                       return True\n",
        "        return False\n",
        "obj = Solution()\n",
        "print(obj.checkInclusion(s1 = \"ab\", s2 = \"eidbaooo\"))"
      ],
      "metadata": {
        "colab": {
          "base_uri": "https://localhost:8080/"
        },
        "id": "qRHDK5yYUj4G",
        "outputId": "6401439e-7ea9-4471-942b-e20574ff469c"
      },
      "execution_count": null,
      "outputs": [
        {
          "output_type": "stream",
          "name": "stdout",
          "text": [
            "True\n"
          ]
        }
      ]
    },
    {
      "cell_type": "markdown",
      "source": [
        "## ***Feb 12:* 127. Word Ladder**"
      ],
      "metadata": {
        "id": "6lcX1WMrbxEH"
      }
    },
    {
      "cell_type": "code",
      "source": [
        "from collections import *\n",
        "class Solution:\n",
        "    def ladderLength(self, beginWord: str, endWord: str, wordList) -> int:\n",
        "        if endWord not in wordList or not endWord or not beginWord or not wordList:\n",
        "            return 0\n",
        "        L = len(beginWord)\n",
        "        all_combo_dict = defaultdict(list)\n",
        "        for word in wordList:\n",
        "            for i in range(L):\n",
        "                all_combo_dict[word[:i] + \"*\" + word[i+1:]].append(word) \n",
        "        queue = deque([(beginWord, 1)])\n",
        "        visited = set()\n",
        "        visited.add(beginWord)\n",
        "        while queue:\n",
        "            current_word, level = queue.popleft()\n",
        "            for i in range(L):\n",
        "                intermediate_word = current_word[:i] + \"*\" + current_word[i+1:]\n",
        "                for word in all_combo_dict[intermediate_word]:\n",
        "                    if word == endWord:\n",
        "                        return level + 1\n",
        "                    if word not in visited:\n",
        "                        visited.add(word)\n",
        "                        queue.append((word, level + 1))\n",
        "        return 0\n",
        "obj = Solution()\n",
        "print(obj.ladderLength(beginWord = \"hit\", endWord = \"cog\", wordList = [\"hot\",\"dot\",\"dog\",\"lot\",\"log\",\"cog\"]))"
      ],
      "metadata": {
        "colab": {
          "base_uri": "https://localhost:8080/"
        },
        "id": "ldkyzNPPb8Lo",
        "outputId": "fb149efd-0afe-46d4-d401-b34242f5931a"
      },
      "execution_count": null,
      "outputs": [
        {
          "output_type": "stream",
          "name": "stdout",
          "text": [
            "5\n"
          ]
        }
      ]
    },
    {
      "cell_type": "markdown",
      "source": [
        "## ***Feb 13:* 78. Subsets**"
      ],
      "metadata": {
        "id": "q_FN-IP_JWk0"
      }
    },
    {
      "cell_type": "code",
      "source": [
        "class Solution:\n",
        "    def subsets(self, nums):\n",
        "        nums.sort()\n",
        "        lst = [[]]\n",
        "        for n in nums:\n",
        "            lst += [i + [n] for i in lst]\n",
        "        return lst\n",
        "obj = Solution()\n",
        "print(obj.subsets(nums = [1,2,3]))"
      ],
      "metadata": {
        "colab": {
          "base_uri": "https://localhost:8080/"
        },
        "id": "12_9XEspJexT",
        "outputId": "af243796-b1ba-4dcb-c31c-e989a5fb5291"
      },
      "execution_count": null,
      "outputs": [
        {
          "output_type": "stream",
          "name": "stdout",
          "text": [
            "[[], [1], [2], [1, 2], [3], [1, 3], [2, 3], [1, 2, 3]]\n"
          ]
        }
      ]
    },
    {
      "cell_type": "markdown",
      "source": [
        "## ***Feb 14:* 104. Maximum Depth of Binary Tree**"
      ],
      "metadata": {
        "id": "yFA9-6ZA5bMP"
      }
    },
    {
      "cell_type": "code",
      "source": [
        "# Definition for a binary tree node.\n",
        "class TreeNode:\n",
        "    def __init__(self, val=0, left=None, right=None):\n",
        "        self.val = val\n",
        "        self.left = left\n",
        "        self.right = right\n",
        "class Solution:\n",
        "    def maxDepth(self, root) -> int:\n",
        "        def dfs(root, depth):\n",
        "            if not root: return depth\n",
        "            return max(dfs(root.left, depth + 1), dfs(root.right, depth + 1))\n",
        "\n",
        "        return dfs(root, 0)\n",
        "obj = Solution()\n",
        "\n",
        "ob2 = TreeNode(9, None, None)\n",
        "ob4 = TreeNode(7, None, None)\n",
        "ob5 = TreeNode(15, None, None)\n",
        "ob3 = TreeNode(20, ob5, ob4)\n",
        "ob1 = TreeNode(3, ob2, ob3)\n",
        "\n",
        "print(obj.maxDepth(ob1))"
      ],
      "metadata": {
        "colab": {
          "base_uri": "https://localhost:8080/"
        },
        "id": "tOYXeUO05nN_",
        "outputId": "eec38b89-cd54-42c2-da75-86fc99dde546"
      },
      "execution_count": null,
      "outputs": [
        {
          "output_type": "stream",
          "name": "stdout",
          "text": [
            "3\n"
          ]
        }
      ]
    },
    {
      "cell_type": "markdown",
      "source": [
        "## ***Feb 15:*136. Single Number**"
      ],
      "metadata": {
        "id": "jIW8uC6yvqE0"
      }
    },
    {
      "cell_type": "code",
      "source": [
        "class Solution:\n",
        "    def singleNumber(self, nums) -> int:\n",
        "        return (2 * sum(set(nums))) - sum(nums)\n",
        "obj = Solution()\n",
        "print(obj.singleNumber(nums = [4,1,2,1,2]))"
      ],
      "metadata": {
        "colab": {
          "base_uri": "https://localhost:8080/"
        },
        "id": "N1HGMO6Qvx3J",
        "outputId": "8b9b667b-724f-4f86-a618-6f6469cdfb32"
      },
      "execution_count": null,
      "outputs": [
        {
          "output_type": "stream",
          "name": "stdout",
          "text": [
            "4\n"
          ]
        }
      ]
    },
    {
      "cell_type": "markdown",
      "source": [
        "## ***Feb 17:* 39. Combination Sum**"
      ],
      "metadata": {
        "id": "8V9DhyMjzfvT"
      }
    },
    {
      "cell_type": "code",
      "source": [
        "class Solution:\n",
        "    def combinationSum(self, candidates, target: int):\n",
        "        idx_d = {val: idx for idx, val in enumerate(candidates)} # create {num:idx}\n",
        "        n = len(candidates)\n",
        "        dp = [[] for _ in range(target+1)]\n",
        "        for i in range(1, target+1):                         # from 1 to target, O(M)\n",
        "            for j in range(i):                               # O(M): for all previous calculated numbers\n",
        "                for comb in dp[j]:                           # O(M) worst: check each of their combinations\n",
        "                    start_idx = idx_d[comb[-1]]              # use start_idx to avoid repeats\n",
        "                    for val in candidates[start_idx:]:       # O(N): try all candidates\n",
        "                        if val + j == i: dp[i].append(comb + [val]) \n",
        "            for candidate in candidates:                     # O(N): directly from candidates not from previous result \n",
        "                if candidate == i: dp[i].append([candidate])\n",
        "        return dp[-1]\n",
        "obj = Solution()\n",
        "print(obj.combinationSum(candidates = [2,3,6,7], target = 7))"
      ],
      "metadata": {
        "colab": {
          "base_uri": "https://localhost:8080/"
        },
        "id": "95tpLQTazrT9",
        "outputId": "768446e8-563f-4966-e34d-0de50a556a24"
      },
      "execution_count": null,
      "outputs": [
        {
          "output_type": "stream",
          "name": "stdout",
          "text": [
            "[[2, 2, 3], [7]]\n"
          ]
        }
      ]
    },
    {
      "cell_type": "markdown",
      "source": [
        "## ***Feb 18:* 402. Remove K Digits**"
      ],
      "metadata": {
        "id": "6394qdZbdV3A"
      }
    },
    {
      "cell_type": "code",
      "source": [
        "class Solution:\n",
        "    def removeKdigits(self, num: str, k: int) -> str:\n",
        "        stack = []\n",
        "\n",
        "        for n in num:\n",
        "            while stack and k > 0 and stack[-1] > n:\n",
        "                k -= 1\n",
        "                stack.pop()\n",
        "            stack.append(n)\n",
        "\n",
        "        while stack and k > 0:\n",
        "            stack.pop()\n",
        "            k -= 1\n",
        "\n",
        "        if not stack:\n",
        "            return \"0\"\n",
        "\n",
        "        return str(int(\"\".join(stack)))\n",
        "obj = Solution()\n",
        "print(obj.removeKdigits(num = \"1432219\", k = 3))"
      ],
      "metadata": {
        "colab": {
          "base_uri": "https://localhost:8080/"
        },
        "id": "8tsPPDnHddMD",
        "outputId": "9329c3a7-3237-4daf-fa6e-92a9a5147ea6"
      },
      "execution_count": null,
      "outputs": [
        {
          "output_type": "stream",
          "name": "stdout",
          "text": [
            "1219\n"
          ]
        }
      ]
    },
    {
      "cell_type": "markdown",
      "source": [
        "## ***Feb 19:* 1675. Minimize Deviation in Array**"
      ],
      "metadata": {
        "id": "AzwIzJZ7FHNN"
      }
    },
    {
      "cell_type": "code",
      "source": [
        "MAX = 10**20\n",
        "from heapq import *\n",
        "class Solution:\n",
        "    def minimumDeviation(self, nums) -> int:\n",
        "        heap = []\n",
        "        answer = MAX\n",
        "        array_length = len(nums)\n",
        "        \n",
        "        for num in nums:\n",
        "            if num % 2 == 0:\n",
        "                heappush(heap, -num)\n",
        "            else:\n",
        "                heappush(heap, -num*2)\n",
        "        \n",
        "        _min = -max(heap)\n",
        "\n",
        "        while True:\n",
        "            _max = -heappop(heap)\n",
        "            answer = min(answer, _max-_min)\n",
        "            \n",
        "            if _max % 2:\n",
        "                break\n",
        "\n",
        "            heappush(heap, -_max//2)\n",
        "            _min = min(_min, _max//2)\n",
        "\n",
        "        return answer\n",
        "obj = Solution()\n",
        "print(obj.minimumDeviation(nums = [1,2,3,4]))"
      ],
      "metadata": {
        "colab": {
          "base_uri": "https://localhost:8080/"
        },
        "id": "KTGq7Zz3FMVg",
        "outputId": "ebe169f5-57e3-42ec-dc24-b660d4426de5"
      },
      "execution_count": null,
      "outputs": [
        {
          "output_type": "stream",
          "name": "stdout",
          "text": [
            "1\n"
          ]
        }
      ]
    },
    {
      "cell_type": "markdown",
      "source": [
        "## ***Feb 20:* 1288. Remove Covered Intervals**"
      ],
      "metadata": {
        "id": "FPFdPApCrnQD"
      }
    },
    {
      "cell_type": "code",
      "source": [
        "class Solution:\n",
        "    def removeCoveredIntervals(self, intervals) -> int:\n",
        "        intervals = sorted(intervals, key = lambda x : (x[0], -x[1]))\n",
        "        count = len(intervals)\n",
        "        l = intervals[0][0]\n",
        "        h = intervals[0][1]\n",
        "        for i in range(1, len(intervals)):\n",
        "            if intervals[i][0] < l and intervals[i][1] > h:\n",
        "                l = intervals[i][0]\n",
        "                h = intervals[i][1]\n",
        "                count -= 1\n",
        "                print(intervals[i], end = ' ')\n",
        "            elif (intervals[i][0] and intervals[i][1]) in range(l, h+1):\n",
        "                count -= 1\n",
        "            elif intervals[i][1] > h:\n",
        "                h = intervals[i][1]\n",
        "            elif intervals[i][0] < l:\n",
        "                l = intervals[i][0]\n",
        "        return count\n",
        "                \n",
        "\n",
        "        \n",
        "obj = Solution()\n",
        "intervals = [[1,4],[3,6],[2,8]]\n",
        "intervals = [[1,4],[2,3]]\n",
        "intervals = [[34335,39239],[15875,91969],[29673,66453],[53548,69161],[40618,93111]]\n",
        "# intervals.sort(key=lambda x: [x[0], -x[1]])\n",
        "# print(intervals)\n",
        "print(obj.removeCoveredIntervals(intervals))"
      ],
      "metadata": {
        "colab": {
          "base_uri": "https://localhost:8080/"
        },
        "id": "5Ui324eb1kLJ",
        "outputId": "c5bac123-f17a-4e7b-dc8f-63df0b6e38f9"
      },
      "execution_count": null,
      "outputs": [
        {
          "output_type": "stream",
          "name": "stdout",
          "text": [
            "[40618, 93111]\n",
            "2\n"
          ]
        }
      ]
    },
    {
      "cell_type": "markdown",
      "source": [
        "## ***Feb 22:* 171. Excel Sheet Column Number**"
      ],
      "metadata": {
        "id": "M9CtCd9SzURM"
      }
    },
    {
      "cell_type": "code",
      "source": [
        ""
      ],
      "metadata": {
        "id": "h5ut-h24zlOl"
      },
      "execution_count": null,
      "outputs": []
    },
    {
      "cell_type": "markdown",
      "source": [
        "## ***Feb 23:* 133. Clone Graph**"
      ],
      "metadata": {
        "id": "pTUN8zEkzO9M"
      }
    },
    {
      "cell_type": "code",
      "source": [
        ""
      ],
      "metadata": {
        "id": "emNO0InDzTB5"
      },
      "execution_count": null,
      "outputs": []
    },
    {
      "cell_type": "markdown",
      "source": [
        "## ***Feb 24:* Sort List**"
      ],
      "metadata": {
        "id": "x0Ug5-bF9mD4"
      }
    },
    {
      "cell_type": "code",
      "source": [
        ""
      ],
      "metadata": {
        "id": "SkWfPvfT9szU"
      },
      "execution_count": null,
      "outputs": []
    },
    {
      "cell_type": "markdown",
      "source": [
        "# ***Feb 25:* 165. Compare Version Numbers**"
      ],
      "metadata": {
        "id": "F6NQVT5rej_d"
      }
    },
    {
      "cell_type": "code",
      "source": [
        ""
      ],
      "metadata": {
        "id": "OACWzeU9evW_"
      },
      "execution_count": null,
      "outputs": []
    },
    {
      "cell_type": "markdown",
      "source": [
        "## ***Feb 26:* 847. Shortest Path Visiting All Nodes**"
      ],
      "metadata": {
        "id": "m58c7-7LecBF"
      }
    },
    {
      "cell_type": "code",
      "source": [
        "class Solution:\n",
        "    def shortestPathLength(self, graph) -> int:\n",
        "        length = len(graph)\n",
        "\n",
        "        result = 0\n",
        "\n",
        "        visited_node = []\n",
        "\n",
        "        queue = []  \n",
        "\n",
        "        for i in range(length):\n",
        "          visited_node.append(set([1<<i]))\n",
        "          queue.append([i,1<<i])\n",
        "\n",
        "        while queue:\n",
        "\n",
        "          result = result + 1\n",
        "\n",
        "          new_queue = []\n",
        "\n",
        "          for node, value in queue:\n",
        "\n",
        "            for neigbour_node in graph[node]:\n",
        "\n",
        "              mid_node = (1<<neigbour_node)|value\n",
        "\n",
        "              if mid_node not in visited_node[neigbour_node]:\n",
        "\n",
        "                if mid_node+1 == 1<<length:\n",
        "\n",
        "                  return result\n",
        "\n",
        "                visited_node[neigbour_node].add(mid_node)\n",
        "\n",
        "                new_queue.append([neigbour_node, mid_node])\n",
        "\n",
        "          queue = new_queue\n",
        "\n",
        "        return 0\n",
        "obj = Solution()\n",
        "print(obj.shortestPathLength(graph = [[1],[0,2,4],[1,3,4],[2],[1,2]]))"
      ],
      "metadata": {
        "colab": {
          "base_uri": "https://localhost:8080/"
        },
        "id": "12O16vKbejM-",
        "outputId": "b60e3602-615b-4715-89d3-dd3222b3e3c2"
      },
      "execution_count": 9,
      "outputs": [
        {
          "output_type": "stream",
          "name": "stdout",
          "text": [
            "4\n"
          ]
        }
      ]
    },
    {
      "cell_type": "markdown",
      "source": [
        "# **Biweekly Contest 72**"
      ],
      "metadata": {
        "id": "6rRUS1LAZ1KR"
      }
    },
    {
      "cell_type": "markdown",
      "source": [
        "## **2176. Count Equal and Divisible Pairs in an Array**"
      ],
      "metadata": {
        "id": "dk_iQP-0IqJR"
      }
    },
    {
      "cell_type": "code",
      "source": [
        "class Solution:\n",
        "    def countPairs(self, nums, k: int) -> int:\n",
        "        if list(set(nums)) == nums:\n",
        "            return 0\n",
        "        l = len(nums)\n",
        "        count = 0\n",
        "        for i in range(l):\n",
        "            for j in range(i+1 ,l):\n",
        "                if nums[i] == nums[j]:\n",
        "                    if (i * j) % k == 0:\n",
        "                        count += 1\n",
        "                        print(i,j)\n",
        "        return count\n",
        "\n",
        "obj = Solution()\n",
        "print(obj.countPairs(nums = [3,1,2,2,2,1,3], k = 2))"
      ],
      "metadata": {
        "colab": {
          "base_uri": "https://localhost:8080/"
        },
        "id": "Js2-VB-BZ4HP",
        "outputId": "b4b85459-507a-449c-e14a-66add37969ca"
      },
      "execution_count": null,
      "outputs": [
        {
          "output_type": "stream",
          "name": "stdout",
          "text": [
            "0 6\n",
            "2 3\n",
            "2 4\n",
            "3 4\n",
            "4\n"
          ]
        }
      ]
    },
    {
      "cell_type": "markdown",
      "source": [
        "## **2177. Find Three Consecutive Integers That Sum to a Given Number**"
      ],
      "metadata": {
        "id": "8Qv59oVyeSBQ"
      }
    },
    {
      "cell_type": "code",
      "source": [
        "n = 100\n",
        "val = n // 3\n",
        "print([val-1 ,val , val+1], sum([val-1 ,val , val+1]))"
      ],
      "metadata": {
        "colab": {
          "base_uri": "https://localhost:8080/"
        },
        "id": "ljWxqTdgeUHz",
        "outputId": "20370548-4303-4d98-eca3-13e1bd290719"
      },
      "execution_count": null,
      "outputs": [
        {
          "output_type": "stream",
          "name": "stdout",
          "text": [
            "[32, 33, 34] 99\n"
          ]
        }
      ]
    },
    {
      "cell_type": "markdown",
      "source": [
        "## **2178. Maximum Split of Positive Even Integers**"
      ],
      "metadata": {
        "id": "7RuW6YtWi7Dy"
      }
    },
    {
      "cell_type": "code",
      "source": [
        "class Solution:\n",
        "    def maximumEvenSplit(self, finalSum: int):\n",
        "        if finalSum % 2 != 0:\n",
        "            return []\n",
        "        x = 2\n",
        "        ret = []\n",
        "        while finalSum >= x * 2 + 2:\n",
        "            ret.append(x)\n",
        "            finalSum -= x\n",
        "            x += 2\n",
        "            print(x, finalSum, x * 2 + 2)\n",
        "            ret.append(finalSum)\n",
        "        return ret\n",
        "obj = Solution()\n",
        "print(obj.maximumEvenSplit(finalSum = 28))"
      ],
      "metadata": {
        "colab": {
          "base_uri": "https://localhost:8080/"
        },
        "id": "UjIEQCf9i-Yi",
        "outputId": "1f5b3f24-c58d-48d4-a599-619059b2a70a"
      },
      "execution_count": null,
      "outputs": [
        {
          "output_type": "stream",
          "name": "stdout",
          "text": [
            "4 26 10\n",
            "6 22 14\n",
            "8 16 18\n",
            "[2, 26, 4, 22, 6, 16]\n"
          ]
        }
      ]
    },
    {
      "cell_type": "markdown",
      "source": [
        "# **Weekly Contest 281**"
      ],
      "metadata": {
        "id": "H-ytByKQ_h8G"
      }
    },
    {
      "cell_type": "markdown",
      "source": [
        "## **6012. Count Integers With Even Digit Sum**"
      ],
      "metadata": {
        "id": "OwDmRjJW_p6x"
      }
    },
    {
      "cell_type": "code",
      "source": [
        "class Solution:\n",
        "    def countEven(self, num: int) -> int:\n",
        "        def is_even(n):\n",
        "            val = str(n)\n",
        "            ret = 0\n",
        "            for i in val:\n",
        "                ret += int(i)\n",
        "            #     print(i, end = ' ')\n",
        "            # print(ret, end = ' ')\n",
        "            if ret % 2 == 0:\n",
        "                return True\n",
        "            else:\n",
        "                return False\n",
        "        \n",
        "        count = 0\n",
        "        for i in range(1, num+1):\n",
        "            if is_even(i):\n",
        "                print(i)\n",
        "                count += 1\n",
        "        return count\n",
        "obj = Solution()\n",
        "print(obj.countEven(30))"
      ],
      "metadata": {
        "colab": {
          "base_uri": "https://localhost:8080/"
        },
        "id": "g4-HERLk_nhW",
        "outputId": "dcb252f0-2e4f-4814-b8a7-d453e2624f91"
      },
      "execution_count": null,
      "outputs": [
        {
          "output_type": "stream",
          "name": "stdout",
          "text": [
            "2\n",
            "4\n",
            "6\n",
            "8\n",
            "11\n",
            "13\n",
            "15\n",
            "17\n",
            "19\n",
            "20\n",
            "22\n",
            "24\n",
            "26\n",
            "28\n",
            "14\n"
          ]
        }
      ]
    },
    {
      "cell_type": "markdown",
      "source": [
        "## **6013. Merge Nodes in Between Zeros**"
      ],
      "metadata": {
        "id": "N1rWf_g5EXQq"
      }
    },
    {
      "cell_type": "code",
      "source": [
        "# Definition for singly-linked list.\n",
        "class ListNode:\n",
        "    def __init__(self, val=0, next=None):\n",
        "        self.val = val\n",
        "        self.next = next\n",
        "    def print_Node(self):\n",
        "        lst = []\n",
        "        while self:\n",
        "          lst.append(self.val)\n",
        "          self = self.next\n",
        "        return lst\n",
        "class Solution:\n",
        "    def mergeNodes(self, head):\n",
        "        curr = head\n",
        "        ret = ListNode(0)\n",
        "        ret1 = ret\n",
        "        array = []\n",
        "        curr = curr.next\n",
        "        while curr:\n",
        "            if curr.val != 0:\n",
        "                array.append(curr.val)\n",
        "                curr = curr.next\n",
        "            elif curr.val == 0:\n",
        "                cur = ListNode(sum(array))\n",
        "                ret.next = cur\n",
        "                ret = ret.next\n",
        "                curr = curr.next\n",
        "                array = []\n",
        "        return ret1.next\n",
        "o1 = ListNode()\n",
        "o2 = ListNode()\n",
        "o3 = ListNode()\n",
        "o4 = ListNode()\n",
        "o5 = ListNode()\n",
        "o6 = ListNode()\n",
        "o7 = ListNode()\n",
        "o8 = ListNode()\n",
        "o1.val = 0\n",
        "o2.val = 1\n",
        "o3.val = 0\n",
        "o4.val = 3\n",
        "o5.val = 0\n",
        "o6.val = 2\n",
        "o7.val = 2\n",
        "o8.val = 0\n",
        "head = o1\n",
        "o1.next = o2\n",
        "o2.next = o3\n",
        "o3.next = o4\n",
        "o4.next = o5\n",
        "o5.next = o6\n",
        "o6.next = o7\n",
        "o7.next = o8\n",
        "o8.next = None\n",
        "\n",
        "obj = Solution()\n",
        "head1 = obj.mergeNodes(head)\n",
        "head1.print_Node()\n",
        "# print(obj.mergeNodes(head1))\n"
      ],
      "metadata": {
        "colab": {
          "base_uri": "https://localhost:8080/"
        },
        "id": "LkQH5CdARlYv",
        "outputId": "26a61d15-6df6-4da2-a239-4d6e4d563e26"
      },
      "execution_count": null,
      "outputs": [
        {
          "output_type": "execute_result",
          "data": {
            "text/plain": [
              "[1, 3, 4]"
            ]
          },
          "metadata": {},
          "execution_count": 47
        }
      ]
    }
  ]
}