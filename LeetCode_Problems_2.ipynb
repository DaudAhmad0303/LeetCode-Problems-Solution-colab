{
  "nbformat": 4,
  "nbformat_minor": 0,
  "metadata": {
    "colab": {
      "name": "LeetCode Problems-2.ipynb",
      "provenance": [],
      "collapsed_sections": [],
      "authorship_tag": "ABX9TyOBInDtjU5kpVMwiWfoC6Ud",
      "include_colab_link": true
    },
    "kernelspec": {
      "name": "python3",
      "display_name": "Python 3"
    },
    "language_info": {
      "name": "python"
    }
  },
  "cells": [
    {
      "cell_type": "markdown",
      "metadata": {
        "id": "view-in-github",
        "colab_type": "text"
      },
      "source": [
        "<a href=\"https://colab.research.google.com/github/DaudAhmad0303/LeetCode-Problems-Solution-colab/blob/master/LeetCode_Problems_2.ipynb\" target=\"_parent\"><img src=\"https://colab.research.google.com/assets/colab-badge.svg\" alt=\"Open In Colab\"/></a>"
      ]
    },
    {
      "cell_type": "markdown",
      "source": [
        "# **Random Practise Codes**"
      ],
      "metadata": {
        "id": "3u5k34sSz1ze"
      }
    },
    {
      "cell_type": "code",
      "execution_count": null,
      "metadata": {
        "id": "E5b5KU7czw0T",
        "colab": {
          "base_uri": "https://localhost:8080/"
        },
        "outputId": "de906202-cab9-41ce-ba4d-e2d2b70b80fc"
      },
      "outputs": [
        {
          "output_type": "stream",
          "name": "stdout",
          "text": [
            "[4, 2, 8]\n",
            "[1]\n"
          ]
        }
      ],
      "source": [
        "nums = [4,1,2,3,8]\n",
        "print(nums[::2])\n",
        "print(nums[1::-2])"
      ]
    },
    {
      "cell_type": "markdown",
      "source": [
        "# **Random Questions Solved**"
      ],
      "metadata": {
        "id": "w9dVcYqcz8CN"
      }
    },
    {
      "cell_type": "markdown",
      "source": [
        "## **2164. Sort Even and Odd Indices Independently**"
      ],
      "metadata": {
        "id": "1bbZeHbLRxAs"
      }
    },
    {
      "cell_type": "code",
      "source": [
        "class Solution:\n",
        "    def sortEvenOdd(self, nums):\n",
        "        if len(nums) <= 2:\n",
        "            return nums\n",
        "        odd = []\n",
        "        even = []\n",
        "        l = len(nums)\n",
        "        for i in range(len(nums)):\n",
        "            if i % 2 == 0:\n",
        "                even.append(nums[i])\n",
        "            else:\n",
        "                odd.append(nums[i])\n",
        "        odd.sort(reverse = True)        \n",
        "        even.sort()\n",
        "        nums = []\n",
        "        for i in range(len(odd)):\n",
        "            nums.append(even[i])\n",
        "            nums.append(odd[i])\n",
        "        if l % 2 != 0:\n",
        "            nums.append(even[-1])\n",
        "        return nums\n",
        "obj = Solution()\n",
        "print(obj.sortEvenOdd(nums = [4,1,2,3]))"
      ],
      "metadata": {
        "colab": {
          "base_uri": "https://localhost:8080/"
        },
        "id": "aMdk5ImtRxll",
        "outputId": "77574cd2-50e4-4a35-d2b1-cadcc7729f61"
      },
      "execution_count": null,
      "outputs": [
        {
          "output_type": "stream",
          "name": "stdout",
          "text": [
            "[2, 3, 4, 1]\n"
          ]
        }
      ]
    },
    {
      "cell_type": "code",
      "source": [
        "class Solution:\n",
        "    def sortEvenOdd(self, nums):\n",
        "        odds = nums[::2]\n",
        "        evens = nums[1::2]\n",
        "        odds.sort()\n",
        "        evens.sort()\n",
        "        evens.reverse()\n",
        "        odds.append(-1)\n",
        "        evens.append(-1)\n",
        "        \n",
        "        res = []\n",
        "        for a,b in zip(odds, evens):\n",
        "            if a >= 0:\n",
        "                res.append(a)\n",
        "            if b >= 0:\n",
        "                res.append(b)\n",
        "        \n",
        "        return res\n",
        "obj = Solution()\n",
        "print(obj.sortEvenOdd(nums = [4,1,2,3]))"
      ],
      "metadata": {
        "colab": {
          "base_uri": "https://localhost:8080/"
        },
        "id": "DYgEtvfXU49r",
        "outputId": "a294aab3-835d-4081-9580-8f9716a45a86"
      },
      "execution_count": null,
      "outputs": [
        {
          "output_type": "stream",
          "name": "stdout",
          "text": [
            "[2, 3, 4, 1]\n"
          ]
        }
      ]
    },
    {
      "cell_type": "markdown",
      "source": [
        "## **125. Valid Palindrome**"
      ],
      "metadata": {
        "id": "9Sf7sjg-5n-0"
      }
    },
    {
      "cell_type": "code",
      "source": [
        "class Solution:\n",
        "    def isPalindrome(self, s: str) -> bool:\n",
        "        st = \"\"\n",
        "        for i in range(len(s)):\n",
        "            if s[i].isalpha() or s[i].isdigit():\n",
        "                st += s[i].lower()\n",
        "        print(st)\n",
        "        return st == st[::-1]\n",
        "obj = Solution()\n",
        "print(obj.isPalindrome(s = \"A man, a plan, a canal: Panama\"))"
      ],
      "metadata": {
        "colab": {
          "base_uri": "https://localhost:8080/"
        },
        "id": "SGww_vNNz9VF",
        "outputId": "c5ce1f4d-c93b-4142-bc86-df041002c522"
      },
      "execution_count": null,
      "outputs": [
        {
          "output_type": "stream",
          "name": "stdout",
          "text": [
            "amanaplanacanalpanama\n",
            "True\n"
          ]
        }
      ]
    },
    {
      "cell_type": "markdown",
      "source": [
        "## **Count Operations to Obtain Zero**"
      ],
      "metadata": {
        "id": "xWGr5q1EKf_s"
      }
    },
    {
      "cell_type": "code",
      "source": [
        "class Solution:\n",
        "    def countOperations(self, num1: int, num2: int) -> int:\n",
        "        if num1 != num2:\n",
        "            return min(num1, num2) + abs(num1-num2)\n",
        "        elif num1 == 0 or num2 == 0:\n",
        "            return 0\n",
        "        else:\n",
        "            return 1\n",
        "obj = Solution()\n",
        "print(obj.countOperations(num1 = 2, num2 = 3))"
      ],
      "metadata": {
        "colab": {
          "base_uri": "https://localhost:8080/"
        },
        "id": "wndXGqtLMlP_",
        "outputId": "e5239de0-f96a-4cee-9faf-36805eadef90"
      },
      "execution_count": null,
      "outputs": [
        {
          "output_type": "stream",
          "name": "stdout",
          "text": [
            "3\n"
          ]
        }
      ]
    },
    {
      "cell_type": "code",
      "source": [
        "class Solution:\n",
        "    def countOperations(self, num1: int, num2: int) -> int:\n",
        "        op = 0\n",
        "        while True:\n",
        "            if num1 > num2:\n",
        "                num1 -= num2\n",
        "                op += 1\n",
        "            elif num2 > num1:\n",
        "                num2 -= num1\n",
        "                op += 1\n",
        "            else:\n",
        "                num1 = 0\n",
        "                op += 1\n",
        "            if num1 == 0 or num2 == 0:\n",
        "                break\n",
        "        return op\n",
        "            \n",
        "\n",
        "\n",
        "obj = Solution()\n",
        "print(obj.countOperations(num1 = 79, num2 = 68))"
      ],
      "metadata": {
        "colab": {
          "base_uri": "https://localhost:8080/"
        },
        "id": "dZjh-_vkMvrk",
        "outputId": "46c1a081-8662-4342-f313-1517335a66f2"
      },
      "execution_count": null,
      "outputs": [
        {
          "output_type": "stream",
          "name": "stdout",
          "text": [
            "14\n"
          ]
        }
      ]
    },
    {
      "cell_type": "markdown",
      "source": [
        "# **Daily Coding Challenge**"
      ],
      "metadata": {
        "id": "JjbFKdK_0CL1"
      }
    },
    {
      "cell_type": "markdown",
      "source": [
        "## ***Feb 6:* 80. Remove Duplicates from Sorted Array II**"
      ],
      "metadata": {
        "id": "oSWUqCbYFrdK"
      }
    },
    {
      "cell_type": "code",
      "source": [
        "class Solution:\n",
        "    def removeDuplicates(self, nums) -> int:\n",
        "        l = len(nums)\n",
        "        prev = nums[0]\n",
        "        count = 0\n",
        "        d_count = 0\n",
        "        for i in range(l-1):\n",
        "            if d_count >= 2:\n",
        "                nums.remove(nums[i])\n",
        "                nums.append(0)\n",
        "            else:\n",
        "                count += 1\n",
        "            if nums[i+1] != nums[i]:\n",
        "                d_count = 0\n",
        "            else:\n",
        "                d_count +=1\n",
        "        print(nums)\n",
        "        return 5"
      ],
      "metadata": {
        "id": "-6QDoO3h0GXF"
      },
      "execution_count": null,
      "outputs": []
    },
    {
      "cell_type": "code",
      "source": [
        "class Solution:\n",
        "    def removeDuplicates(self, nums) -> int:\n",
        "        if len(nums) < 3: \n",
        "            return len(nums)\n",
        "        pos = 1\n",
        "        for i in range(1, len(nums)-1):\n",
        "            if nums[i-1] != nums[i+1]:\n",
        "                nums[pos] = nums[i]\n",
        "                pos += 1\n",
        "        nums[pos] = nums[-1]\n",
        "        print(nums)\n",
        "        return pos + 1\n",
        "\n",
        "obj = Solution()\n",
        "print(obj.removeDuplicates(nums = [0,0,1,1,1,1,2,3,3]))"
      ],
      "metadata": {
        "colab": {
          "base_uri": "https://localhost:8080/"
        },
        "id": "uua3fXo2Fx7y",
        "outputId": "43b4d6cd-ecd3-494b-a363-76fdcf6af890"
      },
      "execution_count": null,
      "outputs": [
        {
          "output_type": "stream",
          "name": "stdout",
          "text": [
            "[0, 0, 1, 1, 2, 3, 3, 3, 3]\n",
            "7\n"
          ]
        }
      ]
    },
    {
      "cell_type": "markdown",
      "source": [
        "## ***Feb 7:* 389. Find the Difference**"
      ],
      "metadata": {
        "id": "tnFlnR2eXfKa"
      }
    },
    {
      "cell_type": "code",
      "source": [
        "class Solution:\n",
        "\n",
        "    def findTheDifference(self, s: str, t: str) -> str:\n",
        "\n",
        "        sum1 = 0\n",
        "\n",
        "        sum2 = 0\n",
        "\n",
        "        for i in s:\n",
        "\n",
        "            sum1 += ord(i)\n",
        "\n",
        "        for i in t:\n",
        "\n",
        "            sum2 += ord(i)\n",
        "\n",
        "        return chr(sum2 - sum1)\n",
        "\n",
        "obj = Solution()\n",
        "print(obj.findTheDifference(s = \"abcd\", t = \"abcde\"))"
      ],
      "metadata": {
        "colab": {
          "base_uri": "https://localhost:8080/"
        },
        "id": "7TSaIEAdXcO3",
        "outputId": "70c1e887-7361-4b2c-f222-2d81b5f82c71"
      },
      "execution_count": null,
      "outputs": [
        {
          "output_type": "stream",
          "name": "stdout",
          "text": [
            "e\n"
          ]
        }
      ]
    },
    {
      "cell_type": "markdown",
      "source": [
        "## ***Feb 9:* 258. Add Digits**"
      ],
      "metadata": {
        "id": "5-2jhZ68Mhqh"
      }
    },
    {
      "cell_type": "code",
      "source": [
        "def make_list(n):\n",
        "    lst = list(str(n))\n",
        "    lst = list(map(int, lst))\n",
        "    return \n",
        "make_list(399)"
      ],
      "metadata": {
        "colab": {
          "base_uri": "https://localhost:8080/"
        },
        "id": "MHPZqD8RMpl5",
        "outputId": "42bf8919-f767-4f37-b838-2fc7278e7f3e"
      },
      "execution_count": null,
      "outputs": [
        {
          "output_type": "stream",
          "name": "stdout",
          "text": [
            "<class 'int'>\n"
          ]
        }
      ]
    },
    {
      "cell_type": "code",
      "source": [
        "class Solution:\n",
        "    def addDigits(self, num: int) -> int:\n",
        "        def make_list(n):\n",
        "            lst = list(str(n))\n",
        "            lst = list(map(int, lst))\n",
        "            return lst\n",
        "        while num>9:\n",
        "            lst = make_list(num)\n",
        "            val = 0\n",
        "            for i in lst:\n",
        "                val += i\n",
        "            num = val\n",
        "        return num\n",
        "obj = Solution()\n",
        "print(obj.addDigits(398))"
      ],
      "metadata": {
        "colab": {
          "base_uri": "https://localhost:8080/"
        },
        "id": "Q-QXY-lkOzox",
        "outputId": "14d49379-94ec-41c1-848c-ed39d7b0d026"
      },
      "execution_count": null,
      "outputs": [
        {
          "output_type": "stream",
          "name": "stdout",
          "text": [
            "2\n"
          ]
        }
      ]
    },
    {
      "cell_type": "markdown",
      "source": [
        "## ***Feb 9:* 532. K-diff Pairs in an Array**"
      ],
      "metadata": {
        "id": "CwmL8USkLFcJ"
      }
    },
    {
      "cell_type": "code",
      "source": [
        "class Solution:\n",
        "    def findPairs(self, nums, k: int) -> int:\n",
        "        # return the number of unique pairs\n",
        "        answ=0\n",
        "        # create a dictionary: d[x]==nums.count(x)\n",
        "        d={}\n",
        "        for x in nums:\n",
        "            if x in d: d[x]+=1\n",
        "            else:      d[x]=1\n",
        "        \n",
        "        if k: # k>0\n",
        "            answ=sum(x+k in d for x in d.keys())\n",
        "        else: # k==0\n",
        "            answ=sum(k>1 for k in d.values())\n",
        "                \n",
        "        return answ\n",
        "obj = Solution()\n",
        "print(obj.findPairs(nums = [3,1,4,1,5], k = 2))"
      ],
      "metadata": {
        "colab": {
          "base_uri": "https://localhost:8080/"
        },
        "id": "iUgZ4s1YLNWx",
        "outputId": "f9ba9a3b-6572-441d-f2cc-e48c96af1908"
      },
      "execution_count": null,
      "outputs": [
        {
          "output_type": "stream",
          "name": "stdout",
          "text": [
            "2\n"
          ]
        }
      ]
    },
    {
      "cell_type": "markdown",
      "source": [
        "## ***Feb 10:* 560. Subarray Sum Equals K**"
      ],
      "metadata": {
        "id": "zwSBB6e17B-o"
      }
    },
    {
      "cell_type": "code",
      "source": [
        "class Solution:\n",
        "    def subarraySum(self, nums, k: int) -> int:\n",
        "        d ={0:1}\n",
        "    \n",
        "        sums = 0\n",
        "\n",
        "        count= 0\n",
        "\n",
        "        for i in range(len(nums)):\n",
        "            sums+= nums[i]\n",
        "\n",
        "            if sums-k in d:\n",
        "                count+= d[sums-k]\n",
        "\n",
        "            if sums in d:\n",
        "                d[sums]+=1\n",
        "\n",
        "            else:\n",
        "                d[sums] = 1\n",
        "\n",
        "        return count\n",
        "obj = Solution()\n",
        "print(obj.subarraySum(nums = [1,2,3], k = 3))"
      ],
      "metadata": {
        "colab": {
          "base_uri": "https://localhost:8080/"
        },
        "id": "uCGVn7QF7GXx",
        "outputId": "e91f54d7-e8ec-4f5e-ff56-c7f8abbe8866"
      },
      "execution_count": null,
      "outputs": [
        {
          "output_type": "stream",
          "name": "stdout",
          "text": [
            "2\n"
          ]
        }
      ]
    },
    {
      "cell_type": "markdown",
      "source": [
        "## ***Feb 11:* 567. Permutation in String**"
      ],
      "metadata": {
        "id": "s_3UecpaI_bD"
      }
    },
    {
      "cell_type": "code",
      "source": [
        "import itertools\n",
        "s = 'ABC'\n",
        "nums = list(s)\n",
        "# nums = ['ABC']\n",
        "permutations = list(itertools.permutations(nums))\n",
        "lst = [''.join(permutation) for permutation in permutations]\n",
        "print(lst)"
      ],
      "metadata": {
        "colab": {
          "base_uri": "https://localhost:8080/"
        },
        "id": "ZoZuzYwBI-aM",
        "outputId": "0ac9fae8-5d22-444b-ed89-111d4c02a7ef"
      },
      "execution_count": null,
      "outputs": [
        {
          "output_type": "stream",
          "name": "stdout",
          "text": [
            "['ABC', 'ACB', 'BAC', 'BCA', 'CAB', 'CBA']\n"
          ]
        }
      ]
    },
    {
      "cell_type": "code",
      "source": [
        "from collections import Counter\n",
        "class Solution:\n",
        "    def checkInclusion(self, s1: str, s2: str) -> bool:\n",
        "        # Edge Condition\n",
        "        if len(s1) > len(s2):\n",
        "            return False\n",
        "        n1 = len(s1)\n",
        "        \n",
        "\t\t# Hashmap for s1\n",
        "        c1 = Counter(s1)\n",
        "\t\t\n",
        "        for i in range(len(s2)-n1+1):\n",
        "            if Counter(s2[i:i+n1]) == c1:\n",
        "                       return True\n",
        "        return False\n",
        "obj = Solution()\n",
        "print(obj.checkInclusion(s1 = \"ab\", s2 = \"eidbaooo\"))"
      ],
      "metadata": {
        "colab": {
          "base_uri": "https://localhost:8080/"
        },
        "id": "qRHDK5yYUj4G",
        "outputId": "6401439e-7ea9-4471-942b-e20574ff469c"
      },
      "execution_count": null,
      "outputs": [
        {
          "output_type": "stream",
          "name": "stdout",
          "text": [
            "True\n"
          ]
        }
      ]
    },
    {
      "cell_type": "markdown",
      "source": [
        "## ***Feb 12:* 127. Word Ladder**"
      ],
      "metadata": {
        "id": "6lcX1WMrbxEH"
      }
    },
    {
      "cell_type": "code",
      "source": [
        "from collections import *\n",
        "class Solution:\n",
        "    def ladderLength(self, beginWord: str, endWord: str, wordList) -> int:\n",
        "        if endWord not in wordList or not endWord or not beginWord or not wordList:\n",
        "            return 0\n",
        "        L = len(beginWord)\n",
        "        all_combo_dict = defaultdict(list)\n",
        "        for word in wordList:\n",
        "            for i in range(L):\n",
        "                all_combo_dict[word[:i] + \"*\" + word[i+1:]].append(word) \n",
        "        queue = deque([(beginWord, 1)])\n",
        "        visited = set()\n",
        "        visited.add(beginWord)\n",
        "        while queue:\n",
        "            current_word, level = queue.popleft()\n",
        "            for i in range(L):\n",
        "                intermediate_word = current_word[:i] + \"*\" + current_word[i+1:]\n",
        "                for word in all_combo_dict[intermediate_word]:\n",
        "                    if word == endWord:\n",
        "                        return level + 1\n",
        "                    if word not in visited:\n",
        "                        visited.add(word)\n",
        "                        queue.append((word, level + 1))\n",
        "        return 0\n",
        "obj = Solution()\n",
        "print(obj.ladderLength(beginWord = \"hit\", endWord = \"cog\", wordList = [\"hot\",\"dot\",\"dog\",\"lot\",\"log\",\"cog\"]))"
      ],
      "metadata": {
        "colab": {
          "base_uri": "https://localhost:8080/"
        },
        "id": "ldkyzNPPb8Lo",
        "outputId": "fb149efd-0afe-46d4-d401-b34242f5931a"
      },
      "execution_count": null,
      "outputs": [
        {
          "output_type": "stream",
          "name": "stdout",
          "text": [
            "5\n"
          ]
        }
      ]
    },
    {
      "cell_type": "markdown",
      "source": [
        "## ***Feb 13:* 78. Subsets**"
      ],
      "metadata": {
        "id": "q_FN-IP_JWk0"
      }
    },
    {
      "cell_type": "code",
      "source": [
        "class Solution:\n",
        "    def subsets(self, nums):\n",
        "        nums.sort()\n",
        "        lst = [[]]\n",
        "        for n in nums:\n",
        "            lst += [i + [n] for i in lst]\n",
        "        return lst\n",
        "obj = Solution()\n",
        "print(obj.subsets(nums = [1,2,3]))"
      ],
      "metadata": {
        "colab": {
          "base_uri": "https://localhost:8080/"
        },
        "id": "12_9XEspJexT",
        "outputId": "af243796-b1ba-4dcb-c31c-e989a5fb5291"
      },
      "execution_count": null,
      "outputs": [
        {
          "output_type": "stream",
          "name": "stdout",
          "text": [
            "[[], [1], [2], [1, 2], [3], [1, 3], [2, 3], [1, 2, 3]]\n"
          ]
        }
      ]
    },
    {
      "cell_type": "markdown",
      "source": [
        "## ***Feb 14:* 104. Maximum Depth of Binary Tree**"
      ],
      "metadata": {
        "id": "yFA9-6ZA5bMP"
      }
    },
    {
      "cell_type": "code",
      "source": [
        "# Definition for a binary tree node.\n",
        "class TreeNode:\n",
        "    def __init__(self, val=0, left=None, right=None):\n",
        "        self.val = val\n",
        "        self.left = left\n",
        "        self.right = right\n",
        "class Solution:\n",
        "    def maxDepth(self, root) -> int:\n",
        "        def dfs(root, depth):\n",
        "            if not root: return depth\n",
        "            return max(dfs(root.left, depth + 1), dfs(root.right, depth + 1))\n",
        "\n",
        "        return dfs(root, 0)\n",
        "obj = Solution()\n",
        "\n",
        "ob2 = TreeNode(9, None, None)\n",
        "ob4 = TreeNode(7, None, None)\n",
        "ob5 = TreeNode(15, None, None)\n",
        "ob3 = TreeNode(20, ob5, ob4)\n",
        "ob1 = TreeNode(3, ob2, ob3)\n",
        "\n",
        "print(obj.maxDepth(ob1))"
      ],
      "metadata": {
        "colab": {
          "base_uri": "https://localhost:8080/"
        },
        "id": "tOYXeUO05nN_",
        "outputId": "eec38b89-cd54-42c2-da75-86fc99dde546"
      },
      "execution_count": null,
      "outputs": [
        {
          "output_type": "stream",
          "name": "stdout",
          "text": [
            "3\n"
          ]
        }
      ]
    },
    {
      "cell_type": "markdown",
      "source": [
        "## ***Feb 15:*136. Single Number**"
      ],
      "metadata": {
        "id": "jIW8uC6yvqE0"
      }
    },
    {
      "cell_type": "code",
      "source": [
        "class Solution:\n",
        "    def singleNumber(self, nums) -> int:\n",
        "        return (2 * sum(set(nums))) - sum(nums)\n",
        "obj = Solution()\n",
        "print(obj.singleNumber(nums = [4,1,2,1,2]))"
      ],
      "metadata": {
        "colab": {
          "base_uri": "https://localhost:8080/"
        },
        "id": "N1HGMO6Qvx3J",
        "outputId": "8b9b667b-724f-4f86-a618-6f6469cdfb32"
      },
      "execution_count": null,
      "outputs": [
        {
          "output_type": "stream",
          "name": "stdout",
          "text": [
            "4\n"
          ]
        }
      ]
    },
    {
      "cell_type": "markdown",
      "source": [
        "## ***Feb 17:* *"
      ],
      "metadata": {
        "id": "8V9DhyMjzfvT"
      }
    },
    {
      "cell_type": "code",
      "source": [
        "class Solution:\n",
        "    def combinationSum(self, candidates, target: int):\n",
        "        idx_d = {val: idx for idx, val in enumerate(candidates)} # create {num:idx}\n",
        "        n = len(candidates)\n",
        "        dp = [[] for _ in range(target+1)]\n",
        "        for i in range(1, target+1):                         # from 1 to target, O(M)\n",
        "            for j in range(i):                               # O(M): for all previous calculated numbers\n",
        "                for comb in dp[j]:                           # O(M) worst: check each of their combinations\n",
        "                    start_idx = idx_d[comb[-1]]              # use start_idx to avoid repeats\n",
        "                    for val in candidates[start_idx:]:       # O(N): try all candidates\n",
        "                        if val + j == i: dp[i].append(comb + [val]) \n",
        "            for candidate in candidates:                     # O(N): directly from candidates not from previous result \n",
        "                if candidate == i: dp[i].append([candidate])\n",
        "        return dp[-1]\n",
        "obj = Solution()\n",
        "print(obj.combinationSum(candidates = [2,3,6,7], target = 7))"
      ],
      "metadata": {
        "colab": {
          "base_uri": "https://localhost:8080/"
        },
        "id": "95tpLQTazrT9",
        "outputId": "768446e8-563f-4966-e34d-0de50a556a24"
      },
      "execution_count": 3,
      "outputs": [
        {
          "output_type": "stream",
          "name": "stdout",
          "text": [
            "[[2, 2, 3], [7]]\n"
          ]
        }
      ]
    }
  ]
}