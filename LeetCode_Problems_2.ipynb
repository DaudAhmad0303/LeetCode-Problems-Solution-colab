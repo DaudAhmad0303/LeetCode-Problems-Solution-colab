{
  "nbformat": 4,
  "nbformat_minor": 0,
  "metadata": {
    "colab": {
      "name": "LeetCode Problems-2.ipynb",
      "provenance": [],
      "authorship_tag": "ABX9TyMePu689FFEkp/v6Yjan1aI",
      "include_colab_link": true
    },
    "kernelspec": {
      "name": "python3",
      "display_name": "Python 3"
    },
    "language_info": {
      "name": "python"
    }
  },
  "cells": [
    {
      "cell_type": "markdown",
      "metadata": {
        "id": "view-in-github",
        "colab_type": "text"
      },
      "source": [
        "<a href=\"https://colab.research.google.com/github/DaudAhmad0303/LeetCode-Problems-Solution-colab/blob/master/LeetCode_Problems_2.ipynb\" target=\"_parent\"><img src=\"https://colab.research.google.com/assets/colab-badge.svg\" alt=\"Open In Colab\"/></a>"
      ]
    },
    {
      "cell_type": "markdown",
      "source": [
        "# **Random Practise Codes**"
      ],
      "metadata": {
        "id": "3u5k34sSz1ze"
      }
    },
    {
      "cell_type": "code",
      "execution_count": null,
      "metadata": {
        "id": "E5b5KU7czw0T"
      },
      "outputs": [],
      "source": [
        ""
      ]
    },
    {
      "cell_type": "markdown",
      "source": [
        "# **Random Questions Solved**"
      ],
      "metadata": {
        "id": "w9dVcYqcz8CN"
      }
    },
    {
      "cell_type": "markdown",
      "source": [
        ""
      ],
      "metadata": {
        "id": "1bbZeHbLRxAs"
      }
    },
    {
      "cell_type": "code",
      "source": [
        "class Solution:\n",
        "    def sortEvenOdd(self, nums):\n",
        "        if len(nums) <= 2:\n",
        "            return nums\n",
        "        odd = []\n",
        "        even = []\n",
        "        l = len(nums)\n",
        "        for i in range(len(nums)):\n",
        "            if i % 2 == 0:\n",
        "                even.append(nums[i])\n",
        "            else:\n",
        "                odd.append(nums[i])\n",
        "        odd.sort(reverse = True)        \n",
        "        even.sort()\n",
        "        nums = []\n",
        "        for i in range(len(odd)):\n",
        "            nums.append(even[i])\n",
        "            nums.append(odd[i])\n",
        "        if l % 2 != 0:\n",
        "            nums.append(even[-1])\n",
        "        return nums\n",
        "obj = Solution()\n",
        "print(obj.sortEvenOdd(nums = [4,1,2,3]))"
      ],
      "metadata": {
        "colab": {
          "base_uri": "https://localhost:8080/"
        },
        "id": "aMdk5ImtRxll",
        "outputId": "77574cd2-50e4-4a35-d2b1-cadcc7729f61"
      },
      "execution_count": 4,
      "outputs": [
        {
          "output_type": "stream",
          "name": "stdout",
          "text": [
            "[2, 3, 4, 1]\n"
          ]
        }
      ]
    },
    {
      "cell_type": "markdown",
      "source": [
        "## **125. Valid Palindrome**"
      ],
      "metadata": {
        "id": "9Sf7sjg-5n-0"
      }
    },
    {
      "cell_type": "code",
      "source": [
        "class Solution:\n",
        "    def isPalindrome(self, s: str) -> bool:\n",
        "        st = \"\"\n",
        "        for i in range(len(s)):\n",
        "            if s[i].isalpha() or s[i].isdigit():\n",
        "                st += s[i].lower()\n",
        "        print(st)\n",
        "        return st == st[::-1]\n",
        "obj = Solution()\n",
        "print(obj.isPalindrome(s = \"A man, a plan, a canal: Panama\"))"
      ],
      "metadata": {
        "colab": {
          "base_uri": "https://localhost:8080/"
        },
        "id": "SGww_vNNz9VF",
        "outputId": "c5ce1f4d-c93b-4142-bc86-df041002c522"
      },
      "execution_count": null,
      "outputs": [
        {
          "output_type": "stream",
          "name": "stdout",
          "text": [
            "amanaplanacanalpanama\n",
            "True\n"
          ]
        }
      ]
    },
    {
      "cell_type": "markdown",
      "source": [
        "# **Daily Coding Challenge**"
      ],
      "metadata": {
        "id": "JjbFKdK_0CL1"
      }
    },
    {
      "cell_type": "markdown",
      "source": [
        "## ***Feb 6:* 80. Remove Duplicates from Sorted Array II**"
      ],
      "metadata": {
        "id": "oSWUqCbYFrdK"
      }
    },
    {
      "cell_type": "code",
      "source": [
        "class Solution:\n",
        "    def removeDuplicates(self, nums: List[int]) -> int:\n",
        "        l = len(nums)\n",
        "        prev = nums[0]\n",
        "        count = 0\n",
        "        d_count = 0\n",
        "        for i in range(l-1):\n",
        "            if d_count >= 2:\n",
        "                nums.remove(nums[i])\n",
        "                nums.append(0)\n",
        "            else:\n",
        "                count += 1\n",
        "            if nums[i+1] != nums[i]:\n",
        "                d_count = 0\n",
        "            else:\n",
        "                d_count +=1\n",
        "        print(nums)\n",
        "        return 5"
      ],
      "metadata": {
        "id": "-6QDoO3h0GXF"
      },
      "execution_count": null,
      "outputs": []
    },
    {
      "cell_type": "code",
      "source": [
        "class Solution:\n",
        "    def removeDuplicates(self, nums) -> int:\n",
        "        if len(nums) < 3: \n",
        "            return len(nums)\n",
        "        pos = 1\n",
        "        for i in range(1, len(nums)-1):\n",
        "            if nums[i-1] != nums[i+1]:\n",
        "                nums[pos] = nums[i]\n",
        "                pos += 1\n",
        "        nums[pos] = nums[-1]\n",
        "        print(nums)\n",
        "        return pos + 1\n",
        "\n",
        "obj = Solution()\n",
        "print(obj.removeDuplicates(nums = [0,0,1,1,1,1,2,3,3]))"
      ],
      "metadata": {
        "colab": {
          "base_uri": "https://localhost:8080/"
        },
        "id": "uua3fXo2Fx7y",
        "outputId": "43b4d6cd-ecd3-494b-a363-76fdcf6af890"
      },
      "execution_count": 3,
      "outputs": [
        {
          "output_type": "stream",
          "name": "stdout",
          "text": [
            "[0, 0, 1, 1, 2, 3, 3, 3, 3]\n",
            "7\n"
          ]
        }
      ]
    }
  ]
}