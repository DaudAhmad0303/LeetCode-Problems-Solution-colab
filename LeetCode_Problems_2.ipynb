{
  "nbformat": 4,
  "nbformat_minor": 0,
  "metadata": {
    "colab": {
      "name": "LeetCode Problems-2.ipynb",
      "provenance": [],
      "authorship_tag": "ABX9TyMUdYduxxSRQa1WARMkoTk+",
      "include_colab_link": true
    },
    "kernelspec": {
      "name": "python3",
      "display_name": "Python 3"
    },
    "language_info": {
      "name": "python"
    }
  },
  "cells": [
    {
      "cell_type": "markdown",
      "metadata": {
        "id": "view-in-github",
        "colab_type": "text"
      },
      "source": [
        "<a href=\"https://colab.research.google.com/github/DaudAhmad0303/LeetCode-Problems-Solution-colab/blob/master/LeetCode_Problems_2.ipynb\" target=\"_parent\"><img src=\"https://colab.research.google.com/assets/colab-badge.svg\" alt=\"Open In Colab\"/></a>"
      ]
    },
    {
      "cell_type": "markdown",
      "source": [
        "# **Random Practise Codes**"
      ],
      "metadata": {
        "id": "3u5k34sSz1ze"
      }
    },
    {
      "cell_type": "code",
      "execution_count": null,
      "metadata": {
        "id": "E5b5KU7czw0T"
      },
      "outputs": [],
      "source": [
        ""
      ]
    },
    {
      "cell_type": "markdown",
      "source": [
        "# **Random Questions Solved**"
      ],
      "metadata": {
        "id": "w9dVcYqcz8CN"
      }
    },
    {
      "cell_type": "markdown",
      "source": [
        "## **125. Valid Palindrome**"
      ],
      "metadata": {
        "id": "9Sf7sjg-5n-0"
      }
    },
    {
      "cell_type": "code",
      "source": [
        "class Solution:\n",
        "    def isPalindrome(self, s: str) -> bool:\n",
        "        st = \"\"\n",
        "        for i in range(len(s)):\n",
        "            if s[i].isalpha() or s[i].isdigit():\n",
        "                st += s[i].lower()\n",
        "        print(st)\n",
        "        return st == st[::-1]\n",
        "obj = Solution()\n",
        "print(obj.isPalindrome(s = \"A man, a plan, a canal: Panama\"))"
      ],
      "metadata": {
        "colab": {
          "base_uri": "https://localhost:8080/"
        },
        "id": "SGww_vNNz9VF",
        "outputId": "c5ce1f4d-c93b-4142-bc86-df041002c522"
      },
      "execution_count": 1,
      "outputs": [
        {
          "output_type": "stream",
          "name": "stdout",
          "text": [
            "amanaplanacanalpanama\n",
            "True\n"
          ]
        }
      ]
    },
    {
      "cell_type": "markdown",
      "source": [
        "# **Daily Coding Challenge**"
      ],
      "metadata": {
        "id": "JjbFKdK_0CL1"
      }
    },
    {
      "cell_type": "code",
      "source": [
        ""
      ],
      "metadata": {
        "id": "-6QDoO3h0GXF"
      },
      "execution_count": null,
      "outputs": []
    }
  ]
}