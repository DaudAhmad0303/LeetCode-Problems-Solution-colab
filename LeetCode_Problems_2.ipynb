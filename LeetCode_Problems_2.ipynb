{
  "nbformat": 4,
  "nbformat_minor": 0,
  "metadata": {
    "colab": {
      "name": "LeetCode Problems-2.ipynb",
      "provenance": [],
      "authorship_tag": "ABX9TyNJeTn2lsfWwUE55Sja+3Q1",
      "include_colab_link": true
    },
    "kernelspec": {
      "name": "python3",
      "display_name": "Python 3"
    },
    "language_info": {
      "name": "python"
    }
  },
  "cells": [
    {
      "cell_type": "markdown",
      "metadata": {
        "id": "view-in-github",
        "colab_type": "text"
      },
      "source": [
        "<a href=\"https://colab.research.google.com/github/DaudAhmad0303/LeetCode-Problems-Solution-colab/blob/master/LeetCode_Problems_2.ipynb\" target=\"_parent\"><img src=\"https://colab.research.google.com/assets/colab-badge.svg\" alt=\"Open In Colab\"/></a>"
      ]
    },
    {
      "cell_type": "markdown",
      "source": [
        "# **Random Practise Codes**"
      ],
      "metadata": {
        "id": "3u5k34sSz1ze"
      }
    },
    {
      "cell_type": "code",
      "execution_count": null,
      "metadata": {
        "id": "E5b5KU7czw0T",
        "colab": {
          "base_uri": "https://localhost:8080/"
        },
        "outputId": "de906202-cab9-41ce-ba4d-e2d2b70b80fc"
      },
      "outputs": [
        {
          "output_type": "stream",
          "name": "stdout",
          "text": [
            "[4, 2, 8]\n",
            "[1]\n"
          ]
        }
      ],
      "source": [
        "nums = [4,1,2,3,8]\n",
        "print(nums[::2])\n",
        "print(nums[1::-2])"
      ]
    },
    {
      "cell_type": "markdown",
      "source": [
        "# **Random Questions Solved**"
      ],
      "metadata": {
        "id": "w9dVcYqcz8CN"
      }
    },
    {
      "cell_type": "markdown",
      "source": [
        "## **2164. Sort Even and Odd Indices Independently**"
      ],
      "metadata": {
        "id": "1bbZeHbLRxAs"
      }
    },
    {
      "cell_type": "code",
      "source": [
        "class Solution:\n",
        "    def sortEvenOdd(self, nums):\n",
        "        if len(nums) <= 2:\n",
        "            return nums\n",
        "        odd = []\n",
        "        even = []\n",
        "        l = len(nums)\n",
        "        for i in range(len(nums)):\n",
        "            if i % 2 == 0:\n",
        "                even.append(nums[i])\n",
        "            else:\n",
        "                odd.append(nums[i])\n",
        "        odd.sort(reverse = True)        \n",
        "        even.sort()\n",
        "        nums = []\n",
        "        for i in range(len(odd)):\n",
        "            nums.append(even[i])\n",
        "            nums.append(odd[i])\n",
        "        if l % 2 != 0:\n",
        "            nums.append(even[-1])\n",
        "        return nums\n",
        "obj = Solution()\n",
        "print(obj.sortEvenOdd(nums = [4,1,2,3]))"
      ],
      "metadata": {
        "colab": {
          "base_uri": "https://localhost:8080/"
        },
        "id": "aMdk5ImtRxll",
        "outputId": "77574cd2-50e4-4a35-d2b1-cadcc7729f61"
      },
      "execution_count": null,
      "outputs": [
        {
          "output_type": "stream",
          "name": "stdout",
          "text": [
            "[2, 3, 4, 1]\n"
          ]
        }
      ]
    },
    {
      "cell_type": "code",
      "source": [
        "class Solution:\n",
        "    def sortEvenOdd(self, nums):\n",
        "        odds = nums[::2]\n",
        "        evens = nums[1::2]\n",
        "        odds.sort()\n",
        "        evens.sort()\n",
        "        evens.reverse()\n",
        "        odds.append(-1)\n",
        "        evens.append(-1)\n",
        "        \n",
        "        res = []\n",
        "        for a,b in zip(odds, evens):\n",
        "            if a >= 0:\n",
        "                res.append(a)\n",
        "            if b >= 0:\n",
        "                res.append(b)\n",
        "        \n",
        "        return res\n",
        "obj = Solution()\n",
        "print(obj.sortEvenOdd(nums = [4,1,2,3]))"
      ],
      "metadata": {
        "colab": {
          "base_uri": "https://localhost:8080/"
        },
        "id": "DYgEtvfXU49r",
        "outputId": "a294aab3-835d-4081-9580-8f9716a45a86"
      },
      "execution_count": null,
      "outputs": [
        {
          "output_type": "stream",
          "name": "stdout",
          "text": [
            "[2, 3, 4, 1]\n"
          ]
        }
      ]
    },
    {
      "cell_type": "markdown",
      "source": [
        "## **125. Valid Palindrome**"
      ],
      "metadata": {
        "id": "9Sf7sjg-5n-0"
      }
    },
    {
      "cell_type": "code",
      "source": [
        "class Solution:\n",
        "    def isPalindrome(self, s: str) -> bool:\n",
        "        st = \"\"\n",
        "        for i in range(len(s)):\n",
        "            if s[i].isalpha() or s[i].isdigit():\n",
        "                st += s[i].lower()\n",
        "        print(st)\n",
        "        return st == st[::-1]\n",
        "obj = Solution()\n",
        "print(obj.isPalindrome(s = \"A man, a plan, a canal: Panama\"))"
      ],
      "metadata": {
        "colab": {
          "base_uri": "https://localhost:8080/"
        },
        "id": "SGww_vNNz9VF",
        "outputId": "c5ce1f4d-c93b-4142-bc86-df041002c522"
      },
      "execution_count": null,
      "outputs": [
        {
          "output_type": "stream",
          "name": "stdout",
          "text": [
            "amanaplanacanalpanama\n",
            "True\n"
          ]
        }
      ]
    },
    {
      "cell_type": "markdown",
      "source": [
        "# **Daily Coding Challenge**"
      ],
      "metadata": {
        "id": "JjbFKdK_0CL1"
      }
    },
    {
      "cell_type": "markdown",
      "source": [
        "## ***Feb 6:* 80. Remove Duplicates from Sorted Array II**"
      ],
      "metadata": {
        "id": "oSWUqCbYFrdK"
      }
    },
    {
      "cell_type": "code",
      "source": [
        "class Solution:\n",
        "    def removeDuplicates(self, nums: List[int]) -> int:\n",
        "        l = len(nums)\n",
        "        prev = nums[0]\n",
        "        count = 0\n",
        "        d_count = 0\n",
        "        for i in range(l-1):\n",
        "            if d_count >= 2:\n",
        "                nums.remove(nums[i])\n",
        "                nums.append(0)\n",
        "            else:\n",
        "                count += 1\n",
        "            if nums[i+1] != nums[i]:\n",
        "                d_count = 0\n",
        "            else:\n",
        "                d_count +=1\n",
        "        print(nums)\n",
        "        return 5"
      ],
      "metadata": {
        "id": "-6QDoO3h0GXF"
      },
      "execution_count": null,
      "outputs": []
    },
    {
      "cell_type": "code",
      "source": [
        "class Solution:\n",
        "    def removeDuplicates(self, nums) -> int:\n",
        "        if len(nums) < 3: \n",
        "            return len(nums)\n",
        "        pos = 1\n",
        "        for i in range(1, len(nums)-1):\n",
        "            if nums[i-1] != nums[i+1]:\n",
        "                nums[pos] = nums[i]\n",
        "                pos += 1\n",
        "        nums[pos] = nums[-1]\n",
        "        print(nums)\n",
        "        return pos + 1\n",
        "\n",
        "obj = Solution()\n",
        "print(obj.removeDuplicates(nums = [0,0,1,1,1,1,2,3,3]))"
      ],
      "metadata": {
        "colab": {
          "base_uri": "https://localhost:8080/"
        },
        "id": "uua3fXo2Fx7y",
        "outputId": "43b4d6cd-ecd3-494b-a363-76fdcf6af890"
      },
      "execution_count": null,
      "outputs": [
        {
          "output_type": "stream",
          "name": "stdout",
          "text": [
            "[0, 0, 1, 1, 2, 3, 3, 3, 3]\n",
            "7\n"
          ]
        }
      ]
    },
    {
      "cell_type": "markdown",
      "source": [
        "## ***Feb 7:* 389. Find the Difference**"
      ],
      "metadata": {
        "id": "tnFlnR2eXfKa"
      }
    },
    {
      "cell_type": "code",
      "source": [
        "class Solution:\n",
        "\n",
        "    def findTheDifference(self, s: str, t: str) -> str:\n",
        "\n",
        "        sum1 = 0\n",
        "\n",
        "        sum2 = 0\n",
        "\n",
        "        for i in s:\n",
        "\n",
        "            sum1 += ord(i)\n",
        "\n",
        "        for i in t:\n",
        "\n",
        "            sum2 += ord(i)\n",
        "\n",
        "        return chr(sum2 - sum1)\n",
        "\n",
        "obj = Solution()\n",
        "print(obj.findTheDifference(s = \"abcd\", t = \"abcde\"))"
      ],
      "metadata": {
        "colab": {
          "base_uri": "https://localhost:8080/"
        },
        "id": "7TSaIEAdXcO3",
        "outputId": "70c1e887-7361-4b2c-f222-2d81b5f82c71"
      },
      "execution_count": null,
      "outputs": [
        {
          "output_type": "stream",
          "name": "stdout",
          "text": [
            "e\n"
          ]
        }
      ]
    },
    {
      "cell_type": "markdown",
      "source": [
        "## ***Feb 9:* 258. Add Digits**"
      ],
      "metadata": {
        "id": "5-2jhZ68Mhqh"
      }
    },
    {
      "cell_type": "code",
      "source": [
        "def make_list(n):\n",
        "    lst = list(str(n))\n",
        "    lst = list(map(int, lst))\n",
        "    return \n",
        "make_list(399)"
      ],
      "metadata": {
        "colab": {
          "base_uri": "https://localhost:8080/"
        },
        "id": "MHPZqD8RMpl5",
        "outputId": "42bf8919-f767-4f37-b838-2fc7278e7f3e"
      },
      "execution_count": null,
      "outputs": [
        {
          "output_type": "stream",
          "name": "stdout",
          "text": [
            "<class 'int'>\n"
          ]
        }
      ]
    },
    {
      "cell_type": "code",
      "source": [
        "class Solution:\n",
        "    def addDigits(self, num: int) -> int:\n",
        "        def make_list(n):\n",
        "            lst = list(str(n))\n",
        "            lst = list(map(int, lst))\n",
        "            return lst\n",
        "        while num>9:\n",
        "            lst = make_list(num)\n",
        "            val = 0\n",
        "            for i in lst:\n",
        "                val += i\n",
        "            num = val\n",
        "        return num\n",
        "obj = Solution()\n",
        "print(obj.addDigits(398))"
      ],
      "metadata": {
        "colab": {
          "base_uri": "https://localhost:8080/"
        },
        "id": "Q-QXY-lkOzox",
        "outputId": "14d49379-94ec-41c1-848c-ed39d7b0d026"
      },
      "execution_count": null,
      "outputs": [
        {
          "output_type": "stream",
          "name": "stdout",
          "text": [
            "2\n"
          ]
        }
      ]
    },
    {
      "cell_type": "markdown",
      "source": [
        "## ***Feb 9:* 532. K-diff Pairs in an Array**"
      ],
      "metadata": {
        "id": "CwmL8USkLFcJ"
      }
    },
    {
      "cell_type": "code",
      "source": [
        "class Solution:\n",
        "    def findPairs(self, nums, k: int) -> int:\n",
        "        # return the number of unique pairs\n",
        "        answ=0\n",
        "        # create a dictionary: d[x]==nums.count(x)\n",
        "        d={}\n",
        "        for x in nums:\n",
        "            if x in d: d[x]+=1\n",
        "            else:      d[x]=1\n",
        "        \n",
        "        if k: # k>0\n",
        "            answ=sum(x+k in d for x in d.keys())\n",
        "        else: # k==0\n",
        "            answ=sum(k>1 for k in d.values())\n",
        "                \n",
        "        return answ\n",
        "obj = Solution()\n",
        "print(obj.findPairs(nums = [3,1,4,1,5], k = 2))"
      ],
      "metadata": {
        "colab": {
          "base_uri": "https://localhost:8080/"
        },
        "id": "iUgZ4s1YLNWx",
        "outputId": "f9ba9a3b-6572-441d-f2cc-e48c96af1908"
      },
      "execution_count": 1,
      "outputs": [
        {
          "output_type": "stream",
          "name": "stdout",
          "text": [
            "2\n"
          ]
        }
      ]
    }
  ]
}