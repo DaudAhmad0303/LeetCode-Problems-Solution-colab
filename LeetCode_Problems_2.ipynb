{
  "nbformat": 4,
  "nbformat_minor": 0,
  "metadata": {
    "colab": {
      "name": "LeetCode Problems-2.ipynb",
      "provenance": [],
      "collapsed_sections": [],
      "authorship_tag": "ABX9TyORF6BELxR+B46vVUxc28Xp",
      "include_colab_link": true
    },
    "kernelspec": {
      "name": "python3",
      "display_name": "Python 3"
    },
    "language_info": {
      "name": "python"
    }
  },
  "cells": [
    {
      "cell_type": "markdown",
      "metadata": {
        "id": "view-in-github",
        "colab_type": "text"
      },
      "source": [
        "<a href=\"https://colab.research.google.com/github/DaudAhmad0303/LeetCode-Problems-Solution-colab/blob/master/LeetCode_Problems_2.ipynb\" target=\"_parent\"><img src=\"https://colab.research.google.com/assets/colab-badge.svg\" alt=\"Open In Colab\"/></a>"
      ]
    },
    {
      "cell_type": "markdown",
      "source": [
        "# **Random Practise Codes**"
      ],
      "metadata": {
        "id": "3u5k34sSz1ze"
      }
    },
    {
      "cell_type": "code",
      "execution_count": null,
      "metadata": {
        "id": "E5b5KU7czw0T",
        "colab": {
          "base_uri": "https://localhost:8080/"
        },
        "outputId": "f898fa76-d799-480e-c4f1-011916a99394"
      },
      "outputs": [
        {
          "output_type": "stream",
          "name": "stdout",
          "text": [
            "[4, 2, 8]\n",
            "[8, 2, 4]\n",
            "[8, 1]\n"
          ]
        }
      ],
      "source": [
        "nums = [4,1,2,3,8]\n",
        "print(nums[::2])\n",
        "print(nums[::-2])\n",
        "print(nums[::-3])"
      ]
    },
    {
      "cell_type": "markdown",
      "source": [
        "# **Random Questions Solved**"
      ],
      "metadata": {
        "id": "w9dVcYqcz8CN"
      }
    },
    {
      "cell_type": "markdown",
      "source": [
        "## **2164. Sort Even and Odd Indices Independently**"
      ],
      "metadata": {
        "id": "1bbZeHbLRxAs"
      }
    },
    {
      "cell_type": "code",
      "source": [
        "class Solution:\n",
        "    def sortEvenOdd(self, nums):\n",
        "        if len(nums) <= 2:\n",
        "            return nums\n",
        "        odd = []\n",
        "        even = []\n",
        "        l = len(nums)\n",
        "        for i in range(len(nums)):\n",
        "            if i % 2 == 0:\n",
        "                even.append(nums[i])\n",
        "            else:\n",
        "                odd.append(nums[i])\n",
        "        odd.sort(reverse = True)        \n",
        "        even.sort()\n",
        "        nums = []\n",
        "        for i in range(len(odd)):\n",
        "            nums.append(even[i])\n",
        "            nums.append(odd[i])\n",
        "        if l % 2 != 0:\n",
        "            nums.append(even[-1])\n",
        "        return nums\n",
        "obj = Solution()\n",
        "print(obj.sortEvenOdd(nums = [4,1,2,3]))"
      ],
      "metadata": {
        "colab": {
          "base_uri": "https://localhost:8080/"
        },
        "id": "aMdk5ImtRxll",
        "outputId": "77574cd2-50e4-4a35-d2b1-cadcc7729f61"
      },
      "execution_count": null,
      "outputs": [
        {
          "output_type": "stream",
          "name": "stdout",
          "text": [
            "[2, 3, 4, 1]\n"
          ]
        }
      ]
    },
    {
      "cell_type": "code",
      "source": [
        "class Solution:\n",
        "    def sortEvenOdd(self, nums):\n",
        "        odds = nums[::2]\n",
        "        evens = nums[1::2]\n",
        "        odds.sort()\n",
        "        evens.sort()\n",
        "        evens.reverse()\n",
        "        odds.append(-1)\n",
        "        evens.append(-1)\n",
        "        \n",
        "        res = []\n",
        "        for a,b in zip(odds, evens):\n",
        "            if a >= 0:\n",
        "                res.append(a)\n",
        "            if b >= 0:\n",
        "                res.append(b)\n",
        "        \n",
        "        return res\n",
        "obj = Solution()\n",
        "print(obj.sortEvenOdd(nums = [4,1,2,3]))"
      ],
      "metadata": {
        "colab": {
          "base_uri": "https://localhost:8080/"
        },
        "id": "DYgEtvfXU49r",
        "outputId": "a294aab3-835d-4081-9580-8f9716a45a86"
      },
      "execution_count": null,
      "outputs": [
        {
          "output_type": "stream",
          "name": "stdout",
          "text": [
            "[2, 3, 4, 1]\n"
          ]
        }
      ]
    },
    {
      "cell_type": "markdown",
      "source": [
        "## **125. Valid Palindrome**"
      ],
      "metadata": {
        "id": "9Sf7sjg-5n-0"
      }
    },
    {
      "cell_type": "code",
      "source": [
        "class Solution:\n",
        "    def isPalindrome(self, s: str) -> bool:\n",
        "        st = \"\"\n",
        "        for i in range(len(s)):\n",
        "            if s[i].isalpha() or s[i].isdigit():\n",
        "                st += s[i].lower()\n",
        "        print(st)\n",
        "        return st == st[::-1]\n",
        "obj = Solution()\n",
        "print(obj.isPalindrome(s = \"A man, a plan, a canal: Panama\"))"
      ],
      "metadata": {
        "colab": {
          "base_uri": "https://localhost:8080/"
        },
        "id": "SGww_vNNz9VF",
        "outputId": "c5ce1f4d-c93b-4142-bc86-df041002c522"
      },
      "execution_count": null,
      "outputs": [
        {
          "output_type": "stream",
          "name": "stdout",
          "text": [
            "amanaplanacanalpanama\n",
            "True\n"
          ]
        }
      ]
    },
    {
      "cell_type": "markdown",
      "source": [
        "## **Count Operations to Obtain Zero**"
      ],
      "metadata": {
        "id": "xWGr5q1EKf_s"
      }
    },
    {
      "cell_type": "code",
      "source": [
        "class Solution:\n",
        "    def countOperations(self, num1: int, num2: int) -> int:\n",
        "        if num1 != num2:\n",
        "            return min(num1, num2) + abs(num1-num2)\n",
        "        elif num1 == 0 or num2 == 0:\n",
        "            return 0\n",
        "        else:\n",
        "            return 1\n",
        "obj = Solution()\n",
        "print(obj.countOperations(num1 = 2, num2 = 3))"
      ],
      "metadata": {
        "colab": {
          "base_uri": "https://localhost:8080/"
        },
        "id": "wndXGqtLMlP_",
        "outputId": "e5239de0-f96a-4cee-9faf-36805eadef90"
      },
      "execution_count": null,
      "outputs": [
        {
          "output_type": "stream",
          "name": "stdout",
          "text": [
            "3\n"
          ]
        }
      ]
    },
    {
      "cell_type": "code",
      "source": [
        "class Solution:\n",
        "    def countOperations(self, num1: int, num2: int) -> int:\n",
        "        op = 0\n",
        "        while True:\n",
        "            if num1 > num2:\n",
        "                num1 -= num2\n",
        "                op += 1\n",
        "            elif num2 > num1:\n",
        "                num2 -= num1\n",
        "                op += 1\n",
        "            else:\n",
        "                num1 = 0\n",
        "                op += 1\n",
        "            if num1 == 0 or num2 == 0:\n",
        "                break\n",
        "        return op\n",
        "            \n",
        "\n",
        "\n",
        "obj = Solution()\n",
        "print(obj.countOperations(num1 = 79, num2 = 68))"
      ],
      "metadata": {
        "colab": {
          "base_uri": "https://localhost:8080/"
        },
        "id": "dZjh-_vkMvrk",
        "outputId": "46c1a081-8662-4342-f313-1517335a66f2"
      },
      "execution_count": null,
      "outputs": [
        {
          "output_type": "stream",
          "name": "stdout",
          "text": [
            "14\n"
          ]
        }
      ]
    },
    {
      "cell_type": "markdown",
      "source": [
        "## **118. Pascal's Triangle**"
      ],
      "metadata": {
        "id": "i3BXEmbE7ufj"
      }
    },
    {
      "cell_type": "code",
      "source": [
        "class Solution:\n",
        "    def generate(self, numRows: int):\n",
        "        if numRows == 1:\n",
        "            return [[1]]\n",
        "        lst = [[1]]\n",
        "        i = 0\n",
        "        for c in range(numRows-1):\n",
        "            lst1 = [1]\n",
        "            for j in range(len(lst[i])-1):\n",
        "                lst1.append(lst[i][j] + lst[i][j+1])\n",
        "            lst.append(lst1 + [1])\n",
        "            i += 1\n",
        "        return lst\n",
        "obj = Solution()\n",
        "print(obj.generate(30))"
      ],
      "metadata": {
        "colab": {
          "base_uri": "https://localhost:8080/"
        },
        "id": "dlvkIULm80nL",
        "outputId": "baf9bee3-b90c-4b30-e63e-12033e903e3a"
      },
      "execution_count": null,
      "outputs": [
        {
          "output_type": "stream",
          "name": "stdout",
          "text": [
            "[[1], [1, 1], [1, 2, 1], [1, 3, 3, 1], [1, 4, 6, 4, 1], [1, 5, 10, 10, 5, 1], [1, 6, 15, 20, 15, 6, 1], [1, 7, 21, 35, 35, 21, 7, 1], [1, 8, 28, 56, 70, 56, 28, 8, 1], [1, 9, 36, 84, 126, 126, 84, 36, 9, 1], [1, 10, 45, 120, 210, 252, 210, 120, 45, 10, 1], [1, 11, 55, 165, 330, 462, 462, 330, 165, 55, 11, 1], [1, 12, 66, 220, 495, 792, 924, 792, 495, 220, 66, 12, 1], [1, 13, 78, 286, 715, 1287, 1716, 1716, 1287, 715, 286, 78, 13, 1], [1, 14, 91, 364, 1001, 2002, 3003, 3432, 3003, 2002, 1001, 364, 91, 14, 1], [1, 15, 105, 455, 1365, 3003, 5005, 6435, 6435, 5005, 3003, 1365, 455, 105, 15, 1], [1, 16, 120, 560, 1820, 4368, 8008, 11440, 12870, 11440, 8008, 4368, 1820, 560, 120, 16, 1], [1, 17, 136, 680, 2380, 6188, 12376, 19448, 24310, 24310, 19448, 12376, 6188, 2380, 680, 136, 17, 1], [1, 18, 153, 816, 3060, 8568, 18564, 31824, 43758, 48620, 43758, 31824, 18564, 8568, 3060, 816, 153, 18, 1], [1, 19, 171, 969, 3876, 11628, 27132, 50388, 75582, 92378, 92378, 75582, 50388, 27132, 11628, 3876, 969, 171, 19, 1], [1, 20, 190, 1140, 4845, 15504, 38760, 77520, 125970, 167960, 184756, 167960, 125970, 77520, 38760, 15504, 4845, 1140, 190, 20, 1], [1, 21, 210, 1330, 5985, 20349, 54264, 116280, 203490, 293930, 352716, 352716, 293930, 203490, 116280, 54264, 20349, 5985, 1330, 210, 21, 1], [1, 22, 231, 1540, 7315, 26334, 74613, 170544, 319770, 497420, 646646, 705432, 646646, 497420, 319770, 170544, 74613, 26334, 7315, 1540, 231, 22, 1], [1, 23, 253, 1771, 8855, 33649, 100947, 245157, 490314, 817190, 1144066, 1352078, 1352078, 1144066, 817190, 490314, 245157, 100947, 33649, 8855, 1771, 253, 23, 1], [1, 24, 276, 2024, 10626, 42504, 134596, 346104, 735471, 1307504, 1961256, 2496144, 2704156, 2496144, 1961256, 1307504, 735471, 346104, 134596, 42504, 10626, 2024, 276, 24, 1], [1, 25, 300, 2300, 12650, 53130, 177100, 480700, 1081575, 2042975, 3268760, 4457400, 5200300, 5200300, 4457400, 3268760, 2042975, 1081575, 480700, 177100, 53130, 12650, 2300, 300, 25, 1], [1, 26, 325, 2600, 14950, 65780, 230230, 657800, 1562275, 3124550, 5311735, 7726160, 9657700, 10400600, 9657700, 7726160, 5311735, 3124550, 1562275, 657800, 230230, 65780, 14950, 2600, 325, 26, 1], [1, 27, 351, 2925, 17550, 80730, 296010, 888030, 2220075, 4686825, 8436285, 13037895, 17383860, 20058300, 20058300, 17383860, 13037895, 8436285, 4686825, 2220075, 888030, 296010, 80730, 17550, 2925, 351, 27, 1], [1, 28, 378, 3276, 20475, 98280, 376740, 1184040, 3108105, 6906900, 13123110, 21474180, 30421755, 37442160, 40116600, 37442160, 30421755, 21474180, 13123110, 6906900, 3108105, 1184040, 376740, 98280, 20475, 3276, 378, 28, 1], [1, 29, 406, 3654, 23751, 118755, 475020, 1560780, 4292145, 10015005, 20030010, 34597290, 51895935, 67863915, 77558760, 77558760, 67863915, 51895935, 34597290, 20030010, 10015005, 4292145, 1560780, 475020, 118755, 23751, 3654, 406, 29, 1]]\n"
          ]
        }
      ]
    },
    {
      "cell_type": "code",
      "source": [
        "class Solution:\n",
        "    def generate(self, numRows: int):\n",
        "        if numRows == 1:\n",
        "            return [[1]]\n",
        "        elif numRows == 2:\n",
        "            return [[1],[1,1]]\n",
        "        lst = [[1],[1,1]]\n",
        "        i = 1\n",
        "        for c in range(numRows-2):\n",
        "            lst1 = [1]\n",
        "            for j in range(len(lst[i])-1):\n",
        "                lst1.append(lst[i][j] + lst[i][j+1])\n",
        "            lst.append(lst1 + [1])\n",
        "            i += 1\n",
        "        return lst\n",
        "obj = Solution()\n",
        "print(obj.generate(5))"
      ],
      "metadata": {
        "colab": {
          "base_uri": "https://localhost:8080/"
        },
        "id": "7tvy6FIe7vH2",
        "outputId": "8c45152b-b80e-4439-ebe8-0f412577b8a6"
      },
      "execution_count": null,
      "outputs": [
        {
          "output_type": "stream",
          "name": "stdout",
          "text": [
            "[[1], [1, 1], [1, 2, 1], [1, 3, 3, 1], [1, 4, 6, 4, 1]]\n"
          ]
        }
      ]
    },
    {
      "cell_type": "markdown",
      "source": [
        "## **551. Student Attendance Record I**"
      ],
      "metadata": {
        "id": "-Wp9xiKRrbs9"
      }
    },
    {
      "cell_type": "code",
      "source": [
        "%%time\n",
        "class Solution:\n",
        "    def checkRecord(self, s: str) -> bool:\n",
        "        if 'LLL' in s:\n",
        "            return False\n",
        "        if 'A' in s:\n",
        "            i = s.index('A')\n",
        "            s = s[:i] + s[i+1:]\n",
        "        if 'A' in s:\n",
        "            return False\n",
        "        return True\n",
        "obj = Solution()\n",
        "print(obj.checkRecord(s = \"PPALLP\"))"
      ],
      "metadata": {
        "colab": {
          "base_uri": "https://localhost:8080/"
        },
        "id": "d5ztDjaOrgMc",
        "outputId": "e2dce0cf-dbb9-4828-8f49-7bd315ecfeb3"
      },
      "execution_count": null,
      "outputs": [
        {
          "output_type": "stream",
          "name": "stdout",
          "text": [
            "True\n",
            "CPU times: user 142 µs, sys: 0 ns, total: 142 µs\n",
            "Wall time: 148 µs\n"
          ]
        }
      ]
    },
    {
      "cell_type": "code",
      "source": [
        "%%time\n",
        "class Solution:\n",
        "    def checkRecord(self, s: str) -> bool:\n",
        "        if s.count('A') < 2:\n",
        "            if 'LLL' in s:\n",
        "                return False\n",
        "            else:\n",
        "                return True\n",
        "        else:\n",
        "            return False\n",
        "obj = Solution()\n",
        "print(obj.checkRecord(s = \"PPALLP\"))"
      ],
      "metadata": {
        "colab": {
          "base_uri": "https://localhost:8080/"
        },
        "id": "j0t1Y49qwzN7",
        "outputId": "1d23fe85-05c9-49e1-8f29-7a155a978804"
      },
      "execution_count": null,
      "outputs": [
        {
          "output_type": "stream",
          "name": "stdout",
          "text": [
            "True\n",
            "CPU times: user 159 µs, sys: 0 ns, total: 159 µs\n",
            "Wall time: 125 µs\n"
          ]
        }
      ]
    },
    {
      "cell_type": "markdown",
      "source": [
        "# **Daily Coding Challenge Februray**"
      ],
      "metadata": {
        "id": "JjbFKdK_0CL1"
      }
    },
    {
      "cell_type": "markdown",
      "source": [
        "## ***Feb 6:* 80. Remove Duplicates from Sorted Array II**"
      ],
      "metadata": {
        "id": "oSWUqCbYFrdK"
      }
    },
    {
      "cell_type": "code",
      "source": [
        "class Solution:\n",
        "    def removeDuplicates(self, nums) -> int:\n",
        "        l = len(nums)\n",
        "        prev = nums[0]\n",
        "        count = 0\n",
        "        d_count = 0\n",
        "        for i in range(l-1):\n",
        "            if d_count >= 2:\n",
        "                nums.remove(nums[i])\n",
        "                nums.append(0)\n",
        "            else:\n",
        "                count += 1\n",
        "            if nums[i+1] != nums[i]:\n",
        "                d_count = 0\n",
        "            else:\n",
        "                d_count +=1\n",
        "        print(nums)\n",
        "        return 5"
      ],
      "metadata": {
        "id": "-6QDoO3h0GXF"
      },
      "execution_count": null,
      "outputs": []
    },
    {
      "cell_type": "code",
      "source": [
        "class Solution:\n",
        "    def removeDuplicates(self, nums) -> int:\n",
        "        if len(nums) < 3: \n",
        "            return len(nums)\n",
        "        pos = 1\n",
        "        for i in range(1, len(nums)-1):\n",
        "            if nums[i-1] != nums[i+1]:\n",
        "                nums[pos] = nums[i]\n",
        "                pos += 1\n",
        "        nums[pos] = nums[-1]\n",
        "        print(nums)\n",
        "        return pos + 1\n",
        "\n",
        "obj = Solution()\n",
        "print(obj.removeDuplicates(nums = [0,0,1,1,1,1,2,3,3]))"
      ],
      "metadata": {
        "colab": {
          "base_uri": "https://localhost:8080/"
        },
        "id": "uua3fXo2Fx7y",
        "outputId": "43b4d6cd-ecd3-494b-a363-76fdcf6af890"
      },
      "execution_count": null,
      "outputs": [
        {
          "output_type": "stream",
          "name": "stdout",
          "text": [
            "[0, 0, 1, 1, 2, 3, 3, 3, 3]\n",
            "7\n"
          ]
        }
      ]
    },
    {
      "cell_type": "markdown",
      "source": [
        "## ***Feb 7:* 389. Find the Difference**"
      ],
      "metadata": {
        "id": "tnFlnR2eXfKa"
      }
    },
    {
      "cell_type": "code",
      "source": [
        "class Solution:\n",
        "\n",
        "    def findTheDifference(self, s: str, t: str) -> str:\n",
        "\n",
        "        sum1 = 0\n",
        "\n",
        "        sum2 = 0\n",
        "\n",
        "        for i in s:\n",
        "\n",
        "            sum1 += ord(i)\n",
        "\n",
        "        for i in t:\n",
        "\n",
        "            sum2 += ord(i)\n",
        "\n",
        "        return chr(sum2 - sum1)\n",
        "\n",
        "obj = Solution()\n",
        "print(obj.findTheDifference(s = \"abcd\", t = \"abcde\"))"
      ],
      "metadata": {
        "colab": {
          "base_uri": "https://localhost:8080/"
        },
        "id": "7TSaIEAdXcO3",
        "outputId": "70c1e887-7361-4b2c-f222-2d81b5f82c71"
      },
      "execution_count": null,
      "outputs": [
        {
          "output_type": "stream",
          "name": "stdout",
          "text": [
            "e\n"
          ]
        }
      ]
    },
    {
      "cell_type": "markdown",
      "source": [
        "## ***Feb 9:* 258. Add Digits**"
      ],
      "metadata": {
        "id": "5-2jhZ68Mhqh"
      }
    },
    {
      "cell_type": "code",
      "source": [
        "def make_list(n):\n",
        "    lst = list(str(n))\n",
        "    lst = list(map(int, lst))\n",
        "    return \n",
        "make_list(399)"
      ],
      "metadata": {
        "colab": {
          "base_uri": "https://localhost:8080/"
        },
        "id": "MHPZqD8RMpl5",
        "outputId": "42bf8919-f767-4f37-b838-2fc7278e7f3e"
      },
      "execution_count": null,
      "outputs": [
        {
          "output_type": "stream",
          "name": "stdout",
          "text": [
            "<class 'int'>\n"
          ]
        }
      ]
    },
    {
      "cell_type": "code",
      "source": [
        "class Solution:\n",
        "    def addDigits(self, num: int) -> int:\n",
        "        def make_list(n):\n",
        "            lst = list(str(n))\n",
        "            lst = list(map(int, lst))\n",
        "            return lst\n",
        "        while num>9:\n",
        "            lst = make_list(num)\n",
        "            val = 0\n",
        "            for i in lst:\n",
        "                val += i\n",
        "            num = val\n",
        "        return num\n",
        "obj = Solution()\n",
        "print(obj.addDigits(398))"
      ],
      "metadata": {
        "colab": {
          "base_uri": "https://localhost:8080/"
        },
        "id": "Q-QXY-lkOzox",
        "outputId": "14d49379-94ec-41c1-848c-ed39d7b0d026"
      },
      "execution_count": null,
      "outputs": [
        {
          "output_type": "stream",
          "name": "stdout",
          "text": [
            "2\n"
          ]
        }
      ]
    },
    {
      "cell_type": "markdown",
      "source": [
        "## ***Feb 9:* 532. K-diff Pairs in an Array**"
      ],
      "metadata": {
        "id": "CwmL8USkLFcJ"
      }
    },
    {
      "cell_type": "code",
      "source": [
        "class Solution:\n",
        "    def findPairs(self, nums, k: int) -> int:\n",
        "        # return the number of unique pairs\n",
        "        answ=0\n",
        "        # create a dictionary: d[x]==nums.count(x)\n",
        "        d={}\n",
        "        for x in nums:\n",
        "            if x in d: d[x]+=1\n",
        "            else:      d[x]=1\n",
        "        \n",
        "        if k: # k>0\n",
        "            answ=sum(x+k in d for x in d.keys())\n",
        "        else: # k==0\n",
        "            answ=sum(k>1 for k in d.values())\n",
        "                \n",
        "        return answ\n",
        "obj = Solution()\n",
        "print(obj.findPairs(nums = [3,1,4,1,5], k = 2))"
      ],
      "metadata": {
        "colab": {
          "base_uri": "https://localhost:8080/"
        },
        "id": "iUgZ4s1YLNWx",
        "outputId": "f9ba9a3b-6572-441d-f2cc-e48c96af1908"
      },
      "execution_count": null,
      "outputs": [
        {
          "output_type": "stream",
          "name": "stdout",
          "text": [
            "2\n"
          ]
        }
      ]
    },
    {
      "cell_type": "markdown",
      "source": [
        "## ***Feb 10:* 560. Subarray Sum Equals K**"
      ],
      "metadata": {
        "id": "zwSBB6e17B-o"
      }
    },
    {
      "cell_type": "code",
      "source": [
        "class Solution:\n",
        "    def subarraySum(self, nums, k: int) -> int:\n",
        "        d ={0:1}\n",
        "    \n",
        "        sums = 0\n",
        "\n",
        "        count= 0\n",
        "\n",
        "        for i in range(len(nums)):\n",
        "            sums+= nums[i]\n",
        "\n",
        "            if sums-k in d:\n",
        "                count+= d[sums-k]\n",
        "\n",
        "            if sums in d:\n",
        "                d[sums]+=1\n",
        "\n",
        "            else:\n",
        "                d[sums] = 1\n",
        "\n",
        "        return count\n",
        "obj = Solution()\n",
        "print(obj.subarraySum(nums = [1,2,3], k = 3))"
      ],
      "metadata": {
        "colab": {
          "base_uri": "https://localhost:8080/"
        },
        "id": "uCGVn7QF7GXx",
        "outputId": "e91f54d7-e8ec-4f5e-ff56-c7f8abbe8866"
      },
      "execution_count": null,
      "outputs": [
        {
          "output_type": "stream",
          "name": "stdout",
          "text": [
            "2\n"
          ]
        }
      ]
    },
    {
      "cell_type": "markdown",
      "source": [
        "## ***Feb 11:* 567. Permutation in String**"
      ],
      "metadata": {
        "id": "s_3UecpaI_bD"
      }
    },
    {
      "cell_type": "code",
      "source": [
        "import itertools\n",
        "s = 'ABC'\n",
        "nums = list(s)\n",
        "# nums = ['ABC']\n",
        "permutations = list(itertools.permutations(nums))\n",
        "lst = [''.join(permutation) for permutation in permutations]\n",
        "print(lst)"
      ],
      "metadata": {
        "colab": {
          "base_uri": "https://localhost:8080/"
        },
        "id": "ZoZuzYwBI-aM",
        "outputId": "0ac9fae8-5d22-444b-ed89-111d4c02a7ef"
      },
      "execution_count": null,
      "outputs": [
        {
          "output_type": "stream",
          "name": "stdout",
          "text": [
            "['ABC', 'ACB', 'BAC', 'BCA', 'CAB', 'CBA']\n"
          ]
        }
      ]
    },
    {
      "cell_type": "code",
      "source": [
        "from collections import Counter\n",
        "class Solution:\n",
        "    def checkInclusion(self, s1: str, s2: str) -> bool:\n",
        "        # Edge Condition\n",
        "        if len(s1) > len(s2):\n",
        "            return False\n",
        "        n1 = len(s1)\n",
        "        \n",
        "\t\t# Hashmap for s1\n",
        "        c1 = Counter(s1)\n",
        "\t\t\n",
        "        for i in range(len(s2)-n1+1):\n",
        "            if Counter(s2[i:i+n1]) == c1:\n",
        "                       return True\n",
        "        return False\n",
        "obj = Solution()\n",
        "print(obj.checkInclusion(s1 = \"ab\", s2 = \"eidbaooo\"))"
      ],
      "metadata": {
        "colab": {
          "base_uri": "https://localhost:8080/"
        },
        "id": "qRHDK5yYUj4G",
        "outputId": "6401439e-7ea9-4471-942b-e20574ff469c"
      },
      "execution_count": null,
      "outputs": [
        {
          "output_type": "stream",
          "name": "stdout",
          "text": [
            "True\n"
          ]
        }
      ]
    },
    {
      "cell_type": "markdown",
      "source": [
        "## ***Feb 12:* 127. Word Ladder**"
      ],
      "metadata": {
        "id": "6lcX1WMrbxEH"
      }
    },
    {
      "cell_type": "code",
      "source": [
        "from collections import *\n",
        "class Solution:\n",
        "    def ladderLength(self, beginWord: str, endWord: str, wordList) -> int:\n",
        "        if endWord not in wordList or not endWord or not beginWord or not wordList:\n",
        "            return 0\n",
        "        L = len(beginWord)\n",
        "        all_combo_dict = defaultdict(list)\n",
        "        for word in wordList:\n",
        "            for i in range(L):\n",
        "                all_combo_dict[word[:i] + \"*\" + word[i+1:]].append(word) \n",
        "        queue = deque([(beginWord, 1)])\n",
        "        visited = set()\n",
        "        visited.add(beginWord)\n",
        "        while queue:\n",
        "            current_word, level = queue.popleft()\n",
        "            for i in range(L):\n",
        "                intermediate_word = current_word[:i] + \"*\" + current_word[i+1:]\n",
        "                for word in all_combo_dict[intermediate_word]:\n",
        "                    if word == endWord:\n",
        "                        return level + 1\n",
        "                    if word not in visited:\n",
        "                        visited.add(word)\n",
        "                        queue.append((word, level + 1))\n",
        "        return 0\n",
        "obj = Solution()\n",
        "print(obj.ladderLength(beginWord = \"hit\", endWord = \"cog\", wordList = [\"hot\",\"dot\",\"dog\",\"lot\",\"log\",\"cog\"]))"
      ],
      "metadata": {
        "colab": {
          "base_uri": "https://localhost:8080/"
        },
        "id": "ldkyzNPPb8Lo",
        "outputId": "fb149efd-0afe-46d4-d401-b34242f5931a"
      },
      "execution_count": null,
      "outputs": [
        {
          "output_type": "stream",
          "name": "stdout",
          "text": [
            "5\n"
          ]
        }
      ]
    },
    {
      "cell_type": "markdown",
      "source": [
        "## ***Feb 13:* 78. Subsets**"
      ],
      "metadata": {
        "id": "q_FN-IP_JWk0"
      }
    },
    {
      "cell_type": "code",
      "source": [
        "class Solution:\n",
        "    def subsets(self, nums):\n",
        "        nums.sort()\n",
        "        lst = [[]]\n",
        "        for n in nums:\n",
        "            lst += [i + [n] for i in lst]\n",
        "        return lst\n",
        "obj = Solution()\n",
        "print(obj.subsets(nums = [1,2,3]))"
      ],
      "metadata": {
        "colab": {
          "base_uri": "https://localhost:8080/"
        },
        "id": "12_9XEspJexT",
        "outputId": "af243796-b1ba-4dcb-c31c-e989a5fb5291"
      },
      "execution_count": null,
      "outputs": [
        {
          "output_type": "stream",
          "name": "stdout",
          "text": [
            "[[], [1], [2], [1, 2], [3], [1, 3], [2, 3], [1, 2, 3]]\n"
          ]
        }
      ]
    },
    {
      "cell_type": "markdown",
      "source": [
        "## ***Feb 14:* 104. Maximum Depth of Binary Tree**"
      ],
      "metadata": {
        "id": "yFA9-6ZA5bMP"
      }
    },
    {
      "cell_type": "code",
      "source": [
        "# Definition for a binary tree node.\n",
        "class TreeNode:\n",
        "    def __init__(self, val=0, left=None, right=None):\n",
        "        self.val = val\n",
        "        self.left = left\n",
        "        self.right = right\n",
        "class Solution:\n",
        "    def maxDepth(self, root) -> int:\n",
        "        def dfs(root, depth):\n",
        "            if not root: return depth\n",
        "            return max(dfs(root.left, depth + 1), dfs(root.right, depth + 1))\n",
        "\n",
        "        return dfs(root, 0)\n",
        "obj = Solution()\n",
        "\n",
        "ob2 = TreeNode(9, None, None)\n",
        "ob4 = TreeNode(7, None, None)\n",
        "ob5 = TreeNode(15, None, None)\n",
        "ob3 = TreeNode(20, ob5, ob4)\n",
        "ob1 = TreeNode(3, ob2, ob3)\n",
        "\n",
        "print(obj.maxDepth(ob1))"
      ],
      "metadata": {
        "colab": {
          "base_uri": "https://localhost:8080/"
        },
        "id": "tOYXeUO05nN_",
        "outputId": "eec38b89-cd54-42c2-da75-86fc99dde546"
      },
      "execution_count": null,
      "outputs": [
        {
          "output_type": "stream",
          "name": "stdout",
          "text": [
            "3\n"
          ]
        }
      ]
    },
    {
      "cell_type": "markdown",
      "source": [
        "## ***Feb 15:*136. Single Number**"
      ],
      "metadata": {
        "id": "jIW8uC6yvqE0"
      }
    },
    {
      "cell_type": "code",
      "source": [
        "class Solution:\n",
        "    def singleNumber(self, nums) -> int:\n",
        "        return (2 * sum(set(nums))) - sum(nums)\n",
        "obj = Solution()\n",
        "print(obj.singleNumber(nums = [4,1,2,1,2]))"
      ],
      "metadata": {
        "colab": {
          "base_uri": "https://localhost:8080/"
        },
        "id": "N1HGMO6Qvx3J",
        "outputId": "8b9b667b-724f-4f86-a618-6f6469cdfb32"
      },
      "execution_count": null,
      "outputs": [
        {
          "output_type": "stream",
          "name": "stdout",
          "text": [
            "4\n"
          ]
        }
      ]
    },
    {
      "cell_type": "markdown",
      "source": [
        "## ***Feb 17:* 39. Combination Sum**"
      ],
      "metadata": {
        "id": "8V9DhyMjzfvT"
      }
    },
    {
      "cell_type": "code",
      "source": [
        "class Solution:\n",
        "    def combinationSum(self, candidates, target: int):\n",
        "        idx_d = {val: idx for idx, val in enumerate(candidates)} # create {num:idx}\n",
        "        n = len(candidates)\n",
        "        dp = [[] for _ in range(target+1)]\n",
        "        for i in range(1, target+1):                         # from 1 to target, O(M)\n",
        "            for j in range(i):                               # O(M): for all previous calculated numbers\n",
        "                for comb in dp[j]:                           # O(M) worst: check each of their combinations\n",
        "                    start_idx = idx_d[comb[-1]]              # use start_idx to avoid repeats\n",
        "                    for val in candidates[start_idx:]:       # O(N): try all candidates\n",
        "                        if val + j == i: dp[i].append(comb + [val]) \n",
        "            for candidate in candidates:                     # O(N): directly from candidates not from previous result \n",
        "                if candidate == i: dp[i].append([candidate])\n",
        "        return dp[-1]\n",
        "obj = Solution()\n",
        "print(obj.combinationSum(candidates = [2,3,6,7], target = 7))"
      ],
      "metadata": {
        "colab": {
          "base_uri": "https://localhost:8080/"
        },
        "id": "95tpLQTazrT9",
        "outputId": "768446e8-563f-4966-e34d-0de50a556a24"
      },
      "execution_count": null,
      "outputs": [
        {
          "output_type": "stream",
          "name": "stdout",
          "text": [
            "[[2, 2, 3], [7]]\n"
          ]
        }
      ]
    },
    {
      "cell_type": "markdown",
      "source": [
        "## ***Feb 18:* 402. Remove K Digits**"
      ],
      "metadata": {
        "id": "6394qdZbdV3A"
      }
    },
    {
      "cell_type": "code",
      "source": [
        "class Solution:\n",
        "    def removeKdigits(self, num: str, k: int) -> str:\n",
        "        stack = []\n",
        "\n",
        "        for n in num:\n",
        "            while stack and k > 0 and stack[-1] > n:\n",
        "                k -= 1\n",
        "                stack.pop()\n",
        "            stack.append(n)\n",
        "\n",
        "        while stack and k > 0:\n",
        "            stack.pop()\n",
        "            k -= 1\n",
        "\n",
        "        if not stack:\n",
        "            return \"0\"\n",
        "\n",
        "        return str(int(\"\".join(stack)))\n",
        "obj = Solution()\n",
        "print(obj.removeKdigits(num = \"1432219\", k = 3))"
      ],
      "metadata": {
        "colab": {
          "base_uri": "https://localhost:8080/"
        },
        "id": "8tsPPDnHddMD",
        "outputId": "9329c3a7-3237-4daf-fa6e-92a9a5147ea6"
      },
      "execution_count": null,
      "outputs": [
        {
          "output_type": "stream",
          "name": "stdout",
          "text": [
            "1219\n"
          ]
        }
      ]
    },
    {
      "cell_type": "markdown",
      "source": [
        "## ***Feb 19:* 1675. Minimize Deviation in Array**"
      ],
      "metadata": {
        "id": "AzwIzJZ7FHNN"
      }
    },
    {
      "cell_type": "code",
      "source": [
        "MAX = 10**20\n",
        "from heapq import *\n",
        "class Solution:\n",
        "    def minimumDeviation(self, nums) -> int:\n",
        "        heap = []\n",
        "        answer = MAX\n",
        "        array_length = len(nums)\n",
        "        \n",
        "        for num in nums:\n",
        "            if num % 2 == 0:\n",
        "                heappush(heap, -num)\n",
        "            else:\n",
        "                heappush(heap, -num*2)\n",
        "        \n",
        "        _min = -max(heap)\n",
        "\n",
        "        while True:\n",
        "            _max = -heappop(heap)\n",
        "            answer = min(answer, _max-_min)\n",
        "            \n",
        "            if _max % 2:\n",
        "                break\n",
        "\n",
        "            heappush(heap, -_max//2)\n",
        "            _min = min(_min, _max//2)\n",
        "\n",
        "        return answer\n",
        "obj = Solution()\n",
        "print(obj.minimumDeviation(nums = [1,2,3,4]))"
      ],
      "metadata": {
        "colab": {
          "base_uri": "https://localhost:8080/"
        },
        "id": "KTGq7Zz3FMVg",
        "outputId": "ebe169f5-57e3-42ec-dc24-b660d4426de5"
      },
      "execution_count": null,
      "outputs": [
        {
          "output_type": "stream",
          "name": "stdout",
          "text": [
            "1\n"
          ]
        }
      ]
    },
    {
      "cell_type": "markdown",
      "source": [
        "## ***Feb 20:* 1288. Remove Covered Intervals**"
      ],
      "metadata": {
        "id": "FPFdPApCrnQD"
      }
    },
    {
      "cell_type": "code",
      "source": [
        "class Solution:\n",
        "    def removeCoveredIntervals(self, intervals) -> int:\n",
        "        intervals = sorted(intervals, key = lambda x : (x[0], -x[1]))\n",
        "        count = len(intervals)\n",
        "        l = intervals[0][0]\n",
        "        h = intervals[0][1]\n",
        "        for i in range(1, len(intervals)):\n",
        "            if intervals[i][0] < l and intervals[i][1] > h:\n",
        "                l = intervals[i][0]\n",
        "                h = intervals[i][1]\n",
        "                count -= 1\n",
        "                print(intervals[i], end = ' ')\n",
        "            elif (intervals[i][0] and intervals[i][1]) in range(l, h+1):\n",
        "                count -= 1\n",
        "            elif intervals[i][1] > h:\n",
        "                h = intervals[i][1]\n",
        "            elif intervals[i][0] < l:\n",
        "                l = intervals[i][0]\n",
        "        return count\n",
        "                \n",
        "\n",
        "        \n",
        "obj = Solution()\n",
        "intervals = [[1,4],[3,6],[2,8]]\n",
        "intervals = [[1,4],[2,3]]\n",
        "intervals = [[34335,39239],[15875,91969],[29673,66453],[53548,69161],[40618,93111]]\n",
        "# intervals.sort(key=lambda x: [x[0], -x[1]])\n",
        "# print(intervals)\n",
        "print(obj.removeCoveredIntervals(intervals))"
      ],
      "metadata": {
        "colab": {
          "base_uri": "https://localhost:8080/"
        },
        "id": "5Ui324eb1kLJ",
        "outputId": "c5bac123-f17a-4e7b-dc8f-63df0b6e38f9"
      },
      "execution_count": null,
      "outputs": [
        {
          "output_type": "stream",
          "name": "stdout",
          "text": [
            "[40618, 93111]\n",
            "2\n"
          ]
        }
      ]
    },
    {
      "cell_type": "markdown",
      "source": [
        "## ***Feb 22:* 171. Excel Sheet Column Number**"
      ],
      "metadata": {
        "id": "M9CtCd9SzURM"
      }
    },
    {
      "cell_type": "code",
      "source": [
        ""
      ],
      "metadata": {
        "id": "h5ut-h24zlOl"
      },
      "execution_count": null,
      "outputs": []
    },
    {
      "cell_type": "markdown",
      "source": [
        "## ***Feb 23:* 133. Clone Graph**"
      ],
      "metadata": {
        "id": "pTUN8zEkzO9M"
      }
    },
    {
      "cell_type": "code",
      "source": [
        ""
      ],
      "metadata": {
        "id": "emNO0InDzTB5"
      },
      "execution_count": null,
      "outputs": []
    },
    {
      "cell_type": "markdown",
      "source": [
        "## ***Feb 24:* Sort List**"
      ],
      "metadata": {
        "id": "x0Ug5-bF9mD4"
      }
    },
    {
      "cell_type": "code",
      "source": [
        ""
      ],
      "metadata": {
        "id": "SkWfPvfT9szU"
      },
      "execution_count": null,
      "outputs": []
    },
    {
      "cell_type": "markdown",
      "source": [
        "## ***Feb 25:* 165. Compare Version Numbers**"
      ],
      "metadata": {
        "id": "F6NQVT5rej_d"
      }
    },
    {
      "cell_type": "code",
      "source": [
        "class Solution:\n",
        "    def compareVersion(self, version1: str, version2: str) -> int:\n",
        "        v1 = version1.split(\".\")\n",
        "        v2 = version2.split(\".\")\n",
        "        \n",
        "        while v1 or v2:\n",
        "            v1_val = 0\n",
        "            v2_val = 0\n",
        "            if v1: v1_val = int(v1.pop(0))\n",
        "            if v2: v2_val = int(v2.pop(0))\n",
        "            \n",
        "            if v1_val > v2_val: return 1\n",
        "            if v1_val < v2_val: return -1\n",
        "            \n",
        "        return 0\n",
        "obj = Solution()\n",
        "print(obj.compareVersion(version1 = \"1.01\", version2 = \"1.001\"))"
      ],
      "metadata": {
        "id": "OACWzeU9evW_",
        "colab": {
          "base_uri": "https://localhost:8080/"
        },
        "outputId": "243786a5-01fe-4ca3-9f61-e64d34da7276"
      },
      "execution_count": null,
      "outputs": [
        {
          "output_type": "stream",
          "name": "stdout",
          "text": [
            "0\n"
          ]
        }
      ]
    },
    {
      "cell_type": "markdown",
      "source": [
        "## ***Feb 26:* 847. Shortest Path Visiting All Nodes**"
      ],
      "metadata": {
        "id": "m58c7-7LecBF"
      }
    },
    {
      "cell_type": "code",
      "source": [
        "class Solution:\n",
        "    def shortestPathLength(self, graph) -> int:\n",
        "        length = len(graph)\n",
        "\n",
        "        result = 0\n",
        "\n",
        "        visited_node = []\n",
        "\n",
        "        queue = []  \n",
        "\n",
        "        for i in range(length):\n",
        "          visited_node.append(set([1<<i]))\n",
        "          queue.append([i,1<<i])\n",
        "\n",
        "        while queue:\n",
        "\n",
        "          result = result + 1\n",
        "\n",
        "          new_queue = []\n",
        "\n",
        "          for node, value in queue:\n",
        "\n",
        "            for neigbour_node in graph[node]:\n",
        "\n",
        "              mid_node = (1<<neigbour_node)|value\n",
        "\n",
        "              if mid_node not in visited_node[neigbour_node]:\n",
        "\n",
        "                if mid_node+1 == 1<<length:\n",
        "\n",
        "                  return result\n",
        "\n",
        "                visited_node[neigbour_node].add(mid_node)\n",
        "\n",
        "                new_queue.append([neigbour_node, mid_node])\n",
        "\n",
        "          queue = new_queue\n",
        "\n",
        "        return 0\n",
        "obj = Solution()\n",
        "print(obj.shortestPathLength(graph = [[1],[0,2,4],[1,3,4],[2],[1,2]]))"
      ],
      "metadata": {
        "colab": {
          "base_uri": "https://localhost:8080/"
        },
        "id": "12O16vKbejM-",
        "outputId": "b60e3602-615b-4715-89d3-dd3222b3e3c2"
      },
      "execution_count": null,
      "outputs": [
        {
          "output_type": "stream",
          "name": "stdout",
          "text": [
            "4\n"
          ]
        }
      ]
    },
    {
      "cell_type": "markdown",
      "source": [
        "## ***Feb 27:* 662. Maximum Width of Binary Tree**"
      ],
      "metadata": {
        "id": "JZpvzuihSa2-"
      }
    },
    {
      "cell_type": "code",
      "source": [
        "# Definition for a binary tree node.\n",
        "class TreeNode:\n",
        "    def __init__(self, val=0, left=None, right=None):\n",
        "        self.val = val\n",
        "        self.left = left\n",
        "        self.right = right\n",
        "from collections import defaultdict\n",
        "class Solution:\n",
        "    def widthOfBinaryTree(self, root) -> int:\n",
        "        di = defaultdict(list)\n",
        "        def dfs(node, level, column):\n",
        "            if node:\n",
        "                di[level].append(column)\n",
        "                dfs(node.left, level+1, column*2)\n",
        "                dfs(node.right, level+1, column*2+1)\n",
        "        dfs(root, 0 , 0)\n",
        "        return max([max(di[level]) - min(di[level]) +1 for level in di])\n",
        "\n",
        "root = [1,3,2,5]\n",
        "o1 = TreeNode()\n",
        "o2 = TreeNode()\n",
        "o3 = TreeNode()\n",
        "o4 = TreeNode()\n",
        "\n",
        "o1.val = 1\n",
        "o1.left = o2\n",
        "o1.right = o3\n",
        "\n",
        "o2.val = 3\n",
        "o2.left = o4\n",
        "o3.val = 2\n",
        "o4.val = 5\n",
        "obj = Solution()\n",
        "print(obj.widthOfBinaryTree(o1))\n"
      ],
      "metadata": {
        "colab": {
          "base_uri": "https://localhost:8080/"
        },
        "id": "6OhZLVNUfjXG",
        "outputId": "499fe43f-9b38-44a1-f4ee-752b863bedd2"
      },
      "execution_count": null,
      "outputs": [
        {
          "output_type": "stream",
          "name": "stdout",
          "text": [
            "2\n"
          ]
        }
      ]
    },
    {
      "cell_type": "markdown",
      "source": [
        "## ***Feb 28:* 228. Summary Ranges**"
      ],
      "metadata": {
        "id": "DTAwiATELNw4"
      }
    },
    {
      "cell_type": "code",
      "source": [
        "class Solution:\n",
        "    def summaryRanges(self, nums):\n",
        "        if len(nums) == 0:   return []\n",
        "        ret = []\n",
        "        temp = [nums[0],nums[0]]\n",
        "        for i in range(len(nums)-1):\n",
        "            if nums[i+1] - nums[i] == 1:\n",
        "                temp[1] = nums[i+1]\n",
        "            else:\n",
        "                if temp[0] == temp[1]:\n",
        "                    ret.append(str(temp[0]))\n",
        "                else:\n",
        "                    ret.append(str(temp[0]) + '->' + str(temp[1]))\n",
        "                temp[0] = temp[1] = nums[i+1]\n",
        "        if temp[0] == temp[1]:\n",
        "            ret.append(str(temp[0]))\n",
        "        else:\n",
        "            ret.append(str(temp[0]) + '->' + str(temp[1]))\n",
        "        return ret\n",
        "obj = Solution()\n",
        "print(obj.summaryRanges(nums = [0,1,2,4,5,7]))"
      ],
      "metadata": {
        "colab": {
          "base_uri": "https://localhost:8080/"
        },
        "id": "cfF_cXS6LVI9",
        "outputId": "f8dc6fe2-784f-4be6-9ba2-c192675e0156"
      },
      "execution_count": null,
      "outputs": [
        {
          "output_type": "stream",
          "name": "stdout",
          "text": [
            "['0->2', '4->5', '7']\n"
          ]
        }
      ]
    },
    {
      "cell_type": "code",
      "source": [
        "nums = [0,1,2,4,5,7]\n",
        "ret = []\n",
        "temp = [nums[0],0]\n",
        "for i in range(len(nums)-1):\n",
        "    if nums[i+1] - nums[i] == 1:\n",
        "        temp[1] = nums[i]\n",
        "    else:\n",
        "        if temp[0] == temp[1]:\n",
        "            ret.append(str(temp[0]))\n",
        "        else:\n",
        "            ret.append(str(temp[0]) + '->' + str(temp[1]))\n",
        "        temp[0] = nums[i]\n",
        "print(ret)\n",
        "\n",
        "\n",
        "def summaryRanges(nums):\n",
        "    ranges, r = [], []\n",
        "    for n in nums:\n",
        "        if n-1 not in r:\n",
        "            r = []\n",
        "            ranges += r,\n",
        "        r[1:] = n,\n",
        "    return ['->'.join(map(str, r)) for r in ranges]\n",
        "summaryRanges(nums)"
      ],
      "metadata": {
        "colab": {
          "base_uri": "https://localhost:8080/"
        },
        "id": "G3ef-BTyOrOt",
        "outputId": "ddf9ac52-227f-40aa-c426-b8eecf08f92f"
      },
      "execution_count": null,
      "outputs": [
        {
          "output_type": "stream",
          "name": "stdout",
          "text": [
            "['0->1', '2->4']\n"
          ]
        },
        {
          "output_type": "execute_result",
          "data": {
            "text/plain": [
              "['0->2', '4->5', '7']"
            ]
          },
          "metadata": {},
          "execution_count": 18
        }
      ]
    },
    {
      "cell_type": "markdown",
      "source": [
        "# **Daily Coding Challenge March**"
      ],
      "metadata": {
        "id": "JHE_40mNtNVK"
      }
    },
    {
      "cell_type": "markdown",
      "source": [
        "## ***Mar 3:* 413. Arithmetic Slices**"
      ],
      "metadata": {
        "id": "5nnqFjzotZOQ"
      }
    },
    {
      "cell_type": "code",
      "source": [
        "class Solution:\n",
        "    def numberOfArithmeticSlices(self, A) -> int:\n",
        "        le=len(A)\n",
        "        l=[0]*(le)\n",
        "        for i in range(2,le):\n",
        "            if A[i]-A[i-1] == A[i-1]-A[i-2]:\n",
        "                l[i]=1+l[i-1]\n",
        "        return sum(l)\n",
        "obj = Solution()\n",
        "print(obj.numberOfArithmeticSlices(A = [1,2,3,4]))"
      ],
      "metadata": {
        "id": "YARq9HGwtj3F",
        "colab": {
          "base_uri": "https://localhost:8080/"
        },
        "outputId": "309584d1-464a-447d-c2d9-d84f94a8cf70"
      },
      "execution_count": null,
      "outputs": [
        {
          "output_type": "stream",
          "name": "stdout",
          "text": [
            "3\n"
          ]
        }
      ]
    },
    {
      "cell_type": "markdown",
      "source": [
        "## ***Mar 4:* Problem statment**"
      ],
      "metadata": {
        "id": "IGmOKY7aIkDw"
      }
    },
    {
      "cell_type": "code",
      "source": [
        ""
      ],
      "metadata": {
        "id": "nBxPunQiJBps"
      },
      "execution_count": null,
      "outputs": []
    },
    {
      "cell_type": "markdown",
      "source": [
        "## ***Mar 5:* Problem statment**"
      ],
      "metadata": {
        "id": "Xxyn2D5pHoJi"
      }
    },
    {
      "cell_type": "code",
      "source": [
        "class Solution:\n",
        "    def deleteAndEarn(self, nums) -> int:\n",
        "        \"\"\"\n",
        "            This question is similar to https://leetcode.com/problems/house-robber.\n",
        "            The only difference here is we need to first calculate the money in each house.\n",
        "            Let us consider, we have houses from 0 to max(nums). Now each time a number occurs in nums, we add that number to its corresponding house.\n",
        "            At the end we will left with houses and the money they have.\n",
        "            \n",
        "        \"\"\"\n",
        "        lookup = [0] * (max(nums) + 1)\n",
        "        for num in nums:\n",
        "            lookup[num] += 1\n",
        "\n",
        "        n = len(lookup)\n",
        "        dp = [0] * n\n",
        "        dp[0] = lookup[0]\n",
        "        dp[1] = max(lookup[0], lookup[1])\n",
        "        for i in range(2, n):\n",
        "            dp[i] = max(i*lookup[i] + dp[i-2], dp[i-1])\n",
        "        return dp[-1]\n",
        "obj = Solution()\n",
        "print(obj.deleteAndEarn(nums = [3,4,2]))"
      ],
      "metadata": {
        "colab": {
          "base_uri": "https://localhost:8080/"
        },
        "id": "orvxkR9SHoJj",
        "outputId": "262e9167-3f96-42f4-8237-1d2d5e48a1e5"
      },
      "execution_count": null,
      "outputs": [
        {
          "output_type": "stream",
          "name": "stdout",
          "text": [
            "6\n"
          ]
        }
      ]
    },
    {
      "cell_type": "markdown",
      "source": [
        "## ***Mar 6:* 1359. Count All Valid Pickup and Delivery Options**"
      ],
      "metadata": {
        "id": "NaGqpcOWXfg7"
      }
    },
    {
      "cell_type": "code",
      "source": [
        "class Solution:\n",
        "    def countOrders(self, n: int) -> int:\n",
        "        a = 1\n",
        "        for i in range(2, n+1):\n",
        "            a *= i*(2*i-1)\n",
        "        return a % (10**9 + 7)\n",
        "\n",
        "obj = Solution()\n",
        "print(obj.countOrders(800))"
      ],
      "metadata": {
        "colab": {
          "base_uri": "https://localhost:8080/"
        },
        "id": "m3QzAb_eXtSI",
        "outputId": "7f0ff091-1f33-4cd3-c42a-c4fb29b6b776"
      },
      "execution_count": null,
      "outputs": [
        {
          "output_type": "stream",
          "name": "stdout",
          "text": [
            "150560050\n"
          ]
        }
      ]
    },
    {
      "cell_type": "markdown",
      "source": [
        "## ***Mar 7:* Problem statement**"
      ],
      "metadata": {
        "id": "2SG0you5nA8O"
      }
    },
    {
      "cell_type": "code",
      "source": [
        ""
      ],
      "metadata": {
        "id": "IkXjniVanPez"
      },
      "execution_count": null,
      "outputs": []
    },
    {
      "cell_type": "markdown",
      "source": [
        "## ***Mar 8:* 141. Linked List Cycle**"
      ],
      "metadata": {
        "id": "rNmrpqht8cQ7"
      }
    },
    {
      "cell_type": "code",
      "source": [
        "# Definition for singly-linked list.\n",
        "class ListNode:\n",
        "    def __init__(self, x):\n",
        "        self.val = x\n",
        "        self.next = None\n",
        "    def print_node(self):\n",
        "        while self:\n",
        "            # print(self.val, end = ' ')\n",
        "            self = self.next\n",
        "\n",
        "class Solution:\n",
        "    def hasCycle(self, head) -> bool:\n",
        "        slow = fast = head\n",
        "        while fast and fast.next:\n",
        "            fast = fast.next.next\n",
        "            slow = slow.next\n",
        "            if slow == fast:\n",
        "                return True\n",
        "        return False\n",
        "obj = Solution()\n",
        "o1 = ListNode(3)\n",
        "o2 = ListNode(2)\n",
        "o3 = ListNode(0)\n",
        "o4 = ListNode(-4)\n",
        "o1.next = o2\n",
        "o2.next = o3\n",
        "o3.next = o4\n",
        "o4.next = o2\n",
        "head = o1\n",
        "# head.print_node()\n",
        "print(obj.hasCycle(head))"
      ],
      "metadata": {
        "colab": {
          "base_uri": "https://localhost:8080/"
        },
        "id": "CO_RQwhS9Oua",
        "outputId": "13637a46-4906-417d-8177-25a8872821a0"
      },
      "execution_count": null,
      "outputs": [
        {
          "output_type": "stream",
          "name": "stdout",
          "text": [
            "True\n"
          ]
        }
      ]
    },
    {
      "cell_type": "markdown",
      "source": [
        "## ***Mar 13:* 20. Valid Parentheses**"
      ],
      "metadata": {
        "id": "wD9sAjDQUxO1"
      }
    },
    {
      "cell_type": "code",
      "source": [
        "class Solution:\n",
        "    def isValid(self, s: str) -> bool:\n",
        "        if len(s) % 2 != 0:\n",
        "            return False\n",
        "        lists =[]  \n",
        "        dic ={\n",
        "            '}':'{',\n",
        "            ')':'(',\n",
        "            ']':'['\n",
        "        }\n",
        "        dic_values = dic.values()  # [ '{', '(',  '[' ]\n",
        "        for i in s:  # \n",
        "            if i in dic_values:\n",
        "                lists.append(i)\n",
        "            else:\n",
        "                if len(lists) > 0 and lists[-1] ==dic[i]:\n",
        "                    lists.pop()\n",
        "                else:\n",
        "                    return False\n",
        "        return len(lists) == 0\n",
        "obj = Solution()\n",
        "print(obj.isValid('(]'))"
      ],
      "metadata": {
        "colab": {
          "base_uri": "https://localhost:8080/"
        },
        "id": "FFPgep9UiLxj",
        "outputId": "a20a9b64-e62e-43a5-dc71-9a0ce38b1b9d"
      },
      "execution_count": null,
      "outputs": [
        {
          "output_type": "stream",
          "name": "stdout",
          "text": [
            "False\n"
          ]
        }
      ]
    },
    {
      "cell_type": "markdown",
      "source": [
        "# **Biweekly Contest 72**"
      ],
      "metadata": {
        "id": "6rRUS1LAZ1KR"
      }
    },
    {
      "cell_type": "markdown",
      "source": [
        "## **2176. Count Equal and Divisible Pairs in an Array**"
      ],
      "metadata": {
        "id": "dk_iQP-0IqJR"
      }
    },
    {
      "cell_type": "code",
      "source": [
        "class Solution:\n",
        "    def countPairs(self, nums, k: int) -> int:\n",
        "        if list(set(nums)) == nums:\n",
        "            return 0\n",
        "        l = len(nums)\n",
        "        count = 0\n",
        "        for i in range(l):\n",
        "            for j in range(i+1 ,l):\n",
        "                if nums[i] == nums[j]:\n",
        "                    if (i * j) % k == 0:\n",
        "                        count += 1\n",
        "                        print(i,j)\n",
        "        return count\n",
        "\n",
        "obj = Solution()\n",
        "print(obj.countPairs(nums = [3,1,2,2,2,1,3], k = 2))"
      ],
      "metadata": {
        "colab": {
          "base_uri": "https://localhost:8080/"
        },
        "id": "Js2-VB-BZ4HP",
        "outputId": "b4b85459-507a-449c-e14a-66add37969ca"
      },
      "execution_count": null,
      "outputs": [
        {
          "output_type": "stream",
          "name": "stdout",
          "text": [
            "0 6\n",
            "2 3\n",
            "2 4\n",
            "3 4\n",
            "4\n"
          ]
        }
      ]
    },
    {
      "cell_type": "markdown",
      "source": [
        "## **2177. Find Three Consecutive Integers That Sum to a Given Number**"
      ],
      "metadata": {
        "id": "8Qv59oVyeSBQ"
      }
    },
    {
      "cell_type": "code",
      "source": [
        "n = 100\n",
        "val = n // 3\n",
        "print([val-1 ,val , val+1], sum([val-1 ,val , val+1]))"
      ],
      "metadata": {
        "colab": {
          "base_uri": "https://localhost:8080/"
        },
        "id": "ljWxqTdgeUHz",
        "outputId": "20370548-4303-4d98-eca3-13e1bd290719"
      },
      "execution_count": null,
      "outputs": [
        {
          "output_type": "stream",
          "name": "stdout",
          "text": [
            "[32, 33, 34] 99\n"
          ]
        }
      ]
    },
    {
      "cell_type": "markdown",
      "source": [
        "## **2178. Maximum Split of Positive Even Integers**"
      ],
      "metadata": {
        "id": "7RuW6YtWi7Dy"
      }
    },
    {
      "cell_type": "code",
      "source": [
        "class Solution:\n",
        "    def maximumEvenSplit(self, finalSum: int):\n",
        "        if finalSum % 2 != 0:\n",
        "            return []\n",
        "        x = 2\n",
        "        ret = []\n",
        "        while finalSum >= x * 2 + 2:\n",
        "            ret.append(x)\n",
        "            finalSum -= x\n",
        "            x += 2\n",
        "            print(x, finalSum, x * 2 + 2)\n",
        "            ret.append(finalSum)\n",
        "        return ret\n",
        "obj = Solution()\n",
        "print(obj.maximumEvenSplit(finalSum = 28))"
      ],
      "metadata": {
        "colab": {
          "base_uri": "https://localhost:8080/"
        },
        "id": "UjIEQCf9i-Yi",
        "outputId": "1f5b3f24-c58d-48d4-a599-619059b2a70a"
      },
      "execution_count": null,
      "outputs": [
        {
          "output_type": "stream",
          "name": "stdout",
          "text": [
            "4 26 10\n",
            "6 22 14\n",
            "8 16 18\n",
            "[2, 26, 4, 22, 6, 16]\n"
          ]
        }
      ]
    },
    {
      "cell_type": "markdown",
      "source": [
        "# **Weekly Contest 281**"
      ],
      "metadata": {
        "id": "H-ytByKQ_h8G"
      }
    },
    {
      "cell_type": "markdown",
      "source": [
        "## **6012. Count Integers With Even Digit Sum**"
      ],
      "metadata": {
        "id": "OwDmRjJW_p6x"
      }
    },
    {
      "cell_type": "code",
      "source": [
        "class Solution:\n",
        "    def countEven(self, num: int) -> int:\n",
        "        def is_even(n):\n",
        "            val = str(n)\n",
        "            ret = 0\n",
        "            for i in val:\n",
        "                ret += int(i)\n",
        "            #     print(i, end = ' ')\n",
        "            # print(ret, end = ' ')\n",
        "            if ret % 2 == 0:\n",
        "                return True\n",
        "            else:\n",
        "                return False\n",
        "        \n",
        "        count = 0\n",
        "        for i in range(1, num+1):\n",
        "            if is_even(i):\n",
        "                print(i)\n",
        "                count += 1\n",
        "        return count\n",
        "obj = Solution()\n",
        "print(obj.countEven(30))"
      ],
      "metadata": {
        "colab": {
          "base_uri": "https://localhost:8080/"
        },
        "id": "g4-HERLk_nhW",
        "outputId": "dcb252f0-2e4f-4814-b8a7-d453e2624f91"
      },
      "execution_count": null,
      "outputs": [
        {
          "output_type": "stream",
          "name": "stdout",
          "text": [
            "2\n",
            "4\n",
            "6\n",
            "8\n",
            "11\n",
            "13\n",
            "15\n",
            "17\n",
            "19\n",
            "20\n",
            "22\n",
            "24\n",
            "26\n",
            "28\n",
            "14\n"
          ]
        }
      ]
    },
    {
      "cell_type": "markdown",
      "source": [
        "## **6013. Merge Nodes in Between Zeros**"
      ],
      "metadata": {
        "id": "N1rWf_g5EXQq"
      }
    },
    {
      "cell_type": "code",
      "source": [
        "# Definition for singly-linked list.\n",
        "class ListNode:\n",
        "    def __init__(self, val=0, next=None):\n",
        "        self.val = val\n",
        "        self.next = next\n",
        "    def print_Node(self):\n",
        "        lst = []\n",
        "        while self:\n",
        "          lst.append(self.val)\n",
        "          self = self.next\n",
        "        return lst\n",
        "class Solution:\n",
        "    def mergeNodes(self, head):\n",
        "        curr = head\n",
        "        ret = ListNode(0)\n",
        "        ret1 = ret\n",
        "        array = []\n",
        "        curr = curr.next\n",
        "        while curr:\n",
        "            if curr.val != 0:\n",
        "                array.append(curr.val)\n",
        "                curr = curr.next\n",
        "            elif curr.val == 0:\n",
        "                cur = ListNode(sum(array))\n",
        "                ret.next = cur\n",
        "                ret = ret.next\n",
        "                curr = curr.next\n",
        "                array = []\n",
        "        return ret1.next\n",
        "o1 = ListNode()\n",
        "o2 = ListNode()\n",
        "o3 = ListNode()\n",
        "o4 = ListNode()\n",
        "o5 = ListNode()\n",
        "o6 = ListNode()\n",
        "o7 = ListNode()\n",
        "o8 = ListNode()\n",
        "o1.val = 0\n",
        "o2.val = 1\n",
        "o3.val = 0\n",
        "o4.val = 3\n",
        "o5.val = 0\n",
        "o6.val = 2\n",
        "o7.val = 2\n",
        "o8.val = 0\n",
        "head = o1\n",
        "o1.next = o2\n",
        "o2.next = o3\n",
        "o3.next = o4\n",
        "o4.next = o5\n",
        "o5.next = o6\n",
        "o6.next = o7\n",
        "o7.next = o8\n",
        "o8.next = None\n",
        "\n",
        "obj = Solution()\n",
        "head1 = obj.mergeNodes(head)\n",
        "head1.print_Node()\n",
        "# print(obj.mergeNodes(head1))\n"
      ],
      "metadata": {
        "colab": {
          "base_uri": "https://localhost:8080/"
        },
        "id": "LkQH5CdARlYv",
        "outputId": "26a61d15-6df6-4da2-a239-4d6e4d563e26"
      },
      "execution_count": null,
      "outputs": [
        {
          "output_type": "execute_result",
          "data": {
            "text/plain": [
              "[1, 3, 4]"
            ]
          },
          "metadata": {},
          "execution_count": 47
        }
      ]
    },
    {
      "cell_type": "markdown",
      "source": [
        "# **Weekly Contest 282**"
      ],
      "metadata": {
        "id": "euDy3_I7BLxG"
      }
    },
    {
      "cell_type": "markdown",
      "source": [
        "## **Weekly Contest 282**"
      ],
      "metadata": {
        "id": "1yzSPJ34BmT_"
      }
    },
    {
      "cell_type": "code",
      "source": [
        "class Solution:\n",
        "    def prefixCount(self, words, pref: str) -> int:\n",
        "        l = len(pref)\n",
        "        print(words[1][:2])\n",
        "        count = 0\n",
        "        for i in range(len(words)):\n",
        "            if words[i][:l] == pref:\n",
        "                count += 1\n",
        "        return count\n",
        "obj = Solution()\n",
        "print(obj.prefixCount(words = [\"pay\",\"attention\",\"practice\",\"attend\"], pref = \"at\"))"
      ],
      "metadata": {
        "colab": {
          "base_uri": "https://localhost:8080/"
        },
        "id": "wwS0edPMBj3e",
        "outputId": "a3c1ab49-ba9c-4259-fabd-d6cbedb236a7"
      },
      "execution_count": null,
      "outputs": [
        {
          "output_type": "stream",
          "name": "stdout",
          "text": [
            "at\n",
            "2\n"
          ]
        }
      ]
    },
    {
      "cell_type": "markdown",
      "source": [
        "## **6009. Minimum Number of Steps to Make Two Strings Anagram II**"
      ],
      "metadata": {
        "id": "mE0pY4c-C7Ll"
      }
    },
    {
      "cell_type": "code",
      "source": [
        "from collections import *\n",
        "class Solution:\n",
        "    def minSteps(self, s: str, t: str) -> int:\n",
        "        return len(list((Counter(t) - Counter(s)).elements())) + len(list((Counter(s) - Counter(t)).elements()))\n",
        "obj = Solution()\n",
        "print(obj.minSteps(s = \"leetcode\", t = \"coats\"))"
      ],
      "metadata": {
        "colab": {
          "base_uri": "https://localhost:8080/"
        },
        "id": "1grsLi1pICcC",
        "outputId": "ef0a6978-09d6-4f19-e1bd-2dfa78db0cc3"
      },
      "execution_count": null,
      "outputs": [
        {
          "output_type": "stream",
          "name": "stdout",
          "text": [
            "7\n"
          ]
        }
      ]
    },
    {
      "cell_type": "code",
      "source": [
        "print(set(\"leetcode\").symmetric_difference(set(\"coats\")))\n",
        "print(set(\"night\").difference(set(\"thing\")))"
      ],
      "metadata": {
        "colab": {
          "base_uri": "https://localhost:8080/"
        },
        "id": "gTH8EDZdDAoi",
        "outputId": "772f0d5e-c7f7-458a-e622-9a3ac8e4e58c"
      },
      "execution_count": null,
      "outputs": [
        {
          "output_type": "stream",
          "name": "stdout",
          "text": [
            "{'s', 'e', 'a', 'l', 'd'}\n",
            "set()\n"
          ]
        }
      ]
    },
    {
      "cell_type": "code",
      "source": [
        "from collections import Counter\n",
        "test_list1 = [1, 3, 4, 5, 1, 3, 3]\n",
        "test_list2 = [1, 3, 5]  \n",
        "res = list((Counter(test_list1) - Counter(test_list2)).elements())\n",
        "res1 = list((Counter(test_list2) - Counter(test_list1)).elements())\n",
        "print(\"The list after performing the subtraction : \" + str(res))\n",
        "print(\"The list after performing the subtraction : \" + str(res1))"
      ],
      "metadata": {
        "colab": {
          "base_uri": "https://localhost:8080/"
        },
        "id": "P54sHoF7GMO7",
        "outputId": "8e2cfebb-5509-4ced-992f-8b3ba90b5707"
      },
      "execution_count": null,
      "outputs": [
        {
          "output_type": "stream",
          "name": "stdout",
          "text": [
            "The list after performing the subtraction : [1, 3, 3, 4]\n",
            "The list after performing the subtraction : []\n"
          ]
        }
      ]
    },
    {
      "cell_type": "code",
      "source": [
        "from collections import Counter\n",
        "test_list1 = \"leetcode\"\n",
        "test_list2 = 'coats'  \n",
        "res = list((Counter(\"leetcode\") - Counter(\"coats\")).elements())\n",
        "res1 = list((Counter(\"coats\") - Counter(\"leetcode\")).elements())\n",
        "print(\"The list after performing the subtraction : \" + str(res))\n",
        "print(\"The list after performing the subtraction : \" + str(res1))"
      ],
      "metadata": {
        "colab": {
          "base_uri": "https://localhost:8080/"
        },
        "id": "FS7beoE2HTBN",
        "outputId": "12050d1b-ca2d-4589-b993-d426ac2b4feb"
      },
      "execution_count": null,
      "outputs": [
        {
          "output_type": "stream",
          "name": "stdout",
          "text": [
            "The list after performing the subtraction : ['l', 'e', 'e', 'e', 'd']\n",
            "The list after performing the subtraction : ['a', 's']\n"
          ]
        }
      ]
    },
    {
      "cell_type": "markdown",
      "source": [
        "## **6010. Minimum Time to Complete Trips**"
      ],
      "metadata": {
        "id": "C3HBHd73ILuC"
      }
    },
    {
      "cell_type": "code",
      "source": [
        "class Solution:\n",
        "    def minimumTime(self, time, totalTrips: int) -> int:\n",
        "        lo, hi = 1, totalTrips * min(time)\n",
        "    \n",
        "        def f(x):\n",
        "            return sum(x // t for t in time) >= totalTrips\n",
        "        \n",
        "        while lo < hi:\n",
        "            mid = (lo + hi) // 2\n",
        "            if not f(mid): lo = mid + 1\n",
        "            else: hi = mid\n",
        "        return lo\n",
        "obj = Solution()\n",
        "print(obj.minimumTime(time = [1,2,3], totalTrips = 5))"
      ],
      "metadata": {
        "colab": {
          "base_uri": "https://localhost:8080/"
        },
        "id": "qg4it67wI08P",
        "outputId": "b702d44b-e3d8-44be-eaa4-1b3d960f3ba5"
      },
      "execution_count": null,
      "outputs": [
        {
          "output_type": "stream",
          "name": "stdout",
          "text": [
            "3\n"
          ]
        }
      ]
    },
    {
      "cell_type": "markdown",
      "source": [
        "# **Biweekly Contest 73**"
      ],
      "metadata": {
        "id": "f3QFlMhYHBHx"
      }
    },
    {
      "cell_type": "markdown",
      "source": [
        "## **6024. Most Frequent Number Following Key In an Array**"
      ],
      "metadata": {
        "id": "kE4XdbWKGnei"
      }
    },
    {
      "cell_type": "code",
      "source": [
        "dic = {9: 2, 100: 2, 200: 1}\n",
        "print(max(dic, key = dic.get))\n"
      ],
      "metadata": {
        "colab": {
          "base_uri": "https://localhost:8080/"
        },
        "id": "XYgecR7fwZ3B",
        "outputId": "b1614cd2-c838-4673-de82-2bbb170b4de5"
      },
      "execution_count": null,
      "outputs": [
        {
          "output_type": "stream",
          "name": "stdout",
          "text": [
            "9\n"
          ]
        }
      ]
    },
    {
      "cell_type": "code",
      "source": [
        "class Solution:\n",
        "    def mostFrequent(self, nums, key: int) -> int:\n",
        "        n = 0\n",
        "        r = dict()\n",
        "        for i in range(len(nums)-2):\n",
        "            if nums[i] == key:\n",
        "                nex = nums[i+1]\n",
        "                if nums[i] not in r:\n",
        "                    r[nums[i]] = 1\n",
        "                else:\n",
        "                    r[nums[i]] += 1\n",
        "                j = i + 2\n",
        "                while True:\n",
        "                    if nums[j] == nex:\n",
        "                        r[nums[i]] += 1\n",
        "                        j += 1\n",
        "                    else:\n",
        "                        break\n",
        "        return max(r, key = r.get)\n",
        "obj = Solution()\n",
        "print(obj.mostFrequent(nums = [2,2,2,2,3], key = 2))"
      ],
      "metadata": {
        "colab": {
          "base_uri": "https://localhost:8080/"
        },
        "id": "f5tvJ4DhySFG",
        "outputId": "15684873-28b0-430c-eb4c-d9d5e3d16183"
      },
      "execution_count": null,
      "outputs": [
        {
          "output_type": "stream",
          "name": "stdout",
          "text": [
            "2\n"
          ]
        }
      ]
    },
    {
      "cell_type": "code",
      "source": [
        "from collections import Counter\n",
        "class Solution:\n",
        "    def mostFrequent(self, nums, key: int) -> int:\n",
        "        n = len(nums)\n",
        "        C = Counter()\n",
        "        for i in range(n-1):\n",
        "            if nums[i] == key:\n",
        "                C[nums[i+1]] += 1\n",
        "        C = list(C.items())\n",
        "        print(C)\n",
        "        C.sort(key=lambda x:-x[1])\n",
        "        return C[0][0]\n",
        "obj = Solution()\n",
        "print(obj.mostFrequent(nums = [11,22,11,33,11,33], key = 11))"
      ],
      "metadata": {
        "colab": {
          "base_uri": "https://localhost:8080/"
        },
        "id": "6AHZo7Uw6s8_",
        "outputId": "48d28cea-9e40-4184-b7db-d39fe362a976"
      },
      "execution_count": null,
      "outputs": [
        {
          "output_type": "stream",
          "name": "stdout",
          "text": [
            "[(22, 1), (33, 2)]\n",
            "33\n"
          ]
        }
      ]
    },
    {
      "cell_type": "code",
      "source": [
        "class Solution:\n",
        "    def mostFrequent(self, nums, key: int) -> int:\n",
        "        n = len(nums)\n",
        "        C = Counter()\n",
        "        for i in range(n-1):\n",
        "            if nums[i] == key:\n",
        "                C[nums[i+1]] += 1\n",
        "        C = list(C.items())\n",
        "        print(C)\n",
        "        res = -1; cnt = -1\n",
        "        for i in range(len(C)):\n",
        "            if cnt < C[i][1]:\n",
        "                cnt = C[i][1]\n",
        "                res = C[i][0]\n",
        "        return res\n",
        "obj = Solution()\n",
        "print(obj.mostFrequent(nums = [11,22,11,33,11,33], key = 11))\n"
      ],
      "metadata": {
        "colab": {
          "base_uri": "https://localhost:8080/"
        },
        "id": "Wus8Z7nVGsOJ",
        "outputId": "ff1afb7d-93b0-4fcb-b6fa-97649a568e36"
      },
      "execution_count": null,
      "outputs": [
        {
          "output_type": "stream",
          "name": "stdout",
          "text": [
            "[(22, 1), (33, 2)]\n",
            "33\n"
          ]
        }
      ]
    },
    {
      "cell_type": "markdown",
      "source": [
        "# **Weekly Contest 283**"
      ],
      "metadata": {
        "id": "KcF5ifkPMIxk"
      }
    },
    {
      "cell_type": "markdown",
      "source": [
        "## **6016. Cells in a Range on an Excel Sheet**"
      ],
      "metadata": {
        "id": "F-rEo2b3MPM0"
      }
    },
    {
      "cell_type": "code",
      "source": [
        "val = \"ZABCDZ\"\n",
        "val = val[:-1] + chr((ord(val[-1])) + 1)\n",
        "print(val)"
      ],
      "metadata": {
        "colab": {
          "base_uri": "https://localhost:8080/"
        },
        "id": "fWLNdSSmMNGf",
        "outputId": "07d7f896-d287-42c8-d0e5-beacb178d10b"
      },
      "execution_count": null,
      "outputs": [
        {
          "output_type": "stream",
          "name": "stdout",
          "text": [
            "ZABCD\u0019\n"
          ]
        }
      ]
    },
    {
      "cell_type": "code",
      "source": [
        "class Solution:\n",
        "    def cellsInRange(self, s: str):\n",
        "        st, en = s.split(':')\n",
        "        st_al = ''\n",
        "        st_num = 0\n",
        "        en_al = ''\n",
        "        en_num = 0\n",
        "        ret = []\n",
        "        for i in range(len(st)):\n",
        "            if st[i].isdigit():\n",
        "                st_num = int(st[i:])\n",
        "                break\n",
        "            else:\n",
        "                st_al += st[i]\n",
        "        for i in range(len(en)):\n",
        "            if en[i].isdigit():\n",
        "                en_num = int(en[i:])\n",
        "                break\n",
        "            else:\n",
        "                en_al += en[i]\n",
        "        def increment(val):\n",
        "            if val[-1] == 'Z': return val[:-1] + 'A'\n",
        "            val = val[:-1] + chr(ord(val[-1]) + 1)\n",
        "            return val\n",
        "        j = st_num\n",
        "        while st_al != en_al or not(st_num == en_num):\n",
        "            if j < en_num:\n",
        "                ret.append(st_al + str(j))\n",
        "                j += 1\n",
        "            elif j == en_num:\n",
        "                ret.append(st_al + str(j))\n",
        "                if st_al != en_al:\n",
        "                    j = st_num\n",
        "                    st_al = increment(st_al)\n",
        "                else:\n",
        "                    st_num = en_num\n",
        "            else:\n",
        "                break\n",
        "        if st == en:    ret.append(st)\n",
        "        if ret[-1] != en: ret.append(en)\n",
        "        return ret\n",
        "obj = Solution()\n",
        "print(obj.cellsInRange(s = \"A1:F1\"))"
      ],
      "metadata": {
        "colab": {
          "base_uri": "https://localhost:8080/"
        },
        "id": "w1OGBdScerSp",
        "outputId": "1cc3e3ed-db96-4f7f-c90d-26b806fe7171"
      },
      "execution_count": null,
      "outputs": [
        {
          "output_type": "stream",
          "name": "stdout",
          "text": [
            "['A1', 'B1', 'C1', 'D1', 'E1', 'F1']\n"
          ]
        }
      ]
    },
    {
      "cell_type": "markdown",
      "source": [
        "# **Biweekly Contest 74**"
      ],
      "metadata": {
        "id": "ot5nJjavlHc2"
      }
    },
    {
      "cell_type": "markdown",
      "source": [
        "## **6020. Divide Array Into Equal Pairs**"
      ],
      "metadata": {
        "id": "eMqRHSFnlVdV"
      }
    },
    {
      "cell_type": "code",
      "source": [
        "from collections import Counter\n",
        "class Solution:\n",
        "    def divideArray(self, nums) -> bool:\n",
        "        n = len(nums) // 2\n",
        "        counts = Counter(nums)\n",
        "        for i, j in counts.items():\n",
        "            if j % 2 != 0:\n",
        "                return False\n",
        "        return True\n",
        "obj = Solution()\n",
        "print(obj.divideArray(nums = [3,2,3,2,2,2]))"
      ],
      "metadata": {
        "colab": {
          "base_uri": "https://localhost:8080/"
        },
        "id": "rsNnMXFrlU5V",
        "outputId": "565734de-beae-4675-e20d-b94efd409c97"
      },
      "execution_count": 3,
      "outputs": [
        {
          "output_type": "stream",
          "name": "stdout",
          "text": [
            "True\n"
          ]
        }
      ]
    },
    {
      "cell_type": "code",
      "source": [
        "text = \"iekbksdsmuuzwxbpmcngsfkjvpzuknqguzvzik\"\n",
        "pattern = \"mp\"\n",
        "class Solution:\n",
        "    def maximumSubsequenceCount(self, text: str, pattern: str) -> int:\n",
        "        new_text = ''\n",
        "        for i in range(len(text)):\n",
        "            if text[i] in pattern:\n",
        "                new_text += text[i]\n",
        "        counts = Counter(new_text)\n",
        "        print(new_text)\n",
        "        val1 = counts[pattern[0]]\n",
        "        val2 = counts[pattern[1]]\n",
        "        value = (min(val1, val2) + 1) * max(val1, val2)\n",
        "        return value\n",
        "obj = Solution()\n",
        "print(obj.maximumSubsequenceCount(text, pattern))"
      ],
      "metadata": {
        "colab": {
          "base_uri": "https://localhost:8080/"
        },
        "id": "SuuBweHPwPcK",
        "outputId": "6c7288c2-0bf7-40ea-9761-37a0f02a745c"
      },
      "execution_count": 5,
      "outputs": [
        {
          "output_type": "stream",
          "name": "stdout",
          "text": [
            "mpmp\n",
            "6\n"
          ]
        }
      ]
    },
    {
      "cell_type": "code",
      "source": [
        "text = \"iekbksdsmuuzwxbpmcngsfkjvpzuknqguzvzik\"; pattern = \"mp\"\n",
        "class Solution:\n",
        "    def maximumSubsequenceCount(self, text: str, p: str) -> int:\n",
        "        if p[0] == p[1]:\n",
        "            s = text.count(p[0])+1\n",
        "            return s*(s-1)//2\n",
        "        n = len(text)\n",
        "        a = b = 0\n",
        "        for i in text:\n",
        "            if i == p[0]:\n",
        "                a += 1\n",
        "            if i == p[1]:\n",
        "                b += a\n",
        "        print(a, b)\n",
        "        return b+max(text.count(p[0]), text.count(p[1]))\n",
        "\n",
        "obj = Solution()\n",
        "print(obj.maximumSubsequenceCount(text, pattern))"
      ],
      "metadata": {
        "colab": {
          "base_uri": "https://localhost:8080/"
        },
        "id": "hPxDhz1V2P-J",
        "outputId": "070ceb9d-ff8d-4fbd-d606-33caba2fc57b"
      },
      "execution_count": 15,
      "outputs": [
        {
          "output_type": "stream",
          "name": "stdout",
          "text": [
            "2 3\n",
            "5\n"
          ]
        }
      ]
    }
  ]
}